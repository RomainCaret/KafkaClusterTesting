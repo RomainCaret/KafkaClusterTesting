{
  "cells": [
    {
      "cell_type": "code",
      "execution_count": 1,
      "metadata": {
        "gather": {
          "logged": 1674296299107
        }
      },
      "outputs": [],
      "source": [
        "server = \"aks-kafka-DS3_v2\"\n",
        "\n",
        "nb_brokers = 1\n",
        "nb_zookeepers = 1\n",
        "nb_partitions = 1\n",
        "nb_replicas = 2\n",
        "\n",
        "nb_compute = 5\n",
        "nb_per_compute = 4\n",
        "\n",
        "# Server list\n",
        "servers = '20.31.119.85 20.238.160.239 20.31.115.94 20.31.117.15'\n",
        "# split the string into a list\n",
        "listOfServers = servers.split()\n",
        "# add the port number 9094 to each IP address\n",
        "listOfServers = [i + ':9094' for i in listOfServers]"
      ]
    },
    {
      "cell_type": "code",
      "execution_count": 2,
      "metadata": {
        "gather": {
          "logged": 1674296301403
        }
      },
      "outputs": [
        {
          "name": "stdout",
          "output_type": "stream",
          "text": [
            "az aks get-credentials --resource-group rg-sbx-aiops --name aks-kafka-DS3_v2\n",
            "\n",
            "\n",
            "helm install -f bitnamiKafka.yaml kafka bitnami/kafka --set externalAccess.enabled=true --set externalAccess.service.type=LoadBalancer --set externalAccess.service.ports.external=9094 --set rbac.create=true --set externalAccess.autoDiscovery.enabled=true --set serviceAccount.create=true --set replicaCount=1 --set zookeeper.replicaCount=1\n",
            "\n",
            "\n",
            "kubectl get svc --namespace default -l \"app.kubernetes.io/name=kafka,app.kubernetes.io/instance=kafka,app.kubernetes.io/component=kafka,pod\" -o jsonpath='{.items[*].status.loadBalancer.ingress[0].ip}'\n",
            "\n",
            "\n",
            "kafka-topics.bat --create --topic topic-aiops0-0 --bootstrap-server 20.31.119.85:9094,20.238.160.239:9094,20.31.115.94:9094,20.31.117.15:9094 --replication-factor 2 --partitions 1\n",
            "kafka-topics.bat --create --topic consumer-write0-0 --bootstrap-server 20.31.119.85:9094,20.238.160.239:9094,20.31.115.94:9094,20.31.117.15:9094 --replication-factor 2 --partitions 1\n",
            "kafka-topics.bat --create --topic consumer-end0-0 --bootstrap-server 20.31.119.85:9094,20.238.160.239:9094,20.31.115.94:9094,20.31.117.15:9094 --replication-factor 2 --partitions 1\n",
            "kafka-topics.bat --create --topic topic-aiops0-1 --bootstrap-server 20.31.119.85:9094,20.238.160.239:9094,20.31.115.94:9094,20.31.117.15:9094 --replication-factor 2 --partitions 1\n",
            "kafka-topics.bat --create --topic consumer-write0-1 --bootstrap-server 20.31.119.85:9094,20.238.160.239:9094,20.31.115.94:9094,20.31.117.15:9094 --replication-factor 2 --partitions 1\n",
            "kafka-topics.bat --create --topic consumer-end0-1 --bootstrap-server 20.31.119.85:9094,20.238.160.239:9094,20.31.115.94:9094,20.31.117.15:9094 --replication-factor 2 --partitions 1\n",
            "kafka-topics.bat --create --topic topic-aiops0-2 --bootstrap-server 20.31.119.85:9094,20.238.160.239:9094,20.31.115.94:9094,20.31.117.15:9094 --replication-factor 2 --partitions 1\n",
            "kafka-topics.bat --create --topic consumer-write0-2 --bootstrap-server 20.31.119.85:9094,20.238.160.239:9094,20.31.115.94:9094,20.31.117.15:9094 --replication-factor 2 --partitions 1\n",
            "kafka-topics.bat --create --topic consumer-end0-2 --bootstrap-server 20.31.119.85:9094,20.238.160.239:9094,20.31.115.94:9094,20.31.117.15:9094 --replication-factor 2 --partitions 1\n",
            "kafka-topics.bat --create --topic topic-aiops0-3 --bootstrap-server 20.31.119.85:9094,20.238.160.239:9094,20.31.115.94:9094,20.31.117.15:9094 --replication-factor 2 --partitions 1\n",
            "kafka-topics.bat --create --topic consumer-write0-3 --bootstrap-server 20.31.119.85:9094,20.238.160.239:9094,20.31.115.94:9094,20.31.117.15:9094 --replication-factor 2 --partitions 1\n",
            "kafka-topics.bat --create --topic consumer-end0-3 --bootstrap-server 20.31.119.85:9094,20.238.160.239:9094,20.31.115.94:9094,20.31.117.15:9094 --replication-factor 2 --partitions 1\n",
            "kafka-topics.bat --create --topic topic-aiops1-0 --bootstrap-server 20.31.119.85:9094,20.238.160.239:9094,20.31.115.94:9094,20.31.117.15:9094 --replication-factor 2 --partitions 1\n",
            "kafka-topics.bat --create --topic consumer-write1-0 --bootstrap-server 20.31.119.85:9094,20.238.160.239:9094,20.31.115.94:9094,20.31.117.15:9094 --replication-factor 2 --partitions 1\n",
            "kafka-topics.bat --create --topic consumer-end1-0 --bootstrap-server 20.31.119.85:9094,20.238.160.239:9094,20.31.115.94:9094,20.31.117.15:9094 --replication-factor 2 --partitions 1\n",
            "kafka-topics.bat --create --topic topic-aiops1-1 --bootstrap-server 20.31.119.85:9094,20.238.160.239:9094,20.31.115.94:9094,20.31.117.15:9094 --replication-factor 2 --partitions 1\n",
            "kafka-topics.bat --create --topic consumer-write1-1 --bootstrap-server 20.31.119.85:9094,20.238.160.239:9094,20.31.115.94:9094,20.31.117.15:9094 --replication-factor 2 --partitions 1\n",
            "kafka-topics.bat --create --topic consumer-end1-1 --bootstrap-server 20.31.119.85:9094,20.238.160.239:9094,20.31.115.94:9094,20.31.117.15:9094 --replication-factor 2 --partitions 1\n",
            "kafka-topics.bat --create --topic topic-aiops1-2 --bootstrap-server 20.31.119.85:9094,20.238.160.239:9094,20.31.115.94:9094,20.31.117.15:9094 --replication-factor 2 --partitions 1\n",
            "kafka-topics.bat --create --topic consumer-write1-2 --bootstrap-server 20.31.119.85:9094,20.238.160.239:9094,20.31.115.94:9094,20.31.117.15:9094 --replication-factor 2 --partitions 1\n",
            "kafka-topics.bat --create --topic consumer-end1-2 --bootstrap-server 20.31.119.85:9094,20.238.160.239:9094,20.31.115.94:9094,20.31.117.15:9094 --replication-factor 2 --partitions 1\n",
            "kafka-topics.bat --create --topic topic-aiops1-3 --bootstrap-server 20.31.119.85:9094,20.238.160.239:9094,20.31.115.94:9094,20.31.117.15:9094 --replication-factor 2 --partitions 1\n",
            "kafka-topics.bat --create --topic consumer-write1-3 --bootstrap-server 20.31.119.85:9094,20.238.160.239:9094,20.31.115.94:9094,20.31.117.15:9094 --replication-factor 2 --partitions 1\n",
            "kafka-topics.bat --create --topic consumer-end1-3 --bootstrap-server 20.31.119.85:9094,20.238.160.239:9094,20.31.115.94:9094,20.31.117.15:9094 --replication-factor 2 --partitions 1\n",
            "kafka-topics.bat --create --topic topic-aiops2-0 --bootstrap-server 20.31.119.85:9094,20.238.160.239:9094,20.31.115.94:9094,20.31.117.15:9094 --replication-factor 2 --partitions 1\n",
            "kafka-topics.bat --create --topic consumer-write2-0 --bootstrap-server 20.31.119.85:9094,20.238.160.239:9094,20.31.115.94:9094,20.31.117.15:9094 --replication-factor 2 --partitions 1\n",
            "kafka-topics.bat --create --topic consumer-end2-0 --bootstrap-server 20.31.119.85:9094,20.238.160.239:9094,20.31.115.94:9094,20.31.117.15:9094 --replication-factor 2 --partitions 1\n",
            "kafka-topics.bat --create --topic topic-aiops2-1 --bootstrap-server 20.31.119.85:9094,20.238.160.239:9094,20.31.115.94:9094,20.31.117.15:9094 --replication-factor 2 --partitions 1\n",
            "kafka-topics.bat --create --topic consumer-write2-1 --bootstrap-server 20.31.119.85:9094,20.238.160.239:9094,20.31.115.94:9094,20.31.117.15:9094 --replication-factor 2 --partitions 1\n",
            "kafka-topics.bat --create --topic consumer-end2-1 --bootstrap-server 20.31.119.85:9094,20.238.160.239:9094,20.31.115.94:9094,20.31.117.15:9094 --replication-factor 2 --partitions 1\n",
            "kafka-topics.bat --create --topic topic-aiops2-2 --bootstrap-server 20.31.119.85:9094,20.238.160.239:9094,20.31.115.94:9094,20.31.117.15:9094 --replication-factor 2 --partitions 1\n",
            "kafka-topics.bat --create --topic consumer-write2-2 --bootstrap-server 20.31.119.85:9094,20.238.160.239:9094,20.31.115.94:9094,20.31.117.15:9094 --replication-factor 2 --partitions 1\n",
            "kafka-topics.bat --create --topic consumer-end2-2 --bootstrap-server 20.31.119.85:9094,20.238.160.239:9094,20.31.115.94:9094,20.31.117.15:9094 --replication-factor 2 --partitions 1\n",
            "kafka-topics.bat --create --topic topic-aiops2-3 --bootstrap-server 20.31.119.85:9094,20.238.160.239:9094,20.31.115.94:9094,20.31.117.15:9094 --replication-factor 2 --partitions 1\n",
            "kafka-topics.bat --create --topic consumer-write2-3 --bootstrap-server 20.31.119.85:9094,20.238.160.239:9094,20.31.115.94:9094,20.31.117.15:9094 --replication-factor 2 --partitions 1\n",
            "kafka-topics.bat --create --topic consumer-end2-3 --bootstrap-server 20.31.119.85:9094,20.238.160.239:9094,20.31.115.94:9094,20.31.117.15:9094 --replication-factor 2 --partitions 1\n",
            "kafka-topics.bat --create --topic topic-aiops3-0 --bootstrap-server 20.31.119.85:9094,20.238.160.239:9094,20.31.115.94:9094,20.31.117.15:9094 --replication-factor 2 --partitions 1\n",
            "kafka-topics.bat --create --topic consumer-write3-0 --bootstrap-server 20.31.119.85:9094,20.238.160.239:9094,20.31.115.94:9094,20.31.117.15:9094 --replication-factor 2 --partitions 1\n",
            "kafka-topics.bat --create --topic consumer-end3-0 --bootstrap-server 20.31.119.85:9094,20.238.160.239:9094,20.31.115.94:9094,20.31.117.15:9094 --replication-factor 2 --partitions 1\n",
            "kafka-topics.bat --create --topic topic-aiops3-1 --bootstrap-server 20.31.119.85:9094,20.238.160.239:9094,20.31.115.94:9094,20.31.117.15:9094 --replication-factor 2 --partitions 1\n",
            "kafka-topics.bat --create --topic consumer-write3-1 --bootstrap-server 20.31.119.85:9094,20.238.160.239:9094,20.31.115.94:9094,20.31.117.15:9094 --replication-factor 2 --partitions 1\n",
            "kafka-topics.bat --create --topic consumer-end3-1 --bootstrap-server 20.31.119.85:9094,20.238.160.239:9094,20.31.115.94:9094,20.31.117.15:9094 --replication-factor 2 --partitions 1\n",
            "kafka-topics.bat --create --topic topic-aiops3-2 --bootstrap-server 20.31.119.85:9094,20.238.160.239:9094,20.31.115.94:9094,20.31.117.15:9094 --replication-factor 2 --partitions 1\n",
            "kafka-topics.bat --create --topic consumer-write3-2 --bootstrap-server 20.31.119.85:9094,20.238.160.239:9094,20.31.115.94:9094,20.31.117.15:9094 --replication-factor 2 --partitions 1\n",
            "kafka-topics.bat --create --topic consumer-end3-2 --bootstrap-server 20.31.119.85:9094,20.238.160.239:9094,20.31.115.94:9094,20.31.117.15:9094 --replication-factor 2 --partitions 1\n",
            "kafka-topics.bat --create --topic topic-aiops3-3 --bootstrap-server 20.31.119.85:9094,20.238.160.239:9094,20.31.115.94:9094,20.31.117.15:9094 --replication-factor 2 --partitions 1\n",
            "kafka-topics.bat --create --topic consumer-write3-3 --bootstrap-server 20.31.119.85:9094,20.238.160.239:9094,20.31.115.94:9094,20.31.117.15:9094 --replication-factor 2 --partitions 1\n",
            "kafka-topics.bat --create --topic consumer-end3-3 --bootstrap-server 20.31.119.85:9094,20.238.160.239:9094,20.31.115.94:9094,20.31.117.15:9094 --replication-factor 2 --partitions 1\n",
            "kafka-topics.bat --create --topic topic-aiops4-0 --bootstrap-server 20.31.119.85:9094,20.238.160.239:9094,20.31.115.94:9094,20.31.117.15:9094 --replication-factor 2 --partitions 1\n",
            "kafka-topics.bat --create --topic consumer-write4-0 --bootstrap-server 20.31.119.85:9094,20.238.160.239:9094,20.31.115.94:9094,20.31.117.15:9094 --replication-factor 2 --partitions 1\n",
            "kafka-topics.bat --create --topic consumer-end4-0 --bootstrap-server 20.31.119.85:9094,20.238.160.239:9094,20.31.115.94:9094,20.31.117.15:9094 --replication-factor 2 --partitions 1\n",
            "kafka-topics.bat --create --topic topic-aiops4-1 --bootstrap-server 20.31.119.85:9094,20.238.160.239:9094,20.31.115.94:9094,20.31.117.15:9094 --replication-factor 2 --partitions 1\n",
            "kafka-topics.bat --create --topic consumer-write4-1 --bootstrap-server 20.31.119.85:9094,20.238.160.239:9094,20.31.115.94:9094,20.31.117.15:9094 --replication-factor 2 --partitions 1\n",
            "kafka-topics.bat --create --topic consumer-end4-1 --bootstrap-server 20.31.119.85:9094,20.238.160.239:9094,20.31.115.94:9094,20.31.117.15:9094 --replication-factor 2 --partitions 1\n",
            "kafka-topics.bat --create --topic topic-aiops4-2 --bootstrap-server 20.31.119.85:9094,20.238.160.239:9094,20.31.115.94:9094,20.31.117.15:9094 --replication-factor 2 --partitions 1\n",
            "kafka-topics.bat --create --topic consumer-write4-2 --bootstrap-server 20.31.119.85:9094,20.238.160.239:9094,20.31.115.94:9094,20.31.117.15:9094 --replication-factor 2 --partitions 1\n",
            "kafka-topics.bat --create --topic consumer-end4-2 --bootstrap-server 20.31.119.85:9094,20.238.160.239:9094,20.31.115.94:9094,20.31.117.15:9094 --replication-factor 2 --partitions 1\n",
            "kafka-topics.bat --create --topic topic-aiops4-3 --bootstrap-server 20.31.119.85:9094,20.238.160.239:9094,20.31.115.94:9094,20.31.117.15:9094 --replication-factor 2 --partitions 1\n",
            "kafka-topics.bat --create --topic consumer-write4-3 --bootstrap-server 20.31.119.85:9094,20.238.160.239:9094,20.31.115.94:9094,20.31.117.15:9094 --replication-factor 2 --partitions 1\n",
            "kafka-topics.bat --create --topic consumer-end4-3 --bootstrap-server 20.31.119.85:9094,20.238.160.239:9094,20.31.115.94:9094,20.31.117.15:9094 --replication-factor 2 --partitions 1\n",
            "\n",
            "\n"
          ]
        }
      ],
      "source": [
        "print(\"az aks get-credentials --resource-group rg-sbx-aiops --name \" + server)\n",
        "print(\"\\n\")\n",
        "print(\"helm install -f bitnamiKafka.yaml kafka bitnami/kafka --set externalAccess.enabled=true --set externalAccess.service.type=LoadBalancer --set externalAccess.service.ports.external=9094 --set rbac.create=true --set externalAccess.autoDiscovery.enabled=true --set serviceAccount.create=true --set replicaCount=\" + str(nb_brokers) +\" --set zookeeper.replicaCount=\" + str(nb_zookeepers))\n",
        "print(\"\\n\")\n",
        "print(\"kubectl get svc --namespace default -l \\\"app.kubernetes.io/name=kafka,app.kubernetes.io/instance=kafka,app.kubernetes.io/component=kafka,pod\\\" -o jsonpath='{.items[*].status.loadBalancer.ingress[0].ip}'\")\n",
        "print(\"\\n\")\n",
        "\n",
        "# Add the topic consumer-read\n",
        "# print(\"kafka-topics.bat --create --topic consumer-read --bootstrap-server \" + ','.join(listOfServers) + \" --replication-factor \" + str(nb_replicas) + \" --partitions \" + str(nb_partitions))\n",
        "# Add the topic consumer-write\n",
        "# print(\"kafka-topics.bat --create --topic consumer-write --bootstrap-server \" + ','.join(listOfServers) + \" --replication-factor \" + str(nb_replicas) + \" --partitions \" + str(nb_partitions))\n",
        "# Add the topic topic-aiops\n",
        "# print(\"kafka-topics.bat --create --topic topic-aiops --bootstrap-server \" + ','.join(listOfServers) + \" --replication-factor \" + str(nb_replicas) + \" --partitions \" + str(nb_partitions))\n",
        "# Add the topic background-topic(i)\n",
        "for i in range(0, nb_compute):\n",
        "    for j in range(0, nb_per_compute):\n",
        "        print(\"kafka-topics.bat --create --topic topic-aiops\" + str(i) +\"-\" + str(j) + \" --bootstrap-server \" + ','.join(listOfServers) + \" --replication-factor \" + str(nb_replicas) + \" --partitions \" + str(nb_partitions))\n",
        "        # Same for the topic consumer-write\n",
        "        print(\"kafka-topics.bat --create --topic consumer-write\" + str(i) +\"-\" + str(j) + \" --bootstrap-server \" + ','.join(listOfServers) + \" --replication-factor \" + str(nb_replicas) + \" --partitions \" + str(nb_partitions))\n",
        "        # Same for the topic consumer-end\n",
        "        print(\"kafka-topics.bat --create --topic consumer-end\" + str(i) +\"-\" + str(j) + \" --bootstrap-server \" + ','.join(listOfServers) + \" --replication-factor \" + str(nb_replicas) + \" --partitions \" + str(nb_partitions))\n",
        "\n",
        "print(\"\\n\")\n",
        "\n"
      ]
    }
  ],
  "metadata": {
    "kernel_info": {
      "name": "python3"
    },
    "kernelspec": {
      "display_name": "Python 3 (ipykernel)",
      "language": "python",
      "name": "python3"
    },
    "language_info": {
      "codemirror_mode": {
        "name": "ipython",
        "version": 3
      },
      "file_extension": ".py",
      "mimetype": "text/x-python",
      "name": "python",
      "nbconvert_exporter": "python",
      "pygments_lexer": "ipython3",
      "version": "3.8.10"
    },
    "microsoft": {
      "host": {
        "AzureML": {
          "notebookHasBeenCompleted": true
        }
      }
    },
    "nteract": {
      "version": "nteract-front-end@1.0.0"
    },
    "orig_nbformat": 4,
    "vscode": {
      "interpreter": {
        "hash": "916dbcbb3f70747c44a77c7bcd40155683ae19c65e1c03b4aa3499c5328201f1"
      }
    }
  },
  "nbformat": 4,
  "nbformat_minor": 2
}
