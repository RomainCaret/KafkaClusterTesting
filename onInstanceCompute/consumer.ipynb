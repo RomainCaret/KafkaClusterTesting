manager-consumer :  1  :  {"consumer-start": "start consumer"}
manager-consumer :  2  :  {"consumer-start": "start consumer"}
manager-consumer :  3  :  {"consumer-start": "start consumer"}
manager-consumer :  4  :  {"consumer-start": "start consumer"}
manager-consumer :  5  :  {"consumer-start": "start consumer"}
manager-consumer :  6  :  {"consumer-start": "start consumer"}
manager-consumer :  7  :  {"consumer-start": "start consumer"}
manager-consumer :  8  :  {"consumer-start": "start consumer"}
manager-consumer :  9  :  {"consumer-start": "start consumer"}
manager-consumer :  10  :  {"consumer-start": "start consumer"}
manager-consumer :  11  :  {"consumer-start": "start consumer"}
manager-consumer :  12  :  {"consumer-start": "start consumer"}
manager-consumer :  13  :  {"consumer-start": "start consumer"}
manager-consumer :  14  :  {"consumer-start": "start consumer"}
manager-consumer :  15  :  {"consumer-start": "start consumer"}
manager-consumer :  16  :  {"consumer-start": "start consumer"}
manager-consumer :  17  :  {"consumer-start": "start consumer"}
manager-consumer :  18  :  {"consumer-start": "start consumer"}
manager-consumer :  19  :  {"consumer-start": "start consumer"}
manager-consumer :  20  :  {"consumer-start": "start consumer"}
manager-consumer :  21  :  {"consumer-start": "start consumer"}
manager-consumer :  22  :  {"consumer-start": "start consumer"}
manager-consumer :  23  :  {"consumer-start": "start consumer"}
manager-consumer :  24  :  {"consumer-start": "start consumer"}
manager-consumer :  25  :  {"consumer-start": "start consumer"}
manager-consumer :  26  :  {"consumer-start": "start consumer"}
manager-consumer :  27  :  {"consumer-start": "start consumer"}
manager-consumer :  28  :  {"consumer-start": "start consumer"}
manager-consumer :  29  :  {"consumer-start": "start consumer"}
manager-consumer :  30  :  {"consumer-start": "start consumer"}
manager-consumer :  31  :  {"consumer-start": "start consumer"}
manager-consumer :  32  :  {"consumer-start": "start consumer"}
manager-producer :  {"batch_size": 12288.0, "flow": 7, "amount_of_time": 30, "timestamp": 1678383871.4396741, "stop": false}
debug :  {"message": "Let s produce: {'batch_size': 12288.0, 'flow': 7, 'amount_of_time': 30, 'timestamp': 1678383871.4396741, 'stop': False}"}
debug :  {"message": "Let s produce: {'batch_size': 12288.0, 'flow': 7, 'amount_of_time': 30, 'timestamp': 1678383871.4396741, 'stop': False}"}
debug :  {"message": "Let s produce: {'batch_size': 12288.0, 'flow': 7, 'amount_of_time': 30, 'timestamp': 1678383871.4396741, 'stop': False}"}
debug :  {"message": "Let s produce: {'batch_size': 12288.0, 'flow': 7, 'amount_of_time': 30, 'timestamp': 1678383871.4396741, 'stop': False}"}
debug :  {"message": "Let s produce: {'batch_size': 12288.0, 'flow': 7, 'amount_of_time': 30, 'timestamp': 1678383871.4396741, 'stop': False}"}
debug :  {"message": "Let s produce: {'batch_size': 12288.0, 'flow': 7, 'amount_of_time': 30, 'timestamp': 1678383871.4396741, 'stop': False}"}
debug :  {"message": "Let s produce: {'batch_size': 12288.0, 'flow': 7, 'amount_of_time': 30, 'timestamp': 1678383871.4396741, 'stop': False}"}
debug :  {"message": "Let s produce: {'batch_size': 12288.0, 'flow': 7, 'amount_of_time': 30, 'timestamp': 1678383871.4396741, 'stop': False}"}
debug :  {"message": "Let s produce: {'batch_size': 12288.0, 'flow': 7, 'amount_of_time': 30, 'timestamp': 1678383871.4396741, 'stop': False}"}
debug :  {"message": "Let s produce: {'batch_size': 12288.0, 'flow': 7, 'amount_of_time': 30, 'timestamp': 1678383871.4396741, 'stop': False}"}
debug :  {"message": "Let s produce: {'batch_size': 12288.0, 'flow': 7, 'amount_of_time': 30, 'timestamp': 1678383871.4396741, 'stop': False}"}
debug :  {"message": "Let s produce: {'batch_size': 12288.0, 'flow': 7, 'amount_of_time': 30, 'timestamp': 1678383871.4396741, 'stop': False}"}
debug :  {"message": "Let s produce: {'batch_size': 12288.0, 'flow': 7, 'amount_of_time': 30, 'timestamp': 1678383871.4396741, 'stop': False}"}
debug :  {"message": "Let s produce: {'batch_size': 12288.0, 'flow': 7, 'amount_of_time': 30, 'timestamp': 1678383871.4396741, 'stop': False}"}
debug :  {"message": "Let s produce: {'batch_size': 12288.0, 'flow': 7, 'amount_of_time': 30, 'timestamp': 1678383871.4396741, 'stop': False}"}
debug :  {"message": "Let s produce: {'batch_size': 12288.0, 'flow': 7, 'amount_of_time': 30, 'timestamp': 1678383871.4396741, 'stop': False}"}
debug :  {"message": "Let s produce: {'batch_size': 12288.0, 'flow': 7, 'amount_of_time': 30, 'timestamp': 1678383871.4396741, 'stop': False}"}
debug :  {"message": "Let s produce: {'batch_size': 12288.0, 'flow': 7, 'amount_of_time': 30, 'timestamp': 1678383871.4396741, 'stop': False}"}
debug :  {"message": "Let s produce: {'batch_size': 12288.0, 'flow': 7, 'amount_of_time': 30, 'timestamp': 1678383871.4396741, 'stop': False}"}
debug :  {"message": "Let s produce: {'batch_size': 12288.0, 'flow': 7, 'amount_of_time': 30, 'timestamp': 1678383871.4396741, 'stop': False}"}
debug :  {"message": "Let s produce: {'batch_size': 12288.0, 'flow': 7, 'amount_of_time': 30, 'timestamp': 1678383871.4396741, 'stop': False}"}
debug :  {"message": "Let s produce: {'batch_size': 12288.0, 'flow': 7, 'amount_of_time': 30, 'timestamp': 1678383871.4396741, 'stop': False}"}
debug :  {"message": "Let s produce: {'batch_size': 12288.0, 'flow': 7, 'amount_of_time': 30, 'timestamp': 1678383871.4396741, 'stop': False}"}
debug :  {"message": "Let s produce: {'batch_size': 12288.0, 'flow': 7, 'amount_of_time': 30, 'timestamp': 1678383871.4396741, 'stop': False}"}
debug :  {"message": "Let s produce: {'batch_size': 12288.0, 'flow': 7, 'amount_of_time': 30, 'timestamp': 1678383871.4396741, 'stop': False}"}
debug :  {"message": "Let s produce: {'batch_size': 12288.0, 'flow': 7, 'amount_of_time': 30, 'timestamp': 1678383871.4396741, 'stop': False}"}
debug :  {"message": "Let s produce: {'batch_size': 12288.0, 'flow': 7, 'amount_of_time': 30, 'timestamp': 1678383871.4396741, 'stop': False}"}
debug :  {"message": "Let s produce: {'batch_size': 12288.0, 'flow': 7, 'amount_of_time': 30, 'timestamp': 1678383871.4396741, 'stop': False}"}
debug :  {"message": "Let s produce: {'batch_size': 12288.0, 'flow': 7, 'amount_of_time': 30, 'timestamp': 1678383871.4396741, 'stop': False}"}
debug :  {"message": "Let s produce: {'batch_size': 12288.0, 'flow': 7, 'amount_of_time': 30, 'timestamp': 1678383871.4396741, 'stop': False}"}
debug :  {"message": "Let s produce: {'batch_size': 12288.0, 'flow': 7, 'amount_of_time': 30, 'timestamp': 1678383871.4396741, 'stop': False}"}
debug :  {"message": "Let s produce: {'batch_size': 12288.0, 'flow': 7, 'amount_of_time': 30, 'timestamp': 1678383871.4396741, 'stop': False}"}
debug :  {"Received so far:": 0, "nb_consumers_producers": 32}
consumer-write0-3 0
debug :  {"consumer-write": "write data"}
debug :  {"message": "end topic: consumer-write5-0"}
debug :  {"message": "end topic: consumer-write6-3"}
consumer-write0-0 :  1
consumer-write0-2 2
consumer-write0-1 :  3
manager-consumer :  33  :  {"machine_kafka": "DS2_v2", "batch_size": 12288.0, "nb_messages": 180, "time": 0.11044466495513916}
debug :  {"message": "end topic: consumer-write1-3"}
debug :  {"message": "end topic: consumer-write7-1"}
debug :  {"message": "end topic: consumer-write2-1"}
debug :  {"consumer-write": "write data"}
debug :  {"message": "end topic: consumer-write7-3"}
debug :  {"consumer-write": "write data"}
debug :  {"message": "end topic: consumer-write2-3"}
debug :  {"message": "end topic: consumer-write1-1"}
debug :  {"consumer-write": "write data"}
debug :  {"consumer-write": "write data"}
debug :  {"consumer-write": "write data"}
debug :  {"consumer-write": "write data"}
debug :  {"message": "end topic: consumer-write1-0"}
debug :  {"consumer-write": "write data"}
debug :  {"message": "end topic: consumer-write7-2"}
debug :  {"message": "end topic: consumer-write0-0"}
debug :  {"consumer-write": "write data"}
debug :  {"message": "end topic: consumer-write5-1"}
debug :  {"consumer-write": "write data"}
debug :  {"consumer-write": "write data"}
debug :  {"consumer-write": "write data"}
debug :  {"message": "end topic: consumer-write0-3"}
debug :  {"consumer-write": "write data"}
debug :  {"consumer-write": "write data"}
debug :  {"message": "end topic: consumer-write5-2"}
debug :  {"message": "end topic: consumer-write2-0"}
debug :  {"message": "end topic: consumer-write6-2"}
debug :  {"consumer-write": "write data"}
debug :  {"message": "end topic: consumer-write6-1"}
debug :  {"message": "end topic: consumer-write4-0"}
debug :  {"message": "end topic: consumer-write7-0"}
debug :  {"consumer-write": "write data"}
debug :  {"message": "end topic: consumer-write4-2"}
debug :  {"consumer-write": "write data"}
debug :  {"consumer-write": "write data"}
debug :  {"message": "end topic: consumer-write3-1"}
debug :  {"message": "end topic: consumer-write3-0"}
debug :  {"consumer-write": "write data"}
debug :  {"consumer-write": "write data"}
debug :  {"message": "end topic: consumer-write2-2"}
debug :  {"consumer-write": "write data"}
debug :  {"message": "end topic: consumer-write5-3"}
debug :  {"message": "end topic: consumer-write3-3"}
debug :  {"consumer-write": "write data"}
debug :  {"message": "end topic: consumer-write0-1"}
debug :  {"message": "end topic: consumer-write0-2"}
debug :  {"message": "end topic: consumer-write1-2"}
debug :  {"consumer-write": "write data"}
debug :  {"consumer-write": "write data"}
debug :  {"consumer-write": "write data"}
debug :  {"consumer-write": "write data"}
debug :  {"consumer-write": "write data"}
debug :  {"consumer-write": "write data"}
debug :  {"consumer-write": "write data"}
debug :  {"message": "end topic: consumer-write4-1"}
debug :  {"consumer-write": "write data"}
debug :  {"message": "end topic: consumer-write4-3"}
debug :  {"message": "end topic: consumer-write3-2"}
debug :  {"consumer-write": "write data"}
debug :  {"message": "end topic: consumer-write6-0"}
manager-consumer :  34  :  {"machine_kafka": "DS2_v2", "batch_size": 12288.0, "nb_messages": 180, "time": 0.10838735103607178}
manager-consumer :  35  :  {"machine_kafka": "DS2_v2", "batch_size": 12288.0, "nb_messages": 180, "time": 0.11740231513977051}
manager-consumer :  36  :  {"machine_kafka": "DS2_v2", "batch_size": 12288.0, "nb_messages": 180, "time": 0.09117615222930908}
manager-consumer :  37  :  {"machine_kafka": "DS2_v2", "batch_size": 12288.0, "nb_messages": 180, "time": 0.10090625286102295}
manager-consumer :  38  :  {"machine_kafka": "DS2_v2", "batch_size": 12288.0, "nb_messages": 180, "time": 0.10657715797424316}
manager-consumer :  39  :  {"machine_kafka": "DS2_v2", "batch_size": 12288.0, "nb_messages": 180, "time": 0.1133871078491211}
manager-consumer :  40  :  {"machine_kafka": "DS2_v2", "batch_size": 12288.0, "nb_messages": 180, "time": 0.09874856472015381}
manager-consumer :  41  :  {"machine_kafka": "DS2_v2", "batch_size": 12288.0, "nb_messages": 180, "time": 0.12177062034606934}
manager-consumer :  42  :  {"machine_kafka": "DS2_v2", "batch_size": 12288.0, "nb_messages": 180, "time": 0.11646151542663574}
manager-consumer :  43  :  {"machine_kafka": "DS2_v2", "batch_size": 12288.0, "nb_messages": 180, "time": 0.1069871187210083}
manager-consumer :  44  :  {"machine_kafka": "DS2_v2", "batch_size": 12288.0, "nb_messages": 180, "time": 0.10883283615112305}
manager-consumer :  45  :  {"machine_kafka": "DS2_v2", "batch_size": 12288.0, "nb_messages": 180, "time": 0.11631155014038086}
manager-consumer :  46  :  {"machine_kafka": "DS2_v2", "batch_size": 12288.0, "nb_messages": 180, "time": 0.09292590618133545}
manager-consumer :  47  :  {"machine_kafka": "DS2_v2", "batch_size": 12288.0, "nb_messages": 180, "time": 0.09988117218017578}
manager-consumer :  48  :  {"machine_kafka": "DS2_v2", "batch_size": 12288.0, "nb_messages": 180, "time": 0.0983961820602417}
manager-consumer :  49  :  {"machine_kafka": "DS2_v2", "batch_size": 12288.0, "nb_messages": 180, "time": 0.11206531524658203}
manager-consumer :  50  :  {"machine_kafka": "DS2_v2", "batch_size": 12288.0, "nb_messages": 180, "time": 0.11066174507141113}
manager-consumer :  51  :  {"machine_kafka": "DS2_v2", "batch_size": 12288.0, "nb_messages": 180, "time": 0.10604000091552734}
manager-consumer :  52  :  {"machine_kafka": "DS2_v2", "batch_size": 12288.0, "nb_messages": 180, "time": 0.12006199359893799}
manager-consumer :  53  :  {"machine_kafka": "DS2_v2", "batch_size": 12288.0, "nb_messages": 180, "time": 0.1466432809829712}
manager-consumer :  54  :  {"machine_kafka": "DS2_v2", "batch_size": 12288.0, "nb_messages": 180, "time": 0.10890495777130127}
manager-consumer :  55  :  {"machine_kafka": "DS2_v2", "batch_size": 12288.0, "nb_messages": 180, "time": 0.12253475189208984}
manager-consumer :  56  :  {"machine_kafka": "DS2_v2", "batch_size": 12288.0, "nb_messages": 180, "time": 0.111580491065979}
manager-consumer :  57  :  {"machine_kafka": "DS2_v2", "batch_size": 12288.0, "nb_messages": 180, "time": 0.10431265830993652}
manager-consumer :  58  :  {"machine_kafka": "DS2_v2", "batch_size": 12288.0, "nb_messages": 180, "time": 0.10280907154083252}
manager-consumer :  59  :  {"machine_kafka": "DS2_v2", "batch_size": 12288.0, "nb_messages": 180, "time": 0.14520132541656494}
manager-consumer :  60  :  {"machine_kafka": "DS2_v2", "batch_size": 12288.0, "nb_messages": 180, "time": 0.09632396697998047}
manager-consumer :  61  :  {"machine_kafka": "DS2_v2", "batch_size": 12288.0, "nb_messages": 180, "time": 0.1082383394241333}
manager-consumer :  62  :  {"machine_kafka": "DS2_v2", "batch_size": 12288.0, "nb_messages": 180, "time": 0.11273014545440674}
manager-consumer :  63  :  {"machine_kafka": "DS2_v2", "batch_size": 12288.0, "nb_messages": 180, "time": 0.1007239818572998}
debug :  {"Received so far:": 1, "nb_consumers_producers": 32}
debug :  {"Received so far:": 2, "nb_consumers_producers": 32}
debug :  {"Received so far:": 3, "nb_consumers_producers": 32}
debug :  {"Received so far:": 4, "nb_consumers_producers": 32}
debug :  {"Received so far:": 5, "nb_consumers_producers": 32}
debug :  {"Received so far:": 6, "nb_consumers_producers": 32}
debug :  {"Received so far:": 7, "nb_consumers_producers": 32}
debug :  {"Received so far:": 8, "nb_consumers_producers": 32}
debug :  {"Received so far:": 9, "nb_consumers_producers": 32}
debug :  {"Received so far:": 10, "nb_consumers_producers": 32}
debug :  {"Received so far:": 11, "nb_consumers_producers": 32}
debug :  {"Received so far:": 12, "nb_consumers_producers": 32}
debug :  {"Received so far:": 13, "nb_consumers_producers": 32}
debug :  {"Received so far:": 14, "nb_consumers_producers": 32}
debug :  {"Received so far:": 15, "nb_consumers_producers": 32}
debug :  {"Received so far:": 16, "nb_consumers_producers": 32}
debug :  {"Received so far:": 17, "nb_consumers_producers": 32}
debug :  {"Received so far:": 18, "nb_consumers_producers": 32}
debug :  {"Received so far:": 19, "nb_consumers_producers": 32}
debug :  {"Received so far:": 20, "nb_consumers_producers": 32}
debug :  {"Received so far:": 21, "nb_consumers_producers": 32}
debug :  {"Received so far:": 22, "nb_consumers_producers": 32}
debug :  {"Received so far:": 23, "nb_consumers_producers": 32}
debug :  {"Received so far:": 24, "nb_consumers_producers": 32}
debug :  {"Received so far:": 25, "nb_consumers_producers": 32}
debug :  {"Received so far:": 26, "nb_consumers_producers": 32}
debug :  {"Received so far:": 27, "nb_consumers_producers": 32}
debug :  {"Received so far:": 28, "nb_consumers_producers": 32}
debug :  {"Received so far:": 29, "nb_consumers_producers": 32}
debug :  {"Received so far:": 30, "nb_consumers_producers": 32}
debug :  {"Received so far:": 31, "nb_consumers_producers": 32}
debug :  {"consumer-write": "write data"}
manager-consumer :  64  :  {"machine_kafka": "DS2_v2", "batch_size": 12288.0, "nb_messages": 180, "time": 0.11851704120635986}
manager-producer :  {"batch_size": 12288.0, "flow": 23, "amount_of_time": 30, "timestamp": 1678383933.9913805, "stop": false}
debug :  {"message": "Let s produce: {'batch_size': 12288.0, 'flow': 23, 'amount_of_time': 30, 'timestamp': 1678383933.9913805, 'stop': False}"}
debug :  {"message": "Let s produce: {'batch_size': 12288.0, 'flow': 23, 'amount_of_time': 30, 'timestamp': 1678383933.9913805, 'stop': False}"}
debug :  {"message": "Let s produce: {'batch_size': 12288.0, 'flow': 23, 'amount_of_time': 30, 'timestamp': 1678383933.9913805, 'stop': False}"}
debug :  {"message": "Let s produce: {'batch_size': 12288.0, 'flow': 23, 'amount_of_time': 30, 'timestamp': 1678383933.9913805, 'stop': False}"}
debug :  {"message": "Let s produce: {'batch_size': 12288.0, 'flow': 23, 'amount_of_time': 30, 'timestamp': 1678383933.9913805, 'stop': False}"}
debug :  {"message": "Let s produce: {'batch_size': 12288.0, 'flow': 23, 'amount_of_time': 30, 'timestamp': 1678383933.9913805, 'stop': False}"}
debug :  {"message": "Let s produce: {'batch_size': 12288.0, 'flow': 23, 'amount_of_time': 30, 'timestamp': 1678383933.9913805, 'stop': False}"}
debug :  {"message": "Let s produce: {'batch_size': 12288.0, 'flow': 23, 'amount_of_time': 30, 'timestamp': 1678383933.9913805, 'stop': False}"}
debug :  {"message": "Let s produce: {'batch_size': 12288.0, 'flow': 23, 'amount_of_time': 30, 'timestamp': 1678383933.9913805, 'stop': False}"}
debug :  {"message": "Let s produce: {'batch_size': 12288.0, 'flow': 23, 'amount_of_time': 30, 'timestamp': 1678383933.9913805, 'stop': False}"}
debug :  {"message": "Let s produce: {'batch_size': 12288.0, 'flow': 23, 'amount_of_time': 30, 'timestamp': 1678383933.9913805, 'stop': False}"}
debug :  {"message": "Let s produce: {'batch_size': 12288.0, 'flow': 23, 'amount_of_time': 30, 'timestamp': 1678383933.9913805, 'stop': False}"}
debug :  {"message": "Let s produce: {'batch_size': 12288.0, 'flow': 23, 'amount_of_time': 30, 'timestamp': 1678383933.9913805, 'stop': False}"}
debug :  {"message": "Let s produce: {'batch_size': 12288.0, 'flow': 23, 'amount_of_time': 30, 'timestamp': 1678383933.9913805, 'stop': False}"}
debug :  {"message": "Let s produce: {'batch_size': 12288.0, 'flow': 23, 'amount_of_time': 30, 'timestamp': 1678383933.9913805, 'stop': False}"}
debug :  {"message": "Let s produce: {'batch_size': 12288.0, 'flow': 23, 'amount_of_time': 30, 'timestamp': 1678383933.9913805, 'stop': False}"}
debug :  {"message": "Let s produce: {'batch_size': 12288.0, 'flow': 23, 'amount_of_time': 30, 'timestamp': 1678383933.9913805, 'stop': False}"}
debug :  {"message": "Let s produce: {'batch_size': 12288.0, 'flow': 23, 'amount_of_time': 30, 'timestamp': 1678383933.9913805, 'stop': False}"}
debug :  {"message": "Let s produce: {'batch_size': 12288.0, 'flow': 23, 'amount_of_time': 30, 'timestamp': 1678383933.9913805, 'stop': False}"}
debug :  {"message": "Let s produce: {'batch_size': 12288.0, 'flow': 23, 'amount_of_time': 30, 'timestamp': 1678383933.9913805, 'stop': False}"}
debug :  {"message": "Let s produce: {'batch_size': 12288.0, 'flow': 23, 'amount_of_time': 30, 'timestamp': 1678383933.9913805, 'stop': False}"}
debug :  {"message": "Let s produce: {'batch_size': 12288.0, 'flow': 23, 'amount_of_time': 30, 'timestamp': 1678383933.9913805, 'stop': False}"}
debug :  {"message": "Let s produce: {'batch_size': 12288.0, 'flow': 23, 'amount_of_time': 30, 'timestamp': 1678383933.9913805, 'stop': False}"}
debug :  {"message": "Let s produce: {'batch_size': 12288.0, 'flow': 23, 'amount_of_time': 30, 'timestamp': 1678383933.9913805, 'stop': False}"}
debug :  {"message": "Let s produce: {'batch_size': 12288.0, 'flow': 23, 'amount_of_time': 30, 'timestamp': 1678383933.9913805, 'stop': False}"}
debug :  {"message": "Let s produce: {'batch_size': 12288.0, 'flow': 23, 'amount_of_time': 30, 'timestamp': 1678383933.9913805, 'stop': False}"}
debug :  {"message": "Let s produce: {'batch_size': 12288.0, 'flow': 23, 'amount_of_time': 30, 'timestamp': 1678383933.9913805, 'stop': False}"}
debug :  {"message": "Let s produce: {'batch_size': 12288.0, 'flow': 23, 'amount_of_time': 30, 'timestamp': 1678383933.9913805, 'stop': False}"}
debug :  {"message": "Let s produce: {'batch_size': 12288.0, 'flow': 23, 'amount_of_time': 30, 'timestamp': 1678383933.9913805, 'stop': False}"}
debug :  {"message": "Let s produce: {'batch_size': 12288.0, 'flow': 23, 'amount_of_time': 30, 'timestamp': 1678383933.9913805, 'stop': False}"}
debug :  {"message": "Let s produce: {'batch_size': 12288.0, 'flow': 23, 'amount_of_time': 30, 'timestamp': 1678383933.9913805, 'stop': False}"}
debug :  {"message": "Let s produce: {'batch_size': 12288.0, 'flow': 23, 'amount_of_time': 30, 'timestamp': 1678383933.9913805, 'stop': False}"}
debug :  {"Received so far:": 0, "nb_consumers_producers": 32}
consumer-write0-3 4
consumer-write0-1 :  5
manager-consumer :  65  :  {"machine_kafka": "DS2_v2", "batch_size": 12288.0, "nb_messages": 660, "time": 0.11584556102752686}
manager-consumer :  66  :  {"machine_kafka": "DS2_v2", "batch_size": 12288.0, "nb_messages": 660, "time": 0.10873568058013916}
manager-consumer :  67  :  {"machine_kafka": "DS2_v2", "batch_size": 12288.0, "nb_messages": 660, "time": 0.13560736179351807}
manager-consumer :  68  :  {"machine_kafka": "DS2_v2", "batch_size": 12288.0, "nb_messages": 660, "time": 0.1208580732345581}
manager-consumer :  69  :  {"machine_kafka": "DS2_v2", "batch_size": 12288.0, "nb_messages": 660, "time": 0.12629473209381104}
manager-consumer :  70  :  {"machine_kafka": "DS2_v2", "batch_size": 12288.0, "nb_messages": 660, "time": 0.13274824619293213}
manager-consumer :  71  :  {"machine_kafka": "DS2_v2", "batch_size": 12288.0, "nb_messages": 660, "time": 0.12729239463806152}
manager-consumer :  72  :  {"machine_kafka": "DS2_v2", "batch_size": 12288.0, "nb_messages": 660, "time": 0.12428081035614014}
manager-consumer :  73  :  {"machine_kafka": "DS2_v2", "batch_size": 12288.0, "nb_messages": 660, "time": 0.13586664199829102}
manager-consumer :  74  :  {"machine_kafka": "DS2_v2", "batch_size": 12288.0, "nb_messages": 660, "time": 0.1360241174697876}
manager-consumer :  75  :  {"machine_kafka": "DS2_v2", "batch_size": 12288.0, "nb_messages": 660, "time": 0.14268708229064941}
manager-consumer :  76  :  {"machine_kafka": "DS2_v2", "batch_size": 12288.0, "nb_messages": 660, "time": 0.11954212188720703}
manager-consumer :  77  :  {"machine_kafka": "DS2_v2", "batch_size": 12288.0, "nb_messages": 660, "time": 0.1274811029434204}
manager-consumer :  78  :  {"machine_kafka": "DS2_v2", "batch_size": 12288.0, "nb_messages": 660, "time": 0.11662685871124268}
manager-consumer :  79  :  {"machine_kafka": "DS2_v2", "batch_size": 12288.0, "nb_messages": 660, "time": 0.11341607570648193}
manager-consumer :  80  :  {"machine_kafka": "DS2_v2", "batch_size": 12288.0, "nb_messages": 660, "time": 0.12978649139404297}
manager-consumer :  81  :  {"machine_kafka": "DS2_v2", "batch_size": 12288.0, "nb_messages": 660, "time": 0.12316036224365234}
manager-consumer :  82  :  {"machine_kafka": "DS2_v2", "batch_size": 12288.0, "nb_messages": 660, "time": 0.1248788833618164}
manager-consumer :  83  :  {"machine_kafka": "DS2_v2", "batch_size": 12288.0, "nb_messages": 660, "time": 0.1703106164932251}
manager-consumer :  84  :  {"machine_kafka": "DS2_v2", "batch_size": 12288.0, "nb_messages": 660, "time": 0.1225513219833374}
manager-consumer :  85  :  {"machine_kafka": "DS2_v2", "batch_size": 12288.0, "nb_messages": 660, "time": 0.1315401792526245}
manager-consumer :  86  :  {"machine_kafka": "DS2_v2", "batch_size": 12288.0, "nb_messages": 660, "time": 0.1406707763671875}
manager-consumer :  87  :  {"machine_kafka": "DS2_v2", "batch_size": 12288.0, "nb_messages": 660, "time": 0.11803603172302246}
manager-consumer :  88  :  {"machine_kafka": "DS2_v2", "batch_size": 12288.0, "nb_messages": 660, "time": 0.11195135116577148}
manager-consumer :  89  :  {"machine_kafka": "DS2_v2", "batch_size": 12288.0, "nb_messages": 660, "time": 0.13831818103790283}
consumer-write0-2 6
consumer-write0-0 :  7
debug :  {"consumer-write": "write data"}
debug :  {"consumer-write": "write data"}
debug :  {"consumer-write": "write data"}
debug :  {"consumer-write": "write data"}
debug :  {"consumer-write": "write data"}
debug :  {"consumer-write": "write data"}
debug :  {"consumer-write": "write data"}
debug :  {"consumer-write": "write data"}
debug :  {"consumer-write": "write data"}
debug :  {"consumer-write": "write data"}
debug :  {"consumer-write": "write data"}
debug :  {"consumer-write": "write data"}
debug :  {"consumer-write": "write data"}
debug :  {"consumer-write": "write data"}
debug :  {"consumer-write": "write data"}
debug :  {"consumer-write": "write data"}
debug :  {"consumer-write": "write data"}
debug :  {"consumer-write": "write data"}
debug :  {"consumer-write": "write data"}
debug :  {"consumer-write": "write data"}
debug :  {"consumer-write": "write data"}
debug :  {"consumer-write": "write data"}
debug :  {"consumer-write": "write data"}
debug :  {"consumer-write": "write data"}
debug :  {"consumer-write": "write data"}
debug :  {"message": "end topic: consumer-write7-1"}
debug :  {"consumer-write": "write data"}
debug :  {"message": "end topic: consumer-write2-1"}
debug :  {"consumer-write": "write data"}
debug :  {"message": "end topic: consumer-write1-1"}
debug :  {"message": "end topic: consumer-write6-1"}
debug :  {"message": "end topic: consumer-write5-0"}
debug :  {"message": "end topic: consumer-write0-3"}
debug :  {"message": "end topic: consumer-write1-3"}
debug :  {"consumer-write": "write data"}
debug :  {"message": "end topic: consumer-write2-3"}
debug :  {"message": "end topic: consumer-write6-3"}
debug :  {"consumer-write": "write data"}
debug :  {"message": "end topic: consumer-write2-0"}
debug :  {"message": "end topic: consumer-write5-1"}
debug :  {"message": "end topic: consumer-write3-2"}
debug :  {"message": "end topic: consumer-write0-0"}
debug :  {"message": "end topic: consumer-write4-2"}
debug :  {"message": "end topic: consumer-write1-0"}
debug :  {"message": "end topic: consumer-write7-3"}
debug :  {"message": "end topic: consumer-write5-2"}
debug :  {"consumer-write": "write data"}
debug :  {"message": "end topic: consumer-write7-0"}
debug :  {"consumer-write": "write data"}
debug :  {"message": "end topic: consumer-write0-2"}
debug :  {"message": "end topic: consumer-write7-2"}
debug :  {"message": "end topic: consumer-write6-2"}
debug :  {"message": "end topic: consumer-write5-3"}
debug :  {"message": "end topic: consumer-write0-1"}
debug :  {"message": "end topic: consumer-write2-2"}
debug :  {"message": "end topic: consumer-write3-0"}
debug :  {"message": "end topic: consumer-write3-3"}
debug :  {"message": "end topic: consumer-write1-2"}
debug :  {"message": "end topic: consumer-write4-0"}
debug :  {"consumer-write": "write data"}
debug :  {"message": "end topic: consumer-write4-1"}
debug :  {"message": "end topic: consumer-write3-1"}
debug :  {"message": "end topic: consumer-write4-3"}
debug :  {"message": "end topic: consumer-write6-0"}
manager-consumer :  90  :  {"machine_kafka": "DS2_v2", "batch_size": 12288.0, "nb_messages": 660, "time": 0.12957024574279785}
manager-consumer :  91  :  {"machine_kafka": "DS2_v2", "batch_size": 12288.0, "nb_messages": 660, "time": 0.14452242851257324}
manager-consumer :  92  :  {"machine_kafka": "DS2_v2", "batch_size": 12288.0, "nb_messages": 660, "time": 0.13208377361297607}
manager-consumer :  93  :  {"machine_kafka": "DS2_v2", "batch_size": 12288.0, "nb_messages": 660, "time": 0.16733837127685547}
manager-consumer :  94  :  {"machine_kafka": "DS2_v2", "batch_size": 12288.0, "nb_messages": 660, "time": 0.1288055181503296}
manager-consumer :  95  :  {"machine_kafka": "DS2_v2", "batch_size": 12288.0, "nb_messages": 660, "time": 0.12779629230499268}
manager-consumer :  96  :  {"machine_kafka": "DS2_v2", "batch_size": 12288.0, "nb_messages": 660, "time": 0.1199951171875}
debug :  {"Received so far:": 1, "nb_consumers_producers": 32}
debug :  {"Received so far:": 2, "nb_consumers_producers": 32}
debug :  {"Received so far:": 3, "nb_consumers_producers": 32}
debug :  {"Received so far:": 4, "nb_consumers_producers": 32}
debug :  {"Received so far:": 5, "nb_consumers_producers": 32}
debug :  {"Received so far:": 6, "nb_consumers_producers": 32}
debug :  {"Received so far:": 7, "nb_consumers_producers": 32}
debug :  {"Received so far:": 8, "nb_consumers_producers": 32}
debug :  {"Received so far:": 9, "nb_consumers_producers": 32}
debug :  {"Received so far:": 10, "nb_consumers_producers": 32}
debug :  {"Received so far:": 11, "nb_consumers_producers": 32}
debug :  {"Received so far:": 12, "nb_consumers_producers": 32}
debug :  {"Received so far:": 13, "nb_consumers_producers": 32}
debug :  {"Received so far:": 14, "nb_consumers_producers": 32}
debug :  {"Received so far:": 15, "nb_consumers_producers": 32}
debug :  {"Received so far:": 16, "nb_consumers_producers": 32}
debug :  {"Received so far:": 17, "nb_consumers_producers": 32}
debug :  {"Received so far:": 18, "nb_consumers_producers": 32}
debug :  {"Received so far:": 19, "nb_consumers_producers": 32}
debug :  {"Received so far:": 20, "nb_consumers_producers": 32}
debug :  {"Received so far:": 21, "nb_consumers_producers": 32}
debug :  {"Received so far:": 22, "nb_consumers_producers": 32}
debug :  {"Received so far:": 23, "nb_consumers_producers": 32}
debug :  {"Received so far:": 24, "nb_consumers_producers": 32}
debug :  {"Received so far:": 25, "nb_consumers_producers": 32}
debug :  {"Received so far:": 26, "nb_consumers_producers": 32}
debug :  {"Received so far:": 27, "nb_consumers_producers": 32}
debug :  {"Received so far:": 28, "nb_consumers_producers": 32}
debug :  {"Received so far:": 29, "nb_consumers_producers": 32}
debug :  {"Received so far:": 30, "nb_consumers_producers": 32}
debug :  {"Received so far:": 31, "nb_consumers_producers": 32}
manager-producer :  {"batch_size": 12288.0, "flow": 39, "amount_of_time": 30, "timestamp": 1678383967.7733276, "stop": false}
debug :  {"message": "Let s produce: {'batch_size': 12288.0, 'flow': 39, 'amount_of_time': 30, 'timestamp': 1678383967.7733276, 'stop': False}"}
debug :  {"message": "Let s produce: {'batch_size': 12288.0, 'flow': 39, 'amount_of_time': 30, 'timestamp': 1678383967.7733276, 'stop': False}"}
debug :  {"message": "Let s produce: {'batch_size': 12288.0, 'flow': 39, 'amount_of_time': 30, 'timestamp': 1678383967.7733276, 'stop': False}"}
debug :  {"message": "Let s produce: {'batch_size': 12288.0, 'flow': 39, 'amount_of_time': 30, 'timestamp': 1678383967.7733276, 'stop': False}"}
debug :  {"message": "Let s produce: {'batch_size': 12288.0, 'flow': 39, 'amount_of_time': 30, 'timestamp': 1678383967.7733276, 'stop': False}"}
debug :  {"message": "Let s produce: {'batch_size': 12288.0, 'flow': 39, 'amount_of_time': 30, 'timestamp': 1678383967.7733276, 'stop': False}"}
debug :  {"message": "Let s produce: {'batch_size': 12288.0, 'flow': 39, 'amount_of_time': 30, 'timestamp': 1678383967.7733276, 'stop': False}"}
debug :  {"message": "Let s produce: {'batch_size': 12288.0, 'flow': 39, 'amount_of_time': 30, 'timestamp': 1678383967.7733276, 'stop': False}"}
debug :  {"message": "Let s produce: {'batch_size': 12288.0, 'flow': 39, 'amount_of_time': 30, 'timestamp': 1678383967.7733276, 'stop': False}"}
debug :  {"message": "Let s produce: {'batch_size': 12288.0, 'flow': 39, 'amount_of_time': 30, 'timestamp': 1678383967.7733276, 'stop': False}"}
debug :  {"message": "Let s produce: {'batch_size': 12288.0, 'flow': 39, 'amount_of_time': 30, 'timestamp': 1678383967.7733276, 'stop': False}"}
debug :  {"message": "Let s produce: {'batch_size': 12288.0, 'flow': 39, 'amount_of_time': 30, 'timestamp': 1678383967.7733276, 'stop': False}"}
debug :  {"message": "Let s produce: {'batch_size': 12288.0, 'flow': 39, 'amount_of_time': 30, 'timestamp': 1678383967.7733276, 'stop': False}"}
debug :  {"message": "Let s produce: {'batch_size': 12288.0, 'flow': 39, 'amount_of_time': 30, 'timestamp': 1678383967.7733276, 'stop': False}"}
debug :  {"message": "Let s produce: {'batch_size': 12288.0, 'flow': 39, 'amount_of_time': 30, 'timestamp': 1678383967.7733276, 'stop': False}"}
debug :  {"message": "Let s produce: {'batch_size': 12288.0, 'flow': 39, 'amount_of_time': 30, 'timestamp': 1678383967.7733276, 'stop': False}"}
debug :  {"message": "Let s produce: {'batch_size': 12288.0, 'flow': 39, 'amount_of_time': 30, 'timestamp': 1678383967.7733276, 'stop': False}"}
debug :  {"message": "Let s produce: {'batch_size': 12288.0, 'flow': 39, 'amount_of_time': 30, 'timestamp': 1678383967.7733276, 'stop': False}"}
debug :  {"message": "Let s produce: {'batch_size': 12288.0, 'flow': 39, 'amount_of_time': 30, 'timestamp': 1678383967.7733276, 'stop': False}"}
debug :  {"message": "Let s produce: {'batch_size': 12288.0, 'flow': 39, 'amount_of_time': 30, 'timestamp': 1678383967.7733276, 'stop': False}"}
debug :  {"message": "Let s produce: {'batch_size': 12288.0, 'flow': 39, 'amount_of_time': 30, 'timestamp': 1678383967.7733276, 'stop': False}"}
debug :  {"message": "Let s produce: {'batch_size': 12288.0, 'flow': 39, 'amount_of_time': 30, 'timestamp': 1678383967.7733276, 'stop': False}"}
debug :  {"message": "Let s produce: {'batch_size': 12288.0, 'flow': 39, 'amount_of_time': 30, 'timestamp': 1678383967.7733276, 'stop': False}"}
debug :  {"message": "Let s produce: {'batch_size': 12288.0, 'flow': 39, 'amount_of_time': 30, 'timestamp': 1678383967.7733276, 'stop': False}"}
debug :  {"message": "Let s produce: {'batch_size': 12288.0, 'flow': 39, 'amount_of_time': 30, 'timestamp': 1678383967.7733276, 'stop': False}"}
debug :  {"message": "Let s produce: {'batch_size': 12288.0, 'flow': 39, 'amount_of_time': 30, 'timestamp': 1678383967.7733276, 'stop': False}"}
debug :  {"message": "Let s produce: {'batch_size': 12288.0, 'flow': 39, 'amount_of_time': 30, 'timestamp': 1678383967.7733276, 'stop': False}"}
debug :  {"message": "Let s produce: {'batch_size': 12288.0, 'flow': 39, 'amount_of_time': 30, 'timestamp': 1678383967.7733276, 'stop': False}"}
debug :  {"message": "Let s produce: {'batch_size': 12288.0, 'flow': 39, 'amount_of_time': 30, 'timestamp': 1678383967.7733276, 'stop': False}"}
debug :  {"message": "Let s produce: {'batch_size': 12288.0, 'flow': 39, 'amount_of_time': 30, 'timestamp': 1678383967.7733276, 'stop': False}"}
debug :  {"message": "Let s produce: {'batch_size': 12288.0, 'flow': 39, 'amount_of_time': 30, 'timestamp': 1678383967.7733276, 'stop': False}"}
debug :  {"message": "Let s produce: {'batch_size': 12288.0, 'flow': 39, 'amount_of_time': 30, 'timestamp': 1678383967.7733276, 'stop': False}"}
debug :  {"Received so far:": 0, "nb_consumers_producers": 32}
consumer-write0-3 8
consumer-write0-2 9
debug :  {"consumer-write": "write data"}
debug :  {"consumer-write": "write data"}
manager-consumer :  97  :  {"machine_kafka": "DS2_v2", "batch_size": 12288.0, "nb_messages": 1140, "time": 0.1224203109741211}
manager-consumer :  98  :  {"machine_kafka": "DS2_v2", "batch_size": 12288.0, "nb_messages": 1140, "time": 0.13773715496063232}
debug :  {"consumer-write": "write data"}
debug :  {"message": "end topic: consumer-write0-3"}
debug :  {"consumer-write": "write data"}
debug :  {"message": "end topic: consumer-write0-2"}
debug :  {"consumer-write": "write data"}
debug :  {"consumer-write": "write data"}
debug :  {"message": "end topic: consumer-write3-2"}
manager-consumer :  99  :  {"machine_kafka": "DS2_v2", "batch_size": 12288.0, "nb_messages": 1140, "time": 0.12372517585754395}
manager-consumer :  100  :  {"machine_kafka": "DS2_v2", "batch_size": 12288.0, "nb_messages": 1140, "time": 0.19051527976989746}
manager-consumer :  101  :  {"machine_kafka": "DS2_v2", "batch_size": 12288.0, "nb_messages": 1140, "time": 0.1372319459915161}
manager-consumer :  102  :  {"machine_kafka": "DS2_v2", "batch_size": 12288.0, "nb_messages": 1140, "time": 0.12944602966308594}
debug :  {"message": "end topic: consumer-write4-0"}
debug :  {"consumer-write": "write data"}
debug :  {"consumer-write": "write data"}
debug :  {"message": "end topic: consumer-write3-1"}
debug :  {"consumer-write": "write data"}
debug :  {"consumer-write": "write data"}
debug :  {"consumer-write": "write data"}
manager-consumer :  103  :  {"machine_kafka": "DS2_v2", "batch_size": 12288.0, "nb_messages": 1140, "time": 0.13380837440490723}
manager-consumer :  104  :  {"machine_kafka": "DS2_v2", "batch_size": 12288.0, "nb_messages": 1140, "time": 0.11101734638214111}
manager-consumer :  105  :  {"machine_kafka": "DS2_v2", "batch_size": 12288.0, "nb_messages": 1140, "time": 0.13186442852020264}
manager-consumer :  106  :  {"machine_kafka": "DS2_v2", "batch_size": 12288.0, "nb_messages": 1140, "time": 0.1285877227783203}
manager-consumer :  107  :  {"machine_kafka": "DS2_v2", "batch_size": 12288.0, "nb_messages": 1140, "time": 0.1371549367904663}
consumer-write0-0 :  10
manager-consumer :  108  :  {"machine_kafka": "DS2_v2", "batch_size": 12288.0, "nb_messages": 1140, "time": 0.14156746864318848}
manager-consumer :  109  :  {"machine_kafka": "DS2_v2", "batch_size": 12288.0, "nb_messages": 1140, "time": 0.14555072784423828}
manager-consumer :  110  :  {"machine_kafka": "DS2_v2", "batch_size": 12288.0, "nb_messages": 1140, "time": 0.14465129375457764}
manager-consumer :  111  :  {"machine_kafka": "DS2_v2", "batch_size": 12288.0, "nb_messages": 1140, "time": 0.12292134761810303}
manager-consumer :  112  :  {"machine_kafka": "DS2_v2", "batch_size": 12288.0, "nb_messages": 1140, "time": 0.13481032848358154}
manager-consumer :  113  :  {"machine_kafka": "DS2_v2", "batch_size": 12288.0, "nb_messages": 1140, "time": 0.1435253620147705}
manager-consumer :  114  :  {"machine_kafka": "DS2_v2", "batch_size": 12288.0, "nb_messages": 1140, "time": 0.14711356163024902}
manager-consumer :  115  :  {"machine_kafka": "DS2_v2", "batch_size": 12288.0, "nb_messages": 1140, "time": 0.132682204246521}
manager-consumer :  116  :  {"machine_kafka": "DS2_v2", "batch_size": 12288.0, "nb_messages": 1140, "time": 0.1262131929397583}
debug :  {"consumer-write": "write data"}
debug :  {"consumer-write": "write data"}
debug :  {"message": "end topic: consumer-write6-1"}
debug :  {"message": "end topic: consumer-write6-3"}
debug :  {"message": "end topic: consumer-write1-3"}
debug :  {"message": "end topic: consumer-write7-1"}
debug :  {"message": "end topic: consumer-write1-1"}
debug :  {"message": "end topic: consumer-write7-3"}
debug :  {"consumer-write": "write data"}
debug :  {"consumer-write": "write data"}
debug :  {"message": "end topic: consumer-write2-0"}
debug :  {"consumer-write": "write data"}
debug :  {"consumer-write": "write data"}
debug :  {"consumer-write": "write data"}
debug :  {"message": "end topic: consumer-write1-0"}
debug :  {"consumer-write": "write data"}
debug :  {"consumer-write": "write data"}
debug :  {"Received so far:": 1, "nb_consumers_producers": 32}
manager-consumer :  117  :  {"machine_kafka": "DS2_v2", "batch_size": 12288.0, "nb_messages": 1140, "time": 0.11514031887054443}
manager-consumer :  118  :  {"machine_kafka": "DS2_v2", "batch_size": 12288.0, "nb_messages": 1140, "time": 0.1450878381729126}
manager-consumer :  119  :  {"machine_kafka": "DS2_v2", "batch_size": 12288.0, "nb_messages": 1140, "time": 0.14780211448669434}
manager-consumer :  120  :  {"machine_kafka": "DS2_v2", "batch_size": 12288.0, "nb_messages": 1140, "time": 0.17519187927246094}
manager-consumer :  121  :  {"machine_kafka": "DS2_v2", "batch_size": 12288.0, "nb_messages": 1140, "time": 0.13999474048614502}
manager-consumer :  122  :  {"machine_kafka": "DS2_v2", "batch_size": 12288.0, "nb_messages": 1140, "time": 0.12397480010986328}
manager-consumer :  123  :  {"machine_kafka": "DS2_v2", "batch_size": 12288.0, "nb_messages": 1140, "time": 0.12946689128875732}
manager-consumer :  124  :  {"machine_kafka": "DS2_v2", "batch_size": 12288.0, "nb_messages": 1140, "time": 0.12226378917694092}
manager-consumer :  125  :  {"machine_kafka": "DS2_v2", "batch_size": 12288.0, "nb_messages": 1140, "time": 0.15014290809631348}
manager-consumer :  126  :  {"machine_kafka": "DS2_v2", "batch_size": 12288.0, "nb_messages": 1140, "time": 0.14392971992492676}
manager-consumer :  127  :  {"machine_kafka": "DS2_v2", "batch_size": 12288.0, "nb_messages": 1140, "time": 0.13559961318969727}
consumer-write0-1 :  11
debug :  {"consumer-write": "write data"}
debug :  {"consumer-write": "write data"}
debug :  {"consumer-write": "write data"}
debug :  {"consumer-write": "write data"}
debug :  {"consumer-write": "write data"}
debug :  {"message": "end topic: consumer-write5-0"}
debug :  {"message": "end topic: consumer-write6-0"}
debug :  {"message": "end topic: consumer-write2-1"}
debug :  {"consumer-write": "write data"}
debug :  {"message": "end topic: consumer-write5-3"}
debug :  {"consumer-write": "write data"}
debug :  {"consumer-write": "write data"}
debug :  {"message": "end topic: consumer-write7-0"}
debug :  {"consumer-write": "write data"}
debug :  {"message": "end topic: consumer-write4-2"}
debug :  {"message": "end topic: consumer-write7-2"}
debug :  {"message": "end topic: consumer-write2-3"}
debug :  {"message": "end topic: consumer-write6-2"}
debug :  {"message": "end topic: consumer-write4-1"}
debug :  {"message": "end topic: consumer-write5-1"}
debug :  {"consumer-write": "write data"}
debug :  {"consumer-write": "write data"}
debug :  {"message": "end topic: consumer-write0-0"}
debug :  {"message": "end topic: consumer-write5-2"}
manager-consumer :  128  :  {"machine_kafka": "DS2_v2", "batch_size": 12288.0, "nb_messages": 1140, "time": 0.1381915807723999}
debug :  {"message": "end topic: consumer-write2-2"}
debug :  {"message": "end topic: consumer-write3-3"}
debug :  {"message": "end topic: consumer-write3-0"}
debug :  {"message": "end topic: consumer-write0-1"}
debug :  {"message": "end topic: consumer-write4-3"}
debug :  {"consumer-write": "write data"}
debug :  {"message": "end topic: consumer-write1-2"}
debug :  {"Received so far:": 2, "nb_consumers_producers": 32}
debug :  {"Received so far:": 3, "nb_consumers_producers": 32}
debug :  {"Received so far:": 4, "nb_consumers_producers": 32}
debug :  {"Received so far:": 5, "nb_consumers_producers": 32}
debug :  {"Received so far:": 6, "nb_consumers_producers": 32}
debug :  {"Received so far:": 7, "nb_consumers_producers": 32}
debug :  {"Received so far:": 8, "nb_consumers_producers": 32}
debug :  {"Received so far:": 9, "nb_consumers_producers": 32}
debug :  {"Received so far:": 10, "nb_consumers_producers": 32}
debug :  {"Received so far:": 11, "nb_consumers_producers": 32}
debug :  {"Received so far:": 12, "nb_consumers_producers": 32}
debug :  {"Received so far:": 13, "nb_consumers_producers": 32}
debug :  {"Received so far:": 14, "nb_consumers_producers": 32}
debug :  {"Received so far:": 15, "nb_consumers_producers": 32}
debug :  {"Received so far:": 16, "nb_consumers_producers": 32}
debug :  {"Received so far:": 17, "nb_consumers_producers": 32}
debug :  {"Received so far:": 18, "nb_consumers_producers": 32}
debug :  {"Received so far:": 19, "nb_consumers_producers": 32}
debug :  {"Received so far:": 20, "nb_consumers_producers": 32}
debug :  {"Received so far:": 21, "nb_consumers_producers": 32}
debug :  {"Received so far:": 22, "nb_consumers_producers": 32}
debug :  {"Received so far:": 23, "nb_consumers_producers": 32}
debug :  {"Received so far:": 24, "nb_consumers_producers": 32}
debug :  {"Received so far:": 25, "nb_consumers_producers": 32}
debug :  {"Received so far:": 26, "nb_consumers_producers": 32}
debug :  {"Received so far:": 27, "nb_consumers_producers": 32}
debug :  {"Received so far:": 28, "nb_consumers_producers": 32}
debug :  {"Received so far:": 29, "nb_consumers_producers": 32}
debug :  {"Received so far:": 30, "nb_consumers_producers": 32}
debug :  {"Received so far:": 31, "nb_consumers_producers": 32}
manager-producer :  {"batch_size": 12288.0, "flow": 54, "amount_of_time": 30, "timestamp": 1678384009.0799084, "stop": false}
debug :  {"message": "Let s produce: {'batch_size': 12288.0, 'flow': 54, 'amount_of_time': 30, 'timestamp': 1678384009.0799084, 'stop': False}"}
debug :  {"message": "Let s produce: {'batch_size': 12288.0, 'flow': 54, 'amount_of_time': 30, 'timestamp': 1678384009.0799084, 'stop': False}"}
debug :  {"message": "Let s produce: {'batch_size': 12288.0, 'flow': 54, 'amount_of_time': 30, 'timestamp': 1678384009.0799084, 'stop': False}"}
debug :  {"message": "Let s produce: {'batch_size': 12288.0, 'flow': 54, 'amount_of_time': 30, 'timestamp': 1678384009.0799084, 'stop': False}"}
debug :  {"message": "Let s produce: {'batch_size': 12288.0, 'flow': 54, 'amount_of_time': 30, 'timestamp': 1678384009.0799084, 'stop': False}"}
debug :  {"message": "Let s produce: {'batch_size': 12288.0, 'flow': 54, 'amount_of_time': 30, 'timestamp': 1678384009.0799084, 'stop': False}"}
debug :  {"message": "Let s produce: {'batch_size': 12288.0, 'flow': 54, 'amount_of_time': 30, 'timestamp': 1678384009.0799084, 'stop': False}"}
debug :  {"message": "Let s produce: {'batch_size': 12288.0, 'flow': 54, 'amount_of_time': 30, 'timestamp': 1678384009.0799084, 'stop': False}"}
debug :  {"message": "Let s produce: {'batch_size': 12288.0, 'flow': 54, 'amount_of_time': 30, 'timestamp': 1678384009.0799084, 'stop': False}"}
debug :  {"message": "Let s produce: {'batch_size': 12288.0, 'flow': 54, 'amount_of_time': 30, 'timestamp': 1678384009.0799084, 'stop': False}"}
debug :  {"message": "Let s produce: {'batch_size': 12288.0, 'flow': 54, 'amount_of_time': 30, 'timestamp': 1678384009.0799084, 'stop': False}"}
debug :  {"message": "Let s produce: {'batch_size': 12288.0, 'flow': 54, 'amount_of_time': 30, 'timestamp': 1678384009.0799084, 'stop': False}"}
debug :  {"message": "Let s produce: {'batch_size': 12288.0, 'flow': 54, 'amount_of_time': 30, 'timestamp': 1678384009.0799084, 'stop': False}"}
debug :  {"message": "Let s produce: {'batch_size': 12288.0, 'flow': 54, 'amount_of_time': 30, 'timestamp': 1678384009.0799084, 'stop': False}"}
debug :  {"message": "Let s produce: {'batch_size': 12288.0, 'flow': 54, 'amount_of_time': 30, 'timestamp': 1678384009.0799084, 'stop': False}"}
debug :  {"message": "Let s produce: {'batch_size': 12288.0, 'flow': 54, 'amount_of_time': 30, 'timestamp': 1678384009.0799084, 'stop': False}"}
debug :  {"message": "Let s produce: {'batch_size': 12288.0, 'flow': 54, 'amount_of_time': 30, 'timestamp': 1678384009.0799084, 'stop': False}"}
debug :  {"message": "Let s produce: {'batch_size': 12288.0, 'flow': 54, 'amount_of_time': 30, 'timestamp': 1678384009.0799084, 'stop': False}"}
debug :  {"message": "Let s produce: {'batch_size': 12288.0, 'flow': 54, 'amount_of_time': 30, 'timestamp': 1678384009.0799084, 'stop': False}"}
debug :  {"message": "Let s produce: {'batch_size': 12288.0, 'flow': 54, 'amount_of_time': 30, 'timestamp': 1678384009.0799084, 'stop': False}"}
debug :  {"message": "Let s produce: {'batch_size': 12288.0, 'flow': 54, 'amount_of_time': 30, 'timestamp': 1678384009.0799084, 'stop': False}"}
debug :  {"message": "Let s produce: {'batch_size': 12288.0, 'flow': 54, 'amount_of_time': 30, 'timestamp': 1678384009.0799084, 'stop': False}"}
debug :  {"message": "Let s produce: {'batch_size': 12288.0, 'flow': 54, 'amount_of_time': 30, 'timestamp': 1678384009.0799084, 'stop': False}"}
debug :  {"message": "Let s produce: {'batch_size': 12288.0, 'flow': 54, 'amount_of_time': 30, 'timestamp': 1678384009.0799084, 'stop': False}"}
debug :  {"message": "Let s produce: {'batch_size': 12288.0, 'flow': 54, 'amount_of_time': 30, 'timestamp': 1678384009.0799084, 'stop': False}"}
debug :  {"message": "Let s produce: {'batch_size': 12288.0, 'flow': 54, 'amount_of_time': 30, 'timestamp': 1678384009.0799084, 'stop': False}"}
debug :  {"message": "Let s produce: {'batch_size': 12288.0, 'flow': 54, 'amount_of_time': 30, 'timestamp': 1678384009.0799084, 'stop': False}"}
debug :  {"message": "Let s produce: {'batch_size': 12288.0, 'flow': 54, 'amount_of_time': 30, 'timestamp': 1678384009.0799084, 'stop': False}"}
debug :  {"message": "Let s produce: {'batch_size': 12288.0, 'flow': 54, 'amount_of_time': 30, 'timestamp': 1678384009.0799084, 'stop': False}"}
debug :  {"message": "Let s produce: {'batch_size': 12288.0, 'flow': 54, 'amount_of_time': 30, 'timestamp': 1678384009.0799084, 'stop': False}"}
debug :  {"message": "Let s produce: {'batch_size': 12288.0, 'flow': 54, 'amount_of_time': 30, 'timestamp': 1678384009.0799084, 'stop': False}"}
debug :  {"message": "Let s produce: {'batch_size': 12288.0, 'flow': 54, 'amount_of_time': 30, 'timestamp': 1678384009.0799084, 'stop': False}"}
debug :  {"Received so far:": 0, "nb_consumers_producers": 32}
consumer-write0-3 12
debug :  {"consumer-write": "write data"}
consumer-write0-2 13
manager-consumer :  129  :  {"machine_kafka": "DS2_v2", "batch_size": 12288.0, "nb_messages": 1620, "time": 0.1346418857574463}
manager-consumer :  130  :  {"machine_kafka": "DS2_v2", "batch_size": 12288.0, "nb_messages": 1620, "time": 0.138208270072937}
manager-consumer :  131  :  {"machine_kafka": "DS2_v2", "batch_size": 12288.0, "nb_messages": 1620, "time": 0.15230560302734375}
debug :  {"consumer-write": "write data"}
debug :  {"message": "end topic: consumer-write3-2"}
debug :  {"consumer-write": "write data"}
manager-consumer :  132  :  {"machine_kafka": "DS2_v2", "batch_size": 12288.0, "nb_messages": 1620, "time": 0.15362954139709473}
manager-consumer :  133  :  {"machine_kafka": "DS2_v2", "batch_size": 12288.0, "nb_messages": 1620, "time": 0.14772319793701172}
manager-consumer :  134  :  {"machine_kafka": "DS2_v2", "batch_size": 12288.0, "nb_messages": 1620, "time": 0.14982712268829346}
manager-consumer :  135  :  {"machine_kafka": "DS2_v2", "batch_size": 12288.0, "nb_messages": 1620, "time": 0.15819931030273438}
manager-consumer :  136  :  {"machine_kafka": "DS2_v2", "batch_size": 12288.0, "nb_messages": 1620, "time": 0.1304762363433838}
debug :  {"message": "end topic: consumer-write0-3"}
debug :  {"consumer-write": "write data"}
debug :  {"consumer-write": "write data"}
debug :  {"consumer-write": "write data"}
debug :  {"consumer-write": "write data"}
debug :  {"consumer-write": "write data"}
debug :  {"message": "end topic: consumer-write0-2"}
debug :  {"consumer-write": "write data"}
debug :  {"message": "end topic: consumer-write6-3"}
debug :  {"consumer-write": "write data"}
debug :  {"consumer-write": "write data"}
debug :  {"message": "end topic: consumer-write6-1"}
debug :  {"consumer-write": "write data"}
debug :  {"consumer-write": "write data"}
debug :  {"message": "end topic: consumer-write2-0"}
debug :  {"message": "end topic: consumer-write7-3"}
debug :  {"message": "end topic: consumer-write7-1"}
debug :  {"consumer-write": "write data"}
debug :  {"consumer-write": "write data"}
debug :  {"consumer-write": "write data"}
debug :  {"message": "end topic: consumer-write3-1"}
debug :  {"message": "end topic: consumer-write1-3"}
debug :  {"consumer-write": "write data"}
debug :  {"consumer-write": "write data"}
debug :  {"consumer-write": "write data"}
debug :  {"message": "end topic: consumer-write1-1"}
debug :  {"message": "end topic: consumer-write4-0"}
manager-consumer :  137  :  {"machine_kafka": "DS2_v2", "batch_size": 12288.0, "nb_messages": 1620, "time": 0.15282535552978516}
manager-consumer :  138  :  {"machine_kafka": "DS2_v2", "batch_size": 12288.0, "nb_messages": 1620, "time": 0.15563082695007324}
manager-consumer :  139  :  {"machine_kafka": "DS2_v2", "batch_size": 12288.0, "nb_messages": 1620, "time": 0.21203875541687012}
manager-consumer :  140  :  {"machine_kafka": "DS2_v2", "batch_size": 12288.0, "nb_messages": 1620, "time": 0.15274381637573242}
manager-consumer :  141  :  {"machine_kafka": "DS2_v2", "batch_size": 12288.0, "nb_messages": 1620, "time": 0.1588376760482788}
manager-consumer :  142  :  {"machine_kafka": "DS2_v2", "batch_size": 12288.0, "nb_messages": 1620, "time": 0.16498255729675293}
manager-consumer :  143  :  {"machine_kafka": "DS2_v2", "batch_size": 12288.0, "nb_messages": 1620, "time": 0.14154314994812012}
manager-consumer :  144  :  {"machine_kafka": "DS2_v2", "batch_size": 12288.0, "nb_messages": 1620, "time": 0.1568526029586792}
manager-consumer :  145  :  {"machine_kafka": "DS2_v2", "batch_size": 12288.0, "nb_messages": 1620, "time": 0.16737031936645508}
manager-consumer :  146  :  {"machine_kafka": "DS2_v2", "batch_size": 12288.0, "nb_messages": 1620, "time": 0.16403639316558838}
manager-consumer :  147  :  {"machine_kafka": "DS2_v2", "batch_size": 12288.0, "nb_messages": 1620, "time": 0.13383710384368896}
consumer-write0-0 :  14
debug :  {"message": "end topic: consumer-write5-0"}
debug :  {"consumer-write": "write data"}
debug :  {"message": "end topic: consumer-write2-1"}
debug :  {"Received so far:": 1, "nb_consumers_producers": 32}
debug :  {"consumer-write": "write data"}
debug :  {"message": "end topic: consumer-write7-0"}
debug :  {"consumer-write": "write data"}
debug :  {"message": "end topic: consumer-write1-0"}
debug :  {"message": "end topic: consumer-write7-2"}
debug :  {"message": "end topic: consumer-write2-3"}
debug :  {"consumer-write": "write data"}
debug :  {"consumer-write": "write data"}
debug :  {"message": "end topic: consumer-write5-1"}
debug :  {"message": "end topic: consumer-write6-2"}
debug :  {"consumer-write": "write data"}
debug :  {"consumer-write": "write data"}
debug :  {"consumer-write": "write data"}
debug :  {"message": "end topic: consumer-write5-2"}
debug :  {"message": "end topic: consumer-write6-0"}
consumer-write0-1 :  15
manager-consumer :  148  :  {"machine_kafka": "DS2_v2", "batch_size": 12288.0, "nb_messages": 1620, "time": 0.16839909553527832}
manager-consumer :  149  :  {"machine_kafka": "DS2_v2", "batch_size": 12288.0, "nb_messages": 1620, "time": 0.14261841773986816}
manager-consumer :  150  :  {"machine_kafka": "DS2_v2", "batch_size": 12288.0, "nb_messages": 1620, "time": 0.14654195308685303}
manager-consumer :  151  :  {"machine_kafka": "DS2_v2", "batch_size": 12288.0, "nb_messages": 1620, "time": 0.14699888229370117}
manager-consumer :  152  :  {"machine_kafka": "DS2_v2", "batch_size": 12288.0, "nb_messages": 1620, "time": 0.14554166793823242}
manager-consumer :  153  :  {"machine_kafka": "DS2_v2", "batch_size": 12288.0, "nb_messages": 1620, "time": 0.16557836532592773}
manager-consumer :  154  :  {"machine_kafka": "DS2_v2", "batch_size": 12288.0, "nb_messages": 1620, "time": 0.15650856494903564}
manager-consumer :  155  :  {"machine_kafka": "DS2_v2", "batch_size": 12288.0, "nb_messages": 1620, "time": 0.1551152467727661}
manager-consumer :  156  :  {"machine_kafka": "DS2_v2", "batch_size": 12288.0, "nb_messages": 1620, "time": 0.14015400409698486}
manager-consumer :  157  :  {"machine_kafka": "DS2_v2", "batch_size": 12288.0, "nb_messages": 1620, "time": 0.17155349254608154}
manager-consumer :  158  :  {"machine_kafka": "DS2_v2", "batch_size": 12288.0, "nb_messages": 1620, "time": 0.1546611785888672}
debug :  {"message": "end topic: consumer-write0-0"}
debug :  {"message": "end topic: consumer-write4-2"}
debug :  {"message": "end topic: consumer-write5-3"}
debug :  {"message": "end topic: consumer-write2-2"}
debug :  {"message": "end topic: consumer-write0-1"}
debug :  {"consumer-write": "write data"}
debug :  {"consumer-write": "write data"}
debug :  {"message": "end topic: consumer-write3-3"}
debug :  {"message": "end topic: consumer-write3-0"}
debug :  {"consumer-write": "write data"}
debug :  {"consumer-write": "write data"}
debug :  {"message": "end topic: consumer-write4-3"}
debug :  {"consumer-write": "write data"}
debug :  {"message": "end topic: consumer-write1-2"}
manager-consumer :  159  :  {"machine_kafka": "DS2_v2", "batch_size": 12288.0, "nb_messages": 1620, "time": 0.15442252159118652}
manager-consumer :  160  :  {"machine_kafka": "DS2_v2", "batch_size": 12288.0, "nb_messages": 1620, "time": 0.1974872350692749}
debug :  {"Received so far:": 2, "nb_consumers_producers": 32}
debug :  {"message": "end topic: consumer-write4-1"}
debug :  {"Received so far:": 3, "nb_consumers_producers": 32}
debug :  {"Received so far:": 4, "nb_consumers_producers": 32}
debug :  {"Received so far:": 5, "nb_consumers_producers": 32}
debug :  {"Received so far:": 6, "nb_consumers_producers": 32}
debug :  {"Received so far:": 7, "nb_consumers_producers": 32}
debug :  {"Received so far:": 8, "nb_consumers_producers": 32}
debug :  {"Received so far:": 9, "nb_consumers_producers": 32}
debug :  {"Received so far:": 10, "nb_consumers_producers": 32}
debug :  {"Received so far:": 11, "nb_consumers_producers": 32}
debug :  {"Received so far:": 12, "nb_consumers_producers": 32}
debug :  {"Received so far:": 13, "nb_consumers_producers": 32}
debug :  {"Received so far:": 14, "nb_consumers_producers": 32}
debug :  {"Received so far:": 15, "nb_consumers_producers": 32}
debug :  {"Received so far:": 16, "nb_consumers_producers": 32}
debug :  {"Received so far:": 17, "nb_consumers_producers": 32}
debug :  {"Received so far:": 18, "nb_consumers_producers": 32}
debug :  {"Received so far:": 19, "nb_consumers_producers": 32}
debug :  {"Received so far:": 20, "nb_consumers_producers": 32}
debug :  {"Received so far:": 21, "nb_consumers_producers": 32}
debug :  {"Received so far:": 22, "nb_consumers_producers": 32}
debug :  {"Received so far:": 23, "nb_consumers_producers": 32}
debug :  {"Received so far:": 24, "nb_consumers_producers": 32}
debug :  {"Received so far:": 25, "nb_consumers_producers": 32}
debug :  {"Received so far:": 26, "nb_consumers_producers": 32}
debug :  {"Received so far:": 27, "nb_consumers_producers": 32}
debug :  {"Received so far:": 28, "nb_consumers_producers": 32}
debug :  {"Received so far:": 29, "nb_consumers_producers": 32}
debug :  {"Received so far:": 30, "nb_consumers_producers": 32}
debug :  {"Received so far:": 31, "nb_consumers_producers": 32}
manager-producer :  {"batch_size": 12288.0, "flow": 70, "amount_of_time": 30, "timestamp": 1678384050.2836025, "stop": false}
debug :  {"message": "Let s produce: {'batch_size': 12288.0, 'flow': 70, 'amount_of_time': 30, 'timestamp': 1678384050.2836025, 'stop': False}"}
debug :  {"message": "Let s produce: {'batch_size': 12288.0, 'flow': 70, 'amount_of_time': 30, 'timestamp': 1678384050.2836025, 'stop': False}"}
debug :  {"message": "Let s produce: {'batch_size': 12288.0, 'flow': 70, 'amount_of_time': 30, 'timestamp': 1678384050.2836025, 'stop': False}"}
debug :  {"message": "Let s produce: {'batch_size': 12288.0, 'flow': 70, 'amount_of_time': 30, 'timestamp': 1678384050.2836025, 'stop': False}"}
debug :  {"message": "Let s produce: {'batch_size': 12288.0, 'flow': 70, 'amount_of_time': 30, 'timestamp': 1678384050.2836025, 'stop': False}"}
debug :  {"message": "Let s produce: {'batch_size': 12288.0, 'flow': 70, 'amount_of_time': 30, 'timestamp': 1678384050.2836025, 'stop': False}"}
debug :  {"message": "Let s produce: {'batch_size': 12288.0, 'flow': 70, 'amount_of_time': 30, 'timestamp': 1678384050.2836025, 'stop': False}"}
debug :  {"message": "Let s produce: {'batch_size': 12288.0, 'flow': 70, 'amount_of_time': 30, 'timestamp': 1678384050.2836025, 'stop': False}"}
debug :  {"message": "Let s produce: {'batch_size': 12288.0, 'flow': 70, 'amount_of_time': 30, 'timestamp': 1678384050.2836025, 'stop': False}"}
debug :  {"message": "Let s produce: {'batch_size': 12288.0, 'flow': 70, 'amount_of_time': 30, 'timestamp': 1678384050.2836025, 'stop': False}"}
debug :  {"message": "Let s produce: {'batch_size': 12288.0, 'flow': 70, 'amount_of_time': 30, 'timestamp': 1678384050.2836025, 'stop': False}"}
debug :  {"message": "Let s produce: {'batch_size': 12288.0, 'flow': 70, 'amount_of_time': 30, 'timestamp': 1678384050.2836025, 'stop': False}"}
debug :  {"message": "Let s produce: {'batch_size': 12288.0, 'flow': 70, 'amount_of_time': 30, 'timestamp': 1678384050.2836025, 'stop': False}"}
debug :  {"message": "Let s produce: {'batch_size': 12288.0, 'flow': 70, 'amount_of_time': 30, 'timestamp': 1678384050.2836025, 'stop': False}"}
debug :  {"message": "Let s produce: {'batch_size': 12288.0, 'flow': 70, 'amount_of_time': 30, 'timestamp': 1678384050.2836025, 'stop': False}"}
debug :  {"message": "Let s produce: {'batch_size': 12288.0, 'flow': 70, 'amount_of_time': 30, 'timestamp': 1678384050.2836025, 'stop': False}"}
debug :  {"message": "Let s produce: {'batch_size': 12288.0, 'flow': 70, 'amount_of_time': 30, 'timestamp': 1678384050.2836025, 'stop': False}"}
debug :  {"message": "Let s produce: {'batch_size': 12288.0, 'flow': 70, 'amount_of_time': 30, 'timestamp': 1678384050.2836025, 'stop': False}"}
debug :  {"message": "Let s produce: {'batch_size': 12288.0, 'flow': 70, 'amount_of_time': 30, 'timestamp': 1678384050.2836025, 'stop': False}"}
debug :  {"message": "Let s produce: {'batch_size': 12288.0, 'flow': 70, 'amount_of_time': 30, 'timestamp': 1678384050.2836025, 'stop': False}"}
debug :  {"message": "Let s produce: {'batch_size': 12288.0, 'flow': 70, 'amount_of_time': 30, 'timestamp': 1678384050.2836025, 'stop': False}"}
debug :  {"message": "Let s produce: {'batch_size': 12288.0, 'flow': 70, 'amount_of_time': 30, 'timestamp': 1678384050.2836025, 'stop': False}"}
debug :  {"message": "Let s produce: {'batch_size': 12288.0, 'flow': 70, 'amount_of_time': 30, 'timestamp': 1678384050.2836025, 'stop': False}"}
debug :  {"message": "Let s produce: {'batch_size': 12288.0, 'flow': 70, 'amount_of_time': 30, 'timestamp': 1678384050.2836025, 'stop': False}"}
debug :  {"message": "Let s produce: {'batch_size': 12288.0, 'flow': 70, 'amount_of_time': 30, 'timestamp': 1678384050.2836025, 'stop': False}"}
debug :  {"message": "Let s produce: {'batch_size': 12288.0, 'flow': 70, 'amount_of_time': 30, 'timestamp': 1678384050.2836025, 'stop': False}"}
debug :  {"message": "Let s produce: {'batch_size': 12288.0, 'flow': 70, 'amount_of_time': 30, 'timestamp': 1678384050.2836025, 'stop': False}"}
debug :  {"message": "Let s produce: {'batch_size': 12288.0, 'flow': 70, 'amount_of_time': 30, 'timestamp': 1678384050.2836025, 'stop': False}"}
debug :  {"message": "Let s produce: {'batch_size': 12288.0, 'flow': 70, 'amount_of_time': 30, 'timestamp': 1678384050.2836025, 'stop': False}"}
debug :  {"message": "Let s produce: {'batch_size': 12288.0, 'flow': 70, 'amount_of_time': 30, 'timestamp': 1678384050.2836025, 'stop': False}"}
debug :  {"message": "Let s produce: {'batch_size': 12288.0, 'flow': 70, 'amount_of_time': 30, 'timestamp': 1678384050.2836025, 'stop': False}"}
debug :  {"message": "Let s produce: {'batch_size': 12288.0, 'flow': 70, 'amount_of_time': 30, 'timestamp': 1678384050.2836025, 'stop': False}"}
debug :  {"Received so far:": 0, "nb_consumers_producers": 32}
consumer-write0-3 16
debug :  {"consumer-write": "write data"}
debug :  {"consumer-write": "write data"}
debug :  {"consumer-write": "write data"}
manager-consumer :  161  :  {"machine_kafka": "DS2_v2", "batch_size": 12288.0, "nb_messages": 2100, "time": 0.1587822437286377}
manager-consumer :  162  :  {"machine_kafka": "DS2_v2", "batch_size": 12288.0, "nb_messages": 2100, "time": 0.1537642478942871}
manager-consumer :  163  :  {"machine_kafka": "DS2_v2", "batch_size": 12288.0, "nb_messages": 2100, "time": 0.16960692405700684}
consumer-write0-2 17
manager-consumer :  164  :  {"machine_kafka": "DS2_v2", "batch_size": 12288.0, "nb_messages": 2100, "time": 0.1710883378982544}
manager-consumer :  165  :  {"machine_kafka": "DS2_v2", "batch_size": 12288.0, "nb_messages": 2100, "time": 0.16427826881408691}
manager-consumer :  166  :  {"machine_kafka": "DS2_v2", "batch_size": 12288.0, "nb_messages": 2100, "time": 0.16610705852508545}
manager-consumer :  167  :  {"machine_kafka": "DS2_v2", "batch_size": 12288.0, "nb_messages": 2100, "time": 0.17773079872131348}
debug :  {"consumer-write": "write data"}
debug :  {"consumer-write": "write data"}
debug :  {"message": "end topic: consumer-write3-2"}
debug :  {"message": "end topic: consumer-write0-3"}
debug :  {"consumer-write": "write data"}
debug :  {"consumer-write": "write data"}
debug :  {"message": "end topic: consumer-write0-2"}
debug :  {"message": "end topic: consumer-write6-3"}
debug :  {"message": "end topic: consumer-write6-1"}
consumer-write0-1 :  18
manager-consumer :  168  :  {"machine_kafka": "DS2_v2", "batch_size": 12288.0, "nb_messages": 2100, "time": 0.16884982585906982}
manager-consumer :  169  :  {"machine_kafka": "DS2_v2", "batch_size": 12288.0, "nb_messages": 2100, "time": 0.17946290969848633}
manager-consumer :  170  :  {"machine_kafka": "DS2_v2", "batch_size": 12288.0, "nb_messages": 2100, "time": 0.17054593563079834}
manager-consumer :  171  :  {"machine_kafka": "DS2_v2", "batch_size": 12288.0, "nb_messages": 2100, "time": 0.17567014694213867}
manager-consumer :  172  :  {"machine_kafka": "DS2_v2", "batch_size": 12288.0, "nb_messages": 2100, "time": 0.1820077896118164}
manager-consumer :  173  :  {"machine_kafka": "DS2_v2", "batch_size": 12288.0, "nb_messages": 2100, "time": 0.16231215000152588}
manager-consumer :  174  :  {"machine_kafka": "DS2_v2", "batch_size": 12288.0, "nb_messages": 2100, "time": 0.17471957206726074}
manager-consumer :  175  :  {"machine_kafka": "DS2_v2", "batch_size": 12288.0, "nb_messages": 2100, "time": 0.16984570026397705}
manager-consumer :  176  :  {"machine_kafka": "DS2_v2", "batch_size": 12288.0, "nb_messages": 2100, "time": 0.18167519569396973}
manager-consumer :  177  :  {"machine_kafka": "DS2_v2", "batch_size": 12288.0, "nb_messages": 2100, "time": 0.18652009963989258}
manager-consumer :  178  :  {"machine_kafka": "DS2_v2", "batch_size": 12288.0, "nb_messages": 2100, "time": 0.15041804313659668}
debug :  {"consumer-write": "write data"}
debug :  {"consumer-write": "write data"}
debug :  {"consumer-write": "write data"}
debug :  {"message": "end topic: consumer-write2-0"}
debug :  {"consumer-write": "write data"}
debug :  {"message": "end topic: consumer-write7-3"}
debug :  {"consumer-write": "write data"}
debug :  {"consumer-write": "write data"}
debug :  {"message": "end topic: consumer-write5-0"}
debug :  {"consumer-write": "write data"}
debug :  {"message": "end topic: consumer-write1-1"}
debug :  {"message": "end topic: consumer-write2-1"}
debug :  {"consumer-write": "write data"}
debug :  {"consumer-write": "write data"}
debug :  {"consumer-write": "write data"}
debug :  {"message": "end topic: consumer-write1-3"}
debug :  {"consumer-write": "write data"}
consumer-write0-0 :  19
debug :  {"message": "end topic: consumer-write7-0"}
debug :  {"message": "end topic: consumer-write3-1"}
debug :  {"message": "end topic: consumer-write1-0"}
debug :  {"message": "end topic: consumer-write7-2"}
debug :  {"message": "end topic: consumer-write5-1"}
debug :  {"consumer-write": "write data"}
debug :  {"message": "end topic: consumer-write2-3"}
debug :  {"Received so far:": 1, "nb_consumers_producers": 32}
debug :  {"message": "end topic: consumer-write6-2"}
debug :  {"consumer-write": "write data"}
debug :  {"consumer-write": "write data"}
debug :  {"consumer-write": "write data"}
debug :  {"consumer-write": "write data"}
debug :  {"consumer-write": "write data"}
debug :  {"consumer-write": "write data"}
debug :  {"consumer-write": "write data"}
debug :  {"message": "end topic: consumer-write5-2"}
debug :  {"message": "end topic: consumer-write0-0"}
manager-consumer :  179  :  {"machine_kafka": "DS2_v2", "batch_size": 12288.0, "nb_messages": 2100, "time": 0.16529321670532227}
manager-consumer :  180  :  {"machine_kafka": "DS2_v2", "batch_size": 12288.0, "nb_messages": 2100, "time": 0.18476378917694092}
manager-consumer :  181  :  {"machine_kafka": "DS2_v2", "batch_size": 12288.0, "nb_messages": 2100, "time": 0.16089463233947754}
manager-consumer :  182  :  {"machine_kafka": "DS2_v2", "batch_size": 12288.0, "nb_messages": 2100, "time": 0.1591644287109375}
manager-consumer :  183  :  {"machine_kafka": "DS2_v2", "batch_size": 12288.0, "nb_messages": 2100, "time": 0.14950907230377197}
manager-consumer :  184  :  {"machine_kafka": "DS2_v2", "batch_size": 12288.0, "nb_messages": 2100, "time": 0.17446386814117432}
manager-consumer :  185  :  {"machine_kafka": "DS2_v2", "batch_size": 12288.0, "nb_messages": 2100, "time": 0.1718827486038208}
manager-consumer :  186  :  {"machine_kafka": "DS2_v2", "batch_size": 12288.0, "nb_messages": 2100, "time": 0.16411817073822021}
manager-consumer :  187  :  {"machine_kafka": "DS2_v2", "batch_size": 12288.0, "nb_messages": 2100, "time": 0.22714078426361084}
manager-consumer :  188  :  {"machine_kafka": "DS2_v2", "batch_size": 12288.0, "nb_messages": 2100, "time": 0.19192838668823242}
manager-consumer :  189  :  {"machine_kafka": "DS2_v2", "batch_size": 12288.0, "nb_messages": 2100, "time": 0.15892302989959717}
debug :  {"message": "end topic: consumer-write5-3"}
debug :  {"message": "end topic: consumer-write7-1"}
debug :  {"consumer-write": "write data"}
debug :  {"consumer-write": "write data"}
debug :  {"message": "end topic: consumer-write2-2"}
debug :  {"message": "end topic: consumer-write6-0"}
debug :  {"consumer-write": "write data"}
debug :  {"message": "end topic: consumer-write0-1"}
debug :  {"message": "end topic: consumer-write4-2"}
debug :  {"message": "end topic: consumer-write4-0"}
debug :  {"message": "end topic: consumer-write3-0"}
debug :  {"message": "end topic: consumer-write3-3"}
manager-consumer :  190  :  {"machine_kafka": "DS2_v2", "batch_size": 12288.0, "nb_messages": 2100, "time": 0.17244839668273926}
debug :  {"consumer-write": "write data"}
debug :  {"message": "end topic: consumer-write1-2"}
manager-consumer :  191  :  {"machine_kafka": "DS2_v2", "batch_size": 12288.0, "nb_messages": 2100, "time": 0.21428954601287842}
debug :  {"consumer-write": "write data"}
debug :  {"Received so far:": 2, "nb_consumers_producers": 32}
manager-consumer :  192  :  {"machine_kafka": "DS2_v2", "batch_size": 12288.0, "nb_messages": 2100, "time": 0.17111706733703613}
debug :  {"message": "end topic: consumer-write4-1"}
debug :  {"consumer-write": "write data"}
debug :  {"message": "end topic: consumer-write4-3"}
debug :  {"Received so far:": 3, "nb_consumers_producers": 32}
debug :  {"Received so far:": 4, "nb_consumers_producers": 32}
debug :  {"Received so far:": 5, "nb_consumers_producers": 32}
debug :  {"Received so far:": 6, "nb_consumers_producers": 32}
debug :  {"Received so far:": 7, "nb_consumers_producers": 32}
debug :  {"Received so far:": 8, "nb_consumers_producers": 32}
debug :  {"Received so far:": 9, "nb_consumers_producers": 32}
debug :  {"Received so far:": 10, "nb_consumers_producers": 32}
debug :  {"Received so far:": 11, "nb_consumers_producers": 32}
debug :  {"Received so far:": 12, "nb_consumers_producers": 32}
debug :  {"Received so far:": 13, "nb_consumers_producers": 32}
debug :  {"Received so far:": 14, "nb_consumers_producers": 32}
debug :  {"Received so far:": 15, "nb_consumers_producers": 32}
debug :  {"Received so far:": 16, "nb_consumers_producers": 32}
debug :  {"Received so far:": 17, "nb_consumers_producers": 32}
debug :  {"Received so far:": 18, "nb_consumers_producers": 32}
debug :  {"Received so far:": 19, "nb_consumers_producers": 32}
debug :  {"Received so far:": 20, "nb_consumers_producers": 32}
debug :  {"Received so far:": 21, "nb_consumers_producers": 32}
debug :  {"Received so far:": 22, "nb_consumers_producers": 32}
debug :  {"Received so far:": 23, "nb_consumers_producers": 32}
debug :  {"Received so far:": 24, "nb_consumers_producers": 32}
debug :  {"Received so far:": 25, "nb_consumers_producers": 32}
debug :  {"Received so far:": 26, "nb_consumers_producers": 32}
debug :  {"Received so far:": 27, "nb_consumers_producers": 32}
debug :  {"Received so far:": 28, "nb_consumers_producers": 32}
debug :  {"Received so far:": 29, "nb_consumers_producers": 32}
debug :  {"Received so far:": 30, "nb_consumers_producers": 32}
debug :  {"Received so far:": 31, "nb_consumers_producers": 32}
manager-producer :  {"batch_size": 12288.0, "flow": 85, "amount_of_time": 30, "timestamp": 1678384091.673441, "stop": false}
debug :  {"message": "Let s produce: {'batch_size': 12288.0, 'flow': 85, 'amount_of_time': 30, 'timestamp': 1678384091.673441, 'stop': False}"}
debug :  {"message": "Let s produce: {'batch_size': 12288.0, 'flow': 85, 'amount_of_time': 30, 'timestamp': 1678384091.673441, 'stop': False}"}
debug :  {"message": "Let s produce: {'batch_size': 12288.0, 'flow': 85, 'amount_of_time': 30, 'timestamp': 1678384091.673441, 'stop': False}"}
debug :  {"message": "Let s produce: {'batch_size': 12288.0, 'flow': 85, 'amount_of_time': 30, 'timestamp': 1678384091.673441, 'stop': False}"}
debug :  {"message": "Let s produce: {'batch_size': 12288.0, 'flow': 85, 'amount_of_time': 30, 'timestamp': 1678384091.673441, 'stop': False}"}
debug :  {"message": "Let s produce: {'batch_size': 12288.0, 'flow': 85, 'amount_of_time': 30, 'timestamp': 1678384091.673441, 'stop': False}"}
debug :  {"message": "Let s produce: {'batch_size': 12288.0, 'flow': 85, 'amount_of_time': 30, 'timestamp': 1678384091.673441, 'stop': False}"}
debug :  {"message": "Let s produce: {'batch_size': 12288.0, 'flow': 85, 'amount_of_time': 30, 'timestamp': 1678384091.673441, 'stop': False}"}
debug :  {"message": "Let s produce: {'batch_size': 12288.0, 'flow': 85, 'amount_of_time': 30, 'timestamp': 1678384091.673441, 'stop': False}"}
debug :  {"message": "Let s produce: {'batch_size': 12288.0, 'flow': 85, 'amount_of_time': 30, 'timestamp': 1678384091.673441, 'stop': False}"}
debug :  {"message": "Let s produce: {'batch_size': 12288.0, 'flow': 85, 'amount_of_time': 30, 'timestamp': 1678384091.673441, 'stop': False}"}
debug :  {"message": "Let s produce: {'batch_size': 12288.0, 'flow': 85, 'amount_of_time': 30, 'timestamp': 1678384091.673441, 'stop': False}"}
debug :  {"message": "Let s produce: {'batch_size': 12288.0, 'flow': 85, 'amount_of_time': 30, 'timestamp': 1678384091.673441, 'stop': False}"}
debug :  {"message": "Let s produce: {'batch_size': 12288.0, 'flow': 85, 'amount_of_time': 30, 'timestamp': 1678384091.673441, 'stop': False}"}
debug :  {"message": "Let s produce: {'batch_size': 12288.0, 'flow': 85, 'amount_of_time': 30, 'timestamp': 1678384091.673441, 'stop': False}"}
debug :  {"message": "Let s produce: {'batch_size': 12288.0, 'flow': 85, 'amount_of_time': 30, 'timestamp': 1678384091.673441, 'stop': False}"}
debug :  {"message": "Let s produce: {'batch_size': 12288.0, 'flow': 85, 'amount_of_time': 30, 'timestamp': 1678384091.673441, 'stop': False}"}
debug :  {"message": "Let s produce: {'batch_size': 12288.0, 'flow': 85, 'amount_of_time': 30, 'timestamp': 1678384091.673441, 'stop': False}"}
debug :  {"message": "Let s produce: {'batch_size': 12288.0, 'flow': 85, 'amount_of_time': 30, 'timestamp': 1678384091.673441, 'stop': False}"}
debug :  {"message": "Let s produce: {'batch_size': 12288.0, 'flow': 85, 'amount_of_time': 30, 'timestamp': 1678384091.673441, 'stop': False}"}
debug :  {"message": "Let s produce: {'batch_size': 12288.0, 'flow': 85, 'amount_of_time': 30, 'timestamp': 1678384091.673441, 'stop': False}"}
debug :  {"message": "Let s produce: {'batch_size': 12288.0, 'flow': 85, 'amount_of_time': 30, 'timestamp': 1678384091.673441, 'stop': False}"}
debug :  {"message": "Let s produce: {'batch_size': 12288.0, 'flow': 85, 'amount_of_time': 30, 'timestamp': 1678384091.673441, 'stop': False}"}
debug :  {"message": "Let s produce: {'batch_size': 12288.0, 'flow': 85, 'amount_of_time': 30, 'timestamp': 1678384091.673441, 'stop': False}"}
debug :  {"message": "Let s produce: {'batch_size': 12288.0, 'flow': 85, 'amount_of_time': 30, 'timestamp': 1678384091.673441, 'stop': False}"}
debug :  {"message": "Let s produce: {'batch_size': 12288.0, 'flow': 85, 'amount_of_time': 30, 'timestamp': 1678384091.673441, 'stop': False}"}
debug :  {"message": "Let s produce: {'batch_size': 12288.0, 'flow': 85, 'amount_of_time': 30, 'timestamp': 1678384091.673441, 'stop': False}"}
debug :  {"message": "Let s produce: {'batch_size': 12288.0, 'flow': 85, 'amount_of_time': 30, 'timestamp': 1678384091.673441, 'stop': False}"}
debug :  {"message": "Let s produce: {'batch_size': 12288.0, 'flow': 85, 'amount_of_time': 30, 'timestamp': 1678384091.673441, 'stop': False}"}
debug :  {"message": "Let s produce: {'batch_size': 12288.0, 'flow': 85, 'amount_of_time': 30, 'timestamp': 1678384091.673441, 'stop': False}"}
debug :  {"message": "Let s produce: {'batch_size': 12288.0, 'flow': 85, 'amount_of_time': 30, 'timestamp': 1678384091.673441, 'stop': False}"}
debug :  {"message": "Let s produce: {'batch_size': 12288.0, 'flow': 85, 'amount_of_time': 30, 'timestamp': 1678384091.673441, 'stop': False}"}
debug :  {"Received so far:": 0, "nb_consumers_producers": 32}
consumer-write0-3 20
debug :  {"consumer-write": "write data"}
debug :  {"consumer-write": "write data"}
debug :  {"message": "end topic: consumer-write6-3"}
debug :  {"consumer-write": "write data"}
manager-consumer :  193  :  {"machine_kafka": "DS2_v2", "batch_size": 12288.0, "nb_messages": 2520, "time": 0.17504823207855225}
manager-consumer :  194  :  {"machine_kafka": "DS2_v2", "batch_size": 12288.0, "nb_messages": 2520, "time": 0.17238950729370117}
manager-consumer :  195  :  {"machine_kafka": "DS2_v2", "batch_size": 12288.0, "nb_messages": 2520, "time": 0.17896819114685059}
consumer-write0-2 21
manager-consumer :  196  :  {"machine_kafka": "DS2_v2", "batch_size": 12288.0, "nb_messages": 2520, "time": 0.17089557647705078}
manager-consumer :  197  :  {"machine_kafka": "DS2_v2", "batch_size": 12288.0, "nb_messages": 2520, "time": 0.1852710247039795}
manager-consumer :  198  :  {"machine_kafka": "DS2_v2", "batch_size": 12288.0, "nb_messages": 2520, "time": 0.18197762966156006}
debug :  {"message": "end topic: consumer-write0-3"}
debug :  {"consumer-write": "write data"}
debug :  {"consumer-write": "write data"}
debug :  {"consumer-write": "write data"}
debug :  {"message": "end topic: consumer-write0-2"}
manager-consumer :  199  :  {"machine_kafka": "DS2_v2", "batch_size": 12288.0, "nb_messages": 2520, "time": 0.18913543224334717}
manager-consumer :  200  :  {"machine_kafka": "DS2_v2", "batch_size": 12288.0, "nb_messages": 2520, "time": 0.17926335334777832}
manager-consumer :  201  :  {"machine_kafka": "DS2_v2", "batch_size": 12288.0, "nb_messages": 2520, "time": 0.1911005973815918}
debug :  {"message": "end topic: consumer-write3-2"}
debug :  {"message": "end topic: consumer-write5-0"}
debug :  {"consumer-write": "write data"}
debug :  {"message": "end topic: consumer-write1-1"}
debug :  {"consumer-write": "write data"}
debug :  {"consumer-write": "write data"}
debug :  {"consumer-write": "write data"}
debug :  {"consumer-write": "write data"}
manager-consumer :  202  :  {"machine_kafka": "DS2_v2", "batch_size": 12288.0, "nb_messages": 2520, "time": 0.16544771194458008}
manager-consumer :  203  :  {"machine_kafka": "DS2_v2", "batch_size": 12288.0, "nb_messages": 2520, "time": 0.18223881721496582}
manager-consumer :  204  :  {"machine_kafka": "DS2_v2", "batch_size": 12288.0, "nb_messages": 2520, "time": 0.19203710556030273}
manager-consumer :  205  :  {"machine_kafka": "DS2_v2", "batch_size": 12288.0, "nb_messages": 2520, "time": 0.1807239055633545}
manager-consumer :  206  :  {"machine_kafka": "DS2_v2", "batch_size": 12288.0, "nb_messages": 2520, "time": 0.17094004154205322}
manager-consumer :  207  :  {"machine_kafka": "DS2_v2", "batch_size": 12288.0, "nb_messages": 2520, "time": 0.16695129871368408}
manager-consumer :  208  :  {"machine_kafka": "DS2_v2", "batch_size": 12288.0, "nb_messages": 2520, "time": 0.19162118434906006}
manager-consumer :  209  :  {"machine_kafka": "DS2_v2", "batch_size": 12288.0, "nb_messages": 2520, "time": 0.1741114854812622}
manager-consumer :  210  :  {"machine_kafka": "DS2_v2", "batch_size": 12288.0, "nb_messages": 2520, "time": 0.17351758480072021}
consumer-write0-1 :  22
consumer-write0-0 :  23
debug :  {"consumer-write": "write data"}
debug :  {"consumer-write": "write data"}
debug :  {"consumer-write": "write data"}
debug :  {"message": "end topic: consumer-write7-2"}
debug :  {"message": "end topic: consumer-write7-0"}
debug :  {"message": "end topic: consumer-write2-3"}
debug :  {"Received so far:": 1, "nb_consumers_producers": 32}
debug :  {"message": "end topic: consumer-write3-1"}
debug :  {"message": "end topic: consumer-write5-1"}
debug :  {"message": "end topic: consumer-write6-2"}
debug :  {"message": "end topic: consumer-write2-0"}
debug :  {"consumer-write": "write data"}
debug :  {"consumer-write": "write data"}
debug :  {"consumer-write": "write data"}
debug :  {"consumer-write": "write data"}
debug :  {"consumer-write": "write data"}
manager-consumer :  211  :  {"machine_kafka": "DS2_v2", "batch_size": 12288.0, "nb_messages": 2520, "time": 0.17110884189605713}
manager-consumer :  212  :  {"machine_kafka": "DS2_v2", "batch_size": 12288.0, "nb_messages": 2520, "time": 0.16922199726104736}
manager-consumer :  213  :  {"machine_kafka": "DS2_v2", "batch_size": 12288.0, "nb_messages": 2520, "time": 0.17264723777770996}
manager-consumer :  214  :  {"machine_kafka": "DS2_v2", "batch_size": 12288.0, "nb_messages": 2520, "time": 0.18553555011749268}
manager-consumer :  215  :  {"machine_kafka": "DS2_v2", "batch_size": 12288.0, "nb_messages": 2520, "time": 0.17995822429656982}
manager-consumer :  216  :  {"machine_kafka": "DS2_v2", "batch_size": 12288.0, "nb_messages": 2520, "time": 0.18342196941375732}
manager-consumer :  217  :  {"machine_kafka": "DS2_v2", "batch_size": 12288.0, "nb_messages": 2520, "time": 0.16909575462341309}
manager-consumer :  218  :  {"machine_kafka": "DS2_v2", "batch_size": 12288.0, "nb_messages": 2520, "time": 0.22017431259155273}
manager-consumer :  219  :  {"machine_kafka": "DS2_v2", "batch_size": 12288.0, "nb_messages": 2520, "time": 0.19437706470489502}
debug :  {"message": "end topic: consumer-write7-3"}
debug :  {"consumer-write": "write data"}
debug :  {"consumer-write": "write data"}
debug :  {"message": "end topic: consumer-write7-1"}
debug :  {"consumer-write": "write data"}
debug :  {"consumer-write": "write data"}
debug :  {"message": "end topic: consumer-write6-1"}
debug :  {"consumer-write": "write data"}
debug :  {"message": "end topic: consumer-write5-2"}
debug :  {"consumer-write": "write data"}
debug :  {"message": "end topic: consumer-write5-3"}
debug :  {"message": "end topic: consumer-write0-0"}
debug :  {"consumer-write": "write data"}
debug :  {"message": "end topic: consumer-write1-3"}
debug :  {"consumer-write": "write data"}
debug :  {"message": "end topic: consumer-write4-2"}
debug :  {"message": "end topic: consumer-write0-1"}
debug :  {"message": "end topic: consumer-write6-0"}
debug :  {"message": "end topic: consumer-write2-2"}
debug :  {"message": "end topic: consumer-write2-1"}
debug :  {"message": "end topic: consumer-write4-0"}
debug :  {"consumer-write": "write data"}
debug :  {"message": "end topic: consumer-write3-3"}
manager-consumer :  220  :  {"machine_kafka": "DS2_v2", "batch_size": 12288.0, "nb_messages": 2520, "time": 0.18599557876586914}
manager-consumer :  221  :  {"machine_kafka": "DS2_v2", "batch_size": 12288.0, "nb_messages": 2520, "time": 0.18087029457092285}
debug :  {"message": "end topic: consumer-write1-0"}
debug :  {"consumer-write": "write data"}
debug :  {"consumer-write": "write data"}
debug :  {"Received so far:": 2, "nb_consumers_producers": 32}
debug :  {"consumer-write": "write data"}
debug :  {"message": "end topic: consumer-write1-2"}
manager-consumer :  222  :  {"machine_kafka": "DS2_v2", "batch_size": 12288.0, "nb_messages": 2520, "time": 0.16675353050231934}
manager-consumer :  223  :  {"machine_kafka": "DS2_v2", "batch_size": 12288.0, "nb_messages": 2520, "time": 0.21487891674041748}
debug :  {"message": "end topic: consumer-write3-0"}
debug :  {"message": "end topic: consumer-write4-1"}
debug :  {"Received so far:": 3, "nb_consumers_producers": 32}
debug :  {"consumer-write": "write data"}
manager-consumer :  224  :  {"machine_kafka": "DS2_v2", "batch_size": 12288.0, "nb_messages": 2520, "time": 0.17567884922027588}
debug :  {"message": "end topic: consumer-write4-3"}
debug :  {"Received so far:": 4, "nb_consumers_producers": 32}
debug :  {"Received so far:": 5, "nb_consumers_producers": 32}
debug :  {"Received so far:": 6, "nb_consumers_producers": 32}
debug :  {"Received so far:": 7, "nb_consumers_producers": 32}
debug :  {"Received so far:": 8, "nb_consumers_producers": 32}
debug :  {"Received so far:": 9, "nb_consumers_producers": 32}
debug :  {"Received so far:": 10, "nb_consumers_producers": 32}
debug :  {"Received so far:": 11, "nb_consumers_producers": 32}
debug :  {"Received so far:": 12, "nb_consumers_producers": 32}
debug :  {"Received so far:": 13, "nb_consumers_producers": 32}
debug :  {"Received so far:": 14, "nb_consumers_producers": 32}
debug :  {"Received so far:": 15, "nb_consumers_producers": 32}
debug :  {"Received so far:": 16, "nb_consumers_producers": 32}
debug :  {"Received so far:": 17, "nb_consumers_producers": 32}
debug :  {"Received so far:": 18, "nb_consumers_producers": 32}
debug :  {"Received so far:": 19, "nb_consumers_producers": 32}
debug :  {"Received so far:": 20, "nb_consumers_producers": 32}
debug :  {"Received so far:": 21, "nb_consumers_producers": 32}
debug :  {"Received so far:": 22, "nb_consumers_producers": 32}
debug :  {"Received so far:": 23, "nb_consumers_producers": 32}
debug :  {"Received so far:": 24, "nb_consumers_producers": 32}
debug :  {"Received so far:": 25, "nb_consumers_producers": 32}
debug :  {"Received so far:": 26, "nb_consumers_producers": 32}
debug :  {"Received so far:": 27, "nb_consumers_producers": 32}
debug :  {"Received so far:": 28, "nb_consumers_producers": 32}
debug :  {"Received so far:": 29, "nb_consumers_producers": 32}
debug :  {"Received so far:": 30, "nb_consumers_producers": 32}
debug :  {"Received so far:": 31, "nb_consumers_producers": 32}
manager-producer :  {"batch_size": 12288.0, "flow": 101, "amount_of_time": 30, "timestamp": 1678384132.9378552, "stop": false}
debug :  {"message": "Let s produce: {'batch_size': 12288.0, 'flow': 101, 'amount_of_time': 30, 'timestamp': 1678384132.9378552, 'stop': False}"}
debug :  {"message": "Let s produce: {'batch_size': 12288.0, 'flow': 101, 'amount_of_time': 30, 'timestamp': 1678384132.9378552, 'stop': False}"}
debug :  {"message": "Let s produce: {'batch_size': 12288.0, 'flow': 101, 'amount_of_time': 30, 'timestamp': 1678384132.9378552, 'stop': False}"}
debug :  {"message": "Let s produce: {'batch_size': 12288.0, 'flow': 101, 'amount_of_time': 30, 'timestamp': 1678384132.9378552, 'stop': False}"}
debug :  {"message": "Let s produce: {'batch_size': 12288.0, 'flow': 101, 'amount_of_time': 30, 'timestamp': 1678384132.9378552, 'stop': False}"}
debug :  {"message": "Let s produce: {'batch_size': 12288.0, 'flow': 101, 'amount_of_time': 30, 'timestamp': 1678384132.9378552, 'stop': False}"}
debug :  {"message": "Let s produce: {'batch_size': 12288.0, 'flow': 101, 'amount_of_time': 30, 'timestamp': 1678384132.9378552, 'stop': False}"}
debug :  {"message": "Let s produce: {'batch_size': 12288.0, 'flow': 101, 'amount_of_time': 30, 'timestamp': 1678384132.9378552, 'stop': False}"}
debug :  {"message": "Let s produce: {'batch_size': 12288.0, 'flow': 101, 'amount_of_time': 30, 'timestamp': 1678384132.9378552, 'stop': False}"}
debug :  {"message": "Let s produce: {'batch_size': 12288.0, 'flow': 101, 'amount_of_time': 30, 'timestamp': 1678384132.9378552, 'stop': False}"}
debug :  {"message": "Let s produce: {'batch_size': 12288.0, 'flow': 101, 'amount_of_time': 30, 'timestamp': 1678384132.9378552, 'stop': False}"}
debug :  {"message": "Let s produce: {'batch_size': 12288.0, 'flow': 101, 'amount_of_time': 30, 'timestamp': 1678384132.9378552, 'stop': False}"}
debug :  {"message": "Let s produce: {'batch_size': 12288.0, 'flow': 101, 'amount_of_time': 30, 'timestamp': 1678384132.9378552, 'stop': False}"}
debug :  {"message": "Let s produce: {'batch_size': 12288.0, 'flow': 101, 'amount_of_time': 30, 'timestamp': 1678384132.9378552, 'stop': False}"}
debug :  {"message": "Let s produce: {'batch_size': 12288.0, 'flow': 101, 'amount_of_time': 30, 'timestamp': 1678384132.9378552, 'stop': False}"}
debug :  {"message": "Let s produce: {'batch_size': 12288.0, 'flow': 101, 'amount_of_time': 30, 'timestamp': 1678384132.9378552, 'stop': False}"}
debug :  {"message": "Let s produce: {'batch_size': 12288.0, 'flow': 101, 'amount_of_time': 30, 'timestamp': 1678384132.9378552, 'stop': False}"}
debug :  {"message": "Let s produce: {'batch_size': 12288.0, 'flow': 101, 'amount_of_time': 30, 'timestamp': 1678384132.9378552, 'stop': False}"}
debug :  {"message": "Let s produce: {'batch_size': 12288.0, 'flow': 101, 'amount_of_time': 30, 'timestamp': 1678384132.9378552, 'stop': False}"}
debug :  {"message": "Let s produce: {'batch_size': 12288.0, 'flow': 101, 'amount_of_time': 30, 'timestamp': 1678384132.9378552, 'stop': False}"}
debug :  {"message": "Let s produce: {'batch_size': 12288.0, 'flow': 101, 'amount_of_time': 30, 'timestamp': 1678384132.9378552, 'stop': False}"}
debug :  {"message": "Let s produce: {'batch_size': 12288.0, 'flow': 101, 'amount_of_time': 30, 'timestamp': 1678384132.9378552, 'stop': False}"}
debug :  {"message": "Let s produce: {'batch_size': 12288.0, 'flow': 101, 'amount_of_time': 30, 'timestamp': 1678384132.9378552, 'stop': False}"}
debug :  {"message": "Let s produce: {'batch_size': 12288.0, 'flow': 101, 'amount_of_time': 30, 'timestamp': 1678384132.9378552, 'stop': False}"}
debug :  {"message": "Let s produce: {'batch_size': 12288.0, 'flow': 101, 'amount_of_time': 30, 'timestamp': 1678384132.9378552, 'stop': False}"}
debug :  {"message": "Let s produce: {'batch_size': 12288.0, 'flow': 101, 'amount_of_time': 30, 'timestamp': 1678384132.9378552, 'stop': False}"}
debug :  {"message": "Let s produce: {'batch_size': 12288.0, 'flow': 101, 'amount_of_time': 30, 'timestamp': 1678384132.9378552, 'stop': False}"}
debug :  {"message": "Let s produce: {'batch_size': 12288.0, 'flow': 101, 'amount_of_time': 30, 'timestamp': 1678384132.9378552, 'stop': False}"}
debug :  {"message": "Let s produce: {'batch_size': 12288.0, 'flow': 101, 'amount_of_time': 30, 'timestamp': 1678384132.9378552, 'stop': False}"}
debug :  {"message": "Let s produce: {'batch_size': 12288.0, 'flow': 101, 'amount_of_time': 30, 'timestamp': 1678384132.9378552, 'stop': False}"}
debug :  {"message": "Let s produce: {'batch_size': 12288.0, 'flow': 101, 'amount_of_time': 30, 'timestamp': 1678384132.9378552, 'stop': False}"}
debug :  {"message": "Let s produce: {'batch_size': 12288.0, 'flow': 101, 'amount_of_time': 30, 'timestamp': 1678384132.9378552, 'stop': False}"}
debug :  {"Received so far:": 0, "nb_consumers_producers": 32}
debug :  {"consumer-write": "write data"}
debug :  {"message": "end topic: consumer-write6-3"}
debug :  {"consumer-write": "write data"}
consumer-write0-3 24
manager-consumer :  225  :  {"machine_kafka": "DS2_v2", "batch_size": 12288.0, "nb_messages": 3000, "time": 0.19177794456481934}
manager-consumer :  226  :  {"machine_kafka": "DS2_v2", "batch_size": 12288.0, "nb_messages": 3000, "time": 0.18445062637329102}
consumer-write0-2 25
debug :  {"consumer-write": "write data"}
debug :  {"consumer-write": "write data"}
debug :  {"message": "end topic: consumer-write0-3"}
debug :  {"consumer-write": "write data"}
debug :  {"consumer-write": "write data"}
debug :  {"message": "end topic: consumer-write0-2"}
debug :  {"message": "end topic: consumer-write5-0"}
debug :  {"message": "end topic: consumer-write3-2"}
debug :  {"message": "end topic: consumer-write1-1"}
debug :  {"consumer-write": "write data"}
manager-consumer :  227  :  {"machine_kafka": "DS2_v2", "batch_size": 12288.0, "nb_messages": 3000, "time": 0.19102299213409424}
manager-consumer :  228  :  {"machine_kafka": "DS2_v2", "batch_size": 12288.0, "nb_messages": 3000, "time": 0.19212400913238525}
manager-consumer :  229  :  {"machine_kafka": "DS2_v2", "batch_size": 12288.0, "nb_messages": 3000, "time": 0.1777489185333252}
manager-consumer :  230  :  {"machine_kafka": "DS2_v2", "batch_size": 12288.0, "nb_messages": 3000, "time": 0.20060515403747559}
manager-consumer :  231  :  {"machine_kafka": "DS2_v2", "batch_size": 12288.0, "nb_messages": 3000, "time": 0.2045835256576538}
manager-consumer :  232  :  {"machine_kafka": "DS2_v2", "batch_size": 12288.0, "nb_messages": 3000, "time": 0.2039097547531128}
manager-consumer :  233  :  {"machine_kafka": "DS2_v2", "batch_size": 12288.0, "nb_messages": 3000, "time": 0.20169389247894287}
manager-consumer :  234  :  {"machine_kafka": "DS2_v2", "batch_size": 12288.0, "nb_messages": 3000, "time": 0.1959836483001709}
manager-consumer :  235  :  {"machine_kafka": "DS2_v2", "batch_size": 12288.0, "nb_messages": 3000, "time": 0.19268512725830078}
manager-consumer :  236  :  {"machine_kafka": "DS2_v2", "batch_size": 12288.0, "nb_messages": 3000, "time": 0.178849458694458}
manager-consumer :  237  :  {"machine_kafka": "DS2_v2", "batch_size": 12288.0, "nb_messages": 3000, "time": 0.20975637435913086}
manager-consumer :  238  :  {"machine_kafka": "DS2_v2", "batch_size": 12288.0, "nb_messages": 3000, "time": 0.20177686214447021}
debug :  {"consumer-write": "write data"}
debug :  {"consumer-write": "write data"}
debug :  {"consumer-write": "write data"}
debug :  {"Received so far:": 1, "nb_consumers_producers": 32}
debug :  {"consumer-write": "write data"}
debug :  {"message": "end topic: consumer-write7-2"}
debug :  {"consumer-write": "write data"}
debug :  {"consumer-write": "write data"}
debug :  {"consumer-write": "write data"}
consumer-write0-0 :  26
debug :  {"message": "end topic: consumer-write2-0"}
debug :  {"message": "end topic: consumer-write2-3"}
debug :  {"message": "end topic: consumer-write7-0"}
debug :  {"consumer-write": "write data"}
debug :  {"message": "end topic: consumer-write7-3"}
debug :  {"consumer-write": "write data"}
debug :  {"consumer-write": "write data"}
debug :  {"consumer-write": "write data"}
debug :  {"consumer-write": "write data"}
debug :  {"consumer-write": "write data"}
debug :  {"message": "end topic: consumer-write6-2"}
debug :  {"message": "end topic: consumer-write5-1"}
debug :  {"consumer-write": "write data"}
debug :  {"message": "end topic: consumer-write3-1"}
debug :  {"consumer-write": "write data"}
manager-consumer :  239  :  {"machine_kafka": "DS2_v2", "batch_size": 12288.0, "nb_messages": 3000, "time": 0.17554700374603271}
manager-consumer :  240  :  {"machine_kafka": "DS2_v2", "batch_size": 12288.0, "nb_messages": 3000, "time": 0.19345545768737793}
manager-consumer :  241  :  {"machine_kafka": "DS2_v2", "batch_size": 12288.0, "nb_messages": 3000, "time": 0.19411814212799072}
manager-consumer :  242  :  {"machine_kafka": "DS2_v2", "batch_size": 12288.0, "nb_messages": 3000, "time": 0.18976664543151855}
manager-consumer :  243  :  {"machine_kafka": "DS2_v2", "batch_size": 12288.0, "nb_messages": 3000, "time": 0.19117820262908936}
manager-consumer :  244  :  {"machine_kafka": "DS2_v2", "batch_size": 12288.0, "nb_messages": 3000, "time": 0.21120214462280273}
manager-consumer :  245  :  {"machine_kafka": "DS2_v2", "batch_size": 12288.0, "nb_messages": 3000, "time": 0.18923020362854004}
manager-consumer :  246  :  {"machine_kafka": "DS2_v2", "batch_size": 12288.0, "nb_messages": 3000, "time": 0.2266010046005249}
consumer-write0-1 :  27
debug :  {"consumer-write": "write data"}
debug :  {"message": "end topic: consumer-write7-1"}
debug :  {"message": "end topic: consumer-write6-1"}
debug :  {"message": "end topic: consumer-write1-3"}
debug :  {"consumer-write": "write data"}
debug :  {"message": "end topic: consumer-write5-2"}
debug :  {"consumer-write": "write data"}
debug :  {"message": "end topic: consumer-write5-3"}
debug :  {"message": "end topic: consumer-write0-0"}
debug :  {"message": "end topic: consumer-write4-2"}
debug :  {"message": "end topic: consumer-write2-1"}
debug :  {"consumer-write": "write data"}
debug :  {"message": "end topic: consumer-write4-0"}
manager-consumer :  247  :  {"machine_kafka": "DS2_v2", "batch_size": 12288.0, "nb_messages": 3000, "time": 0.20410192012786865}
manager-consumer :  248  :  {"machine_kafka": "DS2_v2", "batch_size": 12288.0, "nb_messages": 3000, "time": 0.2014017105102539}
manager-consumer :  249  :  {"machine_kafka": "DS2_v2", "batch_size": 12288.0, "nb_messages": 3000, "time": 0.19758141040802002}
manager-consumer :  250  :  {"machine_kafka": "DS2_v2", "batch_size": 12288.0, "nb_messages": 3000, "time": 0.18373048305511475}
manager-consumer :  251  :  {"machine_kafka": "DS2_v2", "batch_size": 12288.0, "nb_messages": 3000, "time": 0.21299004554748535}
manager-consumer :  252  :  {"machine_kafka": "DS2_v2", "batch_size": 12288.0, "nb_messages": 3000, "time": 0.20216810703277588}
debug :  {"message": "end topic: consumer-write0-1"}
debug :  {"message": "end topic: consumer-write2-2"}
debug :  {"consumer-write": "write data"}
debug :  {"consumer-write": "write data"}
debug :  {"message": "end topic: consumer-write6-0"}
debug :  {"message": "end topic: consumer-write3-3"}
manager-consumer :  253  :  {"machine_kafka": "DS2_v2", "batch_size": 12288.0, "nb_messages": 3000, "time": 0.1959700584411621}
debug :  {"message": "end topic: consumer-write1-0"}
debug :  {"Received so far:": 2, "nb_consumers_producers": 32}
debug :  {"consumer-write": "write data"}
debug :  {"consumer-write": "write data"}
debug :  {"message": "end topic: consumer-write1-2"}
manager-consumer :  254  :  {"machine_kafka": "DS2_v2", "batch_size": 12288.0, "nb_messages": 3000, "time": 0.18470311164855957}
debug :  {"consumer-write": "write data"}
debug :  {"message": "end topic: consumer-write3-0"}
manager-consumer :  255  :  {"machine_kafka": "DS2_v2", "batch_size": 12288.0, "nb_messages": 3000, "time": 0.22858679294586182}
debug :  {"message": "end topic: consumer-write4-1"}
debug :  {"Received so far:": 3, "nb_consumers_producers": 32}
debug :  {"consumer-write": "write data"}
debug :  {"Received so far:": 4, "nb_consumers_producers": 32}
debug :  {"message": "end topic: consumer-write4-3"}
manager-consumer :  256  :  {"machine_kafka": "DS2_v2", "batch_size": 12288.0, "nb_messages": 3000, "time": 0.19447660446166992}
debug :  {"Received so far:": 5, "nb_consumers_producers": 32}
debug :  {"Received so far:": 6, "nb_consumers_producers": 32}
debug :  {"Received so far:": 7, "nb_consumers_producers": 32}
debug :  {"Received so far:": 8, "nb_consumers_producers": 32}
debug :  {"Received so far:": 9, "nb_consumers_producers": 32}
debug :  {"Received so far:": 10, "nb_consumers_producers": 32}
debug :  {"Received so far:": 11, "nb_consumers_producers": 32}
debug :  {"Received so far:": 12, "nb_consumers_producers": 32}
debug :  {"Received so far:": 13, "nb_consumers_producers": 32}
debug :  {"Received so far:": 14, "nb_consumers_producers": 32}
debug :  {"Received so far:": 15, "nb_consumers_producers": 32}
debug :  {"Received so far:": 16, "nb_consumers_producers": 32}
debug :  {"Received so far:": 17, "nb_consumers_producers": 32}
debug :  {"Received so far:": 18, "nb_consumers_producers": 32}
debug :  {"Received so far:": 19, "nb_consumers_producers": 32}
debug :  {"Received so far:": 20, "nb_consumers_producers": 32}
debug :  {"Received so far:": 21, "nb_consumers_producers": 32}
debug :  {"Received so far:": 22, "nb_consumers_producers": 32}
debug :  {"Received so far:": 23, "nb_consumers_producers": 32}
debug :  {"Received so far:": 24, "nb_consumers_producers": 32}
debug :  {"Received so far:": 25, "nb_consumers_producers": 32}
debug :  {"Received so far:": 26, "nb_consumers_producers": 32}
debug :  {"Received so far:": 27, "nb_consumers_producers": 32}
debug :  {"Received so far:": 28, "nb_consumers_producers": 32}
debug :  {"Received so far:": 29, "nb_consumers_producers": 32}
debug :  {"Received so far:": 30, "nb_consumers_producers": 32}
debug :  {"Received so far:": 31, "nb_consumers_producers": 32}
manager-producer :  {"batch_size": 12288.0, "flow": 117, "amount_of_time": 30, "timestamp": 1678384174.6226923, "stop": false}
debug :  {"message": "Let s produce: {'batch_size': 12288.0, 'flow': 117, 'amount_of_time': 30, 'timestamp': 1678384174.6226923, 'stop': False}"}
debug :  {"message": "Let s produce: {'batch_size': 12288.0, 'flow': 117, 'amount_of_time': 30, 'timestamp': 1678384174.6226923, 'stop': False}"}
debug :  {"message": "Let s produce: {'batch_size': 12288.0, 'flow': 117, 'amount_of_time': 30, 'timestamp': 1678384174.6226923, 'stop': False}"}
debug :  {"message": "Let s produce: {'batch_size': 12288.0, 'flow': 117, 'amount_of_time': 30, 'timestamp': 1678384174.6226923, 'stop': False}"}
debug :  {"message": "Let s produce: {'batch_size': 12288.0, 'flow': 117, 'amount_of_time': 30, 'timestamp': 1678384174.6226923, 'stop': False}"}
debug :  {"message": "Let s produce: {'batch_size': 12288.0, 'flow': 117, 'amount_of_time': 30, 'timestamp': 1678384174.6226923, 'stop': False}"}
debug :  {"message": "Let s produce: {'batch_size': 12288.0, 'flow': 117, 'amount_of_time': 30, 'timestamp': 1678384174.6226923, 'stop': False}"}
debug :  {"message": "Let s produce: {'batch_size': 12288.0, 'flow': 117, 'amount_of_time': 30, 'timestamp': 1678384174.6226923, 'stop': False}"}
debug :  {"message": "Let s produce: {'batch_size': 12288.0, 'flow': 117, 'amount_of_time': 30, 'timestamp': 1678384174.6226923, 'stop': False}"}
debug :  {"message": "Let s produce: {'batch_size': 12288.0, 'flow': 117, 'amount_of_time': 30, 'timestamp': 1678384174.6226923, 'stop': False}"}
debug :  {"message": "Let s produce: {'batch_size': 12288.0, 'flow': 117, 'amount_of_time': 30, 'timestamp': 1678384174.6226923, 'stop': False}"}
debug :  {"message": "Let s produce: {'batch_size': 12288.0, 'flow': 117, 'amount_of_time': 30, 'timestamp': 1678384174.6226923, 'stop': False}"}
debug :  {"message": "Let s produce: {'batch_size': 12288.0, 'flow': 117, 'amount_of_time': 30, 'timestamp': 1678384174.6226923, 'stop': False}"}
debug :  {"message": "Let s produce: {'batch_size': 12288.0, 'flow': 117, 'amount_of_time': 30, 'timestamp': 1678384174.6226923, 'stop': False}"}
debug :  {"message": "Let s produce: {'batch_size': 12288.0, 'flow': 117, 'amount_of_time': 30, 'timestamp': 1678384174.6226923, 'stop': False}"}
debug :  {"message": "Let s produce: {'batch_size': 12288.0, 'flow': 117, 'amount_of_time': 30, 'timestamp': 1678384174.6226923, 'stop': False}"}
debug :  {"message": "Let s produce: {'batch_size': 12288.0, 'flow': 117, 'amount_of_time': 30, 'timestamp': 1678384174.6226923, 'stop': False}"}
debug :  {"message": "Let s produce: {'batch_size': 12288.0, 'flow': 117, 'amount_of_time': 30, 'timestamp': 1678384174.6226923, 'stop': False}"}
debug :  {"message": "Let s produce: {'batch_size': 12288.0, 'flow': 117, 'amount_of_time': 30, 'timestamp': 1678384174.6226923, 'stop': False}"}
debug :  {"message": "Let s produce: {'batch_size': 12288.0, 'flow': 117, 'amount_of_time': 30, 'timestamp': 1678384174.6226923, 'stop': False}"}
debug :  {"message": "Let s produce: {'batch_size': 12288.0, 'flow': 117, 'amount_of_time': 30, 'timestamp': 1678384174.6226923, 'stop': False}"}
debug :  {"message": "Let s produce: {'batch_size': 12288.0, 'flow': 117, 'amount_of_time': 30, 'timestamp': 1678384174.6226923, 'stop': False}"}
debug :  {"message": "Let s produce: {'batch_size': 12288.0, 'flow': 117, 'amount_of_time': 30, 'timestamp': 1678384174.6226923, 'stop': False}"}
debug :  {"message": "Let s produce: {'batch_size': 12288.0, 'flow': 117, 'amount_of_time': 30, 'timestamp': 1678384174.6226923, 'stop': False}"}
debug :  {"message": "Let s produce: {'batch_size': 12288.0, 'flow': 117, 'amount_of_time': 30, 'timestamp': 1678384174.6226923, 'stop': False}"}
debug :  {"message": "Let s produce: {'batch_size': 12288.0, 'flow': 117, 'amount_of_time': 30, 'timestamp': 1678384174.6226923, 'stop': False}"}
debug :  {"message": "Let s produce: {'batch_size': 12288.0, 'flow': 117, 'amount_of_time': 30, 'timestamp': 1678384174.6226923, 'stop': False}"}
debug :  {"message": "Let s produce: {'batch_size': 12288.0, 'flow': 117, 'amount_of_time': 30, 'timestamp': 1678384174.6226923, 'stop': False}"}
debug :  {"message": "Let s produce: {'batch_size': 12288.0, 'flow': 117, 'amount_of_time': 30, 'timestamp': 1678384174.6226923, 'stop': False}"}
debug :  {"message": "Let s produce: {'batch_size': 12288.0, 'flow': 117, 'amount_of_time': 30, 'timestamp': 1678384174.6226923, 'stop': False}"}
debug :  {"message": "Let s produce: {'batch_size': 12288.0, 'flow': 117, 'amount_of_time': 30, 'timestamp': 1678384174.6226923, 'stop': False}"}
debug :  {"message": "Let s produce: {'batch_size': 12288.0, 'flow': 117, 'amount_of_time': 30, 'timestamp': 1678384174.6226923, 'stop': False}"}
debug :  {"Received so far:": 0, "nb_consumers_producers": 32}
consumer-write0-3 28
manager-consumer :  257  :  {"machine_kafka": "DS2_v2", "batch_size": 12288.0, "nb_messages": 3480, "time": 0.20415115356445312}
manager-consumer :  258  :  {"machine_kafka": "DS2_v2", "batch_size": 12288.0, "nb_messages": 3480, "time": 0.20624268054962158}
consumer-write0-2 29
debug :  {"consumer-write": "write data"}
debug :  {"consumer-write": "write data"}
debug :  {"consumer-write": "write data"}
debug :  {"message": "end topic: consumer-write0-3"}
debug :  {"message": "end topic: consumer-write0-2"}
debug :  {"consumer-write": "write data"}
debug :  {"message": "end topic: consumer-write6-3"}
debug :  {"message": "end topic: consumer-write3-2"}
manager-consumer :  259  :  {"machine_kafka": "DS2_v2", "batch_size": 12288.0, "nb_messages": 3480, "time": 0.2110133171081543}
manager-consumer :  260  :  {"machine_kafka": "DS2_v2", "batch_size": 12288.0, "nb_messages": 3480, "time": 0.1971428394317627}
manager-consumer :  261  :  {"machine_kafka": "DS2_v2", "batch_size": 12288.0, "nb_messages": 3480, "time": 0.20761728286743164}
manager-consumer :  262  :  {"machine_kafka": "DS2_v2", "batch_size": 12288.0, "nb_messages": 3480, "time": 0.21882569789886475}
manager-consumer :  263  :  {"machine_kafka": "DS2_v2", "batch_size": 12288.0, "nb_messages": 3480, "time": 0.21925592422485352}
debug :  {"consumer-write": "write data"}
debug :  {"consumer-write": "write data"}
debug :  {"consumer-write": "write data"}
debug :  {"Received so far:": 1, "nb_consumers_producers": 32}
debug :  {"message": "end topic: consumer-write5-0"}
debug :  {"message": "end topic: consumer-write1-1"}
debug :  {"message": "end topic: consumer-write3-1"}
debug :  {"consumer-write": "write data"}
manager-consumer :  264  :  {"machine_kafka": "DS2_v2", "batch_size": 12288.0, "nb_messages": 3480, "time": 0.20212268829345703}
consumer-write0-0 :  30
manager-consumer :  265  :  {"machine_kafka": "DS2_v2", "batch_size": 12288.0, "nb_messages": 3480, "time": 0.2088325023651123}
manager-consumer :  266  :  {"machine_kafka": "DS2_v2", "batch_size": 12288.0, "nb_messages": 3480, "time": 0.22298407554626465}
manager-consumer :  267  :  {"machine_kafka": "DS2_v2", "batch_size": 12288.0, "nb_messages": 3480, "time": 0.2195984125137329}
manager-consumer :  268  :  {"machine_kafka": "DS2_v2", "batch_size": 12288.0, "nb_messages": 3480, "time": 0.23671245574951172}
manager-consumer :  269  :  {"machine_kafka": "DS2_v2", "batch_size": 12288.0, "nb_messages": 3480, "time": 0.20404720306396484}
manager-consumer :  270  :  {"machine_kafka": "DS2_v2", "batch_size": 12288.0, "nb_messages": 3480, "time": 0.22207415103912354}
manager-consumer :  271  :  {"machine_kafka": "DS2_v2", "batch_size": 12288.0, "nb_messages": 3480, "time": 0.19017398357391357}
manager-consumer :  272  :  {"machine_kafka": "DS2_v2", "batch_size": 12288.0, "nb_messages": 3480, "time": 0.19786560535430908}
manager-consumer :  273  :  {"machine_kafka": "DS2_v2", "batch_size": 12288.0, "nb_messages": 3480, "time": 0.20987987518310547}
manager-consumer :  274  :  {"machine_kafka": "DS2_v2", "batch_size": 12288.0, "nb_messages": 3480, "time": 0.1907118558883667}
manager-consumer :  275  :  {"machine_kafka": "DS2_v2", "batch_size": 12288.0, "nb_messages": 3480, "time": 0.23050057888031006}
manager-consumer :  276  :  {"machine_kafka": "DS2_v2", "batch_size": 12288.0, "nb_messages": 3480, "time": 0.2273777723312378}
debug :  {"consumer-write": "write data"}
debug :  {"consumer-write": "write data"}
debug :  {"consumer-write": "write data"}
debug :  {"consumer-write": "write data"}
debug :  {"message": "end topic: consumer-write4-2"}
debug :  {"consumer-write": "write data"}
debug :  {"consumer-write": "write data"}
debug :  {"consumer-write": "write data"}
debug :  {"message": "end topic: consumer-write7-3"}
debug :  {"message": "end topic: consumer-write7-2"}
debug :  {"message": "end topic: consumer-write2-0"}
debug :  {"message": "end topic: consumer-write4-0"}
debug :  {"consumer-write": "write data"}
debug :  {"consumer-write": "write data"}
debug :  {"consumer-write": "write data"}
debug :  {"consumer-write": "write data"}
debug :  {"message": "end topic: consumer-write7-0"}
debug :  {"message": "end topic: consumer-write2-3"}
debug :  {"consumer-write": "write data"}
consumer-write0-1 :  31
debug :  {"message": "end topic: consumer-write6-2"}
debug :  {"consumer-write": "write data"}
debug :  {"message": "end topic: consumer-write1-3"}
debug :  {"message": "end topic: consumer-write6-0"}
debug :  {"message": "end topic: consumer-write7-1"}
debug :  {"message": "end topic: consumer-write5-1"}
debug :  {"consumer-write": "write data"}
debug :  {"consumer-write": "write data"}
debug :  {"consumer-write": "write data"}
debug :  {"message": "end topic: consumer-write6-1"}
debug :  {"consumer-write": "write data"}
debug :  {"message": "end topic: consumer-write3-3"}
debug :  {"consumer-write": "write data"}
debug :  {"message": "end topic: consumer-write5-2"}
debug :  {"message": "end topic: consumer-write0-0"}
debug :  {"message": "end topic: consumer-write2-1"}
debug :  {"message": "end topic: consumer-write5-3"}
debug :  {"consumer-write": "write data"}
debug :  {"message": "end topic: consumer-write2-2"}
manager-consumer :  277  :  {"machine_kafka": "DS2_v2", "batch_size": 12288.0, "nb_messages": 3480, "time": 0.20829832553863525}
manager-consumer :  278  :  {"machine_kafka": "DS2_v2", "batch_size": 12288.0, "nb_messages": 3480, "time": 0.20914733409881592}
manager-consumer :  279  :  {"machine_kafka": "DS2_v2", "batch_size": 12288.0, "nb_messages": 3480, "time": 0.2061244249343872}
manager-consumer :  280  :  {"machine_kafka": "DS2_v2", "batch_size": 12288.0, "nb_messages": 3480, "time": 0.21808111667633057}
manager-consumer :  281  :  {"machine_kafka": "DS2_v2", "batch_size": 12288.0, "nb_messages": 3480, "time": 0.22560882568359375}
manager-consumer :  282  :  {"machine_kafka": "DS2_v2", "batch_size": 12288.0, "nb_messages": 3480, "time": 0.2141662836074829}
manager-consumer :  283  :  {"machine_kafka": "DS2_v2", "batch_size": 12288.0, "nb_messages": 3480, "time": 0.21233010292053223}
debug :  {"consumer-write": "write data"}
debug :  {"message": "end topic: consumer-write1-2"}
debug :  {"consumer-write": "write data"}
debug :  {"message": "end topic: consumer-write0-1"}
manager-consumer :  284  :  {"machine_kafka": "DS2_v2", "batch_size": 12288.0, "nb_messages": 3480, "time": 0.2179797887802124}
manager-consumer :  285  :  {"machine_kafka": "DS2_v2", "batch_size": 12288.0, "nb_messages": 3480, "time": 0.21006309986114502}
debug :  {"message": "end topic: consumer-write1-0"}
debug :  {"consumer-write": "write data"}
manager-consumer :  286  :  {"machine_kafka": "DS2_v2", "batch_size": 12288.0, "nb_messages": 3480, "time": 0.20128333568572998}
debug :  {"consumer-write": "write data"}
debug :  {"message": "end topic: consumer-write3-0"}
manager-consumer :  287  :  {"machine_kafka": "DS2_v2", "batch_size": 12288.0, "nb_messages": 3480, "time": 0.24340379238128662}
debug :  {"Received so far:": 2, "nb_consumers_producers": 32}
debug :  {"message": "end topic: consumer-write4-1"}
debug :  {"Received so far:": 3, "nb_consumers_producers": 32}
manager-consumer :  288  :  {"machine_kafka": "DS2_v2", "batch_size": 12288.0, "nb_messages": 3480, "time": 0.21157610416412354}
debug :  {"message": "end topic: consumer-write4-3"}
debug :  {"consumer-write": "write data"}
debug :  {"Received so far:": 4, "nb_consumers_producers": 32}
debug :  {"Received so far:": 5, "nb_consumers_producers": 32}
debug :  {"Received so far:": 6, "nb_consumers_producers": 32}
debug :  {"Received so far:": 7, "nb_consumers_producers": 32}
debug :  {"Received so far:": 8, "nb_consumers_producers": 32}
debug :  {"Received so far:": 9, "nb_consumers_producers": 32}
debug :  {"Received so far:": 10, "nb_consumers_producers": 32}
debug :  {"Received so far:": 11, "nb_consumers_producers": 32}
debug :  {"Received so far:": 12, "nb_consumers_producers": 32}
debug :  {"Received so far:": 13, "nb_consumers_producers": 32}
debug :  {"Received so far:": 14, "nb_consumers_producers": 32}
debug :  {"Received so far:": 15, "nb_consumers_producers": 32}
debug :  {"Received so far:": 16, "nb_consumers_producers": 32}
debug :  {"Received so far:": 17, "nb_consumers_producers": 32}
debug :  {"Received so far:": 18, "nb_consumers_producers": 32}
debug :  {"Received so far:": 19, "nb_consumers_producers": 32}
debug :  {"Received so far:": 20, "nb_consumers_producers": 32}
debug :  {"Received so far:": 21, "nb_consumers_producers": 32}
debug :  {"Received so far:": 22, "nb_consumers_producers": 32}
debug :  {"Received so far:": 23, "nb_consumers_producers": 32}
debug :  {"Received so far:": 24, "nb_consumers_producers": 32}
debug :  {"Received so far:": 25, "nb_consumers_producers": 32}
debug :  {"Received so far:": 26, "nb_consumers_producers": 32}
debug :  {"Received so far:": 27, "nb_consumers_producers": 32}
debug :  {"Received so far:": 28, "nb_consumers_producers": 32}
debug :  {"Received so far:": 29, "nb_consumers_producers": 32}
debug :  {"Received so far:": 30, "nb_consumers_producers": 32}
debug :  {"Received so far:": 31, "nb_consumers_producers": 32}
manager-producer :  {"batch_size": 12288.0, "flow": 132, "amount_of_time": 30, "timestamp": 1678384215.7952676, "stop": false}
debug :  {"message": "Let s produce: {'batch_size': 12288.0, 'flow': 132, 'amount_of_time': 30, 'timestamp': 1678384215.7952676, 'stop': False}"}
debug :  {"message": "Let s produce: {'batch_size': 12288.0, 'flow': 132, 'amount_of_time': 30, 'timestamp': 1678384215.7952676, 'stop': False}"}
debug :  {"message": "Let s produce: {'batch_size': 12288.0, 'flow': 132, 'amount_of_time': 30, 'timestamp': 1678384215.7952676, 'stop': False}"}
debug :  {"message": "Let s produce: {'batch_size': 12288.0, 'flow': 132, 'amount_of_time': 30, 'timestamp': 1678384215.7952676, 'stop': False}"}
debug :  {"message": "Let s produce: {'batch_size': 12288.0, 'flow': 132, 'amount_of_time': 30, 'timestamp': 1678384215.7952676, 'stop': False}"}
debug :  {"message": "Let s produce: {'batch_size': 12288.0, 'flow': 132, 'amount_of_time': 30, 'timestamp': 1678384215.7952676, 'stop': False}"}
debug :  {"message": "Let s produce: {'batch_size': 12288.0, 'flow': 132, 'amount_of_time': 30, 'timestamp': 1678384215.7952676, 'stop': False}"}
debug :  {"message": "Let s produce: {'batch_size': 12288.0, 'flow': 132, 'amount_of_time': 30, 'timestamp': 1678384215.7952676, 'stop': False}"}
debug :  {"message": "Let s produce: {'batch_size': 12288.0, 'flow': 132, 'amount_of_time': 30, 'timestamp': 1678384215.7952676, 'stop': False}"}
debug :  {"message": "Let s produce: {'batch_size': 12288.0, 'flow': 132, 'amount_of_time': 30, 'timestamp': 1678384215.7952676, 'stop': False}"}
debug :  {"message": "Let s produce: {'batch_size': 12288.0, 'flow': 132, 'amount_of_time': 30, 'timestamp': 1678384215.7952676, 'stop': False}"}
debug :  {"message": "Let s produce: {'batch_size': 12288.0, 'flow': 132, 'amount_of_time': 30, 'timestamp': 1678384215.7952676, 'stop': False}"}
debug :  {"message": "Let s produce: {'batch_size': 12288.0, 'flow': 132, 'amount_of_time': 30, 'timestamp': 1678384215.7952676, 'stop': False}"}
debug :  {"message": "Let s produce: {'batch_size': 12288.0, 'flow': 132, 'amount_of_time': 30, 'timestamp': 1678384215.7952676, 'stop': False}"}
debug :  {"message": "Let s produce: {'batch_size': 12288.0, 'flow': 132, 'amount_of_time': 30, 'timestamp': 1678384215.7952676, 'stop': False}"}
debug :  {"message": "Let s produce: {'batch_size': 12288.0, 'flow': 132, 'amount_of_time': 30, 'timestamp': 1678384215.7952676, 'stop': False}"}
debug :  {"message": "Let s produce: {'batch_size': 12288.0, 'flow': 132, 'amount_of_time': 30, 'timestamp': 1678384215.7952676, 'stop': False}"}
debug :  {"message": "Let s produce: {'batch_size': 12288.0, 'flow': 132, 'amount_of_time': 30, 'timestamp': 1678384215.7952676, 'stop': False}"}
debug :  {"message": "Let s produce: {'batch_size': 12288.0, 'flow': 132, 'amount_of_time': 30, 'timestamp': 1678384215.7952676, 'stop': False}"}
debug :  {"message": "Let s produce: {'batch_size': 12288.0, 'flow': 132, 'amount_of_time': 30, 'timestamp': 1678384215.7952676, 'stop': False}"}
debug :  {"message": "Let s produce: {'batch_size': 12288.0, 'flow': 132, 'amount_of_time': 30, 'timestamp': 1678384215.7952676, 'stop': False}"}
debug :  {"message": "Let s produce: {'batch_size': 12288.0, 'flow': 132, 'amount_of_time': 30, 'timestamp': 1678384215.7952676, 'stop': False}"}
debug :  {"message": "Let s produce: {'batch_size': 12288.0, 'flow': 132, 'amount_of_time': 30, 'timestamp': 1678384215.7952676, 'stop': False}"}
debug :  {"message": "Let s produce: {'batch_size': 12288.0, 'flow': 132, 'amount_of_time': 30, 'timestamp': 1678384215.7952676, 'stop': False}"}
debug :  {"message": "Let s produce: {'batch_size': 12288.0, 'flow': 132, 'amount_of_time': 30, 'timestamp': 1678384215.7952676, 'stop': False}"}
debug :  {"message": "Let s produce: {'batch_size': 12288.0, 'flow': 132, 'amount_of_time': 30, 'timestamp': 1678384215.7952676, 'stop': False}"}
debug :  {"message": "Let s produce: {'batch_size': 12288.0, 'flow': 132, 'amount_of_time': 30, 'timestamp': 1678384215.7952676, 'stop': False}"}
debug :  {"message": "Let s produce: {'batch_size': 12288.0, 'flow': 132, 'amount_of_time': 30, 'timestamp': 1678384215.7952676, 'stop': False}"}
debug :  {"message": "Let s produce: {'batch_size': 12288.0, 'flow': 132, 'amount_of_time': 30, 'timestamp': 1678384215.7952676, 'stop': False}"}
debug :  {"message": "Let s produce: {'batch_size': 12288.0, 'flow': 132, 'amount_of_time': 30, 'timestamp': 1678384215.7952676, 'stop': False}"}
debug :  {"message": "Let s produce: {'batch_size': 12288.0, 'flow': 132, 'amount_of_time': 30, 'timestamp': 1678384215.7952676, 'stop': False}"}
debug :  {"message": "Let s produce: {'batch_size': 12288.0, 'flow': 132, 'amount_of_time': 30, 'timestamp': 1678384215.7952676, 'stop': False}"}
debug :  {"Received so far:": 0, "nb_consumers_producers": 32}
consumer-write0-3 32
consumer-write0-2 33
debug :  {"consumer-write": "write data"}
debug :  {"consumer-write": "write data"}
debug :  {"consumer-write": "write data"}
manager-consumer :  289  :  {"machine_kafka": "DS2_v2", "batch_size": 12288.0, "nb_messages": 3960, "time": 0.2286069393157959}
manager-consumer :  290  :  {"machine_kafka": "DS2_v2", "batch_size": 12288.0, "nb_messages": 3960, "time": 0.22775721549987793}
manager-consumer :  291  :  {"machine_kafka": "DS2_v2", "batch_size": 12288.0, "nb_messages": 3960, "time": 0.2321627140045166}
manager-consumer :  292  :  {"machine_kafka": "DS2_v2", "batch_size": 12288.0, "nb_messages": 3960, "time": 0.22628188133239746}
debug :  {"message": "end topic: consumer-write0-3"}
debug :  {"message": "end topic: consumer-write0-2"}
debug :  {"message": "end topic: consumer-write6-3"}
debug :  {"consumer-write": "write data"}
debug :  {"consumer-write": "write data"}
debug :  {"consumer-write": "write data"}
debug :  {"message": "end topic: consumer-write3-2"}
manager-consumer :  293  :  {"machine_kafka": "DS2_v2", "batch_size": 12288.0, "nb_messages": 3960, "time": 0.23665010929107666}
manager-consumer :  294  :  {"machine_kafka": "DS2_v2", "batch_size": 12288.0, "nb_messages": 3960, "time": 0.24169087409973145}
debug :  {"message": "end topic: consumer-write5-0"}
debug :  {"message": "end topic: consumer-write1-1"}
debug :  {"Received so far:": 1, "nb_consumers_producers": 32}
debug :  {"consumer-write": "write data"}
debug :  {"consumer-write": "write data"}
manager-consumer :  295  :  {"machine_kafka": "DS2_v2", "batch_size": 12288.0, "nb_messages": 3960, "time": 0.24391579627990723}
manager-consumer :  296  :  {"machine_kafka": "DS2_v2", "batch_size": 12288.0, "nb_messages": 3960, "time": 0.2312009334564209}
debug :  {"consumer-write": "write data"}
debug :  {"consumer-write": "write data"}
debug :  {"consumer-write": "write data"}
debug :  {"consumer-write": "write data"}
debug :  {"message": "end topic: consumer-write7-3"}
debug :  {"message": "end topic: consumer-write3-1"}
debug :  {"consumer-write": "write data"}
debug :  {"consumer-write": "write data"}
debug :  {"message": "end topic: consumer-write7-2"}
debug :  {"message": "end topic: consumer-write2-0"}
manager-consumer :  297  :  {"machine_kafka": "DS2_v2", "batch_size": 12288.0, "nb_messages": 3960, "time": 0.2466048002243042}
manager-consumer :  298  :  {"machine_kafka": "DS2_v2", "batch_size": 12288.0, "nb_messages": 3960, "time": 0.24323666095733643}
manager-consumer :  299  :  {"machine_kafka": "DS2_v2", "batch_size": 12288.0, "nb_messages": 3960, "time": 0.22717726230621338}
manager-consumer :  300  :  {"machine_kafka": "DS2_v2", "batch_size": 12288.0, "nb_messages": 3960, "time": 0.23547077178955078}
manager-consumer :  301  :  {"machine_kafka": "DS2_v2", "batch_size": 12288.0, "nb_messages": 3960, "time": 0.2562828063964844}
manager-consumer :  302  :  {"machine_kafka": "DS2_v2", "batch_size": 12288.0, "nb_messages": 3960, "time": 0.2512162923812866}
consumer-write0-0 :  34
debug :  {"message": "end topic: consumer-write4-2"}
debug :  {"consumer-write": "write data"}
debug :  {"message": "end topic: consumer-write7-0"}
debug :  {"consumer-write": "write data"}
debug :  {"message": "end topic: consumer-write4-0"}
debug :  {"consumer-write": "write data"}
manager-consumer :  303  :  {"machine_kafka": "DS2_v2", "batch_size": 12288.0, "nb_messages": 3960, "time": 0.22251594066619873}
manager-consumer :  304  :  {"machine_kafka": "DS2_v2", "batch_size": 12288.0, "nb_messages": 3960, "time": 0.2320115566253662}
manager-consumer :  305  :  {"machine_kafka": "DS2_v2", "batch_size": 12288.0, "nb_messages": 3960, "time": 0.2244248390197754}
debug :  {"message": "end topic: consumer-write6-2"}
debug :  {"consumer-write": "write data"}
debug :  {"message": "end topic: consumer-write1-3"}
debug :  {"consumer-write": "write data"}
debug :  {"message": "end topic: consumer-write2-3"}
debug :  {"consumer-write": "write data"}
debug :  {"consumer-write": "write data"}
debug :  {"consumer-write": "write data"}
debug :  {"consumer-write": "write data"}
debug :  {"message": "end topic: consumer-write6-0"}
debug :  {"message": "end topic: consumer-write6-1"}
debug :  {"message": "end topic: consumer-write5-1"}
manager-consumer :  306  :  {"machine_kafka": "DS2_v2", "batch_size": 12288.0, "nb_messages": 3960, "time": 0.2366734743118286}
manager-consumer :  307  :  {"machine_kafka": "DS2_v2", "batch_size": 12288.0, "nb_messages": 3960, "time": 0.2541027069091797}
manager-consumer :  308  :  {"machine_kafka": "DS2_v2", "batch_size": 12288.0, "nb_messages": 3960, "time": 0.24346661567687988}
manager-consumer :  309  :  {"machine_kafka": "DS2_v2", "batch_size": 12288.0, "nb_messages": 3960, "time": 0.2539299726486206}
manager-consumer :  310  :  {"machine_kafka": "DS2_v2", "batch_size": 12288.0, "nb_messages": 3960, "time": 0.23562121391296387}
manager-consumer :  311  :  {"machine_kafka": "DS2_v2", "batch_size": 12288.0, "nb_messages": 3960, "time": 0.23316490650177002}
debug :  {"message": "end topic: consumer-write5-3"}
debug :  {"message": "end topic: consumer-write2-1"}
debug :  {"message": "end topic: consumer-write5-2"}
debug :  {"consumer-write": "write data"}
debug :  {"message": "end topic: consumer-write0-0"}
debug :  {"Received so far:": 2, "nb_consumers_producers": 32}
manager-consumer :  312  :  {"machine_kafka": "DS2_v2", "batch_size": 12288.0, "nb_messages": 3960, "time": 0.2405695915222168}
consumer-write0-1 :  35
manager-consumer :  313  :  {"machine_kafka": "DS2_v2", "batch_size": 12288.0, "nb_messages": 3960, "time": 0.22412168979644775}
manager-consumer :  314  :  {"machine_kafka": "DS2_v2", "batch_size": 12288.0, "nb_messages": 3960, "time": 0.250430703163147}
manager-consumer :  315  :  {"machine_kafka": "DS2_v2", "batch_size": 12288.0, "nb_messages": 3960, "time": 0.24142718315124512}
manager-consumer :  316  :  {"machine_kafka": "DS2_v2", "batch_size": 12288.0, "nb_messages": 3960, "time": 0.25178062915802}
manager-consumer :  317  :  {"machine_kafka": "DS2_v2", "batch_size": 12288.0, "nb_messages": 3960, "time": 0.2390279769897461}
debug :  {"consumer-write": "write data"}
debug :  {"message": "end topic: consumer-write2-2"}
debug :  {"consumer-write": "write data"}
debug :  {"consumer-write": "write data"}
debug :  {"consumer-write": "write data"}
debug :  {"consumer-write": "write data"}
debug :  {"message": "end topic: consumer-write7-1"}
debug :  {"message": "end topic: consumer-write1-2"}
debug :  {"message": "end topic: consumer-write0-1"}
debug :  {"message": "end topic: consumer-write3-3"}
debug :  {"message": "end topic: consumer-write1-0"}
debug :  {"Received so far:": 3, "nb_consumers_producers": 32}
manager-consumer :  318  :  {"machine_kafka": "DS2_v2", "batch_size": 12288.0, "nb_messages": 3960, "time": 0.26517295837402344}
debug :  {"consumer-write": "write data"}
debug :  {"message": "end topic: consumer-write4-1"}
manager-consumer :  319  :  {"machine_kafka": "DS2_v2", "batch_size": 12288.0, "nb_messages": 3960, "time": 0.22639155387878418}
debug :  {"consumer-write": "write data"}
debug :  {"Received so far:": 4, "nb_consumers_producers": 32}
debug :  {"message": "end topic: consumer-write3-0"}
debug :  {"Received so far:": 5, "nb_consumers_producers": 32}
debug :  {"Received so far:": 6, "nb_consumers_producers": 32}
debug :  {"Received so far:": 7, "nb_consumers_producers": 32}
debug :  {"Received so far:": 8, "nb_consumers_producers": 32}
manager-consumer :  320  :  {"machine_kafka": "DS2_v2", "batch_size": 12288.0, "nb_messages": 3960, "time": 0.2415778636932373}
debug :  {"consumer-write": "write data"}
debug :  {"message": "end topic: consumer-write4-3"}
debug :  {"Received so far:": 9, "nb_consumers_producers": 32}
debug :  {"Received so far:": 10, "nb_consumers_producers": 32}
debug :  {"Received so far:": 11, "nb_consumers_producers": 32}
debug :  {"Received so far:": 12, "nb_consumers_producers": 32}
debug :  {"Received so far:": 13, "nb_consumers_producers": 32}
debug :  {"Received so far:": 14, "nb_consumers_producers": 32}
debug :  {"Received so far:": 15, "nb_consumers_producers": 32}
debug :  {"Received so far:": 16, "nb_consumers_producers": 32}
debug :  {"Received so far:": 17, "nb_consumers_producers": 32}
debug :  {"Received so far:": 18, "nb_consumers_producers": 32}
debug :  {"Received so far:": 19, "nb_consumers_producers": 32}
debug :  {"Received so far:": 20, "nb_consumers_producers": 32}
debug :  {"Received so far:": 21, "nb_consumers_producers": 32}
debug :  {"Received so far:": 22, "nb_consumers_producers": 32}
debug :  {"Received so far:": 23, "nb_consumers_producers": 32}
debug :  {"Received so far:": 24, "nb_consumers_producers": 32}
debug :  {"Received so far:": 25, "nb_consumers_producers": 32}
debug :  {"Received so far:": 26, "nb_consumers_producers": 32}
debug :  {"Received so far:": 27, "nb_consumers_producers": 32}
debug :  {"Received so far:": 28, "nb_consumers_producers": 32}
debug :  {"Received so far:": 29, "nb_consumers_producers": 32}
debug :  {"Received so far:": 30, "nb_consumers_producers": 32}
debug :  {"Received so far:": 31, "nb_consumers_producers": 32}
manager-producer :  {"batch_size": 12288.0, "flow": 148, "amount_of_time": 30, "timestamp": 1678384256.8164322, "stop": false}
debug :  {"message": "Let s produce: {'batch_size': 12288.0, 'flow': 148, 'amount_of_time': 30, 'timestamp': 1678384256.8164322, 'stop': False}"}
debug :  {"message": "Let s produce: {'batch_size': 12288.0, 'flow': 148, 'amount_of_time': 30, 'timestamp': 1678384256.8164322, 'stop': False}"}
debug :  {"message": "Let s produce: {'batch_size': 12288.0, 'flow': 148, 'amount_of_time': 30, 'timestamp': 1678384256.8164322, 'stop': False}"}
debug :  {"message": "Let s produce: {'batch_size': 12288.0, 'flow': 148, 'amount_of_time': 30, 'timestamp': 1678384256.8164322, 'stop': False}"}
debug :  {"message": "Let s produce: {'batch_size': 12288.0, 'flow': 148, 'amount_of_time': 30, 'timestamp': 1678384256.8164322, 'stop': False}"}
debug :  {"message": "Let s produce: {'batch_size': 12288.0, 'flow': 148, 'amount_of_time': 30, 'timestamp': 1678384256.8164322, 'stop': False}"}
debug :  {"message": "Let s produce: {'batch_size': 12288.0, 'flow': 148, 'amount_of_time': 30, 'timestamp': 1678384256.8164322, 'stop': False}"}
debug :  {"message": "Let s produce: {'batch_size': 12288.0, 'flow': 148, 'amount_of_time': 30, 'timestamp': 1678384256.8164322, 'stop': False}"}
debug :  {"message": "Let s produce: {'batch_size': 12288.0, 'flow': 148, 'amount_of_time': 30, 'timestamp': 1678384256.8164322, 'stop': False}"}
debug :  {"message": "Let s produce: {'batch_size': 12288.0, 'flow': 148, 'amount_of_time': 30, 'timestamp': 1678384256.8164322, 'stop': False}"}
debug :  {"message": "Let s produce: {'batch_size': 12288.0, 'flow': 148, 'amount_of_time': 30, 'timestamp': 1678384256.8164322, 'stop': False}"}
debug :  {"message": "Let s produce: {'batch_size': 12288.0, 'flow': 148, 'amount_of_time': 30, 'timestamp': 1678384256.8164322, 'stop': False}"}
debug :  {"message": "Let s produce: {'batch_size': 12288.0, 'flow': 148, 'amount_of_time': 30, 'timestamp': 1678384256.8164322, 'stop': False}"}
debug :  {"message": "Let s produce: {'batch_size': 12288.0, 'flow': 148, 'amount_of_time': 30, 'timestamp': 1678384256.8164322, 'stop': False}"}
debug :  {"message": "Let s produce: {'batch_size': 12288.0, 'flow': 148, 'amount_of_time': 30, 'timestamp': 1678384256.8164322, 'stop': False}"}
debug :  {"message": "Let s produce: {'batch_size': 12288.0, 'flow': 148, 'amount_of_time': 30, 'timestamp': 1678384256.8164322, 'stop': False}"}
debug :  {"message": "Let s produce: {'batch_size': 12288.0, 'flow': 148, 'amount_of_time': 30, 'timestamp': 1678384256.8164322, 'stop': False}"}
debug :  {"message": "Let s produce: {'batch_size': 12288.0, 'flow': 148, 'amount_of_time': 30, 'timestamp': 1678384256.8164322, 'stop': False}"}
debug :  {"message": "Let s produce: {'batch_size': 12288.0, 'flow': 148, 'amount_of_time': 30, 'timestamp': 1678384256.8164322, 'stop': False}"}
debug :  {"message": "Let s produce: {'batch_size': 12288.0, 'flow': 148, 'amount_of_time': 30, 'timestamp': 1678384256.8164322, 'stop': False}"}
debug :  {"message": "Let s produce: {'batch_size': 12288.0, 'flow': 148, 'amount_of_time': 30, 'timestamp': 1678384256.8164322, 'stop': False}"}
debug :  {"message": "Let s produce: {'batch_size': 12288.0, 'flow': 148, 'amount_of_time': 30, 'timestamp': 1678384256.8164322, 'stop': False}"}
debug :  {"message": "Let s produce: {'batch_size': 12288.0, 'flow': 148, 'amount_of_time': 30, 'timestamp': 1678384256.8164322, 'stop': False}"}
debug :  {"message": "Let s produce: {'batch_size': 12288.0, 'flow': 148, 'amount_of_time': 30, 'timestamp': 1678384256.8164322, 'stop': False}"}
debug :  {"message": "Let s produce: {'batch_size': 12288.0, 'flow': 148, 'amount_of_time': 30, 'timestamp': 1678384256.8164322, 'stop': False}"}
debug :  {"message": "Let s produce: {'batch_size': 12288.0, 'flow': 148, 'amount_of_time': 30, 'timestamp': 1678384256.8164322, 'stop': False}"}
debug :  {"message": "Let s produce: {'batch_size': 12288.0, 'flow': 148, 'amount_of_time': 30, 'timestamp': 1678384256.8164322, 'stop': False}"}
debug :  {"message": "Let s produce: {'batch_size': 12288.0, 'flow': 148, 'amount_of_time': 30, 'timestamp': 1678384256.8164322, 'stop': False}"}
debug :  {"message": "Let s produce: {'batch_size': 12288.0, 'flow': 148, 'amount_of_time': 30, 'timestamp': 1678384256.8164322, 'stop': False}"}
debug :  {"message": "Let s produce: {'batch_size': 12288.0, 'flow': 148, 'amount_of_time': 30, 'timestamp': 1678384256.8164322, 'stop': False}"}
debug :  {"message": "Let s produce: {'batch_size': 12288.0, 'flow': 148, 'amount_of_time': 30, 'timestamp': 1678384256.8164322, 'stop': False}"}
debug :  {"message": "Let s produce: {'batch_size': 12288.0, 'flow': 148, 'amount_of_time': 30, 'timestamp': 1678384256.8164322, 'stop': False}"}
debug :  {"Received so far:": 0, "nb_consumers_producers": 32}
consumer-write0-3 36
consumer-write0-2 37
debug :  {"consumer-write": "write data"}
debug :  {"consumer-write": "write data"}
debug :  {"consumer-write": "write data"}
manager-consumer :  321  :  {"machine_kafka": "DS2_v2", "batch_size": 12288.0, "nb_messages": 4440, "time": 0.2346787452697754}
manager-consumer :  322  :  {"machine_kafka": "DS2_v2", "batch_size": 12288.0, "nb_messages": 4440, "time": 0.23964190483093262}
manager-consumer :  323  :  {"machine_kafka": "DS2_v2", "batch_size": 12288.0, "nb_messages": 4440, "time": 0.23509132862091064}
debug :  {"message": "end topic: consumer-write0-3"}
debug :  {"message": "end topic: consumer-write0-2"}
debug :  {"message": "end topic: consumer-write6-3"}
manager-consumer :  324  :  {"machine_kafka": "DS2_v2", "batch_size": 12288.0, "nb_messages": 4440, "time": 0.23173439502716064}
manager-consumer :  325  :  {"machine_kafka": "DS2_v2", "batch_size": 12288.0, "nb_messages": 4440, "time": 0.24735045433044434}
debug :  {"consumer-write": "write data"}
debug :  {"consumer-write": "write data"}
debug :  {"message": "end topic: consumer-write3-2"}
debug :  {"message": "end topic: consumer-write1-1"}
manager-consumer :  326  :  {"machine_kafka": "DS2_v2", "batch_size": 12288.0, "nb_messages": 4440, "time": 0.2511519193649292}
debug :  {"Received so far:": 1, "nb_consumers_producers": 32}
debug :  {"consumer-write": "write data"}
manager-consumer :  327  :  {"machine_kafka": "DS2_v2", "batch_size": 12288.0, "nb_messages": 4440, "time": 0.24624264240264893}
manager-consumer :  328  :  {"machine_kafka": "DS2_v2", "batch_size": 12288.0, "nb_messages": 4440, "time": 0.24319791793823242}
manager-consumer :  329  :  {"machine_kafka": "DS2_v2", "batch_size": 12288.0, "nb_messages": 4440, "time": 0.23915255069732666}
manager-consumer :  330  :  {"machine_kafka": "DS2_v2", "batch_size": 12288.0, "nb_messages": 4440, "time": 0.2528740167617798}
debug :  {"consumer-write": "write data"}
debug :  {"consumer-write": "write data"}
debug :  {"consumer-write": "write data"}
debug :  {"message": "end topic: consumer-write2-0"}
debug :  {"consumer-write": "write data"}
debug :  {"consumer-write": "write data"}
debug :  {"consumer-write": "write data"}
debug :  {"message": "end topic: consumer-write3-1"}
debug :  {"message": "end topic: consumer-write7-3"}
debug :  {"consumer-write": "write data"}
debug :  {"consumer-write": "write data"}
debug :  {"message": "end topic: consumer-write4-2"}
debug :  {"message": "end topic: consumer-write7-2"}
debug :  {"message": "end topic: consumer-write1-3"}
debug :  {"message": "end topic: consumer-write4-0"}
manager-consumer :  331  :  {"machine_kafka": "DS2_v2", "batch_size": 12288.0, "nb_messages": 4440, "time": 0.26085078716278076}
manager-consumer :  332  :  {"machine_kafka": "DS2_v2", "batch_size": 12288.0, "nb_messages": 4440, "time": 0.24114978313446045}
manager-consumer :  333  :  {"machine_kafka": "DS2_v2", "batch_size": 12288.0, "nb_messages": 4440, "time": 0.24333882331848145}
manager-consumer :  334  :  {"machine_kafka": "DS2_v2", "batch_size": 12288.0, "nb_messages": 4440, "time": 0.24201297760009766}
debug :  {"message": "end topic: consumer-write5-0"}
debug :  {"message": "end topic: consumer-write7-0"}
debug :  {"consumer-write": "write data"}
debug :  {"consumer-write": "write data"}
consumer-write0-0 :  38
manager-consumer :  335  :  {"machine_kafka": "DS2_v2", "batch_size": 12288.0, "nb_messages": 4440, "time": 0.2551093101501465}
manager-consumer :  336  :  {"machine_kafka": "DS2_v2", "batch_size": 12288.0, "nb_messages": 4440, "time": 0.23383069038391113}
manager-consumer :  337  :  {"machine_kafka": "DS2_v2", "batch_size": 12288.0, "nb_messages": 4440, "time": 0.24501311779022217}
manager-consumer :  338  :  {"machine_kafka": "DS2_v2", "batch_size": 12288.0, "nb_messages": 4440, "time": 0.2619575262069702}
debug :  {"message": "end topic: consumer-write2-1"}
debug :  {"consumer-write": "write data"}
debug :  {"message": "end topic: consumer-write6-0"}
debug :  {"Received so far:": 2, "nb_consumers_producers": 32}
debug :  {"consumer-write": "write data"}
debug :  {"consumer-write": "write data"}
manager-consumer :  339  :  {"machine_kafka": "DS2_v2", "batch_size": 12288.0, "nb_messages": 4440, "time": 0.26364707946777344}
manager-consumer :  340  :  {"machine_kafka": "DS2_v2", "batch_size": 12288.0, "nb_messages": 4440, "time": 0.23093891143798828}
manager-consumer :  341  :  {"machine_kafka": "DS2_v2", "batch_size": 12288.0, "nb_messages": 4440, "time": 0.2462102174758911}
debug :  {"message": "end topic: consumer-write0-0"}
debug :  {"message": "end topic: consumer-write2-3"}
debug :  {"consumer-write": "write data"}
debug :  {"consumer-write": "write data"}
debug :  {"consumer-write": "write data"}
debug :  {"consumer-write": "write data"}
debug :  {"consumer-write": "write data"}
debug :  {"consumer-write": "write data"}
debug :  {"message": "end topic: consumer-write7-1"}
debug :  {"message": "end topic: consumer-write3-3"}
debug :  {"message": "end topic: consumer-write1-0"}
debug :  {"message": "end topic: consumer-write5-1"}
debug :  {"message": "end topic: consumer-write5-3"}
manager-consumer :  342  :  {"machine_kafka": "DS2_v2", "batch_size": 12288.0, "nb_messages": 4440, "time": 0.258569598197937}
manager-consumer :  343  :  {"machine_kafka": "DS2_v2", "batch_size": 12288.0, "nb_messages": 4440, "time": 0.2640618085861206}
manager-consumer :  344  :  {"machine_kafka": "DS2_v2", "batch_size": 12288.0, "nb_messages": 4440, "time": 0.25738584995269775}
manager-consumer :  345  :  {"machine_kafka": "DS2_v2", "batch_size": 12288.0, "nb_messages": 4440, "time": 0.24487519264221191}
manager-consumer :  346  :  {"machine_kafka": "DS2_v2", "batch_size": 12288.0, "nb_messages": 4440, "time": 0.24569737911224365}
debug :  {"consumer-write": "write data"}
debug :  {"message": "end topic: consumer-write1-2"}
debug :  {"message": "end topic: consumer-write5-2"}
debug :  {"consumer-write": "write data"}
debug :  {"message": "end topic: consumer-write6-1"}
debug :  {"consumer-write": "write data"}
manager-consumer :  347  :  {"machine_kafka": "DS2_v2", "batch_size": 12288.0, "nb_messages": 4440, "time": 0.25127482414245605}
manager-consumer :  348  :  {"machine_kafka": "DS2_v2", "batch_size": 12288.0, "nb_messages": 4440, "time": 0.22722852230072021}
debug :  {"message": "end topic: consumer-write2-2"}
debug :  {"Received so far:": 3, "nb_consumers_producers": 32}
debug :  {"message": "end topic: consumer-write6-2"}
consumer-write0-1 :  39
manager-consumer :  349  :  {"machine_kafka": "DS2_v2", "batch_size": 12288.0, "nb_messages": 4440, "time": 0.2588067054748535}
manager-consumer :  350  :  {"machine_kafka": "DS2_v2", "batch_size": 12288.0, "nb_messages": 4440, "time": 0.2681007385253906}
debug :  {"consumer-write": "write data"}
debug :  {"consumer-write": "write data"}
debug :  {"message": "end topic: consumer-write0-1"}
debug :  {"message": "end topic: consumer-write4-1"}
debug :  {"consumer-write": "write data"}
manager-consumer :  351  :  {"machine_kafka": "DS2_v2", "batch_size": 12288.0, "nb_messages": 4440, "time": 0.23783254623413086}
debug :  {"Received so far:": 4, "nb_consumers_producers": 32}
debug :  {"message": "end topic: consumer-write3-0"}
debug :  {"Received so far:": 5, "nb_consumers_producers": 32}
debug :  {"Received so far:": 6, "nb_consumers_producers": 32}
debug :  {"Received so far:": 7, "nb_consumers_producers": 32}
debug :  {"Received so far:": 8, "nb_consumers_producers": 32}
debug :  {"consumer-write": "write data"}
manager-consumer :  352  :  {"machine_kafka": "DS2_v2", "batch_size": 12288.0, "nb_messages": 4440, "time": 0.25059664249420166}
debug :  {"message": "end topic: consumer-write4-3"}
debug :  {"Received so far:": 9, "nb_consumers_producers": 32}
debug :  {"Received so far:": 10, "nb_consumers_producers": 32}
debug :  {"Received so far:": 11, "nb_consumers_producers": 32}
debug :  {"Received so far:": 12, "nb_consumers_producers": 32}
debug :  {"Received so far:": 13, "nb_consumers_producers": 32}
debug :  {"Received so far:": 14, "nb_consumers_producers": 32}
debug :  {"Received so far:": 15, "nb_consumers_producers": 32}
debug :  {"Received so far:": 16, "nb_consumers_producers": 32}
debug :  {"Received so far:": 17, "nb_consumers_producers": 32}
debug :  {"Received so far:": 18, "nb_consumers_producers": 32}
debug :  {"Received so far:": 19, "nb_consumers_producers": 32}
debug :  {"Received so far:": 20, "nb_consumers_producers": 32}
debug :  {"Received so far:": 21, "nb_consumers_producers": 32}
debug :  {"Received so far:": 22, "nb_consumers_producers": 32}
debug :  {"Received so far:": 23, "nb_consumers_producers": 32}
debug :  {"Received so far:": 24, "nb_consumers_producers": 32}
debug :  {"Received so far:": 25, "nb_consumers_producers": 32}
debug :  {"Received so far:": 26, "nb_consumers_producers": 32}
debug :  {"Received so far:": 27, "nb_consumers_producers": 32}
debug :  {"Received so far:": 28, "nb_consumers_producers": 32}
debug :  {"Received so far:": 29, "nb_consumers_producers": 32}
debug :  {"Received so far:": 30, "nb_consumers_producers": 32}
debug :  {"Received so far:": 31, "nb_consumers_producers": 32}
manager-producer :  {"batch_size": 12288.0, "flow": 164, "amount_of_time": 30, "timestamp": 1678384298.0146563, "stop": false}
debug :  {"message": "Let s produce: {'batch_size': 12288.0, 'flow': 164, 'amount_of_time': 30, 'timestamp': 1678384298.0146563, 'stop': False}"}
debug :  {"message": "Let s produce: {'batch_size': 12288.0, 'flow': 164, 'amount_of_time': 30, 'timestamp': 1678384298.0146563, 'stop': False}"}
debug :  {"message": "Let s produce: {'batch_size': 12288.0, 'flow': 164, 'amount_of_time': 30, 'timestamp': 1678384298.0146563, 'stop': False}"}
debug :  {"message": "Let s produce: {'batch_size': 12288.0, 'flow': 164, 'amount_of_time': 30, 'timestamp': 1678384298.0146563, 'stop': False}"}
debug :  {"message": "Let s produce: {'batch_size': 12288.0, 'flow': 164, 'amount_of_time': 30, 'timestamp': 1678384298.0146563, 'stop': False}"}
debug :  {"message": "Let s produce: {'batch_size': 12288.0, 'flow': 164, 'amount_of_time': 30, 'timestamp': 1678384298.0146563, 'stop': False}"}
debug :  {"message": "Let s produce: {'batch_size': 12288.0, 'flow': 164, 'amount_of_time': 30, 'timestamp': 1678384298.0146563, 'stop': False}"}
debug :  {"message": "Let s produce: {'batch_size': 12288.0, 'flow': 164, 'amount_of_time': 30, 'timestamp': 1678384298.0146563, 'stop': False}"}
debug :  {"message": "Let s produce: {'batch_size': 12288.0, 'flow': 164, 'amount_of_time': 30, 'timestamp': 1678384298.0146563, 'stop': False}"}
debug :  {"message": "Let s produce: {'batch_size': 12288.0, 'flow': 164, 'amount_of_time': 30, 'timestamp': 1678384298.0146563, 'stop': False}"}
debug :  {"message": "Let s produce: {'batch_size': 12288.0, 'flow': 164, 'amount_of_time': 30, 'timestamp': 1678384298.0146563, 'stop': False}"}
debug :  {"message": "Let s produce: {'batch_size': 12288.0, 'flow': 164, 'amount_of_time': 30, 'timestamp': 1678384298.0146563, 'stop': False}"}
debug :  {"message": "Let s produce: {'batch_size': 12288.0, 'flow': 164, 'amount_of_time': 30, 'timestamp': 1678384298.0146563, 'stop': False}"}
debug :  {"message": "Let s produce: {'batch_size': 12288.0, 'flow': 164, 'amount_of_time': 30, 'timestamp': 1678384298.0146563, 'stop': False}"}
debug :  {"message": "Let s produce: {'batch_size': 12288.0, 'flow': 164, 'amount_of_time': 30, 'timestamp': 1678384298.0146563, 'stop': False}"}
debug :  {"message": "Let s produce: {'batch_size': 12288.0, 'flow': 164, 'amount_of_time': 30, 'timestamp': 1678384298.0146563, 'stop': False}"}
debug :  {"message": "Let s produce: {'batch_size': 12288.0, 'flow': 164, 'amount_of_time': 30, 'timestamp': 1678384298.0146563, 'stop': False}"}
debug :  {"message": "Let s produce: {'batch_size': 12288.0, 'flow': 164, 'amount_of_time': 30, 'timestamp': 1678384298.0146563, 'stop': False}"}
debug :  {"message": "Let s produce: {'batch_size': 12288.0, 'flow': 164, 'amount_of_time': 30, 'timestamp': 1678384298.0146563, 'stop': False}"}
debug :  {"message": "Let s produce: {'batch_size': 12288.0, 'flow': 164, 'amount_of_time': 30, 'timestamp': 1678384298.0146563, 'stop': False}"}
debug :  {"message": "Let s produce: {'batch_size': 12288.0, 'flow': 164, 'amount_of_time': 30, 'timestamp': 1678384298.0146563, 'stop': False}"}
debug :  {"message": "Let s produce: {'batch_size': 12288.0, 'flow': 164, 'amount_of_time': 30, 'timestamp': 1678384298.0146563, 'stop': False}"}
debug :  {"message": "Let s produce: {'batch_size': 12288.0, 'flow': 164, 'amount_of_time': 30, 'timestamp': 1678384298.0146563, 'stop': False}"}
debug :  {"message": "Let s produce: {'batch_size': 12288.0, 'flow': 164, 'amount_of_time': 30, 'timestamp': 1678384298.0146563, 'stop': False}"}
debug :  {"message": "Let s produce: {'batch_size': 12288.0, 'flow': 164, 'amount_of_time': 30, 'timestamp': 1678384298.0146563, 'stop': False}"}
debug :  {"message": "Let s produce: {'batch_size': 12288.0, 'flow': 164, 'amount_of_time': 30, 'timestamp': 1678384298.0146563, 'stop': False}"}
debug :  {"message": "Let s produce: {'batch_size': 12288.0, 'flow': 164, 'amount_of_time': 30, 'timestamp': 1678384298.0146563, 'stop': False}"}
debug :  {"message": "Let s produce: {'batch_size': 12288.0, 'flow': 164, 'amount_of_time': 30, 'timestamp': 1678384298.0146563, 'stop': False}"}
debug :  {"message": "Let s produce: {'batch_size': 12288.0, 'flow': 164, 'amount_of_time': 30, 'timestamp': 1678384298.0146563, 'stop': False}"}
debug :  {"message": "Let s produce: {'batch_size': 12288.0, 'flow': 164, 'amount_of_time': 30, 'timestamp': 1678384298.0146563, 'stop': False}"}
debug :  {"message": "Let s produce: {'batch_size': 12288.0, 'flow': 164, 'amount_of_time': 30, 'timestamp': 1678384298.0146563, 'stop': False}"}
debug :  {"message": "Let s produce: {'batch_size': 12288.0, 'flow': 164, 'amount_of_time': 30, 'timestamp': 1678384298.0146563, 'stop': False}"}
debug :  {"Received so far:": 0, "nb_consumers_producers": 32}
consumer-write0-3 40
debug :  {"consumer-write": "write data"}
debug :  {"consumer-write": "write data"}
consumer-write0-2 41
manager-consumer :  353  :  {"machine_kafka": "DS2_v2", "batch_size": 12288.0, "nb_messages": 4920, "time": 0.3004758358001709}
manager-consumer :  354  :  {"machine_kafka": "DS2_v2", "batch_size": 12288.0, "nb_messages": 4920, "time": 0.2991929054260254}
manager-consumer :  355  :  {"machine_kafka": "DS2_v2", "batch_size": 12288.0, "nb_messages": 4920, "time": 0.3050323724746704}
manager-consumer :  356  :  {"machine_kafka": "DS2_v2", "batch_size": 12288.0, "nb_messages": 4920, "time": 0.3097468614578247}
debug :  {"consumer-write": "write data"}
debug :  {"message": "end topic: consumer-write6-3"}
debug :  {"message": "end topic: consumer-write0-3"}
debug :  {"message": "end topic: consumer-write0-2"}
debug :  {"consumer-write": "write data"}
manager-consumer :  357  :  {"machine_kafka": "DS2_v2", "batch_size": 12288.0, "nb_messages": 4920, "time": 0.30136537551879883}
debug :  {"consumer-write": "write data"}
debug :  {"message": "end topic: consumer-write1-1"}
debug :  {"message": "end topic: consumer-write3-2"}
debug :  {"Received so far:": 1, "nb_consumers_producers": 32}
debug :  {"consumer-write": "write data"}
manager-consumer :  358  :  {"machine_kafka": "DS2_v2", "batch_size": 12288.0, "nb_messages": 4920, "time": 0.30473554134368896}
manager-consumer :  359  :  {"machine_kafka": "DS2_v2", "batch_size": 12288.0, "nb_messages": 4920, "time": 0.309024453163147}
manager-consumer :  360  :  {"machine_kafka": "DS2_v2", "batch_size": 12288.0, "nb_messages": 4920, "time": 0.3190416097640991}
debug :  {"consumer-write": "write data"}
debug :  {"consumer-write": "write data"}
debug :  {"message": "end topic: consumer-write7-3"}
debug :  {"message": "end topic: consumer-write1-3"}
debug :  {"consumer-write": "write data"}
debug :  {"consumer-write": "write data"}
debug :  {"consumer-write": "write data"}
debug :  {"consumer-write": "write data"}
debug :  {"consumer-write": "write data"}
debug :  {"message": "end topic: consumer-write2-0"}
debug :  {"consumer-write": "write data"}
manager-consumer :  361  :  {"machine_kafka": "DS2_v2", "batch_size": 12288.0, "nb_messages": 4920, "time": 0.3229787349700928}
manager-consumer :  362  :  {"machine_kafka": "DS2_v2", "batch_size": 12288.0, "nb_messages": 4920, "time": 0.32382166385650635}
manager-consumer :  363  :  {"machine_kafka": "DS2_v2", "batch_size": 12288.0, "nb_messages": 4920, "time": 0.31566572189331055}
manager-consumer :  364  :  {"machine_kafka": "DS2_v2", "batch_size": 12288.0, "nb_messages": 4920, "time": 0.30679428577423096}
manager-consumer :  365  :  {"machine_kafka": "DS2_v2", "batch_size": 12288.0, "nb_messages": 4920, "time": 0.29920685291290283}
manager-consumer :  366  :  {"machine_kafka": "DS2_v2", "batch_size": 12288.0, "nb_messages": 4920, "time": 0.312239408493042}
debug :  {"message": "end topic: consumer-write7-2"}
debug :  {"message": "end topic: consumer-write3-1"}
debug :  {"message": "end topic: consumer-write4-2"}
debug :  {"message": "end topic: consumer-write4-0"}
debug :  {"message": "end topic: consumer-write7-0"}
debug :  {"message": "end topic: consumer-write5-0"}
debug :  {"consumer-write": "write data"}
debug :  {"message": "end topic: consumer-write2-1"}
manager-consumer :  367  :  {"machine_kafka": "DS2_v2", "batch_size": 12288.0, "nb_messages": 4920, "time": 0.3167078495025635}
consumer-write0-0 :  42
debug :  {"consumer-write": "write data"}
debug :  {"consumer-write": "write data"}
debug :  {"consumer-write": "write data"}
manager-consumer :  368  :  {"machine_kafka": "DS2_v2", "batch_size": 12288.0, "nb_messages": 4920, "time": 0.29929840564727783}
manager-consumer :  369  :  {"machine_kafka": "DS2_v2", "batch_size": 12288.0, "nb_messages": 4920, "time": 0.31249260902404785}
manager-consumer :  370  :  {"machine_kafka": "DS2_v2", "batch_size": 12288.0, "nb_messages": 4920, "time": 0.3023766279220581}
manager-consumer :  371  :  {"machine_kafka": "DS2_v2", "batch_size": 12288.0, "nb_messages": 4920, "time": 0.3279772996902466}
manager-consumer :  372  :  {"machine_kafka": "DS2_v2", "batch_size": 12288.0, "nb_messages": 4920, "time": 0.31418120861053467}
manager-consumer :  373  :  {"machine_kafka": "DS2_v2", "batch_size": 12288.0, "nb_messages": 4920, "time": 0.33049213886260986}
debug :  {"message": "end topic: consumer-write6-0"}
debug :  {"consumer-write": "write data"}
debug :  {"consumer-write": "write data"}
debug :  {"consumer-write": "write data"}
debug :  {"message": "end topic: consumer-write0-0"}
debug :  {"consumer-write": "write data"}
debug :  {"message": "end topic: consumer-write7-1"}
debug :  {"consumer-write": "write data"}
debug :  {"message": "end topic: consumer-write2-3"}
debug :  {"message": "end topic: consumer-write1-0"}
debug :  {"message": "end topic: consumer-write5-3"}
debug :  {"consumer-write": "write data"}
debug :  {"message": "end topic: consumer-write3-3"}
manager-consumer :  374  :  {"machine_kafka": "DS2_v2", "batch_size": 12288.0, "nb_messages": 4920, "time": 0.330552339553833}
manager-consumer :  375  :  {"machine_kafka": "DS2_v2", "batch_size": 12288.0, "nb_messages": 4920, "time": 0.33114004135131836}
manager-consumer :  376  :  {"machine_kafka": "DS2_v2", "batch_size": 12288.0, "nb_messages": 4920, "time": 0.3084442615509033}
debug :  {"consumer-write": "write data"}
debug :  {"message": "end topic: consumer-write5-1"}
debug :  {"message": "end topic: consumer-write6-1"}
debug :  {"consumer-write": "write data"}
manager-consumer :  377  :  {"machine_kafka": "DS2_v2", "batch_size": 12288.0, "nb_messages": 4920, "time": 0.3209110498428345}
consumer-write0-1 :  43
debug :  {"message": "end topic: consumer-write1-2"}
debug :  {"message": "end topic: consumer-write5-2"}
debug :  {"consumer-write": "write data"}
debug :  {"consumer-write": "write data"}
manager-consumer :  378  :  {"machine_kafka": "DS2_v2", "batch_size": 12288.0, "nb_messages": 4920, "time": 0.3101959228515625}
manager-consumer :  379  :  {"machine_kafka": "DS2_v2", "batch_size": 12288.0, "nb_messages": 4920, "time": 0.316961407661438}
manager-consumer :  380  :  {"machine_kafka": "DS2_v2", "batch_size": 12288.0, "nb_messages": 4920, "time": 0.29436802864074707}
debug :  {"Received so far:": 2, "nb_consumers_producers": 32}
debug :  {"message": "end topic: consumer-write2-2"}
debug :  {"message": "end topic: consumer-write6-2"}
debug :  {"consumer-write": "write data"}
manager-consumer :  381  :  {"machine_kafka": "DS2_v2", "batch_size": 12288.0, "nb_messages": 4920, "time": 0.32547426223754883}
debug :  {"message": "end topic: consumer-write0-1"}
debug :  {"Received so far:": 3, "nb_consumers_producers": 32}
debug :  {"consumer-write": "write data"}
manager-consumer :  382  :  {"machine_kafka": "DS2_v2", "batch_size": 12288.0, "nb_messages": 4920, "time": 0.33880364894866943}
debug :  {"message": "end topic: consumer-write4-1"}
debug :  {"Received so far:": 4, "nb_consumers_producers": 32}
debug :  {"consumer-write": "write data"}
manager-consumer :  383  :  {"machine_kafka": "DS2_v2", "batch_size": 12288.0, "nb_messages": 4920, "time": 0.30209267139434814}
debug :  {"message": "end topic: consumer-write3-0"}
debug :  {"Received so far:": 5, "nb_consumers_producers": 32}
debug :  {"Received so far:": 6, "nb_consumers_producers": 32}
debug :  {"Received so far:": 7, "nb_consumers_producers": 32}
manager-consumer :  384  :  {"machine_kafka": "DS2_v2", "batch_size": 12288.0, "nb_messages": 4920, "time": 0.31910645961761475}
debug :  {"consumer-write": "write data"}
debug :  {"message": "end topic: consumer-write4-3"}
debug :  {"Received so far:": 8, "nb_consumers_producers": 32}
debug :  {"Received so far:": 9, "nb_consumers_producers": 32}
debug :  {"Received so far:": 10, "nb_consumers_producers": 32}
debug :  {"Received so far:": 11, "nb_consumers_producers": 32}
debug :  {"Received so far:": 12, "nb_consumers_producers": 32}
debug :  {"Received so far:": 13, "nb_consumers_producers": 32}
debug :  {"Received so far:": 14, "nb_consumers_producers": 32}
debug :  {"Received so far:": 15, "nb_consumers_producers": 32}
debug :  {"Received so far:": 16, "nb_consumers_producers": 32}
debug :  {"Received so far:": 17, "nb_consumers_producers": 32}
debug :  {"Received so far:": 18, "nb_consumers_producers": 32}
debug :  {"Received so far:": 19, "nb_consumers_producers": 32}
debug :  {"Received so far:": 20, "nb_consumers_producers": 32}
debug :  {"Received so far:": 21, "nb_consumers_producers": 32}
debug :  {"Received so far:": 22, "nb_consumers_producers": 32}
debug :  {"Received so far:": 23, "nb_consumers_producers": 32}
debug :  {"Received so far:": 24, "nb_consumers_producers": 32}
debug :  {"Received so far:": 25, "nb_consumers_producers": 32}
debug :  {"Received so far:": 26, "nb_consumers_producers": 32}
debug :  {"Received so far:": 27, "nb_consumers_producers": 32}
debug :  {"Received so far:": 28, "nb_consumers_producers": 32}
debug :  {"Received so far:": 29, "nb_consumers_producers": 32}
debug :  {"Received so far:": 30, "nb_consumers_producers": 32}
debug :  {"Received so far:": 31, "nb_consumers_producers": 32}
manager-producer :  {"batch_size": 12288.0, "flow": 179, "amount_of_time": 30, "timestamp": 1678384339.4181788, "stop": false}
debug :  {"message": "Let s produce: {'batch_size': 12288.0, 'flow': 179, 'amount_of_time': 30, 'timestamp': 1678384339.4181788, 'stop': False}"}
debug :  {"message": "Let s produce: {'batch_size': 12288.0, 'flow': 179, 'amount_of_time': 30, 'timestamp': 1678384339.4181788, 'stop': False}"}
debug :  {"message": "Let s produce: {'batch_size': 12288.0, 'flow': 179, 'amount_of_time': 30, 'timestamp': 1678384339.4181788, 'stop': False}"}
debug :  {"message": "Let s produce: {'batch_size': 12288.0, 'flow': 179, 'amount_of_time': 30, 'timestamp': 1678384339.4181788, 'stop': False}"}
debug :  {"message": "Let s produce: {'batch_size': 12288.0, 'flow': 179, 'amount_of_time': 30, 'timestamp': 1678384339.4181788, 'stop': False}"}
debug :  {"message": "Let s produce: {'batch_size': 12288.0, 'flow': 179, 'amount_of_time': 30, 'timestamp': 1678384339.4181788, 'stop': False}"}
debug :  {"message": "Let s produce: {'batch_size': 12288.0, 'flow': 179, 'amount_of_time': 30, 'timestamp': 1678384339.4181788, 'stop': False}"}
debug :  {"message": "Let s produce: {'batch_size': 12288.0, 'flow': 179, 'amount_of_time': 30, 'timestamp': 1678384339.4181788, 'stop': False}"}
debug :  {"message": "Let s produce: {'batch_size': 12288.0, 'flow': 179, 'amount_of_time': 30, 'timestamp': 1678384339.4181788, 'stop': False}"}
debug :  {"message": "Let s produce: {'batch_size': 12288.0, 'flow': 179, 'amount_of_time': 30, 'timestamp': 1678384339.4181788, 'stop': False}"}
debug :  {"message": "Let s produce: {'batch_size': 12288.0, 'flow': 179, 'amount_of_time': 30, 'timestamp': 1678384339.4181788, 'stop': False}"}
debug :  {"message": "Let s produce: {'batch_size': 12288.0, 'flow': 179, 'amount_of_time': 30, 'timestamp': 1678384339.4181788, 'stop': False}"}
debug :  {"message": "Let s produce: {'batch_size': 12288.0, 'flow': 179, 'amount_of_time': 30, 'timestamp': 1678384339.4181788, 'stop': False}"}
debug :  {"message": "Let s produce: {'batch_size': 12288.0, 'flow': 179, 'amount_of_time': 30, 'timestamp': 1678384339.4181788, 'stop': False}"}
debug :  {"message": "Let s produce: {'batch_size': 12288.0, 'flow': 179, 'amount_of_time': 30, 'timestamp': 1678384339.4181788, 'stop': False}"}
debug :  {"message": "Let s produce: {'batch_size': 12288.0, 'flow': 179, 'amount_of_time': 30, 'timestamp': 1678384339.4181788, 'stop': False}"}
debug :  {"message": "Let s produce: {'batch_size': 12288.0, 'flow': 179, 'amount_of_time': 30, 'timestamp': 1678384339.4181788, 'stop': False}"}
debug :  {"message": "Let s produce: {'batch_size': 12288.0, 'flow': 179, 'amount_of_time': 30, 'timestamp': 1678384339.4181788, 'stop': False}"}
debug :  {"message": "Let s produce: {'batch_size': 12288.0, 'flow': 179, 'amount_of_time': 30, 'timestamp': 1678384339.4181788, 'stop': False}"}
debug :  {"message": "Let s produce: {'batch_size': 12288.0, 'flow': 179, 'amount_of_time': 30, 'timestamp': 1678384339.4181788, 'stop': False}"}
debug :  {"message": "Let s produce: {'batch_size': 12288.0, 'flow': 179, 'amount_of_time': 30, 'timestamp': 1678384339.4181788, 'stop': False}"}
debug :  {"message": "Let s produce: {'batch_size': 12288.0, 'flow': 179, 'amount_of_time': 30, 'timestamp': 1678384339.4181788, 'stop': False}"}
debug :  {"message": "Let s produce: {'batch_size': 12288.0, 'flow': 179, 'amount_of_time': 30, 'timestamp': 1678384339.4181788, 'stop': False}"}
debug :  {"message": "Let s produce: {'batch_size': 12288.0, 'flow': 179, 'amount_of_time': 30, 'timestamp': 1678384339.4181788, 'stop': False}"}
debug :  {"message": "Let s produce: {'batch_size': 12288.0, 'flow': 179, 'amount_of_time': 30, 'timestamp': 1678384339.4181788, 'stop': False}"}
debug :  {"message": "Let s produce: {'batch_size': 12288.0, 'flow': 179, 'amount_of_time': 30, 'timestamp': 1678384339.4181788, 'stop': False}"}
debug :  {"message": "Let s produce: {'batch_size': 12288.0, 'flow': 179, 'amount_of_time': 30, 'timestamp': 1678384339.4181788, 'stop': False}"}
debug :  {"message": "Let s produce: {'batch_size': 12288.0, 'flow': 179, 'amount_of_time': 30, 'timestamp': 1678384339.4181788, 'stop': False}"}
debug :  {"message": "Let s produce: {'batch_size': 12288.0, 'flow': 179, 'amount_of_time': 30, 'timestamp': 1678384339.4181788, 'stop': False}"}
debug :  {"message": "Let s produce: {'batch_size': 12288.0, 'flow': 179, 'amount_of_time': 30, 'timestamp': 1678384339.4181788, 'stop': False}"}
debug :  {"message": "Let s produce: {'batch_size': 12288.0, 'flow': 179, 'amount_of_time': 30, 'timestamp': 1678384339.4181788, 'stop': False}"}
debug :  {"message": "Let s produce: {'batch_size': 12288.0, 'flow': 179, 'amount_of_time': 30, 'timestamp': 1678384339.4181788, 'stop': False}"}
debug :  {"Received so far:": 0, "nb_consumers_producers": 32}
debug :  {"consumer-write": "write data"}
consumer-write0-3 44
manager-consumer :  385  :  {"machine_kafka": "DS2_v2", "batch_size": 12288.0, "nb_messages": 5340, "time": 0.26375317573547363}
manager-consumer :  386  :  {"machine_kafka": "DS2_v2", "batch_size": 12288.0, "nb_messages": 5340, "time": 0.2658064365386963}
consumer-write0-2 45
debug :  {"message": "end topic: consumer-write6-3"}
debug :  {"consumer-write": "write data"}
manager-consumer :  387  :  {"machine_kafka": "DS2_v2", "batch_size": 12288.0, "nb_messages": 5340, "time": 0.271312952041626}
debug :  {"consumer-write": "write data"}
debug :  {"message": "end topic: consumer-write0-3"}
debug :  {"message": "end topic: consumer-write0-2"}
manager-consumer :  388  :  {"machine_kafka": "DS2_v2", "batch_size": 12288.0, "nb_messages": 5340, "time": 0.28317224979400635}
debug :  {"consumer-write": "write data"}
debug :  {"message": "end topic: consumer-write1-1"}
debug :  {"Received so far:": 1, "nb_consumers_producers": 32}
debug :  {"consumer-write": "write data"}
debug :  {"consumer-write": "write data"}
debug :  {"consumer-write": "write data"}
debug :  {"message": "end topic: consumer-write2-0"}
manager-consumer :  389  :  {"machine_kafka": "DS2_v2", "batch_size": 12288.0, "nb_messages": 5340, "time": 0.28319215774536133}
manager-consumer :  390  :  {"machine_kafka": "DS2_v2", "batch_size": 12288.0, "nb_messages": 5340, "time": 0.2848097085952759}
debug :  {"consumer-write": "write data"}
debug :  {"consumer-write": "write data"}
debug :  {"message": "end topic: consumer-write7-2"}
debug :  {"consumer-write": "write data"}
debug :  {"message": "end topic: consumer-write1-3"}
debug :  {"consumer-write": "write data"}
manager-consumer :  391  :  {"machine_kafka": "DS2_v2", "batch_size": 12288.0, "nb_messages": 5340, "time": 0.27025306224823}
manager-consumer :  392  :  {"machine_kafka": "DS2_v2", "batch_size": 12288.0, "nb_messages": 5340, "time": 0.27767395973205566}
manager-consumer :  393  :  {"machine_kafka": "DS2_v2", "batch_size": 12288.0, "nb_messages": 5340, "time": 0.26680779457092285}
manager-consumer :  394  :  {"machine_kafka": "DS2_v2", "batch_size": 12288.0, "nb_messages": 5340, "time": 0.2604999542236328}
manager-consumer :  395  :  {"machine_kafka": "DS2_v2", "batch_size": 12288.0, "nb_messages": 5340, "time": 0.2695068120956421}
manager-consumer :  396  :  {"machine_kafka": "DS2_v2", "batch_size": 12288.0, "nb_messages": 5340, "time": 0.27744531631469727}
manager-consumer :  397  :  {"machine_kafka": "DS2_v2", "batch_size": 12288.0, "nb_messages": 5340, "time": 0.26023054122924805}
manager-consumer :  398  :  {"machine_kafka": "DS2_v2", "batch_size": 12288.0, "nb_messages": 5340, "time": 0.2864304780960083}
debug :  {"consumer-write": "write data"}
debug :  {"message": "end topic: consumer-write5-0"}
debug :  {"message": "end topic: consumer-write7-0"}
debug :  {"consumer-write": "write data"}
debug :  {"consumer-write": "write data"}
debug :  {"message": "end topic: consumer-write3-2"}
debug :  {"message": "end topic: consumer-write7-3"}
debug :  {"consumer-write": "write data"}
debug :  {"message": "end topic: consumer-write3-1"}
debug :  {"message": "end topic: consumer-write4-2"}
debug :  {"message": "end topic: consumer-write4-0"}
debug :  {"message": "end topic: consumer-write2-1"}
debug :  {"Received so far:": 2, "nb_consumers_producers": 32}
manager-consumer :  399  :  {"machine_kafka": "DS2_v2", "batch_size": 12288.0, "nb_messages": 5340, "time": 0.27937638759613037}
manager-consumer :  400  :  {"machine_kafka": "DS2_v2", "batch_size": 12288.0, "nb_messages": 5340, "time": 0.26480424404144287}
manager-consumer :  401  :  {"machine_kafka": "DS2_v2", "batch_size": 12288.0, "nb_messages": 5340, "time": 0.2632102966308594}
debug :  {"consumer-write": "write data"}
debug :  {"consumer-write": "write data"}
debug :  {"message": "end topic: consumer-write6-0"}
consumer-write0-0 :  46
manager-consumer :  402  :  {"machine_kafka": "DS2_v2", "batch_size": 12288.0, "nb_messages": 5340, "time": 0.2748681306838989}
manager-consumer :  403  :  {"machine_kafka": "DS2_v2", "batch_size": 12288.0, "nb_messages": 5340, "time": 0.2964972257614136}
debug :  {"consumer-write": "write data"}
debug :  {"consumer-write": "write data"}
debug :  {"message": "end topic: consumer-write7-1"}
debug :  {"message": "end topic: consumer-write0-0"}
debug :  {"consumer-write": "write data"}
manager-consumer :  404  :  {"machine_kafka": "DS2_v2", "batch_size": 12288.0, "nb_messages": 5340, "time": 0.29325616359710693}
manager-consumer :  405  :  {"machine_kafka": "DS2_v2", "batch_size": 12288.0, "nb_messages": 5340, "time": 0.29229164123535156}
manager-consumer :  406  :  {"machine_kafka": "DS2_v2", "batch_size": 12288.0, "nb_messages": 5340, "time": 0.2719815969467163}
manager-consumer :  407  :  {"machine_kafka": "DS2_v2", "batch_size": 12288.0, "nb_messages": 5340, "time": 0.2751418352127075}
manager-consumer :  408  :  {"machine_kafka": "DS2_v2", "batch_size": 12288.0, "nb_messages": 5340, "time": 0.29456591606140137}
debug :  {"consumer-write": "write data"}
debug :  {"consumer-write": "write data"}
debug :  {"consumer-write": "write data"}
debug :  {"message": "end topic: consumer-write2-3"}
debug :  {"consumer-write": "write data"}
debug :  {"message": "end topic: consumer-write5-3"}
debug :  {"message": "end topic: consumer-write1-0"}
manager-consumer :  409  :  {"machine_kafka": "DS2_v2", "batch_size": 12288.0, "nb_messages": 5340, "time": 0.27447986602783203}
debug :  {"message": "end topic: consumer-write5-1"}
debug :  {"message": "end topic: consumer-write6-1"}
debug :  {"consumer-write": "write data"}
debug :  {"message": "end topic: consumer-write2-2"}
debug :  {"message": "end topic: consumer-write5-2"}
debug :  {"message": "end topic: consumer-write6-2"}
debug :  {"message": "end topic: consumer-write3-3"}
debug :  {"Received so far:": 3, "nb_consumers_producers": 32}
manager-consumer :  410  :  {"machine_kafka": "DS2_v2", "batch_size": 12288.0, "nb_messages": 5340, "time": 0.2596968412399292}
manager-consumer :  411  :  {"machine_kafka": "DS2_v2", "batch_size": 12288.0, "nb_messages": 5340, "time": 0.28102123737335205}
debug :  {"consumer-write": "write data"}
debug :  {"consumer-write": "write data"}
debug :  {"message": "end topic: consumer-write0-1"}
debug :  {"consumer-write": "write data"}
manager-consumer :  412  :  {"machine_kafka": "DS2_v2", "batch_size": 12288.0, "nb_messages": 5340, "time": 0.2843921184539795}
manager-consumer :  413  :  {"machine_kafka": "DS2_v2", "batch_size": 12288.0, "nb_messages": 5340, "time": 0.29781806468963623}
debug :  {"Received so far:": 4, "nb_consumers_producers": 32}
debug :  {"consumer-write": "write data"}
debug :  {"message": "end topic: consumer-write1-2"}
debug :  {"message": "end topic: consumer-write4-1"}
debug :  {"consumer-write": "write data"}
manager-consumer :  414  :  {"machine_kafka": "DS2_v2", "batch_size": 12288.0, "nb_messages": 5340, "time": 0.2664066553115845}
debug :  {"Received so far:": 5, "nb_consumers_producers": 32}
debug :  {"message": "end topic: consumer-write3-0"}
debug :  {"Received so far:": 6, "nb_consumers_producers": 32}
debug :  {"Received so far:": 7, "nb_consumers_producers": 32}
debug :  {"consumer-write": "write data"}
debug :  {"Received so far:": 8, "nb_consumers_producers": 32}
debug :  {"consumer-write": "write data"}
manager-consumer :  415  :  {"machine_kafka": "DS2_v2", "batch_size": 12288.0, "nb_messages": 5340, "time": 0.2926959991455078}
manager-consumer :  416  :  {"machine_kafka": "DS2_v2", "batch_size": 12288.0, "nb_messages": 5340, "time": 0.28608381748199463}
consumer-write0-1 :  47
debug :  {"message": "end topic: consumer-write4-3"}
debug :  {"Received so far:": 9, "nb_consumers_producers": 32}
debug :  {"Received so far:": 10, "nb_consumers_producers": 32}
debug :  {"Received so far:": 11, "nb_consumers_producers": 32}
debug :  {"Received so far:": 12, "nb_consumers_producers": 32}
debug :  {"Received so far:": 13, "nb_consumers_producers": 32}
debug :  {"Received so far:": 14, "nb_consumers_producers": 32}
debug :  {"Received so far:": 15, "nb_consumers_producers": 32}
debug :  {"Received so far:": 16, "nb_consumers_producers": 32}
debug :  {"Received so far:": 17, "nb_consumers_producers": 32}
debug :  {"Received so far:": 18, "nb_consumers_producers": 32}
debug :  {"Received so far:": 19, "nb_consumers_producers": 32}
debug :  {"Received so far:": 20, "nb_consumers_producers": 32}
debug :  {"Received so far:": 21, "nb_consumers_producers": 32}
debug :  {"Received so far:": 22, "nb_consumers_producers": 32}
debug :  {"Received so far:": 23, "nb_consumers_producers": 32}
debug :  {"Received so far:": 24, "nb_consumers_producers": 32}
debug :  {"Received so far:": 25, "nb_consumers_producers": 32}
debug :  {"Received so far:": 26, "nb_consumers_producers": 32}
debug :  {"Received so far:": 27, "nb_consumers_producers": 32}
debug :  {"Received so far:": 28, "nb_consumers_producers": 32}
debug :  {"Received so far:": 29, "nb_consumers_producers": 32}
debug :  {"Received so far:": 30, "nb_consumers_producers": 32}
debug :  {"Received so far:": 31, "nb_consumers_producers": 32}
manager-producer :  {"batch_size": 12288.0, "flow": 195, "amount_of_time": 30, "timestamp": 1678384381.0633483, "stop": false}
debug :  {"message": "Let s produce: {'batch_size': 12288.0, 'flow': 195, 'amount_of_time': 30, 'timestamp': 1678384381.0633483, 'stop': False}"}
debug :  {"message": "Let s produce: {'batch_size': 12288.0, 'flow': 195, 'amount_of_time': 30, 'timestamp': 1678384381.0633483, 'stop': False}"}
debug :  {"message": "Let s produce: {'batch_size': 12288.0, 'flow': 195, 'amount_of_time': 30, 'timestamp': 1678384381.0633483, 'stop': False}"}
debug :  {"message": "Let s produce: {'batch_size': 12288.0, 'flow': 195, 'amount_of_time': 30, 'timestamp': 1678384381.0633483, 'stop': False}"}
debug :  {"message": "Let s produce: {'batch_size': 12288.0, 'flow': 195, 'amount_of_time': 30, 'timestamp': 1678384381.0633483, 'stop': False}"}
debug :  {"message": "Let s produce: {'batch_size': 12288.0, 'flow': 195, 'amount_of_time': 30, 'timestamp': 1678384381.0633483, 'stop': False}"}
debug :  {"message": "Let s produce: {'batch_size': 12288.0, 'flow': 195, 'amount_of_time': 30, 'timestamp': 1678384381.0633483, 'stop': False}"}
debug :  {"message": "Let s produce: {'batch_size': 12288.0, 'flow': 195, 'amount_of_time': 30, 'timestamp': 1678384381.0633483, 'stop': False}"}
debug :  {"message": "Let s produce: {'batch_size': 12288.0, 'flow': 195, 'amount_of_time': 30, 'timestamp': 1678384381.0633483, 'stop': False}"}
debug :  {"message": "Let s produce: {'batch_size': 12288.0, 'flow': 195, 'amount_of_time': 30, 'timestamp': 1678384381.0633483, 'stop': False}"}
debug :  {"message": "Let s produce: {'batch_size': 12288.0, 'flow': 195, 'amount_of_time': 30, 'timestamp': 1678384381.0633483, 'stop': False}"}
debug :  {"message": "Let s produce: {'batch_size': 12288.0, 'flow': 195, 'amount_of_time': 30, 'timestamp': 1678384381.0633483, 'stop': False}"}
debug :  {"message": "Let s produce: {'batch_size': 12288.0, 'flow': 195, 'amount_of_time': 30, 'timestamp': 1678384381.0633483, 'stop': False}"}
debug :  {"message": "Let s produce: {'batch_size': 12288.0, 'flow': 195, 'amount_of_time': 30, 'timestamp': 1678384381.0633483, 'stop': False}"}
debug :  {"message": "Let s produce: {'batch_size': 12288.0, 'flow': 195, 'amount_of_time': 30, 'timestamp': 1678384381.0633483, 'stop': False}"}
debug :  {"message": "Let s produce: {'batch_size': 12288.0, 'flow': 195, 'amount_of_time': 30, 'timestamp': 1678384381.0633483, 'stop': False}"}
debug :  {"message": "Let s produce: {'batch_size': 12288.0, 'flow': 195, 'amount_of_time': 30, 'timestamp': 1678384381.0633483, 'stop': False}"}
debug :  {"message": "Let s produce: {'batch_size': 12288.0, 'flow': 195, 'amount_of_time': 30, 'timestamp': 1678384381.0633483, 'stop': False}"}
debug :  {"message": "Let s produce: {'batch_size': 12288.0, 'flow': 195, 'amount_of_time': 30, 'timestamp': 1678384381.0633483, 'stop': False}"}
debug :  {"message": "Let s produce: {'batch_size': 12288.0, 'flow': 195, 'amount_of_time': 30, 'timestamp': 1678384381.0633483, 'stop': False}"}
debug :  {"message": "Let s produce: {'batch_size': 12288.0, 'flow': 195, 'amount_of_time': 30, 'timestamp': 1678384381.0633483, 'stop': False}"}
debug :  {"message": "Let s produce: {'batch_size': 12288.0, 'flow': 195, 'amount_of_time': 30, 'timestamp': 1678384381.0633483, 'stop': False}"}
debug :  {"message": "Let s produce: {'batch_size': 12288.0, 'flow': 195, 'amount_of_time': 30, 'timestamp': 1678384381.0633483, 'stop': False}"}
debug :  {"message": "Let s produce: {'batch_size': 12288.0, 'flow': 195, 'amount_of_time': 30, 'timestamp': 1678384381.0633483, 'stop': False}"}
debug :  {"message": "Let s produce: {'batch_size': 12288.0, 'flow': 195, 'amount_of_time': 30, 'timestamp': 1678384381.0633483, 'stop': False}"}
debug :  {"message": "Let s produce: {'batch_size': 12288.0, 'flow': 195, 'amount_of_time': 30, 'timestamp': 1678384381.0633483, 'stop': False}"}
debug :  {"message": "Let s produce: {'batch_size': 12288.0, 'flow': 195, 'amount_of_time': 30, 'timestamp': 1678384381.0633483, 'stop': False}"}
debug :  {"message": "Let s produce: {'batch_size': 12288.0, 'flow': 195, 'amount_of_time': 30, 'timestamp': 1678384381.0633483, 'stop': False}"}
debug :  {"message": "Let s produce: {'batch_size': 12288.0, 'flow': 195, 'amount_of_time': 30, 'timestamp': 1678384381.0633483, 'stop': False}"}
debug :  {"message": "Let s produce: {'batch_size': 12288.0, 'flow': 195, 'amount_of_time': 30, 'timestamp': 1678384381.0633483, 'stop': False}"}
debug :  {"message": "Let s produce: {'batch_size': 12288.0, 'flow': 195, 'amount_of_time': 30, 'timestamp': 1678384381.0633483, 'stop': False}"}
debug :  {"message": "Let s produce: {'batch_size': 12288.0, 'flow': 195, 'amount_of_time': 30, 'timestamp': 1678384381.0633483, 'stop': False}"}
debug :  {"Received so far:": 0, "nb_consumers_producers": 32}
debug :  {"consumer-write": "write data"}
debug :  {"message": "end topic: consumer-write6-3"}
manager-consumer :  417  :  {"machine_kafka": "DS2_v2", "batch_size": 12288.0, "nb_messages": 5820, "time": 0.3238794803619385}
manager-consumer :  418  :  {"machine_kafka": "DS2_v2", "batch_size": 12288.0, "nb_messages": 5820, "time": 0.33787500858306885}
debug :  {"consumer-write": "write data"}
consumer-write0-3 48
consumer-write0-2 49
manager-consumer :  419  :  {"machine_kafka": "DS2_v2", "batch_size": 12288.0, "nb_messages": 5820, "time": 0.3208256959915161}
manager-consumer :  420  :  {"machine_kafka": "DS2_v2", "batch_size": 12288.0, "nb_messages": 5820, "time": 0.34368741512298584}
debug :  {"Received so far:": 1, "nb_consumers_producers": 32}
debug :  {"message": "end topic: consumer-write1-1"}
debug :  {"consumer-write": "write data"}
debug :  {"consumer-write": "write data"}
debug :  {"message": "end topic: consumer-write0-3"}
debug :  {"message": "end topic: consumer-write2-0"}
debug :  {"consumer-write": "write data"}
debug :  {"consumer-write": "write data"}
debug :  {"consumer-write": "write data"}
debug :  {"consumer-write": "write data"}
manager-consumer :  421  :  {"machine_kafka": "DS2_v2", "batch_size": 12288.0, "nb_messages": 5820, "time": 0.3219892978668213}
manager-consumer :  422  :  {"machine_kafka": "DS2_v2", "batch_size": 12288.0, "nb_messages": 5820, "time": 0.3284947872161865}
manager-consumer :  423  :  {"machine_kafka": "DS2_v2", "batch_size": 12288.0, "nb_messages": 5820, "time": 0.340734601020813}
manager-consumer :  424  :  {"machine_kafka": "DS2_v2", "batch_size": 12288.0, "nb_messages": 5820, "time": 0.32441043853759766}
debug :  {"message": "end topic: consumer-write1-3"}
debug :  {"message": "end topic: consumer-write5-0"}
debug :  {"consumer-write": "write data"}
debug :  {"message": "end topic: consumer-write7-2"}
debug :  {"message": "end topic: consumer-write0-2"}
debug :  {"consumer-write": "write data"}
manager-consumer :  425  :  {"machine_kafka": "DS2_v2", "batch_size": 12288.0, "nb_messages": 5820, "time": 0.32700836658477783}
manager-consumer :  426  :  {"machine_kafka": "DS2_v2", "batch_size": 12288.0, "nb_messages": 5820, "time": 0.32184553146362305}
manager-consumer :  427  :  {"machine_kafka": "DS2_v2", "batch_size": 12288.0, "nb_messages": 5820, "time": 0.31151914596557617}
manager-consumer :  428  :  {"machine_kafka": "DS2_v2", "batch_size": 12288.0, "nb_messages": 5820, "time": 0.3313201665878296}
manager-consumer :  429  :  {"machine_kafka": "DS2_v2", "batch_size": 12288.0, "nb_messages": 5820, "time": 0.33685171604156494}
debug :  {"consumer-write": "write data"}
debug :  {"message": "end topic: consumer-write7-0"}
debug :  {"consumer-write": "write data"}
debug :  {"message": "end topic: consumer-write7-3"}
debug :  {"message": "end topic: consumer-write4-2"}
debug :  {"consumer-write": "write data"}
debug :  {"Received so far:": 2, "nb_consumers_producers": 32}
debug :  {"message": "end topic: consumer-write2-1"}
debug :  {"message": "end topic: consumer-write4-0"}
debug :  {"consumer-write": "write data"}
consumer-write0-0 :  50
manager-consumer :  430  :  {"machine_kafka": "DS2_v2", "batch_size": 12288.0, "nb_messages": 5820, "time": 0.3088423013687134}
debug :  {"consumer-write": "write data"}
debug :  {"consumer-write": "write data"}
debug :  {"message": "end topic: consumer-write7-1"}
debug :  {"consumer-write": "write data"}
debug :  {"consumer-write": "write data"}
manager-consumer :  431  :  {"machine_kafka": "DS2_v2", "batch_size": 12288.0, "nb_messages": 5820, "time": 0.32235240936279297}
manager-consumer :  432  :  {"machine_kafka": "DS2_v2", "batch_size": 12288.0, "nb_messages": 5820, "time": 0.32751035690307617}
manager-consumer :  433  :  {"machine_kafka": "DS2_v2", "batch_size": 12288.0, "nb_messages": 5820, "time": 0.3476717472076416}
manager-consumer :  434  :  {"machine_kafka": "DS2_v2", "batch_size": 12288.0, "nb_messages": 5820, "time": 0.31019318103790283}
manager-consumer :  435  :  {"machine_kafka": "DS2_v2", "batch_size": 12288.0, "nb_messages": 5820, "time": 0.3234144449234009}
manager-consumer :  436  :  {"machine_kafka": "DS2_v2", "batch_size": 12288.0, "nb_messages": 5820, "time": 0.32835614681243896}
manager-consumer :  437  :  {"machine_kafka": "DS2_v2", "batch_size": 12288.0, "nb_messages": 5820, "time": 0.3502616882324219}
manager-consumer :  438  :  {"machine_kafka": "DS2_v2", "batch_size": 12288.0, "nb_messages": 5820, "time": 0.3298771381378174}
manager-consumer :  439  :  {"machine_kafka": "DS2_v2", "batch_size": 12288.0, "nb_messages": 5820, "time": 0.3495817184448242}
debug :  {"message": "end topic: consumer-write6-0"}
debug :  {"consumer-write": "write data"}
debug :  {"consumer-write": "write data"}
debug :  {"consumer-write": "write data"}
debug :  {"consumer-write": "write data"}
debug :  {"message": "end topic: consumer-write0-0"}
debug :  {"consumer-write": "write data"}
debug :  {"message": "end topic: consumer-write2-3"}
debug :  {"message": "end topic: consumer-write3-2"}
debug :  {"message": "end topic: consumer-write6-1"}
debug :  {"message": "end topic: consumer-write1-0"}
debug :  {"message": "end topic: consumer-write3-1"}
debug :  {"message": "end topic: consumer-write5-3"}
debug :  {"Received so far:": 3, "nb_consumers_producers": 32}
debug :  {"message": "end topic: consumer-write5-1"}
debug :  {"consumer-write": "write data"}
debug :  {"consumer-write": "write data"}
debug :  {"consumer-write": "write data"}
manager-consumer :  440  :  {"machine_kafka": "DS2_v2", "batch_size": 12288.0, "nb_messages": 5820, "time": 0.3373643159866333}
manager-consumer :  441  :  {"machine_kafka": "DS2_v2", "batch_size": 12288.0, "nb_messages": 5820, "time": 0.3323246240615845}
manager-consumer :  442  :  {"machine_kafka": "DS2_v2", "batch_size": 12288.0, "nb_messages": 5820, "time": 0.3076857328414917}
manager-consumer :  443  :  {"machine_kafka": "DS2_v2", "batch_size": 12288.0, "nb_messages": 5820, "time": 0.34498417377471924}
debug :  {"consumer-write": "write data"}
debug :  {"message": "end topic: consumer-write2-2"}
debug :  {"message": "end topic: consumer-write6-2"}
debug :  {"message": "end topic: consumer-write5-2"}
debug :  {"message": "end topic: consumer-write3-3"}
debug :  {"Received so far:": 4, "nb_consumers_producers": 32}
debug :  {"consumer-write": "write data"}
manager-consumer :  444  :  {"machine_kafka": "DS2_v2", "batch_size": 12288.0, "nb_messages": 5820, "time": 0.34878718852996826}
manager-consumer :  445  :  {"machine_kafka": "DS2_v2", "batch_size": 12288.0, "nb_messages": 5820, "time": 0.357869029045105}
debug :  {"consumer-write": "write data"}
debug :  {"message": "end topic: consumer-write1-2"}
debug :  {"Received so far:": 5, "nb_consumers_producers": 32}
debug :  {"message": "end topic: consumer-write4-1"}
debug :  {"consumer-write": "write data"}
manager-consumer :  446  :  {"machine_kafka": "DS2_v2", "batch_size": 12288.0, "nb_messages": 5820, "time": 0.3256549835205078}
debug :  {"message": "end topic: consumer-write3-0"}
debug :  {"Received so far:": 6, "nb_consumers_producers": 32}
debug :  {"Received so far:": 7, "nb_consumers_producers": 32}
debug :  {"Received so far:": 8, "nb_consumers_producers": 32}
consumer-write0-1 :  51
debug :  {"Received so far:": 9, "nb_consumers_producers": 32}
debug :  {"consumer-write": "write data"}
manager-consumer :  447  :  {"machine_kafka": "DS2_v2", "batch_size": 12288.0, "nb_messages": 5820, "time": 0.33752524852752686}
debug :  {"message": "end topic: consumer-write0-1"}
debug :  {"consumer-write": "write data"}
debug :  {"message": "end topic: consumer-write4-3"}
manager-consumer :  448  :  {"machine_kafka": "DS2_v2", "batch_size": 12288.0, "nb_messages": 5820, "time": 0.3347163200378418}
debug :  {"Received so far:": 10, "nb_consumers_producers": 32}
debug :  {"Received so far:": 11, "nb_consumers_producers": 32}
debug :  {"Received so far:": 12, "nb_consumers_producers": 32}
debug :  {"Received so far:": 13, "nb_consumers_producers": 32}
debug :  {"Received so far:": 14, "nb_consumers_producers": 32}
debug :  {"Received so far:": 15, "nb_consumers_producers": 32}
debug :  {"Received so far:": 16, "nb_consumers_producers": 32}
debug :  {"Received so far:": 17, "nb_consumers_producers": 32}
debug :  {"Received so far:": 18, "nb_consumers_producers": 32}
debug :  {"Received so far:": 19, "nb_consumers_producers": 32}
debug :  {"Received so far:": 20, "nb_consumers_producers": 32}
debug :  {"Received so far:": 21, "nb_consumers_producers": 32}
debug :  {"Received so far:": 22, "nb_consumers_producers": 32}
debug :  {"Received so far:": 23, "nb_consumers_producers": 32}
debug :  {"Received so far:": 24, "nb_consumers_producers": 32}
debug :  {"Received so far:": 25, "nb_consumers_producers": 32}
debug :  {"Received so far:": 26, "nb_consumers_producers": 32}
debug :  {"Received so far:": 27, "nb_consumers_producers": 32}
debug :  {"Received so far:": 28, "nb_consumers_producers": 32}
debug :  {"Received so far:": 29, "nb_consumers_producers": 32}
debug :  {"Received so far:": 30, "nb_consumers_producers": 32}
debug :  {"Received so far:": 31, "nb_consumers_producers": 32}
manager-producer :  {"batch_size": 12288.0, "flow": 210, "amount_of_time": 30, "timestamp": 1678384421.8589542, "stop": false}
debug :  {"message": "Let s produce: {'batch_size': 12288.0, 'flow': 210, 'amount_of_time': 30, 'timestamp': 1678384421.8589542, 'stop': False}"}
debug :  {"message": "Let s produce: {'batch_size': 12288.0, 'flow': 210, 'amount_of_time': 30, 'timestamp': 1678384421.8589542, 'stop': False}"}
debug :  {"message": "Let s produce: {'batch_size': 12288.0, 'flow': 210, 'amount_of_time': 30, 'timestamp': 1678384421.8589542, 'stop': False}"}
debug :  {"message": "Let s produce: {'batch_size': 12288.0, 'flow': 210, 'amount_of_time': 30, 'timestamp': 1678384421.8589542, 'stop': False}"}
debug :  {"message": "Let s produce: {'batch_size': 12288.0, 'flow': 210, 'amount_of_time': 30, 'timestamp': 1678384421.8589542, 'stop': False}"}
debug :  {"message": "Let s produce: {'batch_size': 12288.0, 'flow': 210, 'amount_of_time': 30, 'timestamp': 1678384421.8589542, 'stop': False}"}
debug :  {"message": "Let s produce: {'batch_size': 12288.0, 'flow': 210, 'amount_of_time': 30, 'timestamp': 1678384421.8589542, 'stop': False}"}
debug :  {"message": "Let s produce: {'batch_size': 12288.0, 'flow': 210, 'amount_of_time': 30, 'timestamp': 1678384421.8589542, 'stop': False}"}
debug :  {"message": "Let s produce: {'batch_size': 12288.0, 'flow': 210, 'amount_of_time': 30, 'timestamp': 1678384421.8589542, 'stop': False}"}
debug :  {"message": "Let s produce: {'batch_size': 12288.0, 'flow': 210, 'amount_of_time': 30, 'timestamp': 1678384421.8589542, 'stop': False}"}
debug :  {"message": "Let s produce: {'batch_size': 12288.0, 'flow': 210, 'amount_of_time': 30, 'timestamp': 1678384421.8589542, 'stop': False}"}
debug :  {"message": "Let s produce: {'batch_size': 12288.0, 'flow': 210, 'amount_of_time': 30, 'timestamp': 1678384421.8589542, 'stop': False}"}
debug :  {"message": "Let s produce: {'batch_size': 12288.0, 'flow': 210, 'amount_of_time': 30, 'timestamp': 1678384421.8589542, 'stop': False}"}
debug :  {"message": "Let s produce: {'batch_size': 12288.0, 'flow': 210, 'amount_of_time': 30, 'timestamp': 1678384421.8589542, 'stop': False}"}
debug :  {"message": "Let s produce: {'batch_size': 12288.0, 'flow': 210, 'amount_of_time': 30, 'timestamp': 1678384421.8589542, 'stop': False}"}
debug :  {"message": "Let s produce: {'batch_size': 12288.0, 'flow': 210, 'amount_of_time': 30, 'timestamp': 1678384421.8589542, 'stop': False}"}
debug :  {"message": "Let s produce: {'batch_size': 12288.0, 'flow': 210, 'amount_of_time': 30, 'timestamp': 1678384421.8589542, 'stop': False}"}
debug :  {"message": "Let s produce: {'batch_size': 12288.0, 'flow': 210, 'amount_of_time': 30, 'timestamp': 1678384421.8589542, 'stop': False}"}
debug :  {"message": "Let s produce: {'batch_size': 12288.0, 'flow': 210, 'amount_of_time': 30, 'timestamp': 1678384421.8589542, 'stop': False}"}
debug :  {"message": "Let s produce: {'batch_size': 12288.0, 'flow': 210, 'amount_of_time': 30, 'timestamp': 1678384421.8589542, 'stop': False}"}
debug :  {"message": "Let s produce: {'batch_size': 12288.0, 'flow': 210, 'amount_of_time': 30, 'timestamp': 1678384421.8589542, 'stop': False}"}
debug :  {"message": "Let s produce: {'batch_size': 12288.0, 'flow': 210, 'amount_of_time': 30, 'timestamp': 1678384421.8589542, 'stop': False}"}
debug :  {"message": "Let s produce: {'batch_size': 12288.0, 'flow': 210, 'amount_of_time': 30, 'timestamp': 1678384421.8589542, 'stop': False}"}
debug :  {"message": "Let s produce: {'batch_size': 12288.0, 'flow': 210, 'amount_of_time': 30, 'timestamp': 1678384421.8589542, 'stop': False}"}
debug :  {"message": "Let s produce: {'batch_size': 12288.0, 'flow': 210, 'amount_of_time': 30, 'timestamp': 1678384421.8589542, 'stop': False}"}
debug :  {"message": "Let s produce: {'batch_size': 12288.0, 'flow': 210, 'amount_of_time': 30, 'timestamp': 1678384421.8589542, 'stop': False}"}
debug :  {"message": "Let s produce: {'batch_size': 12288.0, 'flow': 210, 'amount_of_time': 30, 'timestamp': 1678384421.8589542, 'stop': False}"}
debug :  {"message": "Let s produce: {'batch_size': 12288.0, 'flow': 210, 'amount_of_time': 30, 'timestamp': 1678384421.8589542, 'stop': False}"}
debug :  {"message": "Let s produce: {'batch_size': 12288.0, 'flow': 210, 'amount_of_time': 30, 'timestamp': 1678384421.8589542, 'stop': False}"}
debug :  {"message": "Let s produce: {'batch_size': 12288.0, 'flow': 210, 'amount_of_time': 30, 'timestamp': 1678384421.8589542, 'stop': False}"}
debug :  {"message": "Let s produce: {'batch_size': 12288.0, 'flow': 210, 'amount_of_time': 30, 'timestamp': 1678384421.8589542, 'stop': False}"}
debug :  {"message": "Let s produce: {'batch_size': 12288.0, 'flow': 210, 'amount_of_time': 30, 'timestamp': 1678384421.8589542, 'stop': False}"}
debug :  {"Received so far:": 0, "nb_consumers_producers": 32}
consumer-write0-3 52
consumer-write0-1 :  53
consumer-write0-2 54
consumer-write0-0 :  55
debug :  {"message": "end topic: consumer-write7-3"}
debug :  {"message": "end topic: consumer-write2-1"}
debug :  {"message": "end topic: consumer-write6-2"}
debug :  {"message": "end topic: consumer-write2-3"}
debug :  {"message": "end topic: consumer-write5-0"}
debug :  {"message": "end topic: consumer-write1-1"}
debug :  {"consumer-write": "write data"}
debug :  {"message": "end topic: consumer-write1-0"}
debug :  {"message": "end topic: consumer-write1-3"}
debug :  {"message": "end topic: consumer-write6-1"}
debug :  {"message": "end topic: consumer-write7-0"}
debug :  {"message": "end topic: consumer-write4-2"}
debug :  {"consumer-write": "write data"}
debug :  {"consumer-write": "write data"}
debug :  {"message": "end topic: consumer-write4-0"}
debug :  {"message": "end topic: consumer-write0-2"}
debug :  {"message": "end topic: consumer-write5-3"}
debug :  {"message": "end topic: consumer-write7-1"}
debug :  {"message": "end topic: consumer-write0-3"}
debug :  {"message": "end topic: consumer-write0-0"}
debug :  {"message": "end topic: consumer-write2-0"}
debug :  {"message": "end topic: consumer-write2-2"}
debug :  {"message": "end topic: consumer-write3-3"}
debug :  {"message": "end topic: consumer-write3-2"}
debug :  {"message": "end topic: consumer-write3-1"}
debug :  {"consumer-write": "write data"}
debug :  {"consumer-write": "write data"}
debug :  {"message": "end topic: consumer-write5-1"}
debug :  {"consumer-write": "write data"}
debug :  {"message": "end topic: consumer-write4-3"}
debug :  {"message": "end topic: consumer-write3-0"}
debug :  {"message": "end topic: consumer-write5-2"}
debug :  {"message": "end topic: consumer-write6-0"}
debug :  {"consumer-write": "write data"}
debug :  {"consumer-write": "write data"}
debug :  {"message": "end topic: consumer-write0-1"}
debug :  {"consumer-write": "write data"}
debug :  {"consumer-write": "write data"}
debug :  {"consumer-write": "write data"}
debug :  {"consumer-write": "write data"}
debug :  {"consumer-write": "write data"}
debug :  {"message": "end topic: consumer-write4-1"}
debug :  {"consumer-write": "write data"}
debug :  {"consumer-write": "write data"}
debug :  {"consumer-write": "write data"}
debug :  {"consumer-write": "write data"}
debug :  {"consumer-write": "write data"}
debug :  {"consumer-write": "write data"}
debug :  {"consumer-write": "write data"}
debug :  {"consumer-write": "write data"}
debug :  {"message": "end topic: consumer-write1-2"}
debug :  {"consumer-write": "write data"}
debug :  {"consumer-write": "write data"}
debug :  {"consumer-write": "write data"}
debug :  {"consumer-write": "write data"}
debug :  {"consumer-write": "write data"}
debug :  {"consumer-write": "write data"}
debug :  {"consumer-write": "write data"}
debug :  {"consumer-write": "write data"}
debug :  {"consumer-write": "write data"}
debug :  {"consumer-write": "write data"}
manager-consumer :  449  :  {"machine_kafka": "DS2_v2", "batch_size": 12288.0, "nb_messages": 5646, "time": 0.3128310441970825}
manager-consumer :  450  :  {"machine_kafka": "DS2_v2", "batch_size": 12288.0, "nb_messages": 5634, "time": 0.30827033519744873}
manager-consumer :  451  :  {"machine_kafka": "DS2_v2", "batch_size": 12288.0, "nb_messages": 5619, "time": 0.3143801689147949}
manager-consumer :  452  :  {"machine_kafka": "DS2_v2", "batch_size": 12288.0, "nb_messages": 5622, "time": 0.3351707458496094}
manager-consumer :  453  :  {"machine_kafka": "DS2_v2", "batch_size": 12288.0, "nb_messages": 5677, "time": 0.31618165969848633}
manager-consumer :  454  :  {"machine_kafka": "DS2_v2", "batch_size": 12288.0, "nb_messages": 5679, "time": 0.30420804023742676}
manager-consumer :  455  :  {"machine_kafka": "DS2_v2", "batch_size": 12288.0, "nb_messages": 5616, "time": 0.31791019439697266}
manager-consumer :  456  :  {"machine_kafka": "DS2_v2", "batch_size": 12288.0, "nb_messages": 5642, "time": 0.3255152702331543}
manager-consumer :  457  :  {"machine_kafka": "DS2_v2", "batch_size": 12288.0, "nb_messages": 5635, "time": 0.3272559642791748}
manager-consumer :  458  :  {"machine_kafka": "DS2_v2", "batch_size": 12288.0, "nb_messages": 5619, "time": 0.3193368911743164}
manager-consumer :  459  :  {"machine_kafka": "DS2_v2", "batch_size": 12288.0, "nb_messages": 5600, "time": 0.3193495273590088}
manager-consumer :  460  :  {"machine_kafka": "DS2_v2", "batch_size": 12288.0, "nb_messages": 5584, "time": 0.33496856689453125}
manager-consumer :  461  :  {"machine_kafka": "DS2_v2", "batch_size": 12288.0, "nb_messages": 5624, "time": 0.31542348861694336}
manager-consumer :  462  :  {"machine_kafka": "DS2_v2", "batch_size": 12288.0, "nb_messages": 5509, "time": 0.3363950252532959}
manager-consumer :  463  :  {"machine_kafka": "DS2_v2", "batch_size": 12288.0, "nb_messages": 5616, "time": 0.3398411273956299}
manager-consumer :  464  :  {"machine_kafka": "DS2_v2", "batch_size": 12288.0, "nb_messages": 5635, "time": 0.2992682456970215}
manager-consumer :  465  :  {"machine_kafka": "DS2_v2", "batch_size": 12288.0, "nb_messages": 5652, "time": 0.31887972354888916}
manager-consumer :  466  :  {"machine_kafka": "DS2_v2", "batch_size": 12288.0, "nb_messages": 5611, "time": 0.3392667770385742}
manager-consumer :  467  :  {"machine_kafka": "DS2_v2", "batch_size": 12288.0, "nb_messages": 5620, "time": 0.3190188407897949}
manager-consumer :  468  :  {"machine_kafka": "DS2_v2", "batch_size": 12288.0, "nb_messages": 5611, "time": 0.2985832691192627}
manager-consumer :  469  :  {"machine_kafka": "DS2_v2", "batch_size": 12288.0, "nb_messages": 5657, "time": 0.3130016326904297}
manager-consumer :  470  :  {"machine_kafka": "DS2_v2", "batch_size": 12288.0, "nb_messages": 5611, "time": 0.31104493141174316}
manager-consumer :  471  :  {"machine_kafka": "DS2_v2", "batch_size": 12288.0, "nb_messages": 5652, "time": 0.3059176206588745}
manager-consumer :  472  :  {"machine_kafka": "DS2_v2", "batch_size": 12288.0, "nb_messages": 5605, "time": 0.32276201248168945}
manager-consumer :  473  :  {"machine_kafka": "DS2_v2", "batch_size": 12288.0, "nb_messages": 5584, "time": 0.3057800531387329}
manager-consumer :  474  :  {"machine_kafka": "DS2_v2", "batch_size": 12288.0, "nb_messages": 5614, "time": 0.2984195947647095}
debug :  {"message": "end topic: consumer-write6-3"}
debug :  {"message": "end topic: consumer-write7-2"}
debug :  {"consumer-write": "write data"}
debug :  {"Received so far:": 1, "nb_consumers_producers": 32}
manager-consumer :  475  :  {"machine_kafka": "DS2_v2", "batch_size": 12288.0, "nb_messages": 5604, "time": 0.3304053544998169}
manager-consumer :  476  :  {"machine_kafka": "DS2_v2", "batch_size": 12288.0, "nb_messages": 5604, "time": 0.31249988079071045}
manager-consumer :  477  :  {"machine_kafka": "DS2_v2", "batch_size": 12288.0, "nb_messages": 5626, "time": 0.3229621648788452}
manager-consumer :  478  :  {"machine_kafka": "DS2_v2", "batch_size": 12288.0, "nb_messages": 5491, "time": 0.3276329040527344}
manager-consumer :  479  :  {"machine_kafka": "DS2_v2", "batch_size": 12288.0, "nb_messages": 5599, "time": 0.3076784610748291}
manager-consumer :  480  :  {"machine_kafka": "DS2_v2", "batch_size": 12288.0, "nb_messages": 5660, "time": 0.3024953603744507}
debug :  {"Received so far:": 2, "nb_consumers_producers": 32}
debug :  {"Received so far:": 3, "nb_consumers_producers": 32}
debug :  {"Received so far:": 4, "nb_consumers_producers": 32}
debug :  {"Received so far:": 5, "nb_consumers_producers": 32}
debug :  {"Received so far:": 6, "nb_consumers_producers": 32}
debug :  {"Received so far:": 7, "nb_consumers_producers": 32}
debug :  {"Received so far:": 8, "nb_consumers_producers": 32}
debug :  {"Received so far:": 9, "nb_consumers_producers": 32}
debug :  {"Received so far:": 10, "nb_consumers_producers": 32}
debug :  {"Received so far:": 11, "nb_consumers_producers": 32}
debug :  {"Received so far:": 12, "nb_consumers_producers": 32}
debug :  {"Received so far:": 13, "nb_consumers_producers": 32}
debug :  {"Received so far:": 14, "nb_consumers_producers": 32}
debug :  {"Received so far:": 15, "nb_consumers_producers": 32}
debug :  {"Received so far:": 16, "nb_consumers_producers": 32}
debug :  {"Received so far:": 17, "nb_consumers_producers": 32}
debug :  {"Received so far:": 18, "nb_consumers_producers": 32}
debug :  {"Received so far:": 19, "nb_consumers_producers": 32}
debug :  {"Received so far:": 20, "nb_consumers_producers": 32}
debug :  {"Received so far:": 21, "nb_consumers_producers": 32}
debug :  {"Received so far:": 22, "nb_consumers_producers": 32}
debug :  {"Received so far:": 23, "nb_consumers_producers": 32}
debug :  {"Received so far:": 24, "nb_consumers_producers": 32}
debug :  {"Received so far:": 25, "nb_consumers_producers": 32}
debug :  {"Received so far:": 26, "nb_consumers_producers": 32}
debug :  {"Received so far:": 27, "nb_consumers_producers": 32}
debug :  {"Received so far:": 28, "nb_consumers_producers": 32}
debug :  {"Received so far:": 29, "nb_consumers_producers": 32}
debug :  {"Received so far:": 30, "nb_consumers_producers": 32}
debug :  {"Received so far:": 31, "nb_consumers_producers": 32}
manager-producer :  {"batch_size": 12288.0, "flow": 226, "amount_of_time": 30, "timestamp": 1678384464.421717, "stop": false}
debug :  {"message": "Let s produce: {'batch_size': 12288.0, 'flow': 226, 'amount_of_time': 30, 'timestamp': 1678384464.421717, 'stop': False}"}
debug :  {"message": "Let s produce: {'batch_size': 12288.0, 'flow': 226, 'amount_of_time': 30, 'timestamp': 1678384464.421717, 'stop': False}"}
debug :  {"message": "Let s produce: {'batch_size': 12288.0, 'flow': 226, 'amount_of_time': 30, 'timestamp': 1678384464.421717, 'stop': False}"}
debug :  {"message": "Let s produce: {'batch_size': 12288.0, 'flow': 226, 'amount_of_time': 30, 'timestamp': 1678384464.421717, 'stop': False}"}
debug :  {"message": "Let s produce: {'batch_size': 12288.0, 'flow': 226, 'amount_of_time': 30, 'timestamp': 1678384464.421717, 'stop': False}"}
debug :  {"message": "Let s produce: {'batch_size': 12288.0, 'flow': 226, 'amount_of_time': 30, 'timestamp': 1678384464.421717, 'stop': False}"}
debug :  {"message": "Let s produce: {'batch_size': 12288.0, 'flow': 226, 'amount_of_time': 30, 'timestamp': 1678384464.421717, 'stop': False}"}
debug :  {"message": "Let s produce: {'batch_size': 12288.0, 'flow': 226, 'amount_of_time': 30, 'timestamp': 1678384464.421717, 'stop': False}"}
debug :  {"message": "Let s produce: {'batch_size': 12288.0, 'flow': 226, 'amount_of_time': 30, 'timestamp': 1678384464.421717, 'stop': False}"}
debug :  {"message": "Let s produce: {'batch_size': 12288.0, 'flow': 226, 'amount_of_time': 30, 'timestamp': 1678384464.421717, 'stop': False}"}
debug :  {"message": "Let s produce: {'batch_size': 12288.0, 'flow': 226, 'amount_of_time': 30, 'timestamp': 1678384464.421717, 'stop': False}"}
debug :  {"message": "Let s produce: {'batch_size': 12288.0, 'flow': 226, 'amount_of_time': 30, 'timestamp': 1678384464.421717, 'stop': False}"}
debug :  {"message": "Let s produce: {'batch_size': 12288.0, 'flow': 226, 'amount_of_time': 30, 'timestamp': 1678384464.421717, 'stop': False}"}
debug :  {"message": "Let s produce: {'batch_size': 12288.0, 'flow': 226, 'amount_of_time': 30, 'timestamp': 1678384464.421717, 'stop': False}"}
debug :  {"message": "Let s produce: {'batch_size': 12288.0, 'flow': 226, 'amount_of_time': 30, 'timestamp': 1678384464.421717, 'stop': False}"}
debug :  {"message": "Let s produce: {'batch_size': 12288.0, 'flow': 226, 'amount_of_time': 30, 'timestamp': 1678384464.421717, 'stop': False}"}
debug :  {"message": "Let s produce: {'batch_size': 12288.0, 'flow': 226, 'amount_of_time': 30, 'timestamp': 1678384464.421717, 'stop': False}"}
debug :  {"message": "Let s produce: {'batch_size': 12288.0, 'flow': 226, 'amount_of_time': 30, 'timestamp': 1678384464.421717, 'stop': False}"}
debug :  {"message": "Let s produce: {'batch_size': 12288.0, 'flow': 226, 'amount_of_time': 30, 'timestamp': 1678384464.421717, 'stop': False}"}
debug :  {"message": "Let s produce: {'batch_size': 12288.0, 'flow': 226, 'amount_of_time': 30, 'timestamp': 1678384464.421717, 'stop': False}"}
debug :  {"message": "Let s produce: {'batch_size': 12288.0, 'flow': 226, 'amount_of_time': 30, 'timestamp': 1678384464.421717, 'stop': False}"}
debug :  {"message": "Let s produce: {'batch_size': 12288.0, 'flow': 226, 'amount_of_time': 30, 'timestamp': 1678384464.421717, 'stop': False}"}
debug :  {"message": "Let s produce: {'batch_size': 12288.0, 'flow': 226, 'amount_of_time': 30, 'timestamp': 1678384464.421717, 'stop': False}"}
debug :  {"message": "Let s produce: {'batch_size': 12288.0, 'flow': 226, 'amount_of_time': 30, 'timestamp': 1678384464.421717, 'stop': False}"}
debug :  {"message": "Let s produce: {'batch_size': 12288.0, 'flow': 226, 'amount_of_time': 30, 'timestamp': 1678384464.421717, 'stop': False}"}
debug :  {"message": "Let s produce: {'batch_size': 12288.0, 'flow': 226, 'amount_of_time': 30, 'timestamp': 1678384464.421717, 'stop': False}"}
debug :  {"message": "Let s produce: {'batch_size': 12288.0, 'flow': 226, 'amount_of_time': 30, 'timestamp': 1678384464.421717, 'stop': False}"}
debug :  {"message": "Let s produce: {'batch_size': 12288.0, 'flow': 226, 'amount_of_time': 30, 'timestamp': 1678384464.421717, 'stop': False}"}
debug :  {"message": "Let s produce: {'batch_size': 12288.0, 'flow': 226, 'amount_of_time': 30, 'timestamp': 1678384464.421717, 'stop': False}"}
debug :  {"message": "Let s produce: {'batch_size': 12288.0, 'flow': 226, 'amount_of_time': 30, 'timestamp': 1678384464.421717, 'stop': False}"}
debug :  {"message": "Let s produce: {'batch_size': 12288.0, 'flow': 226, 'amount_of_time': 30, 'timestamp': 1678384464.421717, 'stop': False}"}
debug :  {"message": "Let s produce: {'batch_size': 12288.0, 'flow': 226, 'amount_of_time': 30, 'timestamp': 1678384464.421717, 'stop': False}"}
debug :  {"Received so far:": 0, "nb_consumers_producers": 32}
consumer-write0-2 56
consumer-write0-0 :  57
debug :  {"consumer-write": "write data"}
debug :  {"consumer-write": "write data"}
debug :  {"consumer-write": "write data"}
debug :  {"consumer-write": "write data"}
debug :  {"consumer-write": "write data"}
debug :  {"consumer-write": "write data"}
debug :  {"message": "end topic: consumer-write5-0"}
debug :  {"consumer-write": "write data"}
debug :  {"consumer-write": "write data"}
debug :  {"consumer-write": "write data"}
debug :  {"consumer-write": "write data"}
debug :  {"consumer-write": "write data"}
debug :  {"message": "end topic: consumer-write1-0"}
debug :  {"message": "end topic: consumer-write2-1"}
debug :  {"consumer-write": "write data"}
debug :  {"consumer-write": "write data"}
debug :  {"consumer-write": "write data"}
debug :  {"consumer-write": "write data"}
debug :  {"message": "end topic: consumer-write1-3"}
debug :  {"message": "end topic: consumer-write7-3"}
debug :  {"message": "end topic: consumer-write1-1"}
debug :  {"consumer-write": "write data"}
debug :  {"message": "end topic: consumer-write0-2"}
debug :  {"consumer-write": "write data"}
consumer-write0-1 :  58
manager-consumer :  481  :  {"machine_kafka": "DS2_v2", "batch_size": 12288.0, "nb_messages": 7461, "time": 0.37380242347717285}
manager-consumer :  482  :  {"machine_kafka": "DS2_v2", "batch_size": 12288.0, "nb_messages": 7434, "time": 0.3706873655319214}
manager-consumer :  483  :  {"machine_kafka": "DS2_v2", "batch_size": 12288.0, "nb_messages": 7428, "time": 0.38016748428344727}
manager-consumer :  484  :  {"machine_kafka": "DS2_v2", "batch_size": 12288.0, "nb_messages": 7446, "time": 0.3719213008880615}
manager-consumer :  485  :  {"machine_kafka": "DS2_v2", "batch_size": 12288.0, "nb_messages": 7403, "time": 0.3729844093322754}
manager-consumer :  486  :  {"machine_kafka": "DS2_v2", "batch_size": 12288.0, "nb_messages": 7476, "time": 0.3710472583770752}
manager-consumer :  487  :  {"machine_kafka": "DS2_v2", "batch_size": 12288.0, "nb_messages": 7458, "time": 0.39630579948425293}
manager-consumer :  488  :  {"machine_kafka": "DS2_v2", "batch_size": 12288.0, "nb_messages": 7464, "time": 0.397294282913208}
manager-consumer :  489  :  {"machine_kafka": "DS2_v2", "batch_size": 12288.0, "nb_messages": 7469, "time": 0.35474586486816406}
manager-consumer :  490  :  {"machine_kafka": "DS2_v2", "batch_size": 12288.0, "nb_messages": 7423, "time": 0.3709743022918701}
manager-consumer :  491  :  {"machine_kafka": "DS2_v2", "batch_size": 12288.0, "nb_messages": 7466, "time": 0.35138046741485596}
manager-consumer :  492  :  {"machine_kafka": "DS2_v2", "batch_size": 12288.0, "nb_messages": 7464, "time": 0.37539243698120117}
manager-consumer :  493  :  {"machine_kafka": "DS2_v2", "batch_size": 12288.0, "nb_messages": 7456, "time": 0.37412846088409424}
manager-consumer :  494  :  {"machine_kafka": "DS2_v2", "batch_size": 12288.0, "nb_messages": 7445, "time": 0.359208345413208}
manager-consumer :  495  :  {"machine_kafka": "DS2_v2", "batch_size": 12288.0, "nb_messages": 7480, "time": 0.3800513744354248}
debug :  {"consumer-write": "write data"}
debug :  {"consumer-write": "write data"}
debug :  {"message": "end topic: consumer-write5-1"}
debug :  {"message": "end topic: consumer-write2-0"}
debug :  {"consumer-write": "write data"}
debug :  {"message": "end topic: consumer-write6-1"}
debug :  {"message": "end topic: consumer-write2-3"}
debug :  {"message": "end topic: consumer-write6-2"}
debug :  {"consumer-write": "write data"}
debug :  {"consumer-write": "write data"}
debug :  {"consumer-write": "write data"}
debug :  {"message": "end topic: consumer-write0-0"}
debug :  {"message": "end topic: consumer-write7-1"}
debug :  {"message": "end topic: consumer-write7-0"}
debug :  {"consumer-write": "write data"}
debug :  {"message": "end topic: consumer-write5-2"}
debug :  {"consumer-write": "write data"}
debug :  {"message": "end topic: consumer-write4-2"}
debug :  {"message": "end topic: consumer-write2-2"}
debug :  {"message": "end topic: consumer-write3-0"}
debug :  {"message": "end topic: consumer-write6-0"}
debug :  {"consumer-write": "write data"}
debug :  {"message": "end topic: consumer-write3-2"}
debug :  {"message": "end topic: consumer-write5-3"}
debug :  {"message": "end topic: consumer-write3-3"}
debug :  {"message": "end topic: consumer-write0-1"}
debug :  {"message": "end topic: consumer-write3-1"}
debug :  {"message": "end topic: consumer-write1-2"}
debug :  {"Received so far:": 1, "nb_consumers_producers": 32}
debug :  {"consumer-write": "write data"}
debug :  {"consumer-write": "write data"}
debug :  {"message": "end topic: consumer-write6-3"}
manager-consumer :  496  :  {"machine_kafka": "DS2_v2", "batch_size": 12288.0, "nb_messages": 7481, "time": 0.36871814727783203}
manager-consumer :  497  :  {"machine_kafka": "DS2_v2", "batch_size": 12288.0, "nb_messages": 7496, "time": 0.3711971044540405}
manager-consumer :  498  :  {"machine_kafka": "DS2_v2", "batch_size": 12288.0, "nb_messages": 7469, "time": 0.3856680393218994}
manager-consumer :  499  :  {"machine_kafka": "DS2_v2", "batch_size": 12288.0, "nb_messages": 7476, "time": 0.38899970054626465}
manager-consumer :  500  :  {"machine_kafka": "DS2_v2", "batch_size": 12288.0, "nb_messages": 7428, "time": 0.3699767589569092}
manager-consumer :  501  :  {"machine_kafka": "DS2_v2", "batch_size": 12288.0, "nb_messages": 7469, "time": 0.39258742332458496}
manager-consumer :  502  :  {"machine_kafka": "DS2_v2", "batch_size": 12288.0, "nb_messages": 7454, "time": 0.38698387145996094}
manager-consumer :  503  :  {"machine_kafka": "DS2_v2", "batch_size": 12288.0, "nb_messages": 7461, "time": 0.3717935085296631}
manager-consumer :  504  :  {"machine_kafka": "DS2_v2", "batch_size": 12288.0, "nb_messages": 7460, "time": 0.37704265117645264}
manager-consumer :  505  :  {"machine_kafka": "DS2_v2", "batch_size": 12288.0, "nb_messages": 7475, "time": 0.38870739936828613}
manager-consumer :  506  :  {"machine_kafka": "DS2_v2", "batch_size": 12288.0, "nb_messages": 7571, "time": 0.40036559104919434}
manager-consumer :  507  :  {"machine_kafka": "DS2_v2", "batch_size": 12288.0, "nb_messages": 7420, "time": 0.36251068115234375}
manager-consumer :  508  :  {"machine_kafka": "DS2_v2", "batch_size": 12288.0, "nb_messages": 7438, "time": 0.38879168033599854}
consumer-write0-3 59
debug :  {"consumer-write": "write data"}
debug :  {"message": "end topic: consumer-write7-2"}
debug :  {"consumer-write": "write data"}
debug :  {"consumer-write": "write data"}
debug :  {"message": "end topic: consumer-write0-3"}
debug :  {"consumer-write": "write data"}
debug :  {"message": "end topic: consumer-write4-0"}
manager-consumer :  509  :  {"machine_kafka": "DS2_v2", "batch_size": 12288.0, "nb_messages": 7401, "time": 0.36851072311401367}
manager-consumer :  510  :  {"machine_kafka": "DS2_v2", "batch_size": 12288.0, "nb_messages": 7589, "time": 0.3894004821777344}
manager-consumer :  511  :  {"machine_kafka": "DS2_v2", "batch_size": 12288.0, "nb_messages": 7496, "time": 0.3982677459716797}
manager-consumer :  512  :  {"machine_kafka": "DS2_v2", "batch_size": 12288.0, "nb_messages": 7445, "time": 0.39042091369628906}
debug :  {"message": "end topic: consumer-write4-3"}
debug :  {"message": "end topic: consumer-write4-1"}
debug :  {"Received so far:": 2, "nb_consumers_producers": 32}
debug :  {"Received so far:": 3, "nb_consumers_producers": 32}
debug :  {"Received so far:": 4, "nb_consumers_producers": 32}
debug :  {"Received so far:": 5, "nb_consumers_producers": 32}
debug :  {"Received so far:": 6, "nb_consumers_producers": 32}
debug :  {"Received so far:": 7, "nb_consumers_producers": 32}
debug :  {"Received so far:": 8, "nb_consumers_producers": 32}
debug :  {"Received so far:": 9, "nb_consumers_producers": 32}
debug :  {"Received so far:": 10, "nb_consumers_producers": 32}
debug :  {"Received so far:": 11, "nb_consumers_producers": 32}
debug :  {"Received so far:": 12, "nb_consumers_producers": 32}
debug :  {"Received so far:": 13, "nb_consumers_producers": 32}
debug :  {"Received so far:": 14, "nb_consumers_producers": 32}
debug :  {"Received so far:": 15, "nb_consumers_producers": 32}
debug :  {"Received so far:": 16, "nb_consumers_producers": 32}
debug :  {"Received so far:": 17, "nb_consumers_producers": 32}
debug :  {"Received so far:": 18, "nb_consumers_producers": 32}
debug :  {"Received so far:": 19, "nb_consumers_producers": 32}
debug :  {"Received so far:": 20, "nb_consumers_producers": 32}
debug :  {"Received so far:": 21, "nb_consumers_producers": 32}
debug :  {"Received so far:": 22, "nb_consumers_producers": 32}
debug :  {"Received so far:": 23, "nb_consumers_producers": 32}
debug :  {"Received so far:": 24, "nb_consumers_producers": 32}
debug :  {"Received so far:": 25, "nb_consumers_producers": 32}
debug :  {"Received so far:": 26, "nb_consumers_producers": 32}
debug :  {"Received so far:": 27, "nb_consumers_producers": 32}
debug :  {"Received so far:": 28, "nb_consumers_producers": 32}
debug :  {"Received so far:": 29, "nb_consumers_producers": 32}
debug :  {"Received so far:": 30, "nb_consumers_producers": 32}
debug :  {"Received so far:": 31, "nb_consumers_producers": 32}
manager-producer :  {"batch_size": 12288.0, "flow": 242, "amount_of_time": 30, "timestamp": 1678384505.519663, "stop": false}
debug :  {"message": "Let s produce: {'batch_size': 12288.0, 'flow': 242, 'amount_of_time': 30, 'timestamp': 1678384505.519663, 'stop': False}"}
debug :  {"message": "Let s produce: {'batch_size': 12288.0, 'flow': 242, 'amount_of_time': 30, 'timestamp': 1678384505.519663, 'stop': False}"}
debug :  {"message": "Let s produce: {'batch_size': 12288.0, 'flow': 242, 'amount_of_time': 30, 'timestamp': 1678384505.519663, 'stop': False}"}
debug :  {"message": "Let s produce: {'batch_size': 12288.0, 'flow': 242, 'amount_of_time': 30, 'timestamp': 1678384505.519663, 'stop': False}"}
debug :  {"message": "Let s produce: {'batch_size': 12288.0, 'flow': 242, 'amount_of_time': 30, 'timestamp': 1678384505.519663, 'stop': False}"}
debug :  {"message": "Let s produce: {'batch_size': 12288.0, 'flow': 242, 'amount_of_time': 30, 'timestamp': 1678384505.519663, 'stop': False}"}
debug :  {"message": "Let s produce: {'batch_size': 12288.0, 'flow': 242, 'amount_of_time': 30, 'timestamp': 1678384505.519663, 'stop': False}"}
debug :  {"message": "Let s produce: {'batch_size': 12288.0, 'flow': 242, 'amount_of_time': 30, 'timestamp': 1678384505.519663, 'stop': False}"}
debug :  {"message": "Let s produce: {'batch_size': 12288.0, 'flow': 242, 'amount_of_time': 30, 'timestamp': 1678384505.519663, 'stop': False}"}
debug :  {"message": "Let s produce: {'batch_size': 12288.0, 'flow': 242, 'amount_of_time': 30, 'timestamp': 1678384505.519663, 'stop': False}"}
debug :  {"message": "Let s produce: {'batch_size': 12288.0, 'flow': 242, 'amount_of_time': 30, 'timestamp': 1678384505.519663, 'stop': False}"}
debug :  {"message": "Let s produce: {'batch_size': 12288.0, 'flow': 242, 'amount_of_time': 30, 'timestamp': 1678384505.519663, 'stop': False}"}
debug :  {"message": "Let s produce: {'batch_size': 12288.0, 'flow': 242, 'amount_of_time': 30, 'timestamp': 1678384505.519663, 'stop': False}"}
debug :  {"message": "Let s produce: {'batch_size': 12288.0, 'flow': 242, 'amount_of_time': 30, 'timestamp': 1678384505.519663, 'stop': False}"}
debug :  {"message": "Let s produce: {'batch_size': 12288.0, 'flow': 242, 'amount_of_time': 30, 'timestamp': 1678384505.519663, 'stop': False}"}
debug :  {"message": "Let s produce: {'batch_size': 12288.0, 'flow': 242, 'amount_of_time': 30, 'timestamp': 1678384505.519663, 'stop': False}"}
debug :  {"message": "Let s produce: {'batch_size': 12288.0, 'flow': 242, 'amount_of_time': 30, 'timestamp': 1678384505.519663, 'stop': False}"}
debug :  {"message": "Let s produce: {'batch_size': 12288.0, 'flow': 242, 'amount_of_time': 30, 'timestamp': 1678384505.519663, 'stop': False}"}
debug :  {"message": "Let s produce: {'batch_size': 12288.0, 'flow': 242, 'amount_of_time': 30, 'timestamp': 1678384505.519663, 'stop': False}"}
debug :  {"message": "Let s produce: {'batch_size': 12288.0, 'flow': 242, 'amount_of_time': 30, 'timestamp': 1678384505.519663, 'stop': False}"}
debug :  {"message": "Let s produce: {'batch_size': 12288.0, 'flow': 242, 'amount_of_time': 30, 'timestamp': 1678384505.519663, 'stop': False}"}
debug :  {"message": "Let s produce: {'batch_size': 12288.0, 'flow': 242, 'amount_of_time': 30, 'timestamp': 1678384505.519663, 'stop': False}"}
debug :  {"message": "Let s produce: {'batch_size': 12288.0, 'flow': 242, 'amount_of_time': 30, 'timestamp': 1678384505.519663, 'stop': False}"}
debug :  {"message": "Let s produce: {'batch_size': 12288.0, 'flow': 242, 'amount_of_time': 30, 'timestamp': 1678384505.519663, 'stop': False}"}
debug :  {"message": "Let s produce: {'batch_size': 12288.0, 'flow': 242, 'amount_of_time': 30, 'timestamp': 1678384505.519663, 'stop': False}"}
debug :  {"message": "Let s produce: {'batch_size': 12288.0, 'flow': 242, 'amount_of_time': 30, 'timestamp': 1678384505.519663, 'stop': False}"}
debug :  {"message": "Let s produce: {'batch_size': 12288.0, 'flow': 242, 'amount_of_time': 30, 'timestamp': 1678384505.519663, 'stop': False}"}
debug :  {"message": "Let s produce: {'batch_size': 12288.0, 'flow': 242, 'amount_of_time': 30, 'timestamp': 1678384505.519663, 'stop': False}"}
debug :  {"message": "Let s produce: {'batch_size': 12288.0, 'flow': 242, 'amount_of_time': 30, 'timestamp': 1678384505.519663, 'stop': False}"}
debug :  {"message": "Let s produce: {'batch_size': 12288.0, 'flow': 242, 'amount_of_time': 30, 'timestamp': 1678384505.519663, 'stop': False}"}
debug :  {"message": "Let s produce: {'batch_size': 12288.0, 'flow': 242, 'amount_of_time': 30, 'timestamp': 1678384505.519663, 'stop': False}"}
debug :  {"message": "Let s produce: {'batch_size': 12288.0, 'flow': 242, 'amount_of_time': 30, 'timestamp': 1678384505.519663, 'stop': False}"}
debug :  {"Received so far:": 0, "nb_consumers_producers": 32}
debug :  {"consumer-write": "write data"}
manager-consumer :  513  :  {"machine_kafka": "DS2_v2", "batch_size": 12288.0, "nb_messages": 7260, "time": 0.48547041416168213}
consumer-write0-0 :  60
debug :  {"consumer-write": "write data"}
debug :  {"consumer-write": "write data"}
debug :  {"consumer-write": "write data"}
debug :  {"consumer-write": "write data"}
debug :  {"consumer-write": "write data"}
debug :  {"consumer-write": "write data"}
debug :  {"consumer-write": "write data"}
debug :  {"consumer-write": "write data"}
debug :  {"consumer-write": "write data"}
manager-consumer :  514  :  {"machine_kafka": "DS2_v2", "batch_size": 12288.0, "nb_messages": 7260, "time": 0.5635536909103394}
manager-consumer :  515  :  {"machine_kafka": "DS2_v2", "batch_size": 12288.0, "nb_messages": 7260, "time": 0.5084167718887329}
manager-consumer :  516  :  {"machine_kafka": "DS2_v2", "batch_size": 12288.0, "nb_messages": 7260, "time": 0.5415489673614502}
manager-consumer :  517  :  {"machine_kafka": "DS2_v2", "batch_size": 12288.0, "nb_messages": 7260, "time": 0.4583686590194702}
manager-consumer :  518  :  {"machine_kafka": "DS2_v2", "batch_size": 12288.0, "nb_messages": 7260, "time": 0.545791745185852}
manager-consumer :  519  :  {"machine_kafka": "DS2_v2", "batch_size": 12288.0, "nb_messages": 7260, "time": 0.5323596000671387}
manager-consumer :  520  :  {"machine_kafka": "DS2_v2", "batch_size": 12288.0, "nb_messages": 7260, "time": 0.4917600154876709}
manager-consumer :  521  :  {"machine_kafka": "DS2_v2", "batch_size": 12288.0, "nb_messages": 7260, "time": 0.5130466222763062}
consumer-write0-2 61
debug :  {"message": "end topic: consumer-write5-0"}
debug :  {"consumer-write": "write data"}
debug :  {"message": "end topic: consumer-write2-3"}
debug :  {"message": "end topic: consumer-write1-0"}
debug :  {"consumer-write": "write data"}
debug :  {"consumer-write": "write data"}
debug :  {"consumer-write": "write data"}
debug :  {"message": "end topic: consumer-write1-1"}
debug :  {"message": "end topic: consumer-write2-1"}
debug :  {"message": "end topic: consumer-write1-3"}
debug :  {"message": "end topic: consumer-write7-1"}
debug :  {"message": "end topic: consumer-write2-0"}
debug :  {"consumer-write": "write data"}
debug :  {"message": "end topic: consumer-write2-2"}
debug :  {"message": "end topic: consumer-write7-0"}
debug :  {"message": "end topic: consumer-write6-1"}
debug :  {"consumer-write": "write data"}
debug :  {"message": "end topic: consumer-write0-0"}
debug :  {"consumer-write": "write data"}
debug :  {"message": "end topic: consumer-write5-1"}
debug :  {"consumer-write": "write data"}
debug :  {"message": "end topic: consumer-write0-2"}
consumer-write0-1 :  62
manager-consumer :  522  :  {"machine_kafka": "DS2_v2", "batch_size": 12288.0, "nb_messages": 7260, "time": 0.5144362449645996}
manager-consumer :  523  :  {"machine_kafka": "DS2_v2", "batch_size": 12288.0, "nb_messages": 7260, "time": 0.5696368217468262}
manager-consumer :  524  :  {"machine_kafka": "DS2_v2", "batch_size": 12288.0, "nb_messages": 7260, "time": 0.4828042984008789}
manager-consumer :  525  :  {"machine_kafka": "DS2_v2", "batch_size": 12288.0, "nb_messages": 7260, "time": 0.5048441886901855}
manager-consumer :  526  :  {"machine_kafka": "DS2_v2", "batch_size": 12288.0, "nb_messages": 7260, "time": 0.5507791042327881}
manager-consumer :  527  :  {"machine_kafka": "DS2_v2", "batch_size": 12288.0, "nb_messages": 7260, "time": 0.5289088487625122}
manager-consumer :  528  :  {"machine_kafka": "DS2_v2", "batch_size": 12288.0, "nb_messages": 7260, "time": 0.4911768436431885}
manager-consumer :  529  :  {"machine_kafka": "DS2_v2", "batch_size": 12288.0, "nb_messages": 7260, "time": 0.5120282173156738}
manager-consumer :  530  :  {"machine_kafka": "DS2_v2", "batch_size": 12288.0, "nb_messages": 7260, "time": 0.5275999307632446}
manager-consumer :  531  :  {"machine_kafka": "DS2_v2", "batch_size": 12288.0, "nb_messages": 7260, "time": 0.5012998580932617}
manager-consumer :  532  :  {"machine_kafka": "DS2_v2", "batch_size": 12288.0, "nb_messages": 7260, "time": 0.5527373552322388}
manager-consumer :  533  :  {"machine_kafka": "DS2_v2", "batch_size": 12288.0, "nb_messages": 7260, "time": 0.4962117671966553}
manager-consumer :  534  :  {"machine_kafka": "DS2_v2", "batch_size": 12288.0, "nb_messages": 7260, "time": 0.5738962888717651}
manager-consumer :  535  :  {"machine_kafka": "DS2_v2", "batch_size": 12288.0, "nb_messages": 7260, "time": 0.48560404777526855}
manager-consumer :  536  :  {"machine_kafka": "DS2_v2", "batch_size": 12288.0, "nb_messages": 7260, "time": 0.540473222732544}
manager-consumer :  537  :  {"machine_kafka": "DS2_v2", "batch_size": 12288.0, "nb_messages": 7260, "time": 0.5186232328414917}
debug :  {"consumer-write": "write data"}
debug :  {"consumer-write": "write data"}
debug :  {"message": "end topic: consumer-write5-2"}
debug :  {"consumer-write": "write data"}
debug :  {"consumer-write": "write data"}
debug :  {"message": "end topic: consumer-write4-2"}
debug :  {"consumer-write": "write data"}
debug :  {"message": "end topic: consumer-write6-2"}
debug :  {"message": "end topic: consumer-write5-3"}
debug :  {"consumer-write": "write data"}
debug :  {"consumer-write": "write data"}
debug :  {"message": "end topic: consumer-write0-1"}
debug :  {"message": "end topic: consumer-write6-3"}
debug :  {"message": "end topic: consumer-write3-3"}
debug :  {"Received so far:": 1, "nb_consumers_producers": 32}
consumer-write0-3 63
debug :  {"message": "end topic: consumer-write3-0"}
debug :  {"message": "end topic: consumer-write3-2"}
debug :  {"consumer-write": "write data"}
debug :  {"message": "end topic: consumer-write3-1"}
debug :  {"message": "end topic: consumer-write7-3"}
debug :  {"consumer-write": "write data"}
debug :  {"message": "end topic: consumer-write7-2"}
manager-consumer :  538  :  {"machine_kafka": "DS2_v2", "batch_size": 12288.0, "nb_messages": 7260, "time": 0.5403504371643066}
manager-consumer :  539  :  {"machine_kafka": "DS2_v2", "batch_size": 12288.0, "nb_messages": 7260, "time": 0.4980454444885254}
debug :  {"message": "end topic: consumer-write0-3"}
manager-consumer :  540  :  {"machine_kafka": "DS2_v2", "batch_size": 12288.0, "nb_messages": 7260, "time": 0.5516912937164307}
manager-consumer :  541  :  {"machine_kafka": "DS2_v2", "batch_size": 12288.0, "nb_messages": 7260, "time": 0.5671548843383789}
debug :  {"consumer-write": "write data"}
debug :  {"consumer-write": "write data"}
debug :  {"message": "end topic: consumer-write4-1"}
debug :  {"message": "end topic: consumer-write4-0"}
manager-consumer :  542  :  {"machine_kafka": "DS2_v2", "batch_size": 12288.0, "nb_messages": 7260, "time": 0.5543880462646484}
debug :  {"consumer-write": "write data"}
debug :  {"Received so far:": 2, "nb_consumers_producers": 32}
debug :  {"consumer-write": "write data"}
manager-consumer :  543  :  {"machine_kafka": "DS2_v2", "batch_size": 12288.0, "nb_messages": 7260, "time": 0.5512964725494385}
debug :  {"message": "end topic: consumer-write6-0"}
debug :  {"message": "end topic: consumer-write1-2"}
debug :  {"consumer-write": "write data"}
manager-consumer :  544  :  {"machine_kafka": "DS2_v2", "batch_size": 12288.0, "nb_messages": 7260, "time": 0.5644806623458862}
debug :  {"message": "end topic: consumer-write4-3"}
debug :  {"Received so far:": 3, "nb_consumers_producers": 32}
debug :  {"Received so far:": 4, "nb_consumers_producers": 32}
debug :  {"Received so far:": 5, "nb_consumers_producers": 32}
debug :  {"Received so far:": 6, "nb_consumers_producers": 32}
debug :  {"Received so far:": 7, "nb_consumers_producers": 32}
debug :  {"Received so far:": 8, "nb_consumers_producers": 32}
debug :  {"Received so far:": 9, "nb_consumers_producers": 32}
debug :  {"Received so far:": 10, "nb_consumers_producers": 32}
debug :  {"Received so far:": 11, "nb_consumers_producers": 32}
debug :  {"Received so far:": 12, "nb_consumers_producers": 32}
debug :  {"Received so far:": 13, "nb_consumers_producers": 32}
debug :  {"Received so far:": 14, "nb_consumers_producers": 32}
debug :  {"Received so far:": 15, "nb_consumers_producers": 32}
debug :  {"Received so far:": 16, "nb_consumers_producers": 32}
debug :  {"Received so far:": 17, "nb_consumers_producers": 32}
debug :  {"Received so far:": 18, "nb_consumers_producers": 32}
debug :  {"Received so far:": 19, "nb_consumers_producers": 32}
debug :  {"Received so far:": 20, "nb_consumers_producers": 32}
debug :  {"Received so far:": 21, "nb_consumers_producers": 32}
debug :  {"Received so far:": 22, "nb_consumers_producers": 32}
debug :  {"Received so far:": 23, "nb_consumers_producers": 32}
debug :  {"Received so far:": 24, "nb_consumers_producers": 32}
debug :  {"Received so far:": 25, "nb_consumers_producers": 32}
debug :  {"Received so far:": 26, "nb_consumers_producers": 32}
debug :  {"Received so far:": 27, "nb_consumers_producers": 32}
debug :  {"Received so far:": 28, "nb_consumers_producers": 32}
debug :  {"Received so far:": 29, "nb_consumers_producers": 32}
debug :  {"Received so far:": 30, "nb_consumers_producers": 32}
debug :  {"Received so far:": 31, "nb_consumers_producers": 32}
manager-producer :  {"batch_size": 12288.0, "flow": 257, "amount_of_time": 30, "timestamp": 1678384546.706199, "stop": false}
debug :  {"message": "Let s produce: {'batch_size': 12288.0, 'flow': 257, 'amount_of_time': 30, 'timestamp': 1678384546.706199, 'stop': False}"}
debug :  {"message": "Let s produce: {'batch_size': 12288.0, 'flow': 257, 'amount_of_time': 30, 'timestamp': 1678384546.706199, 'stop': False}"}
debug :  {"message": "Let s produce: {'batch_size': 12288.0, 'flow': 257, 'amount_of_time': 30, 'timestamp': 1678384546.706199, 'stop': False}"}
debug :  {"message": "Let s produce: {'batch_size': 12288.0, 'flow': 257, 'amount_of_time': 30, 'timestamp': 1678384546.706199, 'stop': False}"}
debug :  {"message": "Let s produce: {'batch_size': 12288.0, 'flow': 257, 'amount_of_time': 30, 'timestamp': 1678384546.706199, 'stop': False}"}
debug :  {"message": "Let s produce: {'batch_size': 12288.0, 'flow': 257, 'amount_of_time': 30, 'timestamp': 1678384546.706199, 'stop': False}"}
debug :  {"message": "Let s produce: {'batch_size': 12288.0, 'flow': 257, 'amount_of_time': 30, 'timestamp': 1678384546.706199, 'stop': False}"}
debug :  {"message": "Let s produce: {'batch_size': 12288.0, 'flow': 257, 'amount_of_time': 30, 'timestamp': 1678384546.706199, 'stop': False}"}
debug :  {"message": "Let s produce: {'batch_size': 12288.0, 'flow': 257, 'amount_of_time': 30, 'timestamp': 1678384546.706199, 'stop': False}"}
debug :  {"message": "Let s produce: {'batch_size': 12288.0, 'flow': 257, 'amount_of_time': 30, 'timestamp': 1678384546.706199, 'stop': False}"}
debug :  {"message": "Let s produce: {'batch_size': 12288.0, 'flow': 257, 'amount_of_time': 30, 'timestamp': 1678384546.706199, 'stop': False}"}
debug :  {"message": "Let s produce: {'batch_size': 12288.0, 'flow': 257, 'amount_of_time': 30, 'timestamp': 1678384546.706199, 'stop': False}"}
debug :  {"message": "Let s produce: {'batch_size': 12288.0, 'flow': 257, 'amount_of_time': 30, 'timestamp': 1678384546.706199, 'stop': False}"}
debug :  {"message": "Let s produce: {'batch_size': 12288.0, 'flow': 257, 'amount_of_time': 30, 'timestamp': 1678384546.706199, 'stop': False}"}
debug :  {"message": "Let s produce: {'batch_size': 12288.0, 'flow': 257, 'amount_of_time': 30, 'timestamp': 1678384546.706199, 'stop': False}"}
debug :  {"message": "Let s produce: {'batch_size': 12288.0, 'flow': 257, 'amount_of_time': 30, 'timestamp': 1678384546.706199, 'stop': False}"}
debug :  {"message": "Let s produce: {'batch_size': 12288.0, 'flow': 257, 'amount_of_time': 30, 'timestamp': 1678384546.706199, 'stop': False}"}
debug :  {"message": "Let s produce: {'batch_size': 12288.0, 'flow': 257, 'amount_of_time': 30, 'timestamp': 1678384546.706199, 'stop': False}"}
debug :  {"message": "Let s produce: {'batch_size': 12288.0, 'flow': 257, 'amount_of_time': 30, 'timestamp': 1678384546.706199, 'stop': False}"}
debug :  {"message": "Let s produce: {'batch_size': 12288.0, 'flow': 257, 'amount_of_time': 30, 'timestamp': 1678384546.706199, 'stop': False}"}
debug :  {"message": "Let s produce: {'batch_size': 12288.0, 'flow': 257, 'amount_of_time': 30, 'timestamp': 1678384546.706199, 'stop': False}"}
debug :  {"message": "Let s produce: {'batch_size': 12288.0, 'flow': 257, 'amount_of_time': 30, 'timestamp': 1678384546.706199, 'stop': False}"}
debug :  {"message": "Let s produce: {'batch_size': 12288.0, 'flow': 257, 'amount_of_time': 30, 'timestamp': 1678384546.706199, 'stop': False}"}
debug :  {"message": "Let s produce: {'batch_size': 12288.0, 'flow': 257, 'amount_of_time': 30, 'timestamp': 1678384546.706199, 'stop': False}"}
debug :  {"message": "Let s produce: {'batch_size': 12288.0, 'flow': 257, 'amount_of_time': 30, 'timestamp': 1678384546.706199, 'stop': False}"}
debug :  {"message": "Let s produce: {'batch_size': 12288.0, 'flow': 257, 'amount_of_time': 30, 'timestamp': 1678384546.706199, 'stop': False}"}
debug :  {"message": "Let s produce: {'batch_size': 12288.0, 'flow': 257, 'amount_of_time': 30, 'timestamp': 1678384546.706199, 'stop': False}"}
debug :  {"message": "Let s produce: {'batch_size': 12288.0, 'flow': 257, 'amount_of_time': 30, 'timestamp': 1678384546.706199, 'stop': False}"}
debug :  {"message": "Let s produce: {'batch_size': 12288.0, 'flow': 257, 'amount_of_time': 30, 'timestamp': 1678384546.706199, 'stop': False}"}
debug :  {"message": "Let s produce: {'batch_size': 12288.0, 'flow': 257, 'amount_of_time': 30, 'timestamp': 1678384546.706199, 'stop': False}"}
debug :  {"message": "Let s produce: {'batch_size': 12288.0, 'flow': 257, 'amount_of_time': 30, 'timestamp': 1678384546.706199, 'stop': False}"}
debug :  {"message": "Let s produce: {'batch_size': 12288.0, 'flow': 257, 'amount_of_time': 30, 'timestamp': 1678384546.706199, 'stop': False}"}
debug :  {"Received so far:": 0, "nb_consumers_producers": 32}
consumer-write0-2 64
consumer-write0-3 65
consumer-write0-1 :  66
manager-consumer :  545  :  {"machine_kafka": "DS2_v2", "batch_size": 12288.0, "nb_messages": 7564, "time": 0.4474588632583618}
manager-consumer :  546  :  {"machine_kafka": "DS2_v2", "batch_size": 12288.0, "nb_messages": 7554, "time": 0.4274173974990845}
manager-consumer :  547  :  {"machine_kafka": "DS2_v2", "batch_size": 12288.0, "nb_messages": 7561, "time": 0.4528672695159912}
manager-consumer :  548  :  {"machine_kafka": "DS2_v2", "batch_size": 12288.0, "nb_messages": 7566, "time": 0.40642642974853516}
manager-consumer :  549  :  {"machine_kafka": "DS2_v2", "batch_size": 12288.0, "nb_messages": 7562, "time": 0.44332385063171387}
manager-consumer :  550  :  {"machine_kafka": "DS2_v2", "batch_size": 12288.0, "nb_messages": 7546, "time": 0.43524277210235596}
manager-consumer :  551  :  {"machine_kafka": "DS2_v2", "batch_size": 12288.0, "nb_messages": 7561, "time": 0.41578245162963867}
manager-consumer :  552  :  {"machine_kafka": "DS2_v2", "batch_size": 12288.0, "nb_messages": 7529, "time": 0.43972229957580566}
manager-consumer :  553  :  {"machine_kafka": "DS2_v2", "batch_size": 12288.0, "nb_messages": 7576, "time": 0.42164814472198486}
manager-consumer :  554  :  {"machine_kafka": "DS2_v2", "batch_size": 12288.0, "nb_messages": 7561, "time": 0.4197518825531006}
manager-consumer :  555  :  {"machine_kafka": "DS2_v2", "batch_size": 12288.0, "nb_messages": 7538, "time": 0.44092023372650146}
manager-consumer :  556  :  {"machine_kafka": "DS2_v2", "batch_size": 12288.0, "nb_messages": 7570, "time": 0.39974212646484375}
manager-consumer :  557  :  {"machine_kafka": "DS2_v2", "batch_size": 12288.0, "nb_messages": 7565, "time": 0.4254891872406006}
debug :  {"message": "end topic: consumer-write1-1"}
debug :  {"message": "end topic: consumer-write5-2"}
debug :  {"message": "end topic: consumer-write7-0"}
debug :  {"message": "end topic: consumer-write3-0"}
debug :  {"message": "end topic: consumer-write6-1"}
debug :  {"message": "end topic: consumer-write6-3"}
debug :  {"message": "end topic: consumer-write0-2"}
debug :  {"message": "end topic: consumer-write1-3"}
debug :  {"message": "end topic: consumer-write2-1"}
debug :  {"message": "end topic: consumer-write4-1"}
debug :  {"message": "end topic: consumer-write6-2"}
debug :  {"message": "end topic: consumer-write2-3"}
debug :  {"message": "end topic: consumer-write2-0"}
debug :  {"message": "end topic: consumer-write5-3"}
debug :  {"message": "end topic: consumer-write2-2"}
debug :  {"message": "end topic: consumer-write5-0"}
debug :  {"consumer-write": "write data"}
debug :  {"consumer-write": "write data"}
debug :  {"message": "end topic: consumer-write4-2"}
debug :  {"message": "end topic: consumer-write5-1"}
debug :  {"consumer-write": "write data"}
debug :  {"consumer-write": "write data"}
debug :  {"message": "end topic: consumer-write1-0"}
debug :  {"message": "end topic: consumer-write4-0"}
debug :  {"message": "end topic: consumer-write3-1"}
debug :  {"consumer-write": "write data"}
debug :  {"consumer-write": "write data"}
debug :  {"consumer-write": "write data"}
debug :  {"consumer-write": "write data"}
debug :  {"consumer-write": "write data"}
debug :  {"message": "end topic: consumer-write3-2"}
debug :  {"message": "end topic: consumer-write7-2"}
debug :  {"consumer-write": "write data"}
debug :  {"consumer-write": "write data"}
debug :  {"consumer-write": "write data"}
debug :  {"message": "end topic: consumer-write0-3"}
debug :  {"consumer-write": "write data"}
debug :  {"consumer-write": "write data"}
debug :  {"consumer-write": "write data"}
debug :  {"consumer-write": "write data"}
consumer-write0-0 :  67
manager-consumer :  558  :  {"machine_kafka": "DS2_v2", "batch_size": 12288.0, "nb_messages": 7546, "time": 0.45101070404052734}
manager-consumer :  559  :  {"machine_kafka": "DS2_v2", "batch_size": 12288.0, "nb_messages": 7552, "time": 0.4389568567276001}
manager-consumer :  560  :  {"machine_kafka": "DS2_v2", "batch_size": 12288.0, "nb_messages": 7566, "time": 0.4252845048904419}
manager-consumer :  561  :  {"machine_kafka": "DS2_v2", "batch_size": 12288.0, "nb_messages": 7571, "time": 0.46874380111694336}
manager-consumer :  562  :  {"machine_kafka": "DS2_v2", "batch_size": 12288.0, "nb_messages": 7569, "time": 0.4262120723724365}
manager-consumer :  563  :  {"machine_kafka": "DS2_v2", "batch_size": 12288.0, "nb_messages": 7551, "time": 0.44553494453430176}
manager-consumer :  564  :  {"machine_kafka": "DS2_v2", "batch_size": 12288.0, "nb_messages": 7551, "time": 0.4432978630065918}
manager-consumer :  565  :  {"machine_kafka": "DS2_v2", "batch_size": 12288.0, "nb_messages": 7555, "time": 0.46190571784973145}
manager-consumer :  566  :  {"machine_kafka": "DS2_v2", "batch_size": 12288.0, "nb_messages": 7565, "time": 0.4272918701171875}
manager-consumer :  567  :  {"machine_kafka": "DS2_v2", "batch_size": 12288.0, "nb_messages": 7567, "time": 0.42444753646850586}
manager-consumer :  568  :  {"machine_kafka": "DS2_v2", "batch_size": 12288.0, "nb_messages": 7569, "time": 0.433072566986084}
manager-consumer :  569  :  {"machine_kafka": "DS2_v2", "batch_size": 12288.0, "nb_messages": 7566, "time": 0.4657396078109741}
manager-consumer :  570  :  {"machine_kafka": "DS2_v2", "batch_size": 12288.0, "nb_messages": 7565, "time": 0.4306001663208008}
manager-consumer :  571  :  {"machine_kafka": "DS2_v2", "batch_size": 12288.0, "nb_messages": 7578, "time": 0.44150054454803467}
manager-consumer :  572  :  {"machine_kafka": "DS2_v2", "batch_size": 12288.0, "nb_messages": 7565, "time": 0.43639159202575684}
manager-consumer :  573  :  {"machine_kafka": "DS2_v2", "batch_size": 12288.0, "nb_messages": 7574, "time": 0.4217106103897095}
manager-consumer :  574  :  {"machine_kafka": "DS2_v2", "batch_size": 12288.0, "nb_messages": 7550, "time": 0.4301314353942871}
manager-consumer :  575  :  {"machine_kafka": "DS2_v2", "batch_size": 12288.0, "nb_messages": 7524, "time": 0.452323317527771}
manager-consumer :  576  :  {"machine_kafka": "DS2_v2", "batch_size": 12288.0, "nb_messages": 7563, "time": 0.4462459087371826}
debug :  {"message": "end topic: consumer-write7-1"}
debug :  {"message": "end topic: consumer-write0-1"}
debug :  {"consumer-write": "write data"}
debug :  {"consumer-write": "write data"}
debug :  {"consumer-write": "write data"}
debug :  {"consumer-write": "write data"}
debug :  {"consumer-write": "write data"}
debug :  {"consumer-write": "write data"}
debug :  {"consumer-write": "write data"}
debug :  {"consumer-write": "write data"}
debug :  {"consumer-write": "write data"}
debug :  {"message": "end topic: consumer-write7-3"}
debug :  {"message": "end topic: consumer-write3-3"}
debug :  {"message": "end topic: consumer-write0-0"}
debug :  {"message": "end topic: consumer-write6-0"}
debug :  {"message": "end topic: consumer-write1-2"}
debug :  {"consumer-write": "write data"}
debug :  {"consumer-write": "write data"}
debug :  {"consumer-write": "write data"}
debug :  {"consumer-write": "write data"}
debug :  {"consumer-write": "write data"}
debug :  {"consumer-write": "write data"}
debug :  {"consumer-write": "write data"}
debug :  {"Received so far:": 1, "nb_consumers_producers": 32}
debug :  {"message": "end topic: consumer-write4-3"}
debug :  {"Received so far:": 2, "nb_consumers_producers": 32}
debug :  {"Received so far:": 3, "nb_consumers_producers": 32}
debug :  {"Received so far:": 4, "nb_consumers_producers": 32}
debug :  {"Received so far:": 5, "nb_consumers_producers": 32}
debug :  {"Received so far:": 6, "nb_consumers_producers": 32}
debug :  {"Received so far:": 7, "nb_consumers_producers": 32}
debug :  {"Received so far:": 8, "nb_consumers_producers": 32}
debug :  {"Received so far:": 9, "nb_consumers_producers": 32}
debug :  {"Received so far:": 10, "nb_consumers_producers": 32}
debug :  {"Received so far:": 11, "nb_consumers_producers": 32}
debug :  {"Received so far:": 12, "nb_consumers_producers": 32}
debug :  {"Received so far:": 13, "nb_consumers_producers": 32}
debug :  {"Received so far:": 14, "nb_consumers_producers": 32}
debug :  {"Received so far:": 15, "nb_consumers_producers": 32}
debug :  {"Received so far:": 16, "nb_consumers_producers": 32}
debug :  {"Received so far:": 17, "nb_consumers_producers": 32}
debug :  {"Received so far:": 18, "nb_consumers_producers": 32}
debug :  {"Received so far:": 19, "nb_consumers_producers": 32}
debug :  {"Received so far:": 20, "nb_consumers_producers": 32}
debug :  {"Received so far:": 21, "nb_consumers_producers": 32}
debug :  {"Received so far:": 22, "nb_consumers_producers": 32}
debug :  {"Received so far:": 23, "nb_consumers_producers": 32}
debug :  {"Received so far:": 24, "nb_consumers_producers": 32}
debug :  {"Received so far:": 25, "nb_consumers_producers": 32}
debug :  {"Received so far:": 26, "nb_consumers_producers": 32}
debug :  {"Received so far:": 27, "nb_consumers_producers": 32}
debug :  {"Received so far:": 28, "nb_consumers_producers": 32}
debug :  {"Received so far:": 29, "nb_consumers_producers": 32}
debug :  {"Received so far:": 30, "nb_consumers_producers": 32}
debug :  {"Received so far:": 31, "nb_consumers_producers": 32}
manager-producer :  {"batch_size": 12288.0, "flow": 273, "amount_of_time": 30, "timestamp": 1678384589.4266741, "stop": false}
debug :  {"message": "Let s produce: {'batch_size': 12288.0, 'flow': 273, 'amount_of_time': 30, 'timestamp': 1678384589.4266741, 'stop': False}"}
debug :  {"message": "Let s produce: {'batch_size': 12288.0, 'flow': 273, 'amount_of_time': 30, 'timestamp': 1678384589.4266741, 'stop': False}"}
debug :  {"message": "Let s produce: {'batch_size': 12288.0, 'flow': 273, 'amount_of_time': 30, 'timestamp': 1678384589.4266741, 'stop': False}"}
debug :  {"message": "Let s produce: {'batch_size': 12288.0, 'flow': 273, 'amount_of_time': 30, 'timestamp': 1678384589.4266741, 'stop': False}"}
debug :  {"message": "Let s produce: {'batch_size': 12288.0, 'flow': 273, 'amount_of_time': 30, 'timestamp': 1678384589.4266741, 'stop': False}"}
debug :  {"message": "Let s produce: {'batch_size': 12288.0, 'flow': 273, 'amount_of_time': 30, 'timestamp': 1678384589.4266741, 'stop': False}"}
debug :  {"message": "Let s produce: {'batch_size': 12288.0, 'flow': 273, 'amount_of_time': 30, 'timestamp': 1678384589.4266741, 'stop': False}"}
debug :  {"message": "Let s produce: {'batch_size': 12288.0, 'flow': 273, 'amount_of_time': 30, 'timestamp': 1678384589.4266741, 'stop': False}"}
debug :  {"message": "Let s produce: {'batch_size': 12288.0, 'flow': 273, 'amount_of_time': 30, 'timestamp': 1678384589.4266741, 'stop': False}"}
debug :  {"message": "Let s produce: {'batch_size': 12288.0, 'flow': 273, 'amount_of_time': 30, 'timestamp': 1678384589.4266741, 'stop': False}"}
debug :  {"message": "Let s produce: {'batch_size': 12288.0, 'flow': 273, 'amount_of_time': 30, 'timestamp': 1678384589.4266741, 'stop': False}"}
debug :  {"message": "Let s produce: {'batch_size': 12288.0, 'flow': 273, 'amount_of_time': 30, 'timestamp': 1678384589.4266741, 'stop': False}"}
debug :  {"message": "Let s produce: {'batch_size': 12288.0, 'flow': 273, 'amount_of_time': 30, 'timestamp': 1678384589.4266741, 'stop': False}"}
debug :  {"message": "Let s produce: {'batch_size': 12288.0, 'flow': 273, 'amount_of_time': 30, 'timestamp': 1678384589.4266741, 'stop': False}"}
debug :  {"message": "Let s produce: {'batch_size': 12288.0, 'flow': 273, 'amount_of_time': 30, 'timestamp': 1678384589.4266741, 'stop': False}"}
debug :  {"message": "Let s produce: {'batch_size': 12288.0, 'flow': 273, 'amount_of_time': 30, 'timestamp': 1678384589.4266741, 'stop': False}"}
debug :  {"message": "Let s produce: {'batch_size': 12288.0, 'flow': 273, 'amount_of_time': 30, 'timestamp': 1678384589.4266741, 'stop': False}"}
debug :  {"message": "Let s produce: {'batch_size': 12288.0, 'flow': 273, 'amount_of_time': 30, 'timestamp': 1678384589.4266741, 'stop': False}"}
debug :  {"message": "Let s produce: {'batch_size': 12288.0, 'flow': 273, 'amount_of_time': 30, 'timestamp': 1678384589.4266741, 'stop': False}"}
debug :  {"message": "Let s produce: {'batch_size': 12288.0, 'flow': 273, 'amount_of_time': 30, 'timestamp': 1678384589.4266741, 'stop': False}"}
debug :  {"message": "Let s produce: {'batch_size': 12288.0, 'flow': 273, 'amount_of_time': 30, 'timestamp': 1678384589.4266741, 'stop': False}"}
debug :  {"message": "Let s produce: {'batch_size': 12288.0, 'flow': 273, 'amount_of_time': 30, 'timestamp': 1678384589.4266741, 'stop': False}"}
debug :  {"message": "Let s produce: {'batch_size': 12288.0, 'flow': 273, 'amount_of_time': 30, 'timestamp': 1678384589.4266741, 'stop': False}"}
debug :  {"message": "Let s produce: {'batch_size': 12288.0, 'flow': 273, 'amount_of_time': 30, 'timestamp': 1678384589.4266741, 'stop': False}"}
debug :  {"message": "Let s produce: {'batch_size': 12288.0, 'flow': 273, 'amount_of_time': 30, 'timestamp': 1678384589.4266741, 'stop': False}"}
debug :  {"message": "Let s produce: {'batch_size': 12288.0, 'flow': 273, 'amount_of_time': 30, 'timestamp': 1678384589.4266741, 'stop': False}"}
debug :  {"message": "Let s produce: {'batch_size': 12288.0, 'flow': 273, 'amount_of_time': 30, 'timestamp': 1678384589.4266741, 'stop': False}"}
debug :  {"message": "Let s produce: {'batch_size': 12288.0, 'flow': 273, 'amount_of_time': 30, 'timestamp': 1678384589.4266741, 'stop': False}"}
debug :  {"message": "Let s produce: {'batch_size': 12288.0, 'flow': 273, 'amount_of_time': 30, 'timestamp': 1678384589.4266741, 'stop': False}"}
debug :  {"message": "Let s produce: {'batch_size': 12288.0, 'flow': 273, 'amount_of_time': 30, 'timestamp': 1678384589.4266741, 'stop': False}"}
debug :  {"message": "Let s produce: {'batch_size': 12288.0, 'flow': 273, 'amount_of_time': 30, 'timestamp': 1678384589.4266741, 'stop': False}"}
debug :  {"message": "Let s produce: {'batch_size': 12288.0, 'flow': 273, 'amount_of_time': 30, 'timestamp': 1678384589.4266741, 'stop': False}"}
debug :  {"Received so far:": 0, "nb_consumers_producers": 32}
consumer-write0-2 68
debug :  {"consumer-write": "write data"}
debug :  {"consumer-write": "write data"}
debug :  {"consumer-write": "write data"}
debug :  {"message": "end topic: consumer-write2-1"}
debug :  {"consumer-write": "write data"}
debug :  {"consumer-write": "write data"}
debug :  {"consumer-write": "write data"}
debug :  {"consumer-write": "write data"}
debug :  {"consumer-write": "write data"}
debug :  {"consumer-write": "write data"}
debug :  {"consumer-write": "write data"}
debug :  {"message": "end topic: consumer-write2-0"}
debug :  {"consumer-write": "write data"}
manager-consumer :  577  :  {"machine_kafka": "DS2_v2", "batch_size": 12288.0, "nb_messages": 8275, "time": 0.4143187999725342}
manager-consumer :  578  :  {"machine_kafka": "DS2_v2", "batch_size": 12288.0, "nb_messages": 8262, "time": 0.42746055126190186}
manager-consumer :  579  :  {"machine_kafka": "DS2_v2", "batch_size": 12288.0, "nb_messages": 8264, "time": 0.40929198265075684}
manager-consumer :  580  :  {"machine_kafka": "DS2_v2", "batch_size": 12288.0, "nb_messages": 8276, "time": 0.42068564891815186}
manager-consumer :  581  :  {"machine_kafka": "DS2_v2", "batch_size": 12288.0, "nb_messages": 8279, "time": 0.4090147018432617}
manager-consumer :  582  :  {"machine_kafka": "DS2_v2", "batch_size": 12288.0, "nb_messages": 8273, "time": 0.4072086811065674}
manager-consumer :  583  :  {"machine_kafka": "DS2_v2", "batch_size": 12288.0, "nb_messages": 8294, "time": 0.435940146446228}
manager-consumer :  584  :  {"machine_kafka": "DS2_v2", "batch_size": 12288.0, "nb_messages": 8289, "time": 0.4164714813232422}
manager-consumer :  585  :  {"machine_kafka": "DS2_v2", "batch_size": 12288.0, "nb_messages": 8271, "time": 0.41713643074035645}
manager-consumer :  586  :  {"machine_kafka": "DS2_v2", "batch_size": 12288.0, "nb_messages": 8269, "time": 0.4346489906311035}
manager-consumer :  587  :  {"machine_kafka": "DS2_v2", "batch_size": 12288.0, "nb_messages": 8275, "time": 0.4075603485107422}
manager-consumer :  588  :  {"machine_kafka": "DS2_v2", "batch_size": 12288.0, "nb_messages": 8274, "time": 0.4033379554748535}
consumer-write0-1 :  69
debug :  {"consumer-write": "write data"}
debug :  {"message": "end topic: consumer-write5-0"}
debug :  {"message": "end topic: consumer-write6-3"}
debug :  {"message": "end topic: consumer-write0-2"}
debug :  {"message": "end topic: consumer-write3-0"}
debug :  {"consumer-write": "write data"}
debug :  {"message": "end topic: consumer-write4-1"}
debug :  {"message": "end topic: consumer-write2-2"}
debug :  {"message": "end topic: consumer-write1-1"}
debug :  {"consumer-write": "write data"}
debug :  {"consumer-write": "write data"}
debug :  {"message": "end topic: consumer-write2-3"}
debug :  {"consumer-write": "write data"}
debug :  {"message": "end topic: consumer-write1-0"}
debug :  {"message": "end topic: consumer-write7-0"}
debug :  {"message": "end topic: consumer-write0-1"}
debug :  {"message": "end topic: consumer-write3-2"}
debug :  {"message": "end topic: consumer-write7-2"}
manager-consumer :  589  :  {"machine_kafka": "DS2_v2", "batch_size": 12288.0, "nb_messages": 8279, "time": 0.42833399772644043}
manager-consumer :  590  :  {"machine_kafka": "DS2_v2", "batch_size": 12288.0, "nb_messages": 8289, "time": 0.4185523986816406}
manager-consumer :  591  :  {"machine_kafka": "DS2_v2", "batch_size": 12288.0, "nb_messages": 8288, "time": 0.4131547212600708}
manager-consumer :  592  :  {"machine_kafka": "DS2_v2", "batch_size": 12288.0, "nb_messages": 8277, "time": 0.4300563335418701}
manager-consumer :  593  :  {"machine_kafka": "DS2_v2", "batch_size": 12288.0, "nb_messages": 8270, "time": 0.3813823461532593}
manager-consumer :  594  :  {"machine_kafka": "DS2_v2", "batch_size": 12288.0, "nb_messages": 8285, "time": 0.43083977699279785}
manager-consumer :  595  :  {"machine_kafka": "DS2_v2", "batch_size": 12288.0, "nb_messages": 8275, "time": 0.40854978561401367}
manager-consumer :  596  :  {"machine_kafka": "DS2_v2", "batch_size": 12288.0, "nb_messages": 8286, "time": 0.40284204483032227}
debug :  {"message": "end topic: consumer-write4-0"}
debug :  {"consumer-write": "write data"}
debug :  {"consumer-write": "write data"}
debug :  {"consumer-write": "write data"}
debug :  {"Received so far:": 1, "nb_consumers_producers": 32}
debug :  {"consumer-write": "write data"}
debug :  {"message": "end topic: consumer-write7-1"}
manager-consumer :  597  :  {"machine_kafka": "DS2_v2", "batch_size": 12288.0, "nb_messages": 8271, "time": 0.406646728515625}
manager-consumer :  598  :  {"machine_kafka": "DS2_v2", "batch_size": 12288.0, "nb_messages": 8274, "time": 0.3812049627304077}
manager-consumer :  599  :  {"machine_kafka": "DS2_v2", "batch_size": 12288.0, "nb_messages": 8278, "time": 0.43054115772247314}
consumer-write0-3 70
debug :  {"message": "end topic: consumer-write7-3"}
debug :  {"message": "end topic: consumer-write3-3"}
debug :  {"message": "end topic: consumer-write1-3"}
debug :  {"consumer-write": "write data"}
debug :  {"consumer-write": "write data"}
debug :  {"consumer-write": "write data"}
debug :  {"consumer-write": "write data"}
debug :  {"consumer-write": "write data"}
debug :  {"message": "end topic: consumer-write5-2"}
debug :  {"message": "end topic: consumer-write6-2"}
debug :  {"consumer-write": "write data"}
debug :  {"consumer-write": "write data"}
debug :  {"message": "end topic: consumer-write5-3"}
debug :  {"message": "end topic: consumer-write5-1"}
debug :  {"message": "end topic: consumer-write6-1"}
debug :  {"consumer-write": "write data"}
manager-consumer :  600  :  {"machine_kafka": "DS2_v2", "batch_size": 12288.0, "nb_messages": 8274, "time": 0.4302269220352173}
manager-consumer :  601  :  {"machine_kafka": "DS2_v2", "batch_size": 12288.0, "nb_messages": 8275, "time": 0.4053335189819336}
manager-consumer :  602  :  {"machine_kafka": "DS2_v2", "batch_size": 12288.0, "nb_messages": 8279, "time": 0.4021341800689697}
manager-consumer :  603  :  {"machine_kafka": "DS2_v2", "batch_size": 12288.0, "nb_messages": 8290, "time": 0.41496706008911133}
consumer-write0-0 :  71
debug :  {"consumer-write": "write data"}
debug :  {"consumer-write": "write data"}
debug :  {"message": "end topic: consumer-write4-2"}
debug :  {"consumer-write": "write data"}
debug :  {"message": "end topic: consumer-write0-3"}
debug :  {"message": "end topic: consumer-write0-0"}
debug :  {"message": "end topic: consumer-write4-3"}
debug :  {"message": "end topic: consumer-write3-1"}
manager-consumer :  604  :  {"machine_kafka": "DS2_v2", "batch_size": 12288.0, "nb_messages": 8294, "time": 0.41885554790496826}
manager-consumer :  605  :  {"machine_kafka": "DS2_v2", "batch_size": 12288.0, "nb_messages": 8316, "time": 0.4229447841644287}
manager-consumer :  606  :  {"machine_kafka": "DS2_v2", "batch_size": 12288.0, "nb_messages": 8266, "time": 0.40476465225219727}
manager-consumer :  607  :  {"machine_kafka": "DS2_v2", "batch_size": 12288.0, "nb_messages": 8311, "time": 0.40747761726379395}
debug :  {"message": "end topic: consumer-write6-0"}
manager-consumer :  608  :  {"machine_kafka": "DS2_v2", "batch_size": 12288.0, "nb_messages": 8302, "time": 0.4212108850479126}
debug :  {"Received so far:": 2, "nb_consumers_producers": 32}
debug :  {"consumer-write": "write data"}
debug :  {"message": "end topic: consumer-write1-2"}
debug :  {"Received so far:": 3, "nb_consumers_producers": 32}
debug :  {"Received so far:": 4, "nb_consumers_producers": 32}
debug :  {"Received so far:": 5, "nb_consumers_producers": 32}
debug :  {"Received so far:": 6, "nb_consumers_producers": 32}
debug :  {"Received so far:": 7, "nb_consumers_producers": 32}
debug :  {"Received so far:": 8, "nb_consumers_producers": 32}
debug :  {"Received so far:": 9, "nb_consumers_producers": 32}
debug :  {"Received so far:": 10, "nb_consumers_producers": 32}
debug :  {"Received so far:": 11, "nb_consumers_producers": 32}
debug :  {"Received so far:": 12, "nb_consumers_producers": 32}
debug :  {"Received so far:": 13, "nb_consumers_producers": 32}
debug :  {"Received so far:": 14, "nb_consumers_producers": 32}
debug :  {"Received so far:": 15, "nb_consumers_producers": 32}
debug :  {"Received so far:": 16, "nb_consumers_producers": 32}
debug :  {"Received so far:": 17, "nb_consumers_producers": 32}
debug :  {"Received so far:": 18, "nb_consumers_producers": 32}
debug :  {"Received so far:": 19, "nb_consumers_producers": 32}
debug :  {"Received so far:": 20, "nb_consumers_producers": 32}
debug :  {"Received so far:": 21, "nb_consumers_producers": 32}
debug :  {"Received so far:": 22, "nb_consumers_producers": 32}
debug :  {"Received so far:": 23, "nb_consumers_producers": 32}
debug :  {"Received so far:": 24, "nb_consumers_producers": 32}
debug :  {"Received so far:": 25, "nb_consumers_producers": 32}
debug :  {"Received so far:": 26, "nb_consumers_producers": 32}
debug :  {"Received so far:": 27, "nb_consumers_producers": 32}
debug :  {"Received so far:": 28, "nb_consumers_producers": 32}
debug :  {"Received so far:": 29, "nb_consumers_producers": 32}
debug :  {"Received so far:": 30, "nb_consumers_producers": 32}
debug :  {"Received so far:": 31, "nb_consumers_producers": 32}
manager-producer :  {"batch_size": 12288.0, "flow": 289, "amount_of_time": 30, "timestamp": 1678384630.224381, "stop": false}
debug :  {"message": "Let s produce: {'batch_size': 12288.0, 'flow': 289, 'amount_of_time': 30, 'timestamp': 1678384630.224381, 'stop': False}"}
debug :  {"message": "Let s produce: {'batch_size': 12288.0, 'flow': 289, 'amount_of_time': 30, 'timestamp': 1678384630.224381, 'stop': False}"}
debug :  {"message": "Let s produce: {'batch_size': 12288.0, 'flow': 289, 'amount_of_time': 30, 'timestamp': 1678384630.224381, 'stop': False}"}
debug :  {"message": "Let s produce: {'batch_size': 12288.0, 'flow': 289, 'amount_of_time': 30, 'timestamp': 1678384630.224381, 'stop': False}"}
debug :  {"message": "Let s produce: {'batch_size': 12288.0, 'flow': 289, 'amount_of_time': 30, 'timestamp': 1678384630.224381, 'stop': False}"}
debug :  {"message": "Let s produce: {'batch_size': 12288.0, 'flow': 289, 'amount_of_time': 30, 'timestamp': 1678384630.224381, 'stop': False}"}
debug :  {"message": "Let s produce: {'batch_size': 12288.0, 'flow': 289, 'amount_of_time': 30, 'timestamp': 1678384630.224381, 'stop': False}"}
debug :  {"message": "Let s produce: {'batch_size': 12288.0, 'flow': 289, 'amount_of_time': 30, 'timestamp': 1678384630.224381, 'stop': False}"}
debug :  {"message": "Let s produce: {'batch_size': 12288.0, 'flow': 289, 'amount_of_time': 30, 'timestamp': 1678384630.224381, 'stop': False}"}
debug :  {"message": "Let s produce: {'batch_size': 12288.0, 'flow': 289, 'amount_of_time': 30, 'timestamp': 1678384630.224381, 'stop': False}"}
debug :  {"message": "Let s produce: {'batch_size': 12288.0, 'flow': 289, 'amount_of_time': 30, 'timestamp': 1678384630.224381, 'stop': False}"}
debug :  {"message": "Let s produce: {'batch_size': 12288.0, 'flow': 289, 'amount_of_time': 30, 'timestamp': 1678384630.224381, 'stop': False}"}
debug :  {"message": "Let s produce: {'batch_size': 12288.0, 'flow': 289, 'amount_of_time': 30, 'timestamp': 1678384630.224381, 'stop': False}"}
debug :  {"message": "Let s produce: {'batch_size': 12288.0, 'flow': 289, 'amount_of_time': 30, 'timestamp': 1678384630.224381, 'stop': False}"}
debug :  {"message": "Let s produce: {'batch_size': 12288.0, 'flow': 289, 'amount_of_time': 30, 'timestamp': 1678384630.224381, 'stop': False}"}
debug :  {"message": "Let s produce: {'batch_size': 12288.0, 'flow': 289, 'amount_of_time': 30, 'timestamp': 1678384630.224381, 'stop': False}"}
debug :  {"message": "Let s produce: {'batch_size': 12288.0, 'flow': 289, 'amount_of_time': 30, 'timestamp': 1678384630.224381, 'stop': False}"}
debug :  {"message": "Let s produce: {'batch_size': 12288.0, 'flow': 289, 'amount_of_time': 30, 'timestamp': 1678384630.224381, 'stop': False}"}
debug :  {"message": "Let s produce: {'batch_size': 12288.0, 'flow': 289, 'amount_of_time': 30, 'timestamp': 1678384630.224381, 'stop': False}"}
debug :  {"message": "Let s produce: {'batch_size': 12288.0, 'flow': 289, 'amount_of_time': 30, 'timestamp': 1678384630.224381, 'stop': False}"}
debug :  {"message": "Let s produce: {'batch_size': 12288.0, 'flow': 289, 'amount_of_time': 30, 'timestamp': 1678384630.224381, 'stop': False}"}
debug :  {"message": "Let s produce: {'batch_size': 12288.0, 'flow': 289, 'amount_of_time': 30, 'timestamp': 1678384630.224381, 'stop': False}"}
debug :  {"message": "Let s produce: {'batch_size': 12288.0, 'flow': 289, 'amount_of_time': 30, 'timestamp': 1678384630.224381, 'stop': False}"}
debug :  {"message": "Let s produce: {'batch_size': 12288.0, 'flow': 289, 'amount_of_time': 30, 'timestamp': 1678384630.224381, 'stop': False}"}
debug :  {"message": "Let s produce: {'batch_size': 12288.0, 'flow': 289, 'amount_of_time': 30, 'timestamp': 1678384630.224381, 'stop': False}"}
debug :  {"message": "Let s produce: {'batch_size': 12288.0, 'flow': 289, 'amount_of_time': 30, 'timestamp': 1678384630.224381, 'stop': False}"}
debug :  {"message": "Let s produce: {'batch_size': 12288.0, 'flow': 289, 'amount_of_time': 30, 'timestamp': 1678384630.224381, 'stop': False}"}
debug :  {"message": "Let s produce: {'batch_size': 12288.0, 'flow': 289, 'amount_of_time': 30, 'timestamp': 1678384630.224381, 'stop': False}"}
debug :  {"message": "Let s produce: {'batch_size': 12288.0, 'flow': 289, 'amount_of_time': 30, 'timestamp': 1678384630.224381, 'stop': False}"}
debug :  {"message": "Let s produce: {'batch_size': 12288.0, 'flow': 289, 'amount_of_time': 30, 'timestamp': 1678384630.224381, 'stop': False}"}
debug :  {"message": "Let s produce: {'batch_size': 12288.0, 'flow': 289, 'amount_of_time': 30, 'timestamp': 1678384630.224381, 'stop': False}"}
debug :  {"message": "Let s produce: {'batch_size': 12288.0, 'flow': 289, 'amount_of_time': 30, 'timestamp': 1678384630.224381, 'stop': False}"}
debug :  {"Received so far:": 0, "nb_consumers_producers": 32}
debug :  {"consumer-write": "write data"}
manager-consumer :  609  :  {"machine_kafka": "DS2_v2", "batch_size": 12288.0, "nb_messages": 8640, "time": 0.47901690006256104}
manager-consumer :  610  :  {"machine_kafka": "DS2_v2", "batch_size": 12288.0, "nb_messages": 8640, "time": 0.49426090717315674}
manager-consumer :  611  :  {"machine_kafka": "DS2_v2", "batch_size": 12288.0, "nb_messages": 8640, "time": 0.4907493591308594}
manager-consumer :  612  :  {"machine_kafka": "DS2_v2", "batch_size": 12288.0, "nb_messages": 8640, "time": 0.49938511848449707}
manager-consumer :  613  :  {"machine_kafka": "DS2_v2", "batch_size": 12288.0, "nb_messages": 8640, "time": 0.5002014636993408}
manager-consumer :  614  :  {"machine_kafka": "DS2_v2", "batch_size": 12288.0, "nb_messages": 8640, "time": 0.4684429168701172}
debug :  {"consumer-write": "write data"}
debug :  {"message": "end topic: consumer-write6-3"}
debug :  {"consumer-write": "write data"}
debug :  {"consumer-write": "write data"}
debug :  {"message": "end topic: consumer-write2-1"}
debug :  {"consumer-write": "write data"}
debug :  {"consumer-write": "write data"}
debug :  {"message": "end topic: consumer-write2-0"}
consumer-write0-2 72
consumer-write0-1 :  73
debug :  {"message": "end topic: consumer-write0-2"}
debug :  {"consumer-write": "write data"}
debug :  {"message": "end topic: consumer-write7-2"}
debug :  {"consumer-write": "write data"}
debug :  {"consumer-write": "write data"}
debug :  {"consumer-write": "write data"}
debug :  {"message": "end topic: consumer-write1-0"}
debug :  {"consumer-write": "write data"}
debug :  {"consumer-write": "write data"}
debug :  {"consumer-write": "write data"}
manager-consumer :  615  :  {"machine_kafka": "DS2_v2", "batch_size": 12288.0, "nb_messages": 8640, "time": 0.5066125392913818}
manager-consumer :  616  :  {"machine_kafka": "DS2_v2", "batch_size": 12288.0, "nb_messages": 8640, "time": 0.504726767539978}
manager-consumer :  617  :  {"machine_kafka": "DS2_v2", "batch_size": 12288.0, "nb_messages": 8640, "time": 0.5020779371261597}
manager-consumer :  618  :  {"machine_kafka": "DS2_v2", "batch_size": 12288.0, "nb_messages": 8640, "time": 0.4812220335006714}
manager-consumer :  619  :  {"machine_kafka": "DS2_v2", "batch_size": 12288.0, "nb_messages": 8640, "time": 0.4870924949645996}
manager-consumer :  620  :  {"machine_kafka": "DS2_v2", "batch_size": 12288.0, "nb_messages": 8640, "time": 0.499919056892395}
manager-consumer :  621  :  {"machine_kafka": "DS2_v2", "batch_size": 12288.0, "nb_messages": 8640, "time": 0.4712778329849243}
manager-consumer :  622  :  {"machine_kafka": "DS2_v2", "batch_size": 12288.0, "nb_messages": 8640, "time": 0.48004472255706787}
debug :  {"message": "end topic: consumer-write7-3"}
debug :  {"message": "end topic: consumer-write4-1"}
debug :  {"message": "end topic: consumer-write2-3"}
debug :  {"message": "end topic: consumer-write4-0"}
debug :  {"message": "end topic: consumer-write2-2"}
debug :  {"message": "end topic: consumer-write0-1"}
debug :  {"consumer-write": "write data"}
debug :  {"message": "end topic: consumer-write3-2"}
debug :  {"Received so far:": 1, "nb_consumers_producers": 32}
debug :  {"consumer-write": "write data"}
debug :  {"consumer-write": "write data"}
debug :  {"message": "end topic: consumer-write1-3"}
debug :  {"consumer-write": "write data"}
debug :  {"consumer-write": "write data"}
debug :  {"consumer-write": "write data"}
debug :  {"message": "end topic: consumer-write1-1"}
debug :  {"message": "end topic: consumer-write7-0"}
debug :  {"consumer-write": "write data"}
manager-consumer :  623  :  {"machine_kafka": "DS2_v2", "batch_size": 12288.0, "nb_messages": 8640, "time": 0.4670679569244385}
manager-consumer :  624  :  {"machine_kafka": "DS2_v2", "batch_size": 12288.0, "nb_messages": 8640, "time": 0.49299466609954834}
manager-consumer :  625  :  {"machine_kafka": "DS2_v2", "batch_size": 12288.0, "nb_messages": 8640, "time": 0.4680570363998413}
manager-consumer :  626  :  {"machine_kafka": "DS2_v2", "batch_size": 12288.0, "nb_messages": 8640, "time": 0.4977912902832031}
manager-consumer :  627  :  {"machine_kafka": "DS2_v2", "batch_size": 12288.0, "nb_messages": 8640, "time": 0.48125529289245605}
consumer-write0-3 74
manager-consumer :  628  :  {"machine_kafka": "DS2_v2", "batch_size": 12288.0, "nb_messages": 8640, "time": 0.4680614471435547}
manager-consumer :  629  :  {"machine_kafka": "DS2_v2", "batch_size": 12288.0, "nb_messages": 8640, "time": 0.4897947311401367}
manager-consumer :  630  :  {"machine_kafka": "DS2_v2", "batch_size": 12288.0, "nb_messages": 8640, "time": 0.5070502758026123}
manager-consumer :  631  :  {"machine_kafka": "DS2_v2", "batch_size": 12288.0, "nb_messages": 8640, "time": 0.4434030055999756}
debug :  {"consumer-write": "write data"}
debug :  {"consumer-write": "write data"}
debug :  {"consumer-write": "write data"}
debug :  {"message": "end topic: consumer-write5-0"}
debug :  {"message": "end topic: consumer-write5-3"}
debug :  {"message": "end topic: consumer-write6-1"}
debug :  {"message": "end topic: consumer-write5-2"}
debug :  {"message": "end topic: consumer-write3-0"}
debug :  {"message": "end topic: consumer-write6-2"}
debug :  {"message": "end topic: consumer-write5-1"}
debug :  {"consumer-write": "write data"}
debug :  {"consumer-write": "write data"}
debug :  {"consumer-write": "write data"}
debug :  {"consumer-write": "write data"}
manager-consumer :  632  :  {"machine_kafka": "DS2_v2", "batch_size": 12288.0, "nb_messages": 8640, "time": 0.46616601943969727}
manager-consumer :  633  :  {"machine_kafka": "DS2_v2", "batch_size": 12288.0, "nb_messages": 8640, "time": 0.4795492887496948}
manager-consumer :  634  :  {"machine_kafka": "DS2_v2", "batch_size": 12288.0, "nb_messages": 8640, "time": 0.47132813930511475}
manager-consumer :  635  :  {"machine_kafka": "DS2_v2", "batch_size": 12288.0, "nb_messages": 8640, "time": 0.5061079263687134}
debug :  {"message": "end topic: consumer-write0-3"}
debug :  {"message": "end topic: consumer-write4-2"}
debug :  {"message": "end topic: consumer-write3-1"}
debug :  {"message": "end topic: consumer-write3-3"}
manager-consumer :  636  :  {"machine_kafka": "DS2_v2", "batch_size": 12288.0, "nb_messages": 8640, "time": 0.47505688667297363}
debug :  {"Received so far:": 2, "nb_consumers_producers": 32}
debug :  {"consumer-write": "write data"}
debug :  {"consumer-write": "write data"}
debug :  {"message": "end topic: consumer-write6-0"}
debug :  {"message": "end topic: consumer-write7-1"}
manager-consumer :  637  :  {"machine_kafka": "DS2_v2", "batch_size": 12288.0, "nb_messages": 8640, "time": 0.4365299940109253}
consumer-write0-0 :  75
debug :  {"consumer-write": "write data"}
debug :  {"consumer-write": "write data"}
debug :  {"message": "end topic: consumer-write4-3"}
debug :  {"message": "end topic: consumer-write0-0"}
debug :  {"Received so far:": 3, "nb_consumers_producers": 32}
debug :  {"consumer-write": "write data"}
debug :  {"Received so far:": 4, "nb_consumers_producers": 32}
manager-consumer :  638  :  {"machine_kafka": "DS2_v2", "batch_size": 12288.0, "nb_messages": 8640, "time": 0.4882242679595947}
manager-consumer :  639  :  {"machine_kafka": "DS2_v2", "batch_size": 12288.0, "nb_messages": 8640, "time": 0.4673335552215576}
manager-consumer :  640  :  {"machine_kafka": "DS2_v2", "batch_size": 12288.0, "nb_messages": 8640, "time": 0.48562097549438477}
debug :  {"message": "end topic: consumer-write1-2"}
debug :  {"Received so far:": 5, "nb_consumers_producers": 32}
debug :  {"Received so far:": 6, "nb_consumers_producers": 32}
debug :  {"Received so far:": 7, "nb_consumers_producers": 32}
debug :  {"Received so far:": 8, "nb_consumers_producers": 32}
debug :  {"Received so far:": 9, "nb_consumers_producers": 32}
debug :  {"Received so far:": 10, "nb_consumers_producers": 32}
debug :  {"Received so far:": 11, "nb_consumers_producers": 32}
debug :  {"Received so far:": 12, "nb_consumers_producers": 32}
debug :  {"Received so far:": 13, "nb_consumers_producers": 32}
debug :  {"Received so far:": 14, "nb_consumers_producers": 32}
debug :  {"Received so far:": 15, "nb_consumers_producers": 32}
debug :  {"Received so far:": 16, "nb_consumers_producers": 32}
debug :  {"Received so far:": 17, "nb_consumers_producers": 32}
debug :  {"Received so far:": 18, "nb_consumers_producers": 32}
debug :  {"Received so far:": 19, "nb_consumers_producers": 32}
debug :  {"Received so far:": 20, "nb_consumers_producers": 32}
debug :  {"Received so far:": 21, "nb_consumers_producers": 32}
debug :  {"Received so far:": 22, "nb_consumers_producers": 32}
debug :  {"Received so far:": 23, "nb_consumers_producers": 32}
debug :  {"Received so far:": 24, "nb_consumers_producers": 32}
debug :  {"Received so far:": 25, "nb_consumers_producers": 32}
debug :  {"Received so far:": 26, "nb_consumers_producers": 32}
debug :  {"Received so far:": 27, "nb_consumers_producers": 32}
debug :  {"Received so far:": 28, "nb_consumers_producers": 32}
debug :  {"Received so far:": 29, "nb_consumers_producers": 32}
debug :  {"Received so far:": 30, "nb_consumers_producers": 32}
debug :  {"Received so far:": 31, "nb_consumers_producers": 32}
manager-producer :  {"batch_size": 12288.0, "flow": 304, "amount_of_time": 30, "timestamp": 1678384671.2071307, "stop": false}
debug :  {"message": "Let s produce: {'batch_size': 12288.0, 'flow': 304, 'amount_of_time': 30, 'timestamp': 1678384671.2071307, 'stop': False}"}
debug :  {"message": "Let s produce: {'batch_size': 12288.0, 'flow': 304, 'amount_of_time': 30, 'timestamp': 1678384671.2071307, 'stop': False}"}
debug :  {"message": "Let s produce: {'batch_size': 12288.0, 'flow': 304, 'amount_of_time': 30, 'timestamp': 1678384671.2071307, 'stop': False}"}
debug :  {"message": "Let s produce: {'batch_size': 12288.0, 'flow': 304, 'amount_of_time': 30, 'timestamp': 1678384671.2071307, 'stop': False}"}
debug :  {"message": "Let s produce: {'batch_size': 12288.0, 'flow': 304, 'amount_of_time': 30, 'timestamp': 1678384671.2071307, 'stop': False}"}
debug :  {"message": "Let s produce: {'batch_size': 12288.0, 'flow': 304, 'amount_of_time': 30, 'timestamp': 1678384671.2071307, 'stop': False}"}
debug :  {"message": "Let s produce: {'batch_size': 12288.0, 'flow': 304, 'amount_of_time': 30, 'timestamp': 1678384671.2071307, 'stop': False}"}
debug :  {"message": "Let s produce: {'batch_size': 12288.0, 'flow': 304, 'amount_of_time': 30, 'timestamp': 1678384671.2071307, 'stop': False}"}
debug :  {"message": "Let s produce: {'batch_size': 12288.0, 'flow': 304, 'amount_of_time': 30, 'timestamp': 1678384671.2071307, 'stop': False}"}
debug :  {"message": "Let s produce: {'batch_size': 12288.0, 'flow': 304, 'amount_of_time': 30, 'timestamp': 1678384671.2071307, 'stop': False}"}
debug :  {"message": "Let s produce: {'batch_size': 12288.0, 'flow': 304, 'amount_of_time': 30, 'timestamp': 1678384671.2071307, 'stop': False}"}
debug :  {"message": "Let s produce: {'batch_size': 12288.0, 'flow': 304, 'amount_of_time': 30, 'timestamp': 1678384671.2071307, 'stop': False}"}
debug :  {"message": "Let s produce: {'batch_size': 12288.0, 'flow': 304, 'amount_of_time': 30, 'timestamp': 1678384671.2071307, 'stop': False}"}
debug :  {"message": "Let s produce: {'batch_size': 12288.0, 'flow': 304, 'amount_of_time': 30, 'timestamp': 1678384671.2071307, 'stop': False}"}
debug :  {"message": "Let s produce: {'batch_size': 12288.0, 'flow': 304, 'amount_of_time': 30, 'timestamp': 1678384671.2071307, 'stop': False}"}
debug :  {"message": "Let s produce: {'batch_size': 12288.0, 'flow': 304, 'amount_of_time': 30, 'timestamp': 1678384671.2071307, 'stop': False}"}
debug :  {"message": "Let s produce: {'batch_size': 12288.0, 'flow': 304, 'amount_of_time': 30, 'timestamp': 1678384671.2071307, 'stop': False}"}
debug :  {"message": "Let s produce: {'batch_size': 12288.0, 'flow': 304, 'amount_of_time': 30, 'timestamp': 1678384671.2071307, 'stop': False}"}
debug :  {"message": "Let s produce: {'batch_size': 12288.0, 'flow': 304, 'amount_of_time': 30, 'timestamp': 1678384671.2071307, 'stop': False}"}
debug :  {"message": "Let s produce: {'batch_size': 12288.0, 'flow': 304, 'amount_of_time': 30, 'timestamp': 1678384671.2071307, 'stop': False}"}
debug :  {"message": "Let s produce: {'batch_size': 12288.0, 'flow': 304, 'amount_of_time': 30, 'timestamp': 1678384671.2071307, 'stop': False}"}
debug :  {"message": "Let s produce: {'batch_size': 12288.0, 'flow': 304, 'amount_of_time': 30, 'timestamp': 1678384671.2071307, 'stop': False}"}
debug :  {"message": "Let s produce: {'batch_size': 12288.0, 'flow': 304, 'amount_of_time': 30, 'timestamp': 1678384671.2071307, 'stop': False}"}
debug :  {"message": "Let s produce: {'batch_size': 12288.0, 'flow': 304, 'amount_of_time': 30, 'timestamp': 1678384671.2071307, 'stop': False}"}
debug :  {"message": "Let s produce: {'batch_size': 12288.0, 'flow': 304, 'amount_of_time': 30, 'timestamp': 1678384671.2071307, 'stop': False}"}
debug :  {"message": "Let s produce: {'batch_size': 12288.0, 'flow': 304, 'amount_of_time': 30, 'timestamp': 1678384671.2071307, 'stop': False}"}
debug :  {"message": "Let s produce: {'batch_size': 12288.0, 'flow': 304, 'amount_of_time': 30, 'timestamp': 1678384671.2071307, 'stop': False}"}
debug :  {"message": "Let s produce: {'batch_size': 12288.0, 'flow': 304, 'amount_of_time': 30, 'timestamp': 1678384671.2071307, 'stop': False}"}
debug :  {"message": "Let s produce: {'batch_size': 12288.0, 'flow': 304, 'amount_of_time': 30, 'timestamp': 1678384671.2071307, 'stop': False}"}
debug :  {"message": "Let s produce: {'batch_size': 12288.0, 'flow': 304, 'amount_of_time': 30, 'timestamp': 1678384671.2071307, 'stop': False}"}
debug :  {"message": "Let s produce: {'batch_size': 12288.0, 'flow': 304, 'amount_of_time': 30, 'timestamp': 1678384671.2071307, 'stop': False}"}
debug :  {"message": "Let s produce: {'batch_size': 12288.0, 'flow': 304, 'amount_of_time': 30, 'timestamp': 1678384671.2071307, 'stop': False}"}
debug :  {"Received so far:": 0, "nb_consumers_producers": 32}
debug :  {"consumer-write": "write data"}
debug :  {"message": "end topic: consumer-write6-3"}
debug :  {"consumer-write": "write data"}
manager-consumer :  641  :  {"machine_kafka": "DS2_v2", "batch_size": 12288.0, "nb_messages": 9120, "time": 2.210819721221924}
manager-consumer :  642  :  {"machine_kafka": "DS2_v2", "batch_size": 12288.0, "nb_messages": 9120, "time": 2.2298011779785156}
manager-consumer :  643  :  {"machine_kafka": "DS2_v2", "batch_size": 12288.0, "nb_messages": 9120, "time": 0.9585586786270142}
debug :  {"consumer-write": "write data"}
debug :  {"message": "end topic: consumer-write2-1"}
manager-consumer :  644  :  {"machine_kafka": "DS2_v2", "batch_size": 12288.0, "nb_messages": 9120, "time": 2.3732733726501465}
manager-consumer :  645  :  {"machine_kafka": "DS2_v2", "batch_size": 12288.0, "nb_messages": 9120, "time": 1.7593564987182617}
debug :  {"consumer-write": "write data"}
debug :  {"message": "end topic: consumer-write2-0"}
debug :  {"consumer-write": "write data"}
debug :  {"message": "end topic: consumer-write7-3"}
debug :  {"consumer-write": "write data"}
debug :  {"Received so far:": 1, "nb_consumers_producers": 32}
debug :  {"consumer-write": "write data"}
debug :  {"message": "end topic: consumer-write2-3"}
debug :  {"consumer-write": "write data"}
manager-consumer :  646  :  {"machine_kafka": "DS2_v2", "batch_size": 12288.0, "nb_messages": 9120, "time": 0.8886083364486694}
manager-consumer :  647  :  {"machine_kafka": "DS2_v2", "batch_size": 12288.0, "nb_messages": 9120, "time": 0.9146318435668945}
consumer-write0-1 :  76
manager-consumer :  648  :  {"machine_kafka": "DS2_v2", "batch_size": 12288.0, "nb_messages": 9120, "time": 0.8557738065719604}
manager-consumer :  649  :  {"machine_kafka": "DS2_v2", "batch_size": 12288.0, "nb_messages": 9120, "time": 0.9140456914901733}
manager-consumer :  650  :  {"machine_kafka": "DS2_v2", "batch_size": 12288.0, "nb_messages": 9120, "time": 1.6083348989486694}
manager-consumer :  651  :  {"machine_kafka": "DS2_v2", "batch_size": 12288.0, "nb_messages": 9120, "time": 0.9464458227157593}
debug :  {"message": "end topic: consumer-write1-0"}
debug :  {"message": "end topic: consumer-write2-2"}
debug :  {"consumer-write": "write data"}
debug :  {"consumer-write": "write data"}
debug :  {"consumer-write": "write data"}
debug :  {"message": "end topic: consumer-write3-2"}
debug :  {"consumer-write": "write data"}
debug :  {"consumer-write": "write data"}
debug :  {"consumer-write": "write data"}
debug :  {"consumer-write": "write data"}
debug :  {"consumer-write": "write data"}
debug :  {"consumer-write": "write data"}
debug :  {"message": "end topic: consumer-write5-0"}
debug :  {"message": "end topic: consumer-write7-0"}
debug :  {"message": "end topic: consumer-write0-1"}
debug :  {"message": "end topic: consumer-write1-3"}
debug :  {"consumer-write": "write data"}
debug :  {"message": "end topic: consumer-write5-1"}
debug :  {"consumer-write": "write data"}
debug :  {"message": "end topic: consumer-write6-1"}
debug :  {"message": "end topic: consumer-write5-2"}
debug :  {"message": "end topic: consumer-write4-1"}
manager-consumer :  652  :  {"machine_kafka": "DS2_v2", "batch_size": 12288.0, "nb_messages": 9120, "time": 0.8803092241287231}
manager-consumer :  653  :  {"machine_kafka": "DS2_v2", "batch_size": 12288.0, "nb_messages": 9120, "time": 2.0005627870559692}
manager-consumer :  654  :  {"machine_kafka": "DS2_v2", "batch_size": 12288.0, "nb_messages": 9120, "time": 0.8375332355499268}
manager-consumer :  655  :  {"machine_kafka": "DS2_v2", "batch_size": 12288.0, "nb_messages": 9120, "time": 1.1992820501327515}
manager-consumer :  656  :  {"machine_kafka": "DS2_v2", "batch_size": 12288.0, "nb_messages": 9120, "time": 0.8489454984664917}
manager-consumer :  657  :  {"machine_kafka": "DS2_v2", "batch_size": 12288.0, "nb_messages": 9120, "time": 0.9897823333740234}
manager-consumer :  658  :  {"machine_kafka": "DS2_v2", "batch_size": 12288.0, "nb_messages": 9120, "time": 0.8681641817092896}
manager-consumer :  659  :  {"machine_kafka": "DS2_v2", "batch_size": 12288.0, "nb_messages": 9120, "time": 1.697718620300293}
debug :  {"message": "end topic: consumer-write5-3"}
debug :  {"message": "end topic: consumer-write6-2"}
debug :  {"message": "end topic: consumer-write4-0"}
debug :  {"Received so far:": 2, "nb_consumers_producers": 32}
debug :  {"consumer-write": "write data"}
debug :  {"consumer-write": "write data"}
debug :  {"consumer-write": "write data"}
debug :  {"message": "end topic: consumer-write1-1"}
consumer-write0-3 77
manager-consumer :  660  :  {"machine_kafka": "DS2_v2", "batch_size": 12288.0, "nb_messages": 9120, "time": 1.6457053422927856}
manager-consumer :  661  :  {"machine_kafka": "DS2_v2", "batch_size": 12288.0, "nb_messages": 9120, "time": 1.062194585800171}
manager-consumer :  662  :  {"machine_kafka": "DS2_v2", "batch_size": 12288.0, "nb_messages": 9120, "time": 1.0386956930160522}
consumer-write0-2 78
debug :  {"consumer-write": "write data"}
debug :  {"consumer-write": "write data"}
debug :  {"consumer-write": "write data"}
debug :  {"message": "end topic: consumer-write3-0"}
debug :  {"message": "end topic: consumer-write7-2"}
debug :  {"message": "end topic: consumer-write3-1"}
manager-consumer :  663  :  {"machine_kafka": "DS2_v2", "batch_size": 12288.0, "nb_messages": 9120, "time": 2.09281063079834}
manager-consumer :  664  :  {"machine_kafka": "DS2_v2", "batch_size": 12288.0, "nb_messages": 9120, "time": 1.9957445859909058}
manager-consumer :  665  :  {"machine_kafka": "DS2_v2", "batch_size": 12288.0, "nb_messages": 9120, "time": 2.415707588195801}
debug :  {"message": "end topic: consumer-write0-3"}
debug :  {"message": "end topic: consumer-write3-3"}
debug :  {"consumer-write": "write data"}
debug :  {"consumer-write": "write data"}
manager-consumer :  666  :  {"machine_kafka": "DS2_v2", "batch_size": 12288.0, "nb_messages": 9120, "time": 1.0537207126617432}
manager-consumer :  667  :  {"machine_kafka": "DS2_v2", "batch_size": 12288.0, "nb_messages": 9120, "time": 1.2241889238357544}
debug :  {"Received so far:": 3, "nb_consumers_producers": 32}
debug :  {"message": "end topic: consumer-write4-2"}
debug :  {"message": "end topic: consumer-write0-2"}
debug :  {"consumer-write": "write data"}
manager-consumer :  668  :  {"machine_kafka": "DS2_v2", "batch_size": 12288.0, "nb_messages": 9120, "time": 0.8017963171005249}
manager-consumer :  669  :  {"machine_kafka": "DS2_v2", "batch_size": 12288.0, "nb_messages": 9120, "time": 2.189788579940796}
debug :  {"Received so far:": 4, "nb_consumers_producers": 32}
debug :  {"consumer-write": "write data"}
debug :  {"message": "end topic: consumer-write7-1"}
debug :  {"message": "end topic: consumer-write6-0"}
debug :  {"consumer-write": "write data"}
manager-consumer :  670  :  {"machine_kafka": "DS2_v2", "batch_size": 12288.0, "nb_messages": 9120, "time": 0.9061133861541748}
debug :  {"message": "end topic: consumer-write4-3"}
debug :  {"Received so far:": 5, "nb_consumers_producers": 32}
manager-consumer :  671  :  {"machine_kafka": "DS2_v2", "batch_size": 12288.0, "nb_messages": 9120, "time": 0.9703941345214844}
consumer-write0-0 :  79
debug :  {"consumer-write": "write data"}
debug :  {"message": "end topic: consumer-write1-2"}
debug :  {"consumer-write": "write data"}
manager-consumer :  672  :  {"machine_kafka": "DS2_v2", "batch_size": 12288.0, "nb_messages": 9120, "time": 0.9687871932983398}
debug :  {"message": "end topic: consumer-write0-0"}
debug :  {"Received so far:": 6, "nb_consumers_producers": 32}
debug :  {"Received so far:": 7, "nb_consumers_producers": 32}
debug :  {"Received so far:": 8, "nb_consumers_producers": 32}
debug :  {"Received so far:": 9, "nb_consumers_producers": 32}
debug :  {"Received so far:": 10, "nb_consumers_producers": 32}
debug :  {"Received so far:": 11, "nb_consumers_producers": 32}
debug :  {"Received so far:": 12, "nb_consumers_producers": 32}
debug :  {"Received so far:": 13, "nb_consumers_producers": 32}
debug :  {"Received so far:": 14, "nb_consumers_producers": 32}
debug :  {"Received so far:": 15, "nb_consumers_producers": 32}
debug :  {"Received so far:": 16, "nb_consumers_producers": 32}
debug :  {"Received so far:": 17, "nb_consumers_producers": 32}
debug :  {"Received so far:": 18, "nb_consumers_producers": 32}
debug :  {"Received so far:": 19, "nb_consumers_producers": 32}
debug :  {"Received so far:": 20, "nb_consumers_producers": 32}
debug :  {"Received so far:": 21, "nb_consumers_producers": 32}
debug :  {"Received so far:": 22, "nb_consumers_producers": 32}
debug :  {"Received so far:": 23, "nb_consumers_producers": 32}
debug :  {"Received so far:": 24, "nb_consumers_producers": 32}
debug :  {"Received so far:": 25, "nb_consumers_producers": 32}
debug :  {"Received so far:": 26, "nb_consumers_producers": 32}
debug :  {"Received so far:": 27, "nb_consumers_producers": 32}
debug :  {"Received so far:": 28, "nb_consumers_producers": 32}
debug :  {"Received so far:": 29, "nb_consumers_producers": 32}
debug :  {"Received so far:": 30, "nb_consumers_producers": 32}
debug :  {"Received so far:": 31, "nb_consumers_producers": 32}
manager-producer :  {"batch_size": 12288.0, "flow": 304, "amount_of_time": 30, "timestamp": 1678384833.1369529, "stop": false}
debug :  {"message": "Let s produce: {'batch_size': 12288.0, 'flow': 304, 'amount_of_time': 30, 'timestamp': 1678384833.1369529, 'stop': False}"}
debug :  {"message": "Let s produce: {'batch_size': 12288.0, 'flow': 304, 'amount_of_time': 30, 'timestamp': 1678384833.1369529, 'stop': False}"}
debug :  {"message": "Let s produce: {'batch_size': 12288.0, 'flow': 304, 'amount_of_time': 30, 'timestamp': 1678384833.1369529, 'stop': False}"}
debug :  {"message": "Let s produce: {'batch_size': 12288.0, 'flow': 304, 'amount_of_time': 30, 'timestamp': 1678384833.1369529, 'stop': False}"}
debug :  {"message": "Let s produce: {'batch_size': 12288.0, 'flow': 304, 'amount_of_time': 30, 'timestamp': 1678384833.1369529, 'stop': False}"}
debug :  {"message": "Let s produce: {'batch_size': 12288.0, 'flow': 304, 'amount_of_time': 30, 'timestamp': 1678384833.1369529, 'stop': False}"}
debug :  {"message": "Let s produce: {'batch_size': 12288.0, 'flow': 304, 'amount_of_time': 30, 'timestamp': 1678384833.1369529, 'stop': False}"}
debug :  {"message": "Let s produce: {'batch_size': 12288.0, 'flow': 304, 'amount_of_time': 30, 'timestamp': 1678384833.1369529, 'stop': False}"}
debug :  {"message": "Let s produce: {'batch_size': 12288.0, 'flow': 304, 'amount_of_time': 30, 'timestamp': 1678384833.1369529, 'stop': False}"}
debug :  {"message": "Let s produce: {'batch_size': 12288.0, 'flow': 304, 'amount_of_time': 30, 'timestamp': 1678384833.1369529, 'stop': False}"}
debug :  {"message": "Let s produce: {'batch_size': 12288.0, 'flow': 304, 'amount_of_time': 30, 'timestamp': 1678384833.1369529, 'stop': False}"}
debug :  {"message": "Let s produce: {'batch_size': 12288.0, 'flow': 304, 'amount_of_time': 30, 'timestamp': 1678384833.1369529, 'stop': False}"}
debug :  {"message": "Let s produce: {'batch_size': 12288.0, 'flow': 304, 'amount_of_time': 30, 'timestamp': 1678384833.1369529, 'stop': False}"}
debug :  {"message": "Let s produce: {'batch_size': 12288.0, 'flow': 304, 'amount_of_time': 30, 'timestamp': 1678384833.1369529, 'stop': False}"}
debug :  {"message": "Let s produce: {'batch_size': 12288.0, 'flow': 304, 'amount_of_time': 30, 'timestamp': 1678384833.1369529, 'stop': False}"}
debug :  {"message": "Let s produce: {'batch_size': 12288.0, 'flow': 304, 'amount_of_time': 30, 'timestamp': 1678384833.1369529, 'stop': False}"}
debug :  {"message": "Let s produce: {'batch_size': 12288.0, 'flow': 304, 'amount_of_time': 30, 'timestamp': 1678384833.1369529, 'stop': False}"}
debug :  {"message": "Let s produce: {'batch_size': 12288.0, 'flow': 304, 'amount_of_time': 30, 'timestamp': 1678384833.1369529, 'stop': False}"}
debug :  {"message": "Let s produce: {'batch_size': 12288.0, 'flow': 304, 'amount_of_time': 30, 'timestamp': 1678384833.1369529, 'stop': False}"}
debug :  {"message": "Let s produce: {'batch_size': 12288.0, 'flow': 304, 'amount_of_time': 30, 'timestamp': 1678384833.1369529, 'stop': False}"}
debug :  {"message": "Let s produce: {'batch_size': 12288.0, 'flow': 304, 'amount_of_time': 30, 'timestamp': 1678384833.1369529, 'stop': False}"}
debug :  {"message": "Let s produce: {'batch_size': 12288.0, 'flow': 304, 'amount_of_time': 30, 'timestamp': 1678384833.1369529, 'stop': False}"}
debug :  {"message": "Let s produce: {'batch_size': 12288.0, 'flow': 304, 'amount_of_time': 30, 'timestamp': 1678384833.1369529, 'stop': False}"}
debug :  {"message": "Let s produce: {'batch_size': 12288.0, 'flow': 304, 'amount_of_time': 30, 'timestamp': 1678384833.1369529, 'stop': False}"}
debug :  {"message": "Let s produce: {'batch_size': 12288.0, 'flow': 304, 'amount_of_time': 30, 'timestamp': 1678384833.1369529, 'stop': False}"}
debug :  {"message": "Let s produce: {'batch_size': 12288.0, 'flow': 304, 'amount_of_time': 30, 'timestamp': 1678384833.1369529, 'stop': False}"}
debug :  {"message": "Let s produce: {'batch_size': 12288.0, 'flow': 304, 'amount_of_time': 30, 'timestamp': 1678384833.1369529, 'stop': False}"}
debug :  {"message": "Let s produce: {'batch_size': 12288.0, 'flow': 304, 'amount_of_time': 30, 'timestamp': 1678384833.1369529, 'stop': False}"}
debug :  {"message": "Let s produce: {'batch_size': 12288.0, 'flow': 304, 'amount_of_time': 30, 'timestamp': 1678384833.1369529, 'stop': False}"}
debug :  {"message": "Let s produce: {'batch_size': 12288.0, 'flow': 304, 'amount_of_time': 30, 'timestamp': 1678384833.1369529, 'stop': False}"}
debug :  {"message": "Let s produce: {'batch_size': 12288.0, 'flow': 304, 'amount_of_time': 30, 'timestamp': 1678384833.1369529, 'stop': False}"}
debug :  {"message": "Let s produce: {'batch_size': 12288.0, 'flow': 304, 'amount_of_time': 30, 'timestamp': 1678384833.1369529, 'stop': False}"}
debug :  {"Received so far:": 0, "nb_consumers_producers": 32}
consumer-write0-0 :  80
manager-consumer :  673  :  {"machine_kafka": "DS2_v2", "batch_size": 12288.0, "nb_messages": 9120, "time": 2.4408726692199707}
debug :  {"consumer-write": "write data"}
debug :  {"consumer-write": "write data"}
debug :  {"consumer-write": "write data"}
debug :  {"consumer-write": "write data"}
debug :  {"consumer-write": "write data"}
debug :  {"consumer-write": "write data"}
debug :  {"consumer-write": "write data"}
debug :  {"message": "end topic: consumer-write2-1"}
consumer-write0-2 81
manager-consumer :  674  :  {"machine_kafka": "DS2_v2", "batch_size": 12288.0, "nb_messages": 9120, "time": 0.7642909288406372}
manager-consumer :  675  :  {"machine_kafka": "DS2_v2", "batch_size": 12288.0, "nb_messages": 9120, "time": 1.787703275680542}
manager-consumer :  676  :  {"machine_kafka": "DS2_v2", "batch_size": 12288.0, "nb_messages": 9120, "time": 1.428092360496521}
manager-consumer :  677  :  {"machine_kafka": "DS2_v2", "batch_size": 12288.0, "nb_messages": 9120, "time": 0.8962957859039307}
manager-consumer :  678  :  {"machine_kafka": "DS2_v2", "batch_size": 12288.0, "nb_messages": 9120, "time": 0.8074214458465576}
manager-consumer :  679  :  {"machine_kafka": "DS2_v2", "batch_size": 12288.0, "nb_messages": 9120, "time": 0.7891638278961182}
manager-consumer :  680  :  {"machine_kafka": "DS2_v2", "batch_size": 12288.0, "nb_messages": 9120, "time": 0.752100944519043}
manager-consumer :  681  :  {"machine_kafka": "DS2_v2", "batch_size": 12288.0, "nb_messages": 9120, "time": 0.7529900074005127}
manager-consumer :  682  :  {"machine_kafka": "DS2_v2", "batch_size": 12288.0, "nb_messages": 9120, "time": 0.7460545301437378}
manager-consumer :  683  :  {"machine_kafka": "DS2_v2", "batch_size": 12288.0, "nb_messages": 9120, "time": 0.751392126083374}
manager-consumer :  684  :  {"machine_kafka": "DS2_v2", "batch_size": 12288.0, "nb_messages": 9120, "time": 1.7447949647903442}
debug :  {"message": "end topic: consumer-write7-2"}
debug :  {"message": "end topic: consumer-write0-0"}
debug :  {"message": "end topic: consumer-write6-3"}
debug :  {"message": "end topic: consumer-write5-3"}
debug :  {"consumer-write": "write data"}
debug :  {"message": "end topic: consumer-write2-0"}
debug :  {"consumer-write": "write data"}
debug :  {"message": "end topic: consumer-write3-0"}
debug :  {"consumer-write": "write data"}
debug :  {"consumer-write": "write data"}
debug :  {"consumer-write": "write data"}
debug :  {"message": "end topic: consumer-write6-2"}
debug :  {"consumer-write": "write data"}
debug :  {"consumer-write": "write data"}
debug :  {"consumer-write": "write data"}
debug :  {"message": "end topic: consumer-write0-2"}
debug :  {"message": "end topic: consumer-write5-2"}
debug :  {"consumer-write": "write data"}
debug :  {"consumer-write": "write data"}
debug :  {"consumer-write": "write data"}
debug :  {"consumer-write": "write data"}
debug :  {"message": "end topic: consumer-write2-2"}
debug :  {"consumer-write": "write data"}
debug :  {"message": "end topic: consumer-write3-3"}
debug :  {"consumer-write": "write data"}
debug :  {"message": "end topic: consumer-write5-1"}
debug :  {"message": "end topic: consumer-write3-1"}
debug :  {"consumer-write": "write data"}
manager-consumer :  685  :  {"machine_kafka": "DS2_v2", "batch_size": 12288.0, "nb_messages": 9120, "time": 1.9127801656723022}
manager-consumer :  686  :  {"machine_kafka": "DS2_v2", "batch_size": 12288.0, "nb_messages": 9120, "time": 0.7864267826080322}
manager-consumer :  687  :  {"machine_kafka": "DS2_v2", "batch_size": 12288.0, "nb_messages": 9120, "time": 0.8185358047485352}
manager-consumer :  688  :  {"machine_kafka": "DS2_v2", "batch_size": 12288.0, "nb_messages": 9120, "time": 1.690329670906067}
manager-consumer :  689  :  {"machine_kafka": "DS2_v2", "batch_size": 12288.0, "nb_messages": 9120, "time": 0.8851560354232788}
manager-consumer :  690  :  {"machine_kafka": "DS2_v2", "batch_size": 12288.0, "nb_messages": 9120, "time": 0.7571094036102295}
manager-consumer :  691  :  {"machine_kafka": "DS2_v2", "batch_size": 12288.0, "nb_messages": 9120, "time": 1.7068355083465576}
manager-consumer :  692  :  {"machine_kafka": "DS2_v2", "batch_size": 12288.0, "nb_messages": 9120, "time": 0.7550238370895386}
manager-consumer :  693  :  {"machine_kafka": "DS2_v2", "batch_size": 12288.0, "nb_messages": 9120, "time": 0.7990386486053467}
manager-consumer :  694  :  {"machine_kafka": "DS2_v2", "batch_size": 12288.0, "nb_messages": 9120, "time": 1.632045865058899}
consumer-write0-3 82
debug :  {"message": "end topic: consumer-write2-3"}
debug :  {"message": "end topic: consumer-write6-0"}
debug :  {"message": "end topic: consumer-write1-3"}
debug :  {"message": "end topic: consumer-write4-3"}
debug :  {"message": "end topic: consumer-write7-0"}
debug :  {"consumer-write": "write data"}
debug :  {"consumer-write": "write data"}
debug :  {"message": "end topic: consumer-write4-2"}
debug :  {"message": "end topic: consumer-write5-0"}
debug :  {"message": "end topic: consumer-write3-2"}
debug :  {"consumer-write": "write data"}
debug :  {"consumer-write": "write data"}
debug :  {"consumer-write": "write data"}
debug :  {"message": "end topic: consumer-write1-0"}
manager-consumer :  695  :  {"machine_kafka": "DS2_v2", "batch_size": 12288.0, "nb_messages": 9120, "time": 1.7529898881912231}
manager-consumer :  696  :  {"machine_kafka": "DS2_v2", "batch_size": 12288.0, "nb_messages": 9120, "time": 0.733214259147644}
manager-consumer :  697  :  {"machine_kafka": "DS2_v2", "batch_size": 12288.0, "nb_messages": 9120, "time": 2.079259514808655}
manager-consumer :  698  :  {"machine_kafka": "DS2_v2", "batch_size": 12288.0, "nb_messages": 9120, "time": 0.7047616243362427}
manager-consumer :  699  :  {"machine_kafka": "DS2_v2", "batch_size": 12288.0, "nb_messages": 9120, "time": 0.8018550872802734}
manager-consumer :  700  :  {"machine_kafka": "DS2_v2", "batch_size": 12288.0, "nb_messages": 9120, "time": 0.7679497003555298}
manager-consumer :  701  :  {"machine_kafka": "DS2_v2", "batch_size": 12288.0, "nb_messages": 9120, "time": 1.4094878435134888}
manager-consumer :  702  :  {"machine_kafka": "DS2_v2", "batch_size": 12288.0, "nb_messages": 9120, "time": 0.7205302715301514}
manager-consumer :  703  :  {"machine_kafka": "DS2_v2", "batch_size": 12288.0, "nb_messages": 9120, "time": 0.7714916467666626}
debug :  {"message": "end topic: consumer-write4-0"}
debug :  {"consumer-write": "write data"}
debug :  {"message": "end topic: consumer-write1-1"}
debug :  {"message": "end topic: consumer-write7-3"}
debug :  {"message": "end topic: consumer-write7-1"}
debug :  {"message": "end topic: consumer-write4-1"}
debug :  {"consumer-write": "write data"}
debug :  {"consumer-write": "write data"}
debug :  {"consumer-write": "write data"}
debug :  {"message": "end topic: consumer-write0-3"}
debug :  {"message": "end topic: consumer-write6-1"}
debug :  {"message": "end topic: consumer-write1-2"}
consumer-write0-1 :  83
manager-consumer :  704  :  {"machine_kafka": "DS2_v2", "batch_size": 12288.0, "nb_messages": 9120, "time": 1.6315524578094482}
debug :  {"Received so far:": 1, "nb_consumers_producers": 32}
debug :  {"consumer-write": "write data"}
debug :  {"message": "end topic: consumer-write0-1"}
debug :  {"Received so far:": 2, "nb_consumers_producers": 32}
debug :  {"Received so far:": 3, "nb_consumers_producers": 32}
debug :  {"Received so far:": 4, "nb_consumers_producers": 32}
debug :  {"Received so far:": 5, "nb_consumers_producers": 32}
debug :  {"Received so far:": 6, "nb_consumers_producers": 32}
debug :  {"Received so far:": 7, "nb_consumers_producers": 32}
debug :  {"Received so far:": 8, "nb_consumers_producers": 32}
debug :  {"Received so far:": 9, "nb_consumers_producers": 32}
debug :  {"Received so far:": 10, "nb_consumers_producers": 32}
debug :  {"Received so far:": 11, "nb_consumers_producers": 32}
debug :  {"Received so far:": 12, "nb_consumers_producers": 32}
debug :  {"Received so far:": 13, "nb_consumers_producers": 32}
debug :  {"Received so far:": 14, "nb_consumers_producers": 32}
debug :  {"Received so far:": 15, "nb_consumers_producers": 32}
debug :  {"Received so far:": 16, "nb_consumers_producers": 32}
debug :  {"Received so far:": 17, "nb_consumers_producers": 32}
debug :  {"Received so far:": 18, "nb_consumers_producers": 32}
debug :  {"Received so far:": 19, "nb_consumers_producers": 32}
debug :  {"Received so far:": 20, "nb_consumers_producers": 32}
debug :  {"Received so far:": 21, "nb_consumers_producers": 32}
debug :  {"Received so far:": 22, "nb_consumers_producers": 32}
debug :  {"Received so far:": 23, "nb_consumers_producers": 32}
debug :  {"Received so far:": 24, "nb_consumers_producers": 32}
debug :  {"Received so far:": 25, "nb_consumers_producers": 32}
debug :  {"Received so far:": 26, "nb_consumers_producers": 32}
debug :  {"Received so far:": 27, "nb_consumers_producers": 32}
debug :  {"Received so far:": 28, "nb_consumers_producers": 32}
debug :  {"Received so far:": 29, "nb_consumers_producers": 32}
debug :  {"Received so far:": 30, "nb_consumers_producers": 32}
debug :  {"Received so far:": 31, "nb_consumers_producers": 32}
manager-producer :  {"batch_size": 12288.0, "flow": 310, "amount_of_time": 30, "timestamp": 1678384867.0332527, "stop": false}
debug :  {"message": "Let s produce: {'batch_size': 12288.0, 'flow': 310, 'amount_of_time': 30, 'timestamp': 1678384867.0332527, 'stop': False}"}
debug :  {"message": "Let s produce: {'batch_size': 12288.0, 'flow': 310, 'amount_of_time': 30, 'timestamp': 1678384867.0332527, 'stop': False}"}
debug :  {"message": "Let s produce: {'batch_size': 12288.0, 'flow': 310, 'amount_of_time': 30, 'timestamp': 1678384867.0332527, 'stop': False}"}
debug :  {"message": "Let s produce: {'batch_size': 12288.0, 'flow': 310, 'amount_of_time': 30, 'timestamp': 1678384867.0332527, 'stop': False}"}
debug :  {"message": "Let s produce: {'batch_size': 12288.0, 'flow': 310, 'amount_of_time': 30, 'timestamp': 1678384867.0332527, 'stop': False}"}
debug :  {"message": "Let s produce: {'batch_size': 12288.0, 'flow': 310, 'amount_of_time': 30, 'timestamp': 1678384867.0332527, 'stop': False}"}
debug :  {"message": "Let s produce: {'batch_size': 12288.0, 'flow': 310, 'amount_of_time': 30, 'timestamp': 1678384867.0332527, 'stop': False}"}
debug :  {"message": "Let s produce: {'batch_size': 12288.0, 'flow': 310, 'amount_of_time': 30, 'timestamp': 1678384867.0332527, 'stop': False}"}
debug :  {"message": "Let s produce: {'batch_size': 12288.0, 'flow': 310, 'amount_of_time': 30, 'timestamp': 1678384867.0332527, 'stop': False}"}
debug :  {"message": "Let s produce: {'batch_size': 12288.0, 'flow': 310, 'amount_of_time': 30, 'timestamp': 1678384867.0332527, 'stop': False}"}
debug :  {"message": "Let s produce: {'batch_size': 12288.0, 'flow': 310, 'amount_of_time': 30, 'timestamp': 1678384867.0332527, 'stop': False}"}
debug :  {"message": "Let s produce: {'batch_size': 12288.0, 'flow': 310, 'amount_of_time': 30, 'timestamp': 1678384867.0332527, 'stop': False}"}
debug :  {"message": "Let s produce: {'batch_size': 12288.0, 'flow': 310, 'amount_of_time': 30, 'timestamp': 1678384867.0332527, 'stop': False}"}
debug :  {"message": "Let s produce: {'batch_size': 12288.0, 'flow': 310, 'amount_of_time': 30, 'timestamp': 1678384867.0332527, 'stop': False}"}
debug :  {"message": "Let s produce: {'batch_size': 12288.0, 'flow': 310, 'amount_of_time': 30, 'timestamp': 1678384867.0332527, 'stop': False}"}
debug :  {"message": "Let s produce: {'batch_size': 12288.0, 'flow': 310, 'amount_of_time': 30, 'timestamp': 1678384867.0332527, 'stop': False}"}
debug :  {"message": "Let s produce: {'batch_size': 12288.0, 'flow': 310, 'amount_of_time': 30, 'timestamp': 1678384867.0332527, 'stop': False}"}
debug :  {"message": "Let s produce: {'batch_size': 12288.0, 'flow': 310, 'amount_of_time': 30, 'timestamp': 1678384867.0332527, 'stop': False}"}
debug :  {"message": "Let s produce: {'batch_size': 12288.0, 'flow': 310, 'amount_of_time': 30, 'timestamp': 1678384867.0332527, 'stop': False}"}
debug :  {"message": "Let s produce: {'batch_size': 12288.0, 'flow': 310, 'amount_of_time': 30, 'timestamp': 1678384867.0332527, 'stop': False}"}
debug :  {"message": "Let s produce: {'batch_size': 12288.0, 'flow': 310, 'amount_of_time': 30, 'timestamp': 1678384867.0332527, 'stop': False}"}
debug :  {"message": "Let s produce: {'batch_size': 12288.0, 'flow': 310, 'amount_of_time': 30, 'timestamp': 1678384867.0332527, 'stop': False}"}
debug :  {"message": "Let s produce: {'batch_size': 12288.0, 'flow': 310, 'amount_of_time': 30, 'timestamp': 1678384867.0332527, 'stop': False}"}
debug :  {"message": "Let s produce: {'batch_size': 12288.0, 'flow': 310, 'amount_of_time': 30, 'timestamp': 1678384867.0332527, 'stop': False}"}
debug :  {"message": "Let s produce: {'batch_size': 12288.0, 'flow': 310, 'amount_of_time': 30, 'timestamp': 1678384867.0332527, 'stop': False}"}
debug :  {"message": "Let s produce: {'batch_size': 12288.0, 'flow': 310, 'amount_of_time': 30, 'timestamp': 1678384867.0332527, 'stop': False}"}
debug :  {"message": "Let s produce: {'batch_size': 12288.0, 'flow': 310, 'amount_of_time': 30, 'timestamp': 1678384867.0332527, 'stop': False}"}
debug :  {"message": "Let s produce: {'batch_size': 12288.0, 'flow': 310, 'amount_of_time': 30, 'timestamp': 1678384867.0332527, 'stop': False}"}
debug :  {"message": "Let s produce: {'batch_size': 12288.0, 'flow': 310, 'amount_of_time': 30, 'timestamp': 1678384867.0332527, 'stop': False}"}
debug :  {"message": "Let s produce: {'batch_size': 12288.0, 'flow': 310, 'amount_of_time': 30, 'timestamp': 1678384867.0332527, 'stop': False}"}
debug :  {"message": "Let s produce: {'batch_size': 12288.0, 'flow': 310, 'amount_of_time': 30, 'timestamp': 1678384867.0332527, 'stop': False}"}
debug :  {"message": "Let s produce: {'batch_size': 12288.0, 'flow': 310, 'amount_of_time': 30, 'timestamp': 1678384867.0332527, 'stop': False}"}
debug :  {"Received so far:": 0, "nb_consumers_producers": 32}
consumer-write0-0 :  84
debug :  {"message": "end topic: consumer-write6-3"}
debug :  {"message": "end topic: consumer-write2-1"}
debug :  {"message": "end topic: consumer-write2-0"}
debug :  {"message": "end topic: consumer-write0-0"}
manager-consumer :  705  :  {"machine_kafka": "DS2_v2", "batch_size": 12288.0, "nb_messages": 9300, "time": 1.7935938835144043}
debug :  {"message": "end topic: consumer-write7-2"}
debug :  {"consumer-write": "write data"}
manager-consumer :  706  :  {"machine_kafka": "DS2_v2", "batch_size": 12288.0, "nb_messages": 9300, "time": 2.10312020778656}
debug :  {"consumer-write": "write data"}
debug :  {"message": "end topic: consumer-write6-2"}
manager-consumer :  707  :  {"machine_kafka": "DS2_v2", "batch_size": 12288.0, "nb_messages": 9300, "time": 1.905310869216919}
manager-consumer :  708  :  {"machine_kafka": "DS2_v2", "batch_size": 12288.0, "nb_messages": 9300, "time": 1.7644157409667969}
manager-consumer :  709  :  {"machine_kafka": "DS2_v2", "batch_size": 12288.0, "nb_messages": 9300, "time": 1.6090697050094604}
debug :  {"consumer-write": "write data"}
debug :  {"message": "end topic: consumer-write1-3"}
debug :  {"message": "end topic: consumer-write5-1"}
debug :  {"consumer-write": "write data"}
debug :  {"message": "end topic: consumer-write5-3"}
debug :  {"consumer-write": "write data"}
debug :  {"message": "end topic: consumer-write2-3"}
debug :  {"message": "end topic: consumer-write5-0"}
debug :  {"message": "end topic: consumer-write3-3"}
consumer-write0-2 85
debug :  {"message": "end topic: consumer-write4-2"}
debug :  {"message": "end topic: consumer-write4-3"}
debug :  {"message": "end topic: consumer-write6-0"}
debug :  {"message": "end topic: consumer-write1-0"}
debug :  {"message": "end topic: consumer-write7-0"}
debug :  {"message": "end topic: consumer-write7-1"}
debug :  {"message": "end topic: consumer-write7-3"}
debug :  {"consumer-write": "write data"}
debug :  {"message": "end topic: consumer-write1-1"}
debug :  {"message": "end topic: consumer-write4-0"}
debug :  {"message": "end topic: consumer-write3-0"}
debug :  {"Received so far:": 1, "nb_consumers_producers": 32}
manager-consumer :  710  :  {"machine_kafka": "DS2_v2", "batch_size": 12288.0, "nb_messages": 9300, "time": 1.7104886770248413}
consumer-write0-3 86
debug :  {"message": "end topic: consumer-write0-2"}
debug :  {"consumer-write": "write data"}
debug :  {"consumer-write": "write data"}
debug :  {"message": "end topic: consumer-write4-1"}
manager-consumer :  711  :  {"machine_kafka": "DS2_v2", "batch_size": 12288.0, "nb_messages": 9300, "time": 2.1476142406463623}
manager-consumer :  712  :  {"machine_kafka": "DS2_v2", "batch_size": 12288.0, "nb_messages": 9300, "time": 1.9532971382141113}
manager-consumer :  713  :  {"machine_kafka": "DS2_v2", "batch_size": 12288.0, "nb_messages": 9211, "time": 2.538447856903076}
debug :  {"consumer-write": "write data"}
debug :  {"message": "end topic: consumer-write2-2"}
debug :  {"message": "end topic: consumer-write1-2"}
debug :  {"consumer-write": "write data"}
debug :  {"consumer-write": "write data"}
manager-consumer :  714  :  {"machine_kafka": "DS2_v2", "batch_size": 12288.0, "nb_messages": 8996, "time": 2.716797351837158}
manager-consumer :  715  :  {"machine_kafka": "DS2_v2", "batch_size": 12288.0, "nb_messages": 8037, "time": 2.9720401763916016}
manager-consumer :  716  :  {"machine_kafka": "DS2_v2", "batch_size": 12288.0, "nb_messages": 7522, "time": 1.259572148323059}
debug :  {"consumer-write": "write data"}
debug :  {"message": "end topic: consumer-write0-3"}
debug :  {"message": "end topic: consumer-write5-2"}
manager-consumer :  717  :  {"machine_kafka": "DS2_v2", "batch_size": 12288.0, "nb_messages": 9300, "time": 2.194125771522522}
manager-consumer :  718  :  {"machine_kafka": "DS2_v2", "batch_size": 12288.0, "nb_messages": 9300, "time": 2.417569875717163}
manager-consumer :  719  :  {"machine_kafka": "DS2_v2", "batch_size": 12288.0, "nb_messages": 8874, "time": 2.9891505241394043}
manager-consumer :  720  :  {"machine_kafka": "DS2_v2", "batch_size": 12288.0, "nb_messages": 7853, "time": 2.8980557918548584}
manager-consumer :  721  :  {"machine_kafka": "DS2_v2", "batch_size": 12288.0, "nb_messages": 9300, "time": 2.257517457008362}
debug :  {"message": "end topic: consumer-write3-1"}
debug :  {"consumer-write": "write data"}
debug :  {"consumer-write": "write data"}
debug :  {"consumer-write": "write data"}
debug :  {"consumer-write": "write data"}
debug :  {"consumer-write": "write data"}
debug :  {"consumer-write": "write data"}
consumer-write0-1 :  87
debug :  {"consumer-write": "write data"}
debug :  {"Received so far:": 2, "nb_consumers_producers": 32}
debug :  {"message": "end topic: consumer-write3-2"}
debug :  {"message": "end topic: consumer-write0-1"}
manager-consumer :  722  :  {"machine_kafka": "DS2_v2", "batch_size": 12288.0, "nb_messages": 9300, "time": 1.4796723127365112}
manager-consumer :  723  :  {"machine_kafka": "DS2_v2", "batch_size": 12288.0, "nb_messages": 9193, "time": 2.4576613903045654}
manager-consumer :  724  :  {"machine_kafka": "DS2_v2", "batch_size": 12288.0, "nb_messages": 9300, "time": 1.412786841392517}
manager-consumer :  725  :  {"machine_kafka": "DS2_v2", "batch_size": 12288.0, "nb_messages": 8092, "time": 2.3352038860321045}
debug :  {"consumer-write": "write data"}
debug :  {"consumer-write": "write data"}
debug :  {"consumer-write": "write data"}
debug :  {"consumer-write": "write data"}
debug :  {"consumer-write": "write data"}
debug :  {"message": "end topic: consumer-write6-1"}
manager-consumer :  726  :  {"machine_kafka": "DS2_v2", "batch_size": 12288.0, "nb_messages": 8711, "time": 2.8915109634399414}
manager-consumer :  727  :  {"machine_kafka": "DS2_v2", "batch_size": 12288.0, "nb_messages": 7726, "time": 2.255105495452881}
manager-consumer :  728  :  {"machine_kafka": "DS2_v2", "batch_size": 12288.0, "nb_messages": 8732, "time": 3.045469284057617}
debug :  {"Received so far:": 3, "nb_consumers_producers": 32}
debug :  {"consumer-write": "write data"}
debug :  {"consumer-write": "write data"}
manager-consumer :  729  :  {"machine_kafka": "DS2_v2", "batch_size": 12288.0, "nb_messages": 8236, "time": 2.4049127101898193}
manager-consumer :  730  :  {"machine_kafka": "DS2_v2", "batch_size": 12288.0, "nb_messages": 8736, "time": 2.941276788711548}
debug :  {"consumer-write": "write data"}
debug :  {"consumer-write": "write data"}
debug :  {"consumer-write": "write data"}
manager-consumer :  731  :  {"machine_kafka": "DS2_v2", "batch_size": 12288.0, "nb_messages": 8421, "time": 2.594362735748291}
manager-consumer :  732  :  {"machine_kafka": "DS2_v2", "batch_size": 12288.0, "nb_messages": 9214, "time": 2.4825029373168945}
manager-consumer :  733  :  {"machine_kafka": "DS2_v2", "batch_size": 12288.0, "nb_messages": 7838, "time": 2.778382658958435}
debug :  {"consumer-write": "write data"}
debug :  {"consumer-write": "write data"}
manager-consumer :  734  :  {"machine_kafka": "DS2_v2", "batch_size": 12288.0, "nb_messages": 7640, "time": 2.1465203762054443}
manager-consumer :  735  :  {"machine_kafka": "DS2_v2", "batch_size": 12288.0, "nb_messages": 8003, "time": 2.983320951461792}
debug :  {"Received so far:": 4, "nb_consumers_producers": 32}
debug :  {"consumer-write": "write data"}
manager-consumer :  736  :  {"machine_kafka": "DS2_v2", "batch_size": 12288.0, "nb_messages": 7919, "time": 2.714186191558838}
debug :  {"Received so far:": 5, "nb_consumers_producers": 32}
debug :  {"Received so far:": 6, "nb_consumers_producers": 32}
debug :  {"Received so far:": 7, "nb_consumers_producers": 32}
debug :  {"Received so far:": 8, "nb_consumers_producers": 32}
debug :  {"Received so far:": 9, "nb_consumers_producers": 32}
debug :  {"Received so far:": 10, "nb_consumers_producers": 32}
debug :  {"Received so far:": 11, "nb_consumers_producers": 32}
debug :  {"Received so far:": 12, "nb_consumers_producers": 32}
debug :  {"Received so far:": 13, "nb_consumers_producers": 32}
debug :  {"Received so far:": 14, "nb_consumers_producers": 32}
debug :  {"Received so far:": 15, "nb_consumers_producers": 32}
debug :  {"Received so far:": 16, "nb_consumers_producers": 32}
debug :  {"Received so far:": 17, "nb_consumers_producers": 32}
debug :  {"Received so far:": 18, "nb_consumers_producers": 32}
debug :  {"Received so far:": 19, "nb_consumers_producers": 32}
debug :  {"Received so far:": 20, "nb_consumers_producers": 32}
debug :  {"Received so far:": 21, "nb_consumers_producers": 32}
debug :  {"Received so far:": 22, "nb_consumers_producers": 32}
debug :  {"Received so far:": 23, "nb_consumers_producers": 32}
debug :  {"Received so far:": 24, "nb_consumers_producers": 32}
debug :  {"Received so far:": 25, "nb_consumers_producers": 32}
debug :  {"Received so far:": 26, "nb_consumers_producers": 32}
debug :  {"Received so far:": 27, "nb_consumers_producers": 32}
debug :  {"Received so far:": 28, "nb_consumers_producers": 32}
debug :  {"Received so far:": 29, "nb_consumers_producers": 32}
debug :  {"Received so far:": 30, "nb_consumers_producers": 32}
debug :  {"Received so far:": 31, "nb_consumers_producers": 32}
manager-producer :  {"batch_size": 12288.0, "flow": 311, "amount_of_time": 30, "timestamp": 1678384908.4029238, "stop": false}
debug :  {"message": "Let s produce: {'batch_size': 12288.0, 'flow': 311, 'amount_of_time': 30, 'timestamp': 1678384908.4029238, 'stop': False}"}
debug :  {"message": "Let s produce: {'batch_size': 12288.0, 'flow': 311, 'amount_of_time': 30, 'timestamp': 1678384908.4029238, 'stop': False}"}
debug :  {"message": "Let s produce: {'batch_size': 12288.0, 'flow': 311, 'amount_of_time': 30, 'timestamp': 1678384908.4029238, 'stop': False}"}
debug :  {"message": "Let s produce: {'batch_size': 12288.0, 'flow': 311, 'amount_of_time': 30, 'timestamp': 1678384908.4029238, 'stop': False}"}
debug :  {"message": "Let s produce: {'batch_size': 12288.0, 'flow': 311, 'amount_of_time': 30, 'timestamp': 1678384908.4029238, 'stop': False}"}
debug :  {"message": "Let s produce: {'batch_size': 12288.0, 'flow': 311, 'amount_of_time': 30, 'timestamp': 1678384908.4029238, 'stop': False}"}
debug :  {"message": "Let s produce: {'batch_size': 12288.0, 'flow': 311, 'amount_of_time': 30, 'timestamp': 1678384908.4029238, 'stop': False}"}
debug :  {"message": "Let s produce: {'batch_size': 12288.0, 'flow': 311, 'amount_of_time': 30, 'timestamp': 1678384908.4029238, 'stop': False}"}
debug :  {"message": "Let s produce: {'batch_size': 12288.0, 'flow': 311, 'amount_of_time': 30, 'timestamp': 1678384908.4029238, 'stop': False}"}
debug :  {"message": "Let s produce: {'batch_size': 12288.0, 'flow': 311, 'amount_of_time': 30, 'timestamp': 1678384908.4029238, 'stop': False}"}
debug :  {"message": "Let s produce: {'batch_size': 12288.0, 'flow': 311, 'amount_of_time': 30, 'timestamp': 1678384908.4029238, 'stop': False}"}
debug :  {"message": "Let s produce: {'batch_size': 12288.0, 'flow': 311, 'amount_of_time': 30, 'timestamp': 1678384908.4029238, 'stop': False}"}
debug :  {"message": "Let s produce: {'batch_size': 12288.0, 'flow': 311, 'amount_of_time': 30, 'timestamp': 1678384908.4029238, 'stop': False}"}
debug :  {"message": "Let s produce: {'batch_size': 12288.0, 'flow': 311, 'amount_of_time': 30, 'timestamp': 1678384908.4029238, 'stop': False}"}
debug :  {"message": "Let s produce: {'batch_size': 12288.0, 'flow': 311, 'amount_of_time': 30, 'timestamp': 1678384908.4029238, 'stop': False}"}
debug :  {"message": "Let s produce: {'batch_size': 12288.0, 'flow': 311, 'amount_of_time': 30, 'timestamp': 1678384908.4029238, 'stop': False}"}
debug :  {"message": "Let s produce: {'batch_size': 12288.0, 'flow': 311, 'amount_of_time': 30, 'timestamp': 1678384908.4029238, 'stop': False}"}
debug :  {"message": "Let s produce: {'batch_size': 12288.0, 'flow': 311, 'amount_of_time': 30, 'timestamp': 1678384908.4029238, 'stop': False}"}
debug :  {"message": "Let s produce: {'batch_size': 12288.0, 'flow': 311, 'amount_of_time': 30, 'timestamp': 1678384908.4029238, 'stop': False}"}
debug :  {"message": "Let s produce: {'batch_size': 12288.0, 'flow': 311, 'amount_of_time': 30, 'timestamp': 1678384908.4029238, 'stop': False}"}
debug :  {"message": "Let s produce: {'batch_size': 12288.0, 'flow': 311, 'amount_of_time': 30, 'timestamp': 1678384908.4029238, 'stop': False}"}
debug :  {"message": "Let s produce: {'batch_size': 12288.0, 'flow': 311, 'amount_of_time': 30, 'timestamp': 1678384908.4029238, 'stop': False}"}
debug :  {"message": "Let s produce: {'batch_size': 12288.0, 'flow': 311, 'amount_of_time': 30, 'timestamp': 1678384908.4029238, 'stop': False}"}
debug :  {"message": "Let s produce: {'batch_size': 12288.0, 'flow': 311, 'amount_of_time': 30, 'timestamp': 1678384908.4029238, 'stop': False}"}
debug :  {"message": "Let s produce: {'batch_size': 12288.0, 'flow': 311, 'amount_of_time': 30, 'timestamp': 1678384908.4029238, 'stop': False}"}
debug :  {"message": "Let s produce: {'batch_size': 12288.0, 'flow': 311, 'amount_of_time': 30, 'timestamp': 1678384908.4029238, 'stop': False}"}
debug :  {"message": "Let s produce: {'batch_size': 12288.0, 'flow': 311, 'amount_of_time': 30, 'timestamp': 1678384908.4029238, 'stop': False}"}
debug :  {"message": "Let s produce: {'batch_size': 12288.0, 'flow': 311, 'amount_of_time': 30, 'timestamp': 1678384908.4029238, 'stop': False}"}
debug :  {"message": "Let s produce: {'batch_size': 12288.0, 'flow': 311, 'amount_of_time': 30, 'timestamp': 1678384908.4029238, 'stop': False}"}
debug :  {"message": "Let s produce: {'batch_size': 12288.0, 'flow': 311, 'amount_of_time': 30, 'timestamp': 1678384908.4029238, 'stop': False}"}
debug :  {"message": "Let s produce: {'batch_size': 12288.0, 'flow': 311, 'amount_of_time': 30, 'timestamp': 1678384908.4029238, 'stop': False}"}
debug :  {"message": "Let s produce: {'batch_size': 12288.0, 'flow': 311, 'amount_of_time': 30, 'timestamp': 1678384908.4029238, 'stop': False}"}
debug :  {"Received so far:": 0, "nb_consumers_producers": 32}
consumer-write0-0 :  88
debug :  {"message": "end topic: consumer-write6-3"}
debug :  {"message": "end topic: consumer-write0-0"}
consumer-write0-2 89
debug :  {"message": "end topic: consumer-write2-0"}
debug :  {"message": "end topic: consumer-write5-3"}
debug :  {"message": "end topic: consumer-write3-3"}
debug :  {"message": "end topic: consumer-write1-1"}
debug :  {"message": "end topic: consumer-write1-0"}
debug :  {"message": "end topic: consumer-write2-3"}
debug :  {"message": "end topic: consumer-write4-0"}
debug :  {"message": "end topic: consumer-write5-0"}
debug :  {"message": "end topic: consumer-write4-2"}
debug :  {"message": "end topic: consumer-write1-3"}
debug :  {"message": "end topic: consumer-write4-3"}
debug :  {"message": "end topic: consumer-write5-1"}
consumer-write0-3 90
debug :  {"message": "end topic: consumer-write2-1"}
debug :  {"message": "end topic: consumer-write4-1"}
debug :  {"message": "end topic: consumer-write3-0"}
debug :  {"message": "end topic: consumer-write5-2"}
debug :  {"message": "end topic: consumer-write6-2"}
debug :  {"message": "end topic: consumer-write2-2"}
debug :  {"message": "end topic: consumer-write7-2"}
debug :  {"consumer-write": "write data"}
debug :  {"message": "end topic: consumer-write0-3"}
debug :  {"message": "end topic: consumer-write1-2"}
debug :  {"message": "end topic: consumer-write0-2"}
consumer-write0-1 :  91
manager-consumer :  737  :  {"machine_kafka": "DS2_v2", "batch_size": 12288.0, "nb_messages": 7022, "time": 0.6255062818527222}
manager-consumer :  738  :  {"machine_kafka": "DS2_v2", "batch_size": 12288.0, "nb_messages": 8726, "time": 1.0581392049789429}
manager-consumer :  739  :  {"machine_kafka": "DS2_v2", "batch_size": 12288.0, "nb_messages": 8599, "time": 1.0160953998565674}
manager-consumer :  740  :  {"machine_kafka": "DS2_v2", "batch_size": 12288.0, "nb_messages": 7264, "time": 0.6399257183074951}
manager-consumer :  741  :  {"machine_kafka": "DS2_v2", "batch_size": 12288.0, "nb_messages": 6856, "time": 0.6483911275863647}
debug :  {"message": "end topic: consumer-write7-3"}
debug :  {"message": "end topic: consumer-write6-0"}
debug :  {"consumer-write": "write data"}
debug :  {"consumer-write": "write data"}
debug :  {"message": "end topic: consumer-write7-0"}
debug :  {"message": "end topic: consumer-write3-1"}
debug :  {"consumer-write": "write data"}
debug :  {"message": "end topic: consumer-write0-1"}
debug :  {"message": "end topic: consumer-write7-1"}
debug :  {"consumer-write": "write data"}
debug :  {"message": "end topic: consumer-write6-1"}
debug :  {"consumer-write": "write data"}
debug :  {"consumer-write": "write data"}
debug :  {"consumer-write": "write data"}
manager-consumer :  742  :  {"machine_kafka": "DS2_v2", "batch_size": 12288.0, "nb_messages": 7202, "time": 0.6284803152084351}
manager-consumer :  743  :  {"machine_kafka": "DS2_v2", "batch_size": 12288.0, "nb_messages": 6890, "time": 0.6209142208099365}
manager-consumer :  744  :  {"machine_kafka": "DS2_v2", "batch_size": 12288.0, "nb_messages": 7596, "time": 0.683474063873291}
manager-consumer :  745  :  {"machine_kafka": "DS2_v2", "batch_size": 12288.0, "nb_messages": 7922, "time": 0.7341196537017822}
manager-consumer :  746  :  {"machine_kafka": "DS2_v2", "batch_size": 12288.0, "nb_messages": 7354, "time": 0.6895240545272827}
manager-consumer :  747  :  {"machine_kafka": "DS2_v2", "batch_size": 12288.0, "nb_messages": 7852, "time": 0.7290672063827515}
manager-consumer :  748  :  {"machine_kafka": "DS2_v2", "batch_size": 12288.0, "nb_messages": 7468, "time": 0.6701998710632324}
manager-consumer :  749  :  {"machine_kafka": "DS2_v2", "batch_size": 12288.0, "nb_messages": 8662, "time": 0.9644143581390381}
manager-consumer :  750  :  {"machine_kafka": "DS2_v2", "batch_size": 12288.0, "nb_messages": 8657, "time": 0.993633508682251}
manager-consumer :  751  :  {"machine_kafka": "DS2_v2", "batch_size": 12288.0, "nb_messages": 7092, "time": 0.6666522026062012}
debug :  {"consumer-write": "write data"}
debug :  {"consumer-write": "write data"}
debug :  {"consumer-write": "write data"}
debug :  {"Received so far:": 1, "nb_consumers_producers": 32}
debug :  {"consumer-write": "write data"}
debug :  {"consumer-write": "write data"}
debug :  {"consumer-write": "write data"}
debug :  {"consumer-write": "write data"}
debug :  {"consumer-write": "write data"}
debug :  {"consumer-write": "write data"}
debug :  {"consumer-write": "write data"}
debug :  {"consumer-write": "write data"}
debug :  {"consumer-write": "write data"}
debug :  {"consumer-write": "write data"}
debug :  {"consumer-write": "write data"}
debug :  {"message": "end topic: consumer-write3-2"}
manager-consumer :  752  :  {"machine_kafka": "DS2_v2", "batch_size": 12288.0, "nb_messages": 7031, "time": 0.6582674980163574}
manager-consumer :  753  :  {"machine_kafka": "DS2_v2", "batch_size": 12288.0, "nb_messages": 7000, "time": 0.6176284551620483}
manager-consumer :  754  :  {"machine_kafka": "DS2_v2", "batch_size": 12288.0, "nb_messages": 7041, "time": 0.6241791248321533}
manager-consumer :  755  :  {"machine_kafka": "DS2_v2", "batch_size": 12288.0, "nb_messages": 8239, "time": 0.7882850170135498}
manager-consumer :  756  :  {"machine_kafka": "DS2_v2", "batch_size": 12288.0, "nb_messages": 7420, "time": 0.63309645652771}
manager-consumer :  757  :  {"machine_kafka": "DS2_v2", "batch_size": 12288.0, "nb_messages": 7210, "time": 0.6863001585006714}
manager-consumer :  758  :  {"machine_kafka": "DS2_v2", "batch_size": 12288.0, "nb_messages": 7963, "time": 0.7250604629516602}
manager-consumer :  759  :  {"machine_kafka": "DS2_v2", "batch_size": 12288.0, "nb_messages": 6597, "time": 0.593740701675415}
manager-consumer :  760  :  {"machine_kafka": "DS2_v2", "batch_size": 12288.0, "nb_messages": 7269, "time": 0.6784722805023193}
manager-consumer :  761  :  {"machine_kafka": "DS2_v2", "batch_size": 12288.0, "nb_messages": 7040, "time": 0.6249074935913086}
manager-consumer :  762  :  {"machine_kafka": "DS2_v2", "batch_size": 12288.0, "nb_messages": 7031, "time": 0.6388258934020996}
manager-consumer :  763  :  {"machine_kafka": "DS2_v2", "batch_size": 12288.0, "nb_messages": 6678, "time": 0.6088005304336548}
manager-consumer :  764  :  {"machine_kafka": "DS2_v2", "batch_size": 12288.0, "nb_messages": 7281, "time": 0.6668691635131836}
debug :  {"consumer-write": "write data"}
debug :  {"consumer-write": "write data"}
debug :  {"consumer-write": "write data"}
debug :  {"consumer-write": "write data"}
debug :  {"consumer-write": "write data"}
debug :  {"consumer-write": "write data"}
debug :  {"consumer-write": "write data"}
debug :  {"consumer-write": "write data"}
manager-consumer :  765  :  {"machine_kafka": "DS2_v2", "batch_size": 12288.0, "nb_messages": 7426, "time": 0.6713263988494873}
manager-consumer :  766  :  {"machine_kafka": "DS2_v2", "batch_size": 12288.0, "nb_messages": 8187, "time": 0.7910215854644775}
debug :  {"Received so far:": 2, "nb_consumers_producers": 32}
debug :  {"consumer-write": "write data"}
debug :  {"consumer-write": "write data"}
manager-consumer :  767  :  {"machine_kafka": "DS2_v2", "batch_size": 12288.0, "nb_messages": 6487, "time": 0.5786855220794678}
manager-consumer :  768  :  {"machine_kafka": "DS2_v2", "batch_size": 12288.0, "nb_messages": 6885, "time": 0.6235325336456299}
debug :  {"Received so far:": 3, "nb_consumers_producers": 32}
debug :  {"Received so far:": 4, "nb_consumers_producers": 32}
debug :  {"Received so far:": 5, "nb_consumers_producers": 32}
debug :  {"Received so far:": 6, "nb_consumers_producers": 32}
debug :  {"Received so far:": 7, "nb_consumers_producers": 32}
debug :  {"Received so far:": 8, "nb_consumers_producers": 32}
debug :  {"Received so far:": 9, "nb_consumers_producers": 32}
debug :  {"Received so far:": 10, "nb_consumers_producers": 32}
debug :  {"Received so far:": 11, "nb_consumers_producers": 32}
debug :  {"Received so far:": 12, "nb_consumers_producers": 32}
debug :  {"Received so far:": 13, "nb_consumers_producers": 32}
debug :  {"Received so far:": 14, "nb_consumers_producers": 32}
debug :  {"Received so far:": 15, "nb_consumers_producers": 32}
debug :  {"Received so far:": 16, "nb_consumers_producers": 32}
debug :  {"Received so far:": 17, "nb_consumers_producers": 32}
debug :  {"Received so far:": 18, "nb_consumers_producers": 32}
debug :  {"Received so far:": 19, "nb_consumers_producers": 32}
debug :  {"Received so far:": 20, "nb_consumers_producers": 32}
debug :  {"Received so far:": 21, "nb_consumers_producers": 32}
debug :  {"Received so far:": 22, "nb_consumers_producers": 32}
debug :  {"Received so far:": 23, "nb_consumers_producers": 32}
debug :  {"Received so far:": 24, "nb_consumers_producers": 32}
debug :  {"Received so far:": 25, "nb_consumers_producers": 32}
debug :  {"Received so far:": 26, "nb_consumers_producers": 32}
debug :  {"Received so far:": 27, "nb_consumers_producers": 32}
debug :  {"Received so far:": 28, "nb_consumers_producers": 32}
debug :  {"Received so far:": 29, "nb_consumers_producers": 32}
debug :  {"Received so far:": 30, "nb_consumers_producers": 32}
debug :  {"Received so far:": 31, "nb_consumers_producers": 32}
manager-producer :  {"batch_size": 12288.0, "flow": 311, "amount_of_time": 30, "timestamp": 1678384951.9262383, "stop": false}
debug :  {"message": "Let s produce: {'batch_size': 12288.0, 'flow': 311, 'amount_of_time': 30, 'timestamp': 1678384951.9262383, 'stop': False}"}
debug :  {"message": "Let s produce: {'batch_size': 12288.0, 'flow': 311, 'amount_of_time': 30, 'timestamp': 1678384951.9262383, 'stop': False}"}
debug :  {"message": "Let s produce: {'batch_size': 12288.0, 'flow': 311, 'amount_of_time': 30, 'timestamp': 1678384951.9262383, 'stop': False}"}
debug :  {"message": "Let s produce: {'batch_size': 12288.0, 'flow': 311, 'amount_of_time': 30, 'timestamp': 1678384951.9262383, 'stop': False}"}
debug :  {"message": "Let s produce: {'batch_size': 12288.0, 'flow': 311, 'amount_of_time': 30, 'timestamp': 1678384951.9262383, 'stop': False}"}
debug :  {"message": "Let s produce: {'batch_size': 12288.0, 'flow': 311, 'amount_of_time': 30, 'timestamp': 1678384951.9262383, 'stop': False}"}
debug :  {"message": "Let s produce: {'batch_size': 12288.0, 'flow': 311, 'amount_of_time': 30, 'timestamp': 1678384951.9262383, 'stop': False}"}
debug :  {"message": "Let s produce: {'batch_size': 12288.0, 'flow': 311, 'amount_of_time': 30, 'timestamp': 1678384951.9262383, 'stop': False}"}
debug :  {"message": "Let s produce: {'batch_size': 12288.0, 'flow': 311, 'amount_of_time': 30, 'timestamp': 1678384951.9262383, 'stop': False}"}
debug :  {"message": "Let s produce: {'batch_size': 12288.0, 'flow': 311, 'amount_of_time': 30, 'timestamp': 1678384951.9262383, 'stop': False}"}
debug :  {"message": "Let s produce: {'batch_size': 12288.0, 'flow': 311, 'amount_of_time': 30, 'timestamp': 1678384951.9262383, 'stop': False}"}
debug :  {"message": "Let s produce: {'batch_size': 12288.0, 'flow': 311, 'amount_of_time': 30, 'timestamp': 1678384951.9262383, 'stop': False}"}
debug :  {"message": "Let s produce: {'batch_size': 12288.0, 'flow': 311, 'amount_of_time': 30, 'timestamp': 1678384951.9262383, 'stop': False}"}
debug :  {"message": "Let s produce: {'batch_size': 12288.0, 'flow': 311, 'amount_of_time': 30, 'timestamp': 1678384951.9262383, 'stop': False}"}
debug :  {"message": "Let s produce: {'batch_size': 12288.0, 'flow': 311, 'amount_of_time': 30, 'timestamp': 1678384951.9262383, 'stop': False}"}
debug :  {"message": "Let s produce: {'batch_size': 12288.0, 'flow': 311, 'amount_of_time': 30, 'timestamp': 1678384951.9262383, 'stop': False}"}
debug :  {"message": "Let s produce: {'batch_size': 12288.0, 'flow': 311, 'amount_of_time': 30, 'timestamp': 1678384951.9262383, 'stop': False}"}
debug :  {"message": "Let s produce: {'batch_size': 12288.0, 'flow': 311, 'amount_of_time': 30, 'timestamp': 1678384951.9262383, 'stop': False}"}
debug :  {"message": "Let s produce: {'batch_size': 12288.0, 'flow': 311, 'amount_of_time': 30, 'timestamp': 1678384951.9262383, 'stop': False}"}
debug :  {"message": "Let s produce: {'batch_size': 12288.0, 'flow': 311, 'amount_of_time': 30, 'timestamp': 1678384951.9262383, 'stop': False}"}
debug :  {"message": "Let s produce: {'batch_size': 12288.0, 'flow': 311, 'amount_of_time': 30, 'timestamp': 1678384951.9262383, 'stop': False}"}
debug :  {"message": "Let s produce: {'batch_size': 12288.0, 'flow': 311, 'amount_of_time': 30, 'timestamp': 1678384951.9262383, 'stop': False}"}
debug :  {"message": "Let s produce: {'batch_size': 12288.0, 'flow': 311, 'amount_of_time': 30, 'timestamp': 1678384951.9262383, 'stop': False}"}
debug :  {"message": "Let s produce: {'batch_size': 12288.0, 'flow': 311, 'amount_of_time': 30, 'timestamp': 1678384951.9262383, 'stop': False}"}
debug :  {"message": "Let s produce: {'batch_size': 12288.0, 'flow': 311, 'amount_of_time': 30, 'timestamp': 1678384951.9262383, 'stop': False}"}
debug :  {"message": "Let s produce: {'batch_size': 12288.0, 'flow': 311, 'amount_of_time': 30, 'timestamp': 1678384951.9262383, 'stop': False}"}
debug :  {"message": "Let s produce: {'batch_size': 12288.0, 'flow': 311, 'amount_of_time': 30, 'timestamp': 1678384951.9262383, 'stop': False}"}
debug :  {"message": "Let s produce: {'batch_size': 12288.0, 'flow': 311, 'amount_of_time': 30, 'timestamp': 1678384951.9262383, 'stop': False}"}
debug :  {"message": "Let s produce: {'batch_size': 12288.0, 'flow': 311, 'amount_of_time': 30, 'timestamp': 1678384951.9262383, 'stop': False}"}
debug :  {"message": "Let s produce: {'batch_size': 12288.0, 'flow': 311, 'amount_of_time': 30, 'timestamp': 1678384951.9262383, 'stop': False}"}
debug :  {"message": "Let s produce: {'batch_size': 12288.0, 'flow': 311, 'amount_of_time': 30, 'timestamp': 1678384951.9262383, 'stop': False}"}
debug :  {"message": "Let s produce: {'batch_size': 12288.0, 'flow': 311, 'amount_of_time': 30, 'timestamp': 1678384951.9262383, 'stop': False}"}
debug :  {"Received so far:": 0, "nb_consumers_producers": 32}
debug :  {"consumer-write": "write data"}
consumer-write0-0 :  92
debug :  {"message": "end topic: consumer-write6-3"}
debug :  {"message": "end topic: consumer-write0-0"}
debug :  {"message": "end topic: consumer-write5-3"}
manager-consumer :  769  :  {"machine_kafka": "DS2_v2", "batch_size": 12288.0, "nb_messages": 11640, "time": 1.292091727256775}
debug :  {"message": "end topic: consumer-write1-1"}
debug :  {"consumer-write": "write data"}
debug :  {"consumer-write": "write data"}
debug :  {"consumer-write": "write data"}
debug :  {"consumer-write": "write data"}
debug :  {"message": "end topic: consumer-write4-0"}
debug :  {"message": "end topic: consumer-write1-3"}
debug :  {"consumer-write": "write data"}
debug :  {"message": "end topic: consumer-write2-1"}
debug :  {"message": "end topic: consumer-write5-1"}
debug :  {"message": "end topic: consumer-write4-3"}
debug :  {"consumer-write": "write data"}
debug :  {"message": "end topic: consumer-write2-0"}
debug :  {"consumer-write": "write data"}
debug :  {"message": "end topic: consumer-write5-0"}
debug :  {"consumer-write": "write data"}
debug :  {"message": "end topic: consumer-write1-0"}
debug :  {"message": "end topic: consumer-write4-1"}
debug :  {"message": "end topic: consumer-write7-2"}
debug :  {"message": "end topic: consumer-write3-3"}
debug :  {"consumer-write": "write data"}
debug :  {"consumer-write": "write data"}
debug :  {"consumer-write": "write data"}
manager-consumer :  770  :  {"machine_kafka": "DS2_v2", "batch_size": 12288.0, "nb_messages": 11883, "time": 1.9940299987792969}
manager-consumer :  771  :  {"machine_kafka": "DS2_v2", "batch_size": 12288.0, "nb_messages": 11975, "time": 1.3262081146240234}
manager-consumer :  772  :  {"machine_kafka": "DS2_v2", "batch_size": 12288.0, "nb_messages": 12148, "time": 1.641012191772461}
manager-consumer :  773  :  {"machine_kafka": "DS2_v2", "batch_size": 12288.0, "nb_messages": 11652, "time": 1.2662813663482666}
manager-consumer :  774  :  {"machine_kafka": "DS2_v2", "batch_size": 12288.0, "nb_messages": 11744, "time": 1.3421616554260254}
manager-consumer :  775  :  {"machine_kafka": "DS2_v2", "batch_size": 12288.0, "nb_messages": 11707, "time": 1.319286823272705}
manager-consumer :  776  :  {"machine_kafka": "DS2_v2", "batch_size": 12288.0, "nb_messages": 11578, "time": 1.081613302230835}
manager-consumer :  777  :  {"machine_kafka": "DS2_v2", "batch_size": 12288.0, "nb_messages": 11575, "time": 1.1501169204711914}
manager-consumer :  778  :  {"machine_kafka": "DS2_v2", "batch_size": 12288.0, "nb_messages": 11569, "time": 1.1191718578338623}
debug :  {"message": "end topic: consumer-write2-2"}
debug :  {"message": "end topic: consumer-write2-3"}
debug :  {"message": "end topic: consumer-write4-2"}
debug :  {"consumer-write": "write data"}
debug :  {"consumer-write": "write data"}
debug :  {"consumer-write": "write data"}
debug :  {"message": "end topic: consumer-write7-3"}
debug :  {"consumer-write": "write data"}
debug :  {"Received so far:": 1, "nb_consumers_producers": 32}
debug :  {"message": "end topic: consumer-write0-2"}
consumer-write0-2 93
manager-consumer :  779  :  {"machine_kafka": "DS2_v2", "batch_size": 12288.0, "nb_messages": 11569, "time": 1.068608045578003}
manager-consumer :  780  :  {"machine_kafka": "DS2_v2", "batch_size": 12288.0, "nb_messages": 11385, "time": 1.0385589599609375}
manager-consumer :  781  :  {"machine_kafka": "DS2_v2", "batch_size": 12288.0, "nb_messages": 11710, "time": 1.1619741916656494}
manager-consumer :  782  :  {"machine_kafka": "DS2_v2", "batch_size": 12288.0, "nb_messages": 11246, "time": 0.9144760370254517}
manager-consumer :  783  :  {"machine_kafka": "DS2_v2", "batch_size": 12288.0, "nb_messages": 11762, "time": 2.593418836593628}
manager-consumer :  784  :  {"machine_kafka": "DS2_v2", "batch_size": 12288.0, "nb_messages": 11683, "time": 2.3511955738067627}
debug :  {"message": "end topic: consumer-write3-0"}
consumer-write0-3 94
manager-consumer :  785  :  {"machine_kafka": "DS2_v2", "batch_size": 12288.0, "nb_messages": 11870, "time": 2.381136417388916}
manager-consumer :  786  :  {"machine_kafka": "DS2_v2", "batch_size": 12288.0, "nb_messages": 11398, "time": 0.9257040023803711}
manager-consumer :  787  :  {"machine_kafka": "DS2_v2", "batch_size": 12288.0, "nb_messages": 11037, "time": 2.1390979290008545}
manager-consumer :  788  :  {"machine_kafka": "DS2_v2", "batch_size": 12288.0, "nb_messages": 11650, "time": 2.7997931241989136}
manager-consumer :  789  :  {"machine_kafka": "DS2_v2", "batch_size": 12288.0, "nb_messages": 11255, "time": 2.060624122619629}
manager-consumer :  790  :  {"machine_kafka": "DS2_v2", "batch_size": 12288.0, "nb_messages": 11534, "time": 2.328323245048523}
manager-consumer :  791  :  {"machine_kafka": "DS2_v2", "batch_size": 12288.0, "nb_messages": 11757, "time": 1.2877318859100342}
manager-consumer :  792  :  {"machine_kafka": "DS2_v2", "batch_size": 12288.0, "nb_messages": 11801, "time": 1.2734553813934326}
manager-consumer :  793  :  {"machine_kafka": "DS2_v2", "batch_size": 12288.0, "nb_messages": 11508, "time": 1.110141396522522}
debug :  {"consumer-write": "write data"}
debug :  {"message": "end topic: consumer-write3-1"}
debug :  {"consumer-write": "write data"}
debug :  {"message": "end topic: consumer-write6-2"}
debug :  {"consumer-write": "write data"}
debug :  {"consumer-write": "write data"}
debug :  {"consumer-write": "write data"}
debug :  {"consumer-write": "write data"}
debug :  {"consumer-write": "write data"}
debug :  {"message": "end topic: consumer-write0-3"}
debug :  {"message": "end topic: consumer-write7-0"}
debug :  {"message": "end topic: consumer-write1-2"}
debug :  {"consumer-write": "write data"}
debug :  {"consumer-write": "write data"}
consumer-write0-1 :  95
debug :  {"consumer-write": "write data"}
debug :  {"consumer-write": "write data"}
debug :  {"message": "end topic: consumer-write5-2"}
debug :  {"Received so far:": 2, "nb_consumers_producers": 32}
debug :  {"message": "end topic: consumer-write6-1"}
debug :  {"message": "end topic: consumer-write0-1"}
manager-consumer :  794  :  {"machine_kafka": "DS2_v2", "batch_size": 12288.0, "nb_messages": 12113, "time": 2.0187480449676514}
manager-consumer :  795  :  {"machine_kafka": "DS2_v2", "batch_size": 12288.0, "nb_messages": 11390, "time": 1.0575282573699951}
debug :  {"consumer-write": "write data"}
manager-consumer :  796  :  {"machine_kafka": "DS2_v2", "batch_size": 12288.0, "nb_messages": 11180, "time": 0.8503248691558838}
debug :  {"message": "end topic: consumer-write7-1"}
debug :  {"message": "end topic: consumer-write6-0"}
debug :  {"Received so far:": 3, "nb_consumers_producers": 32}
manager-consumer :  797  :  {"machine_kafka": "DS2_v2", "batch_size": 12288.0, "nb_messages": 11174, "time": 0.9607617855072021}
manager-consumer :  798  :  {"machine_kafka": "DS2_v2", "batch_size": 12288.0, "nb_messages": 11684, "time": 2.24546480178833}
manager-consumer :  799  :  {"machine_kafka": "DS2_v2", "batch_size": 12288.0, "nb_messages": 11585, "time": 2.295377254486084}
debug :  {"consumer-write": "write data"}
debug :  {"consumer-write": "write data"}
debug :  {"consumer-write": "write data"}
debug :  {"message": "end topic: consumer-write3-2"}
debug :  {"Received so far:": 4, "nb_consumers_producers": 32}
debug :  {"Received so far:": 5, "nb_consumers_producers": 32}
debug :  {"Received so far:": 6, "nb_consumers_producers": 32}
manager-consumer :  800  :  {"machine_kafka": "DS2_v2", "batch_size": 12288.0, "nb_messages": 11936, "time": 3.0666555166244507}
debug :  {"consumer-write": "write data"}
debug :  {"Received so far:": 7, "nb_consumers_producers": 32}
debug :  {"Received so far:": 8, "nb_consumers_producers": 32}
debug :  {"Received so far:": 9, "nb_consumers_producers": 32}
debug :  {"Received so far:": 10, "nb_consumers_producers": 32}
debug :  {"Received so far:": 11, "nb_consumers_producers": 32}
debug :  {"Received so far:": 12, "nb_consumers_producers": 32}
debug :  {"Received so far:": 13, "nb_consumers_producers": 32}
debug :  {"Received so far:": 14, "nb_consumers_producers": 32}
debug :  {"Received so far:": 15, "nb_consumers_producers": 32}
debug :  {"Received so far:": 16, "nb_consumers_producers": 32}
debug :  {"Received so far:": 17, "nb_consumers_producers": 32}
debug :  {"Received so far:": 18, "nb_consumers_producers": 32}
debug :  {"Received so far:": 19, "nb_consumers_producers": 32}
debug :  {"Received so far:": 20, "nb_consumers_producers": 32}
debug :  {"Received so far:": 21, "nb_consumers_producers": 32}
debug :  {"Received so far:": 22, "nb_consumers_producers": 32}
debug :  {"Received so far:": 23, "nb_consumers_producers": 32}
debug :  {"Received so far:": 24, "nb_consumers_producers": 32}
debug :  {"Received so far:": 25, "nb_consumers_producers": 32}
debug :  {"Received so far:": 26, "nb_consumers_producers": 32}
debug :  {"Received so far:": 27, "nb_consumers_producers": 32}
debug :  {"Received so far:": 28, "nb_consumers_producers": 32}
debug :  {"Received so far:": 29, "nb_consumers_producers": 32}
debug :  {"Received so far:": 30, "nb_consumers_producers": 32}
debug :  {"Received so far:": 31, "nb_consumers_producers": 32}
manager-producer :  {"batch_size": 12288.0, "flow": 314, "amount_of_time": 30, "timestamp": 1678384991.3354933, "stop": false}
debug :  {"message": "Let s produce: {'batch_size': 12288.0, 'flow': 314, 'amount_of_time': 30, 'timestamp': 1678384991.3354933, 'stop': False}"}
debug :  {"message": "Let s produce: {'batch_size': 12288.0, 'flow': 314, 'amount_of_time': 30, 'timestamp': 1678384991.3354933, 'stop': False}"}
debug :  {"message": "Let s produce: {'batch_size': 12288.0, 'flow': 314, 'amount_of_time': 30, 'timestamp': 1678384991.3354933, 'stop': False}"}
debug :  {"message": "Let s produce: {'batch_size': 12288.0, 'flow': 314, 'amount_of_time': 30, 'timestamp': 1678384991.3354933, 'stop': False}"}
debug :  {"message": "Let s produce: {'batch_size': 12288.0, 'flow': 314, 'amount_of_time': 30, 'timestamp': 1678384991.3354933, 'stop': False}"}
debug :  {"message": "Let s produce: {'batch_size': 12288.0, 'flow': 314, 'amount_of_time': 30, 'timestamp': 1678384991.3354933, 'stop': False}"}
debug :  {"message": "Let s produce: {'batch_size': 12288.0, 'flow': 314, 'amount_of_time': 30, 'timestamp': 1678384991.3354933, 'stop': False}"}
debug :  {"message": "Let s produce: {'batch_size': 12288.0, 'flow': 314, 'amount_of_time': 30, 'timestamp': 1678384991.3354933, 'stop': False}"}
debug :  {"message": "Let s produce: {'batch_size': 12288.0, 'flow': 314, 'amount_of_time': 30, 'timestamp': 1678384991.3354933, 'stop': False}"}
debug :  {"message": "Let s produce: {'batch_size': 12288.0, 'flow': 314, 'amount_of_time': 30, 'timestamp': 1678384991.3354933, 'stop': False}"}
debug :  {"message": "Let s produce: {'batch_size': 12288.0, 'flow': 314, 'amount_of_time': 30, 'timestamp': 1678384991.3354933, 'stop': False}"}
debug :  {"message": "Let s produce: {'batch_size': 12288.0, 'flow': 314, 'amount_of_time': 30, 'timestamp': 1678384991.3354933, 'stop': False}"}
debug :  {"message": "Let s produce: {'batch_size': 12288.0, 'flow': 314, 'amount_of_time': 30, 'timestamp': 1678384991.3354933, 'stop': False}"}
debug :  {"message": "Let s produce: {'batch_size': 12288.0, 'flow': 314, 'amount_of_time': 30, 'timestamp': 1678384991.3354933, 'stop': False}"}
debug :  {"message": "Let s produce: {'batch_size': 12288.0, 'flow': 314, 'amount_of_time': 30, 'timestamp': 1678384991.3354933, 'stop': False}"}
debug :  {"message": "Let s produce: {'batch_size': 12288.0, 'flow': 314, 'amount_of_time': 30, 'timestamp': 1678384991.3354933, 'stop': False}"}
debug :  {"message": "Let s produce: {'batch_size': 12288.0, 'flow': 314, 'amount_of_time': 30, 'timestamp': 1678384991.3354933, 'stop': False}"}
debug :  {"message": "Let s produce: {'batch_size': 12288.0, 'flow': 314, 'amount_of_time': 30, 'timestamp': 1678384991.3354933, 'stop': False}"}
debug :  {"message": "Let s produce: {'batch_size': 12288.0, 'flow': 314, 'amount_of_time': 30, 'timestamp': 1678384991.3354933, 'stop': False}"}
debug :  {"message": "Let s produce: {'batch_size': 12288.0, 'flow': 314, 'amount_of_time': 30, 'timestamp': 1678384991.3354933, 'stop': False}"}
debug :  {"message": "Let s produce: {'batch_size': 12288.0, 'flow': 314, 'amount_of_time': 30, 'timestamp': 1678384991.3354933, 'stop': False}"}
debug :  {"message": "Let s produce: {'batch_size': 12288.0, 'flow': 314, 'amount_of_time': 30, 'timestamp': 1678384991.3354933, 'stop': False}"}
debug :  {"message": "Let s produce: {'batch_size': 12288.0, 'flow': 314, 'amount_of_time': 30, 'timestamp': 1678384991.3354933, 'stop': False}"}
debug :  {"message": "Let s produce: {'batch_size': 12288.0, 'flow': 314, 'amount_of_time': 30, 'timestamp': 1678384991.3354933, 'stop': False}"}
debug :  {"message": "Let s produce: {'batch_size': 12288.0, 'flow': 314, 'amount_of_time': 30, 'timestamp': 1678384991.3354933, 'stop': False}"}
debug :  {"message": "Let s produce: {'batch_size': 12288.0, 'flow': 314, 'amount_of_time': 30, 'timestamp': 1678384991.3354933, 'stop': False}"}
debug :  {"message": "Let s produce: {'batch_size': 12288.0, 'flow': 314, 'amount_of_time': 30, 'timestamp': 1678384991.3354933, 'stop': False}"}
debug :  {"message": "Let s produce: {'batch_size': 12288.0, 'flow': 314, 'amount_of_time': 30, 'timestamp': 1678384991.3354933, 'stop': False}"}
debug :  {"message": "Let s produce: {'batch_size': 12288.0, 'flow': 314, 'amount_of_time': 30, 'timestamp': 1678384991.3354933, 'stop': False}"}
debug :  {"message": "Let s produce: {'batch_size': 12288.0, 'flow': 314, 'amount_of_time': 30, 'timestamp': 1678384991.3354933, 'stop': False}"}
debug :  {"message": "Let s produce: {'batch_size': 12288.0, 'flow': 314, 'amount_of_time': 30, 'timestamp': 1678384991.3354933, 'stop': False}"}
debug :  {"message": "Let s produce: {'batch_size': 12288.0, 'flow': 314, 'amount_of_time': 30, 'timestamp': 1678384991.3354933, 'stop': False}"}
debug :  {"Received so far:": 0, "nb_consumers_producers": 32}
debug :  {"consumer-write": "write data"}
consumer-write0-0 :  96
manager-consumer :  801  :  {"machine_kafka": "DS2_v2", "batch_size": 12288.0, "nb_messages": 9420, "time": 0.6285643577575684}
debug :  {"message": "end topic: consumer-write6-3"}
debug :  {"message": "end topic: consumer-write0-0"}
debug :  {"Received so far:": 1, "nb_consumers_producers": 32}
debug :  {"consumer-write": "write data"}
manager-consumer :  802  :  {"machine_kafka": "DS2_v2", "batch_size": 12288.0, "nb_messages": 9420, "time": 0.6441727876663208}
debug :  {"message": "end topic: consumer-write2-1"}
debug :  {"consumer-write": "write data"}
debug :  {"consumer-write": "write data"}
debug :  {"consumer-write": "write data"}
debug :  {"message": "end topic: consumer-write2-0"}
manager-consumer :  803  :  {"machine_kafka": "DS2_v2", "batch_size": 12288.0, "nb_messages": 9420, "time": 0.6427841186523438}
manager-consumer :  804  :  {"machine_kafka": "DS2_v2", "batch_size": 12288.0, "nb_messages": 9420, "time": 0.6437277793884277}
manager-consumer :  805  :  {"machine_kafka": "DS2_v2", "batch_size": 12288.0, "nb_messages": 9748, "time": 0.6898108720779419}
debug :  {"message": "end topic: consumer-write5-0"}
debug :  {"message": "end topic: consumer-write4-0"}
debug :  {"message": "end topic: consumer-write5-3"}
debug :  {"Received so far:": 2, "nb_consumers_producers": 32}
manager-consumer :  806  :  {"machine_kafka": "DS2_v2", "batch_size": 12288.0, "nb_messages": 9420, "time": 0.6532212495803833}
manager-consumer :  807  :  {"machine_kafka": "DS2_v2", "batch_size": 12288.0, "nb_messages": 9420, "time": 0.6388628482818604}
debug :  {"consumer-write": "write data"}
debug :  {"message": "end topic: consumer-write1-1"}
debug :  {"consumer-write": "write data"}
debug :  {"message": "end topic: consumer-write7-2"}
manager-consumer :  808  :  {"machine_kafka": "DS2_v2", "batch_size": 12288.0, "nb_messages": 9420, "time": 0.661558985710144}
manager-consumer :  809  :  {"machine_kafka": "DS2_v2", "batch_size": 12288.0, "nb_messages": 9678, "time": 0.655987024307251}
manager-consumer :  810  :  {"machine_kafka": "DS2_v2", "batch_size": 12288.0, "nb_messages": 9420, "time": 0.6293225288391113}
debug :  {"consumer-write": "write data"}
debug :  {"message": "end topic: consumer-write4-3"}
debug :  {"message": "end topic: consumer-write2-2"}
debug :  {"message": "end topic: consumer-write2-3"}
debug :  {"message": "end topic: consumer-write5-1"}
debug :  {"consumer-write": "write data"}
debug :  {"consumer-write": "write data"}
manager-consumer :  811  :  {"machine_kafka": "DS2_v2", "batch_size": 12288.0, "nb_messages": 9313, "time": 0.6474266052246094}
manager-consumer :  812  :  {"machine_kafka": "DS2_v2", "batch_size": 12288.0, "nb_messages": 9420, "time": 0.6752123832702637}
debug :  {"message": "end topic: consumer-write7-3"}
debug :  {"message": "end topic: consumer-write1-0"}
debug :  {"consumer-write": "write data"}
debug :  {"consumer-write": "write data"}
debug :  {"message": "end topic: consumer-write1-3"}
consumer-write0-2 97
debug :  {"consumer-write": "write data"}
debug :  {"message": "end topic: consumer-write3-3"}
debug :  {"Received so far:": 3, "nb_consumers_producers": 32}
manager-consumer :  813  :  {"machine_kafka": "DS2_v2", "batch_size": 12288.0, "nb_messages": 9420, "time": 0.651772141456604}
manager-consumer :  814  :  {"machine_kafka": "DS2_v2", "batch_size": 12288.0, "nb_messages": 9420, "time": 0.6378333568572998}
debug :  {"message": "end topic: consumer-write3-0"}
debug :  {"consumer-write": "write data"}
manager-consumer :  815  :  {"machine_kafka": "DS2_v2", "batch_size": 12288.0, "nb_messages": 9707, "time": 0.682065486907959}
debug :  {"consumer-write": "write data"}
debug :  {"message": "end topic: consumer-write0-2"}
debug :  {"message": "end topic: consumer-write4-1"}
debug :  {"consumer-write": "write data"}
manager-consumer :  816  :  {"machine_kafka": "DS2_v2", "batch_size": 12288.0, "nb_messages": 9420, "time": 0.6390161514282227}
debug :  {"Received so far:": 4, "nb_consumers_producers": 32}
manager-consumer :  817  :  {"machine_kafka": "DS2_v2", "batch_size": 12288.0, "nb_messages": 9333, "time": 0.677814245223999}
debug :  {"message": "end topic: consumer-write4-2"}
debug :  {"consumer-write": "write data"}
manager-consumer :  818  :  {"machine_kafka": "DS2_v2", "batch_size": 12288.0, "nb_messages": 9275, "time": 0.6532306671142578}
debug :  {"consumer-write": "write data"}
debug :  {"consumer-write": "write data"}
debug :  {"consumer-write": "write data"}
manager-consumer :  819  :  {"machine_kafka": "DS2_v2", "batch_size": 12288.0, "nb_messages": 9624, "time": 0.6875405311584473}
manager-consumer :  820  :  {"machine_kafka": "DS2_v2", "batch_size": 12288.0, "nb_messages": 9068, "time": 0.6173902750015259}
debug :  {"Received so far:": 5, "nb_consumers_producers": 32}
consumer-write0-1 :  98
debug :  {"consumer-write": "write data"}
debug :  {"consumer-write": "write data"}
manager-consumer :  821  :  {"machine_kafka": "DS2_v2", "batch_size": 12288.0, "nb_messages": 9698, "time": 0.7019366025924683}
consumer-write0-3 99
manager-consumer :  822  :  {"machine_kafka": "DS2_v2", "batch_size": 12288.0, "nb_messages": 9420, "time": 0.5998870134353638}
manager-consumer :  823  :  {"machine_kafka": "DS2_v2", "batch_size": 12288.0, "nb_messages": 9420, "time": 0.6572301387786865}
manager-consumer :  824  :  {"machine_kafka": "DS2_v2", "batch_size": 12288.0, "nb_messages": 9420, "time": 0.6286478042602539}
manager-consumer :  825  :  {"machine_kafka": "DS2_v2", "batch_size": 12288.0, "nb_messages": 9420, "time": 0.6357600688934326}
manager-consumer :  826  :  {"machine_kafka": "DS2_v2", "batch_size": 12288.0, "nb_messages": 9420, "time": 0.6285499334335327}
debug :  {"consumer-write": "write data"}
debug :  {"Received so far:": 6, "nb_consumers_producers": 32}
debug :  {"consumer-write": "write data"}
debug :  {"consumer-write": "write data"}
debug :  {"consumer-write": "write data"}
debug :  {"message": "end topic: consumer-write6-2"}
debug :  {"message": "end topic: consumer-write5-2"}
debug :  {"message": "end topic: consumer-write0-1"}
manager-consumer :  827  :  {"machine_kafka": "DS2_v2", "batch_size": 12288.0, "nb_messages": 9420, "time": 0.6605854034423828}
manager-consumer :  828  :  {"machine_kafka": "DS2_v2", "batch_size": 12288.0, "nb_messages": 9420, "time": 0.5996687412261963}
debug :  {"consumer-write": "write data"}
debug :  {"message": "end topic: consumer-write0-3"}
debug :  {"message": "end topic: consumer-write6-1"}
debug :  {"message": "end topic: consumer-write7-0"}
debug :  {"consumer-write": "write data"}
debug :  {"message": "end topic: consumer-write7-1"}
debug :  {"message": "end topic: consumer-write1-2"}
debug :  {"message": "end topic: consumer-write6-0"}
debug :  {"Received so far:": 7, "nb_consumers_producers": 32}
debug :  {"message": "end topic: consumer-write3-1"}
debug :  {"consumer-write": "write data"}
manager-consumer :  829  :  {"machine_kafka": "DS2_v2", "batch_size": 12288.0, "nb_messages": 9420, "time": 0.6415392160415649}
debug :  {"Received so far:": 8, "nb_consumers_producers": 32}
manager-consumer :  830  :  {"machine_kafka": "DS2_v2", "batch_size": 12288.0, "nb_messages": 9506, "time": 0.665032148361206}
debug :  {"message": "end topic: consumer-write3-2"}
debug :  {"consumer-write": "write data"}
debug :  {"consumer-write": "write data"}
manager-consumer :  831  :  {"machine_kafka": "DS2_v2", "batch_size": 12288.0, "nb_messages": 9757, "time": 0.7187023162841797}
debug :  {"Received so far:": 9, "nb_consumers_producers": 32}
debug :  {"consumer-write": "write data"}
manager-consumer :  832  :  {"machine_kafka": "DS2_v2", "batch_size": 12288.0, "nb_messages": 9512, "time": 0.6742881536483765}
debug :  {"Received so far:": 10, "nb_consumers_producers": 32}
debug :  {"Received so far:": 11, "nb_consumers_producers": 32}
debug :  {"Received so far:": 12, "nb_consumers_producers": 32}
debug :  {"Received so far:": 13, "nb_consumers_producers": 32}
debug :  {"Received so far:": 14, "nb_consumers_producers": 32}
debug :  {"Received so far:": 15, "nb_consumers_producers": 32}
debug :  {"Received so far:": 16, "nb_consumers_producers": 32}
debug :  {"Received so far:": 17, "nb_consumers_producers": 32}
debug :  {"Received so far:": 18, "nb_consumers_producers": 32}
debug :  {"Received so far:": 19, "nb_consumers_producers": 32}
debug :  {"Received so far:": 20, "nb_consumers_producers": 32}
debug :  {"Received so far:": 21, "nb_consumers_producers": 32}
debug :  {"Received so far:": 22, "nb_consumers_producers": 32}
debug :  {"Received so far:": 23, "nb_consumers_producers": 32}
debug :  {"Received so far:": 24, "nb_consumers_producers": 32}
debug :  {"Received so far:": 25, "nb_consumers_producers": 32}
debug :  {"Received so far:": 26, "nb_consumers_producers": 32}
debug :  {"Received so far:": 27, "nb_consumers_producers": 32}
debug :  {"Received so far:": 28, "nb_consumers_producers": 32}
debug :  {"Received so far:": 29, "nb_consumers_producers": 32}
debug :  {"Received so far:": 30, "nb_consumers_producers": 32}
debug :  {"Received so far:": 31, "nb_consumers_producers": 32}
manager-producer :  {"stop": true}
Topic :  consumer-end0-0
Topic :  consumer-end0-2
Topic :  consumer-end0-1
debug :  {"message": "end topic: consumer-end5-3"}
debug :  {"message": "end topic: consumer-end6-3"}
debug :  {"message": "end topic: consumer-end6-1"}
debug :  {"message": "end topic: consumer-end5-2"}
debug :  {"message": "end topic: consumer-end1-2"}
debug :  {"message": "end topic: consumer-end2-1"}
debug :  {"message": "end topic: consumer-end1-3"}
debug :  {"message": "end topic: consumer-end4-2"}
debug :  {"message": "end topic: consumer-end0-0"}
debug :  {"message": "end topic: consumer-end1-0"}
debug :  {"message": "end topic: consumer-end7-0"}
debug :  {"message": "end topic: consumer-end2-2"}
debug :  {"message": "end topic: consumer-end2-3"}
debug :  {"message": "end topic: consumer-end1-1"}
debug :  {"message": "end topic: consumer-end2-0"}
debug :  {"message": "end topic: consumer-end5-0"}
debug :  {"message": "end topic: consumer-end7-3"}
debug :  {"message": "end topic: consumer-end0-2"}
debug :  {"message": "end topic: consumer-end4-1"}
debug :  {"message": "end topic: consumer-end5-1"}
debug :  {"message": "end topic: consumer-end6-2"}
debug :  {"message": "end topic: consumer-end6-0"}
debug :  {"message": "end topic: consumer-end0-1"}
debug :  {"message": "end topic: consumer-end7-1"}
debug :  {"message": "end topic: consumer-end4-3"}
debug :  {"message": "end topic: consumer-end3-2"}
debug :  {"message": "end topic: consumer-end3-3"}
debug :  {"message": "end topic: consumer-end4-0"}
debug :  {"message": "end topic: consumer-end3-1"}
Topic :  consumer-end0-3
debug :  {"message": "end topic: consumer-end3-0"}
debug :  {"message": "end topic: consumer-end0-3"}
debug :  {"message": "end topic: consumer-end7-2"}
